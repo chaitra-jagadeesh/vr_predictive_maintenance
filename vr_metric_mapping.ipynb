{
 "cells": [
  {
   "cell_type": "code",
   "execution_count": 9,
   "id": "ce230687",
   "metadata": {},
   "outputs": [],
   "source": [
    "#%pip install shapely\n",
    "import os.path\n",
    "import boto3\n",
    "import pandas as pd\n",
    "from datetime import datetime, timedelta\n",
    "from datascience_implement_cache import DIC\n",
    "from datascience_implement_cache.mongo import Mongo"
   ]
  },
  {
   "cell_type": "code",
   "execution_count": 10,
   "id": "f2cd4f28",
   "metadata": {},
   "outputs": [],
   "source": [
    "s3 = boto3.client('s3')\n",
    "dic = DIC('vr-devices')\n",
    "dc_mongo = Mongo(dic)\n",
    "db = dc_mongo.get_client(\"prod/bi/mongo\")"
   ]
  },
  {
   "cell_type": "code",
   "execution_count": 4,
   "id": "efd49dce",
   "metadata": {},
   "outputs": [],
   "source": [
    "\n",
    "buckets_test = list(db.buckets.find(\n",
    "    {\n",
    "        \"type\": 22,\n",
    "        \"created\": {\"$gte\": datetime(2023, 1, 1)},        \n",
    "        \"files\": {\"$exists\": True, \"$not\": {\"$size\": 0}},\n",
    "        \"conf.geoframe.map.center\": {\"$exists\": True, \"$not\": {\"$size\": 0}},\n",
    "        \"conf.buckets._id\": {\"$exists\": True, \"$not\": {\"$size\": 0}}\n",
    "    },\n",
    "    {\n",
    "        \"conf\": 1,\n",
    "        \"orgId\": 1,\n",
    "        \"files\": 1,\n",
    "        \"name\": 1,\n",
    "        \"created\":1,\n",
    "        \"updated\":1,\n",
    "        \"total_stat\": \"$stats.total\"\n",
    "        \n",
    "    }\n",
    ").limit(5))"
   ]
  },
  {
   "cell_type": "code",
   "execution_count": null,
   "id": "ba6e1995",
   "metadata": {},
   "outputs": [],
   "source": []
  },
  {
   "cell_type": "raw",
   "id": "113597cd",
   "metadata": {},
   "source": [
    "Pull data into dataframe for following metrices"
   ]
  },
  {
   "cell_type": "code",
   "execution_count": null,
   "id": "6a32ea95",
   "metadata": {},
   "outputs": [],
   "source": [
    "#Pull data into dataframe for following metrices:\n",
    "\n",
    "#'bucket_ids','bucket_name','orgId','bucket_created','start_date','end_date', \\\n",
    "#'bucket_coordinates', 'matched_homes', 'matched_devices', 'unmatched_devices', 'extended_devices'"
   ]
  },
  {
   "cell_type": "code",
   "execution_count": 24,
   "id": "74d4772f",
   "metadata": {},
   "outputs": [],
   "source": [
    "#values stored in separate lists\n",
    "bucket_ids_main = []\n",
    "bucket_name = []\n",
    "org_id = []\n",
    "bucket_created = []\n",
    "start_date = []\n",
    "end_date= []\n",
    "bucket_coordinates = []\n",
    "matched_homes = []\n",
    "matched_devices = []\n",
    "unmatched_devices = []\n",
    "extended_devices = []\n",
    "\n",
    "# Iterating over the buckets\n",
    "for i,bucket in enumerate(buckets_test): \n",
    "    #print(i,bucket['_id'])\n",
    "    bucket_ids_main.append(bucket['_id'])\n",
    "    bucket_name.append(bucket['name'])\n",
    "    org_id.append(bucket['orgId'])\n",
    "    bucket_created.append(bucket['created'])\n",
    "    start_date.append(bucket['conf']['geoframe']['timeframes'][0]['start'])\n",
    "    end_date.append(bucket['conf']['geoframe']['timeframes'][0]['stop'])\n",
    "    bucket_coordinates.append(bucket['conf']['geoframe']['map']['center']['coordinates'])\n",
    "    matched_homes.append(bucket['conf']['buckets'][0]['stats']['total'])\n",
    "    matched_devices.append(bucket['conf']['buckets'][1]['stats']['total'])\n",
    "    unmatched_devices.append(bucket['conf']['buckets'][2]['stats']['total'])\n",
    "    extended_devices.append(bucket['conf']['buckets'][3]['stats']['total'])\n",
    "    \n",
    "df_test_orgid = pd.DataFrame({'bucket_ids': bucket_ids_main, 'bucket_name':bucket_name, 'orgId': org_id, \\\n",
    "                              'bucket_created': bucket_created, 'start_date': start_date, 'end_date': end_date, \\\n",
    "                              'bucket_coordinates': bucket_coordinates, 'matched_homes': matched_homes, \\\n",
    "                              'matched_devices': matched_devices, 'unmatched_devices': unmatched_devices, \\\n",
    "                              'extended_devices': extended_devices\n",
    "                   })"
   ]
  },
  {
   "cell_type": "code",
   "execution_count": 25,
   "id": "e01fcccf",
   "metadata": {},
   "outputs": [
    {
     "data": {
      "text/html": [
       "<div>\n",
       "<style scoped>\n",
       "    .dataframe tbody tr th:only-of-type {\n",
       "        vertical-align: middle;\n",
       "    }\n",
       "\n",
       "    .dataframe tbody tr th {\n",
       "        vertical-align: top;\n",
       "    }\n",
       "\n",
       "    .dataframe thead th {\n",
       "        text-align: right;\n",
       "    }\n",
       "</style>\n",
       "<table border=\"1\" class=\"dataframe\">\n",
       "  <thead>\n",
       "    <tr style=\"text-align: right;\">\n",
       "      <th></th>\n",
       "      <th>bucket_ids</th>\n",
       "      <th>bucket_name</th>\n",
       "      <th>orgId</th>\n",
       "      <th>bucket_created</th>\n",
       "      <th>start_date</th>\n",
       "      <th>end_date</th>\n",
       "      <th>bucket_coordinates</th>\n",
       "      <th>matched_homes</th>\n",
       "      <th>matched_devices</th>\n",
       "      <th>unmatched_devices</th>\n",
       "      <th>extended_devices</th>\n",
       "    </tr>\n",
       "  </thead>\n",
       "  <tbody>\n",
       "    <tr>\n",
       "      <th>0</th>\n",
       "      <td>DXKqXqJpx57rrwWzd</td>\n",
       "      <td>GHF Competitors (Mattress Firm - Winchester, V...</td>\n",
       "      <td>58bdd7113314b55970a72e47</td>\n",
       "      <td>2023-01-03 14:52:43.826</td>\n",
       "      <td>2022-10-01 12:00:00.000</td>\n",
       "      <td>2022-12-29 03:00:00.000</td>\n",
       "      <td>[-78.16641380000002, 39.1619316]</td>\n",
       "      <td>63</td>\n",
       "      <td>64</td>\n",
       "      <td>34</td>\n",
       "      <td>311</td>\n",
       "    </tr>\n",
       "    <tr>\n",
       "      <th>1</th>\n",
       "      <td>agfwsLsYcm2ix8PQG</td>\n",
       "      <td>Cuyahoga Community College (Cleveland)</td>\n",
       "      <td>zkerk3AfSY4FpNrue</td>\n",
       "      <td>2023-01-03 15:45:53.194</td>\n",
       "      <td>2022-06-23 12:44:00.928</td>\n",
       "      <td>2022-12-23 19:44:00.928</td>\n",
       "      <td>[-81.68358479999999, 41.4948929]</td>\n",
       "      <td>1714</td>\n",
       "      <td>1740</td>\n",
       "      <td>2374</td>\n",
       "      <td>7335</td>\n",
       "    </tr>\n",
       "    <tr>\n",
       "      <th>2</th>\n",
       "      <td>n2Q24yiBicY6eMe6n</td>\n",
       "      <td>River of Lights</td>\n",
       "      <td>sMrStG35oPZEpCCN3</td>\n",
       "      <td>2023-01-03 16:59:59.799</td>\n",
       "      <td>2022-12-03 23:00:00.000</td>\n",
       "      <td>2022-12-04 04:00:00.000</td>\n",
       "      <td>[-98.4845574, 29.4332875]</td>\n",
       "      <td>72</td>\n",
       "      <td>73</td>\n",
       "      <td>101</td>\n",
       "      <td>360</td>\n",
       "    </tr>\n",
       "    <tr>\n",
       "      <th>3</th>\n",
       "      <td>JrMgHRfrhAJYmDoC4</td>\n",
       "      <td>Red Oak Bank Iowa Prospects - Town</td>\n",
       "      <td>JwmbatuumPxBtPmL3</td>\n",
       "      <td>2023-01-03 17:29:14.993</td>\n",
       "      <td>2022-12-01 05:00:00.000</td>\n",
       "      <td>2023-01-01 04:59:59.999</td>\n",
       "      <td>[-95.2214477, 41.0170937]</td>\n",
       "      <td>2981</td>\n",
       "      <td>3568</td>\n",
       "      <td>7377</td>\n",
       "      <td>12226</td>\n",
       "    </tr>\n",
       "    <tr>\n",
       "      <th>4</th>\n",
       "      <td>Hc5N5546q2Qj8LL2x</td>\n",
       "      <td>Video @ Venue Replay @</td>\n",
       "      <td>fgcdnqnemFAuz3d8k</td>\n",
       "      <td>2023-01-03 19:40:43.453</td>\n",
       "      <td>2022-12-20 16:39:00.045</td>\n",
       "      <td>2022-12-20 22:39:00.045</td>\n",
       "      <td>[-122.6175105, 45.6425651]</td>\n",
       "      <td>27</td>\n",
       "      <td>27</td>\n",
       "      <td>55</td>\n",
       "      <td>144</td>\n",
       "    </tr>\n",
       "  </tbody>\n",
       "</table>\n",
       "</div>"
      ],
      "text/plain": [
       "          bucket_ids                                        bucket_name  \\\n",
       "0  DXKqXqJpx57rrwWzd  GHF Competitors (Mattress Firm - Winchester, V...   \n",
       "1  agfwsLsYcm2ix8PQG             Cuyahoga Community College (Cleveland)   \n",
       "2  n2Q24yiBicY6eMe6n                                    River of Lights   \n",
       "3  JrMgHRfrhAJYmDoC4                 Red Oak Bank Iowa Prospects - Town   \n",
       "4  Hc5N5546q2Qj8LL2x                             Video @ Venue Replay @   \n",
       "\n",
       "                      orgId          bucket_created              start_date  \\\n",
       "0  58bdd7113314b55970a72e47 2023-01-03 14:52:43.826 2022-10-01 12:00:00.000   \n",
       "1         zkerk3AfSY4FpNrue 2023-01-03 15:45:53.194 2022-06-23 12:44:00.928   \n",
       "2         sMrStG35oPZEpCCN3 2023-01-03 16:59:59.799 2022-12-03 23:00:00.000   \n",
       "3         JwmbatuumPxBtPmL3 2023-01-03 17:29:14.993 2022-12-01 05:00:00.000   \n",
       "4         fgcdnqnemFAuz3d8k 2023-01-03 19:40:43.453 2022-12-20 16:39:00.045   \n",
       "\n",
       "                 end_date                bucket_coordinates  matched_homes  \\\n",
       "0 2022-12-29 03:00:00.000  [-78.16641380000002, 39.1619316]             63   \n",
       "1 2022-12-23 19:44:00.928  [-81.68358479999999, 41.4948929]           1714   \n",
       "2 2022-12-04 04:00:00.000         [-98.4845574, 29.4332875]             72   \n",
       "3 2023-01-01 04:59:59.999         [-95.2214477, 41.0170937]           2981   \n",
       "4 2022-12-20 22:39:00.045        [-122.6175105, 45.6425651]             27   \n",
       "\n",
       "   matched_devices  unmatched_devices  extended_devices  \n",
       "0               64                 34               311  \n",
       "1             1740               2374              7335  \n",
       "2               73                101               360  \n",
       "3             3568               7377             12226  \n",
       "4               27                 55               144  "
      ]
     },
     "execution_count": 25,
     "metadata": {},
     "output_type": "execute_result"
    }
   ],
   "source": [
    "df_test_orgid"
   ]
  },
  {
   "cell_type": "code",
   "execution_count": null,
   "id": "b5f013be",
   "metadata": {},
   "outputs": [],
   "source": [
    "df_test_orgid.to_csv('data_final.csv',index=False)"
   ]
  },
  {
   "cell_type": "raw",
   "id": "f4a7471e",
   "metadata": {},
   "source": [
    "Mapping address and etHash for bucket_coordinates (latitude and longitude) using reverseGeocode"
   ]
  },
  {
   "cell_type": "code",
   "execution_count": 4,
   "id": "009d2238",
   "metadata": {},
   "outputs": [
    {
     "name": "stdout",
     "output_type": "stream",
     "text": [
      "DXKqXqJpx57rrwWzd 1950 S PLEASANT VALLEY RD\n",
      "WINCHESTER VA  22601\n",
      "USA\n",
      "1\n"
     ]
    },
    {
     "name": "stderr",
     "output_type": "stream",
     "text": [
      "/tmp/ipykernel_198110/2077245259.py:28: FutureWarning: The frame.append method is deprecated and will be removed from pandas in a future version. Use pandas.concat instead.\n",
      "  latlong_df = latlong_df.append({'address': address, 'etHash': etHash,'bucket_id': bucket_id}, ignore_index=True)\n"
     ]
    },
    {
     "name": "stdout",
     "output_type": "stream",
     "text": [
      "agfwsLsYcm2ix8PQG 700 CARNEGIE AVE\n",
      "CLEVELAND OH  44115\n",
      "USA\n",
      "2\n"
     ]
    },
    {
     "name": "stderr",
     "output_type": "stream",
     "text": [
      "/tmp/ipykernel_198110/2077245259.py:28: FutureWarning: The frame.append method is deprecated and will be removed from pandas in a future version. Use pandas.concat instead.\n",
      "  latlong_df = latlong_df.append({'address': address, 'etHash': etHash,'bucket_id': bucket_id}, ignore_index=True)\n"
     ]
    },
    {
     "name": "stdout",
     "output_type": "stream",
     "text": [
      "n2Q24yiBicY6eMe6n 510 BROOKLYN AVE\n",
      "SAN ANTONIO TX  78215\n",
      "USA\n",
      "3\n"
     ]
    },
    {
     "name": "stderr",
     "output_type": "stream",
     "text": [
      "/tmp/ipykernel_198110/2077245259.py:28: FutureWarning: The frame.append method is deprecated and will be removed from pandas in a future version. Use pandas.concat instead.\n",
      "  latlong_df = latlong_df.append({'address': address, 'etHash': etHash,'bucket_id': bucket_id}, ignore_index=True)\n"
     ]
    },
    {
     "name": "stdout",
     "output_type": "stream",
     "text": [
      "JrMgHRfrhAJYmDoC4 905 CHAUTAUQUA DR\n",
      "RED OAK IA  51566\n",
      "USA\n",
      "4\n"
     ]
    },
    {
     "name": "stderr",
     "output_type": "stream",
     "text": [
      "/tmp/ipykernel_198110/2077245259.py:28: FutureWarning: The frame.append method is deprecated and will be removed from pandas in a future version. Use pandas.concat instead.\n",
      "  latlong_df = latlong_df.append({'address': address, 'etHash': etHash,'bucket_id': bucket_id}, ignore_index=True)\n"
     ]
    },
    {
     "name": "stdout",
     "output_type": "stream",
     "text": [
      "Hc5N5546q2Qj8LL2x 2800 NE STAPLETON RD\n",
      "VANCOUVER WA  98661\n",
      "USA\n",
      "5\n"
     ]
    },
    {
     "name": "stderr",
     "output_type": "stream",
     "text": [
      "/tmp/ipykernel_198110/2077245259.py:28: FutureWarning: The frame.append method is deprecated and will be removed from pandas in a future version. Use pandas.concat instead.\n",
      "  latlong_df = latlong_df.append({'address': address, 'etHash': etHash,'bucket_id': bucket_id}, ignore_index=True)\n"
     ]
    },
    {
     "name": "stdout",
     "output_type": "stream",
     "text": [
      "BSbANtHENZec2E4A9 6400 SUGARLOAF PKWY\n",
      "DULUTH GA  30097\n",
      "USA\n",
      "6\n"
     ]
    },
    {
     "name": "stderr",
     "output_type": "stream",
     "text": [
      "/tmp/ipykernel_198110/2077245259.py:28: FutureWarning: The frame.append method is deprecated and will be removed from pandas in a future version. Use pandas.concat instead.\n",
      "  latlong_df = latlong_df.append({'address': address, 'etHash': etHash,'bucket_id': bucket_id}, ignore_index=True)\n"
     ]
    },
    {
     "name": "stdout",
     "output_type": "stream",
     "text": [
      "wHWK7bY3yQgbCvMBy 410 LLAGAS RD\n",
      "MORGAN HILL CA  95037\n",
      "USA\n",
      "7\n"
     ]
    },
    {
     "name": "stderr",
     "output_type": "stream",
     "text": [
      "/tmp/ipykernel_198110/2077245259.py:28: FutureWarning: The frame.append method is deprecated and will be removed from pandas in a future version. Use pandas.concat instead.\n",
      "  latlong_df = latlong_df.append({'address': address, 'etHash': etHash,'bucket_id': bucket_id}, ignore_index=True)\n"
     ]
    },
    {
     "name": "stdout",
     "output_type": "stream",
     "text": [
      "63Ga2iq8i9j7nMwDD 1860 E MARKET ST\n",
      "HARRISONBURG VA  22801\n",
      "USA\n",
      "8\n"
     ]
    },
    {
     "name": "stderr",
     "output_type": "stream",
     "text": [
      "/tmp/ipykernel_198110/2077245259.py:28: FutureWarning: The frame.append method is deprecated and will be removed from pandas in a future version. Use pandas.concat instead.\n",
      "  latlong_df = latlong_df.append({'address': address, 'etHash': etHash,'bucket_id': bucket_id}, ignore_index=True)\n"
     ]
    },
    {
     "name": "stdout",
     "output_type": "stream",
     "text": [
      "Rj543AjborCxTCnmD 590 BRANCHLANDS BLVD\n",
      "CHARLOTTESVILLE VA  22901\n",
      "USA\n",
      "9\n"
     ]
    },
    {
     "name": "stderr",
     "output_type": "stream",
     "text": [
      "/tmp/ipykernel_198110/2077245259.py:28: FutureWarning: The frame.append method is deprecated and will be removed from pandas in a future version. Use pandas.concat instead.\n",
      "  latlong_df = latlong_df.append({'address': address, 'etHash': etHash,'bucket_id': bucket_id}, ignore_index=True)\n"
     ]
    },
    {
     "name": "stdout",
     "output_type": "stream",
     "text": [
      "vSHrWcsbxD9cxLMFE 81 S CARLTON ST\n",
      "HARRISONBURG VA  22801\n",
      "USA\n",
      "10\n"
     ]
    },
    {
     "name": "stderr",
     "output_type": "stream",
     "text": [
      "/tmp/ipykernel_198110/2077245259.py:28: FutureWarning: The frame.append method is deprecated and will be removed from pandas in a future version. Use pandas.concat instead.\n",
      "  latlong_df = latlong_df.append({'address': address, 'etHash': etHash,'bucket_id': bucket_id}, ignore_index=True)\n"
     ]
    },
    {
     "name": "stdout",
     "output_type": "stream",
     "text": [
      "CpBjBseEZCpTbr4Hm 100 WEGMANS WAY\n",
      "CHARLOTTESVILLE VA  22902\n",
      "USA\n",
      "11\n"
     ]
    },
    {
     "name": "stderr",
     "output_type": "stream",
     "text": [
      "/tmp/ipykernel_198110/2077245259.py:28: FutureWarning: The frame.append method is deprecated and will be removed from pandas in a future version. Use pandas.concat instead.\n",
      "  latlong_df = latlong_df.append({'address': address, 'etHash': etHash,'bucket_id': bucket_id}, ignore_index=True)\n"
     ]
    },
    {
     "name": "stdout",
     "output_type": "stream",
     "text": [
      "MjHcyasjeM8S9MsqM 1810 E MARKET ST\n",
      "HARRISONBURG VA  22801\n",
      "USA\n",
      "12\n"
     ]
    },
    {
     "name": "stderr",
     "output_type": "stream",
     "text": [
      "/tmp/ipykernel_198110/2077245259.py:28: FutureWarning: The frame.append method is deprecated and will be removed from pandas in a future version. Use pandas.concat instead.\n",
      "  latlong_df = latlong_df.append({'address': address, 'etHash': etHash,'bucket_id': bucket_id}, ignore_index=True)\n"
     ]
    },
    {
     "name": "stdout",
     "output_type": "stream",
     "text": [
      "qFiERiofpuHakPh26 930 OLYMPIA DR\n",
      "CHARLOTTESVILLE VA  22911\n",
      "USA\n",
      "13\n"
     ]
    },
    {
     "name": "stderr",
     "output_type": "stream",
     "text": [
      "/tmp/ipykernel_198110/2077245259.py:28: FutureWarning: The frame.append method is deprecated and will be removed from pandas in a future version. Use pandas.concat instead.\n",
      "  latlong_df = latlong_df.append({'address': address, 'etHash': etHash,'bucket_id': bucket_id}, ignore_index=True)\n"
     ]
    },
    {
     "name": "stdout",
     "output_type": "stream",
     "text": [
      "9MBTSGTbt6cYwqRXw 1650 RIO RD E\n",
      "CHARLOTTESVILLE VA  22901\n",
      "USA\n",
      "14\n"
     ]
    },
    {
     "name": "stderr",
     "output_type": "stream",
     "text": [
      "/tmp/ipykernel_198110/2077245259.py:28: FutureWarning: The frame.append method is deprecated and will be removed from pandas in a future version. Use pandas.concat instead.\n",
      "  latlong_df = latlong_df.append({'address': address, 'etHash': etHash,'bucket_id': bucket_id}, ignore_index=True)\n"
     ]
    },
    {
     "name": "stdout",
     "output_type": "stream",
     "text": [
      "hDyZmkbnYu6wteRXR 600 UNIVERSITY BLVD\n",
      "HARRISONBURG VA  22801\n",
      "USA\n",
      "15\n"
     ]
    },
    {
     "name": "stderr",
     "output_type": "stream",
     "text": [
      "/tmp/ipykernel_198110/2077245259.py:28: FutureWarning: The frame.append method is deprecated and will be removed from pandas in a future version. Use pandas.concat instead.\n",
      "  latlong_df = latlong_df.append({'address': address, 'etHash': etHash,'bucket_id': bucket_id}, ignore_index=True)\n"
     ]
    },
    {
     "name": "stdout",
     "output_type": "stream",
     "text": [
      "89tndFjpZCRAKs4fn 1621 E MARKET ST\n",
      "HARRISONBURG VA  22801\n",
      "USA\n",
      "16\n"
     ]
    },
    {
     "name": "stderr",
     "output_type": "stream",
     "text": [
      "/tmp/ipykernel_198110/2077245259.py:28: FutureWarning: The frame.append method is deprecated and will be removed from pandas in a future version. Use pandas.concat instead.\n",
      "  latlong_df = latlong_df.append({'address': address, 'etHash': etHash,'bucket_id': bucket_id}, ignore_index=True)\n"
     ]
    },
    {
     "name": "stdout",
     "output_type": "stream",
     "text": [
      "9DoFhrbKyTo9BS942 100 WEGMANS WAY\n",
      "CHARLOTTESVILLE VA  22902\n",
      "USA\n",
      "17\n",
      "rC4chae7iYyoRZXez 1510 SEMINOLE TRL\n",
      "CHARLOTTESVILLE VA  22901\n",
      "USA\n",
      "18\n"
     ]
    },
    {
     "name": "stderr",
     "output_type": "stream",
     "text": [
      "/tmp/ipykernel_198110/2077245259.py:28: FutureWarning: The frame.append method is deprecated and will be removed from pandas in a future version. Use pandas.concat instead.\n",
      "  latlong_df = latlong_df.append({'address': address, 'etHash': etHash,'bucket_id': bucket_id}, ignore_index=True)\n",
      "/tmp/ipykernel_198110/2077245259.py:28: FutureWarning: The frame.append method is deprecated and will be removed from pandas in a future version. Use pandas.concat instead.\n",
      "  latlong_df = latlong_df.append({'address': address, 'etHash': etHash,'bucket_id': bucket_id}, ignore_index=True)\n"
     ]
    },
    {
     "name": "stdout",
     "output_type": "stream",
     "text": [
      "uHMLpCqfisYyCXPzT 1760 E MARKET ST\n",
      "HARRISONBURG VA  22801\n",
      "USA\n",
      "19\n"
     ]
    },
    {
     "name": "stderr",
     "output_type": "stream",
     "text": [
      "/tmp/ipykernel_198110/2077245259.py:28: FutureWarning: The frame.append method is deprecated and will be removed from pandas in a future version. Use pandas.concat instead.\n",
      "  latlong_df = latlong_df.append({'address': address, 'etHash': etHash,'bucket_id': bucket_id}, ignore_index=True)\n"
     ]
    },
    {
     "name": "stdout",
     "output_type": "stream",
     "text": [
      "R3JdPQRe94AQczwR9 1621 E MARKET ST\n",
      "HARRISONBURG VA  22801\n",
      "USA\n",
      "20\n"
     ]
    },
    {
     "name": "stderr",
     "output_type": "stream",
     "text": [
      "/tmp/ipykernel_198110/2077245259.py:28: FutureWarning: The frame.append method is deprecated and will be removed from pandas in a future version. Use pandas.concat instead.\n",
      "  latlong_df = latlong_df.append({'address': address, 'etHash': etHash,'bucket_id': bucket_id}, ignore_index=True)\n"
     ]
    },
    {
     "name": "stdout",
     "output_type": "stream",
     "text": [
      "ivZhw3pcHYk8Dbvpw 1400 EUCLID AVE\n",
      "BRISTOL VA  24201\n",
      "USA\n",
      "21\n"
     ]
    },
    {
     "name": "stderr",
     "output_type": "stream",
     "text": [
      "/tmp/ipykernel_198110/2077245259.py:28: FutureWarning: The frame.append method is deprecated and will be removed from pandas in a future version. Use pandas.concat instead.\n",
      "  latlong_df = latlong_df.append({'address': address, 'etHash': etHash,'bucket_id': bucket_id}, ignore_index=True)\n"
     ]
    },
    {
     "name": "stdout",
     "output_type": "stream",
     "text": [
      "42KiLddoqk7Qd9mic 1103 VOLUNTEER PKWY\n",
      "BRISTOL TN  37620\n",
      "USA\n",
      "22\n"
     ]
    },
    {
     "name": "stderr",
     "output_type": "stream",
     "text": [
      "/tmp/ipykernel_198110/2077245259.py:28: FutureWarning: The frame.append method is deprecated and will be removed from pandas in a future version. Use pandas.concat instead.\n",
      "  latlong_df = latlong_df.append({'address': address, 'etHash': etHash,'bucket_id': bucket_id}, ignore_index=True)\n"
     ]
    },
    {
     "name": "stdout",
     "output_type": "stream",
     "text": [
      "Q2muTftJJduz8J5Yp 10003 DOMINION PL\n",
      "BRISTOL VA  24202\n",
      "USA\n",
      "23\n"
     ]
    },
    {
     "name": "stderr",
     "output_type": "stream",
     "text": [
      "/tmp/ipykernel_198110/2077245259.py:28: FutureWarning: The frame.append method is deprecated and will be removed from pandas in a future version. Use pandas.concat instead.\n",
      "  latlong_df = latlong_df.append({'address': address, 'etHash': etHash,'bucket_id': bucket_id}, ignore_index=True)\n"
     ]
    },
    {
     "name": "stdout",
     "output_type": "stream",
     "text": [
      "4DpF3PJHJJqJNQ9xJ 3006 LEE HWY\n",
      "BRISTOL VA  24202\n",
      "USA\n",
      "24\n"
     ]
    },
    {
     "name": "stderr",
     "output_type": "stream",
     "text": [
      "/tmp/ipykernel_198110/2077245259.py:28: FutureWarning: The frame.append method is deprecated and will be removed from pandas in a future version. Use pandas.concat instead.\n",
      "  latlong_df = latlong_df.append({'address': address, 'etHash': etHash,'bucket_id': bucket_id}, ignore_index=True)\n"
     ]
    },
    {
     "name": "stdout",
     "output_type": "stream",
     "text": [
      "wGG9GoetanDKGX2nS 1913 SHERWOOD RD\n",
      "KINGSPORT TN  37664\n",
      "USA\n",
      "25\n"
     ]
    },
    {
     "name": "stderr",
     "output_type": "stream",
     "text": [
      "/tmp/ipykernel_198110/2077245259.py:28: FutureWarning: The frame.append method is deprecated and will be removed from pandas in a future version. Use pandas.concat instead.\n",
      "  latlong_df = latlong_df.append({'address': address, 'etHash': etHash,'bucket_id': bucket_id}, ignore_index=True)\n"
     ]
    },
    {
     "name": "stdout",
     "output_type": "stream",
     "text": [
      "3YEwcZfqWoBWH2mwR 2450 MEMORIAL BLVD\n",
      "KINGSPORT TN  37664\n",
      "USA\n",
      "26\n"
     ]
    },
    {
     "name": "stderr",
     "output_type": "stream",
     "text": [
      "/tmp/ipykernel_198110/2077245259.py:28: FutureWarning: The frame.append method is deprecated and will be removed from pandas in a future version. Use pandas.concat instead.\n",
      "  latlong_df = latlong_df.append({'address': address, 'etHash': etHash,'bucket_id': bucket_id}, ignore_index=True)\n"
     ]
    },
    {
     "name": "stdout",
     "output_type": "stream",
     "text": [
      "hb8xr9nYhTdNYQE48 2003 N EASTMAN RD\n",
      "KINGSPORT TN  37660\n",
      "USA\n",
      "27\n"
     ]
    },
    {
     "name": "stderr",
     "output_type": "stream",
     "text": [
      "/tmp/ipykernel_198110/2077245259.py:28: FutureWarning: The frame.append method is deprecated and will be removed from pandas in a future version. Use pandas.concat instead.\n",
      "  latlong_df = latlong_df.append({'address': address, 'etHash': etHash,'bucket_id': bucket_id}, ignore_index=True)\n"
     ]
    },
    {
     "name": "stdout",
     "output_type": "stream",
     "text": [
      "7LNPgxHpApQzQBRBC 1913 SHERWOOD RD\n",
      "KINGSPORT TN  37664\n",
      "USA\n",
      "28\n"
     ]
    },
    {
     "name": "stderr",
     "output_type": "stream",
     "text": [
      "/tmp/ipykernel_198110/2077245259.py:28: FutureWarning: The frame.append method is deprecated and will be removed from pandas in a future version. Use pandas.concat instead.\n",
      "  latlong_df = latlong_df.append({'address': address, 'etHash': etHash,'bucket_id': bucket_id}, ignore_index=True)\n"
     ]
    },
    {
     "name": "stdout",
     "output_type": "stream",
     "text": [
      "zWAGgQhcRaiEtQEZH 2111 N ROAN ST\n",
      "JOHNSON CITY TN  37601\n",
      "USA\n",
      "29\n"
     ]
    },
    {
     "name": "stderr",
     "output_type": "stream",
     "text": [
      "/tmp/ipykernel_198110/2077245259.py:28: FutureWarning: The frame.append method is deprecated and will be removed from pandas in a future version. Use pandas.concat instead.\n",
      "  latlong_df = latlong_df.append({'address': address, 'etHash': etHash,'bucket_id': bucket_id}, ignore_index=True)\n"
     ]
    },
    {
     "name": "stdout",
     "output_type": "stream",
     "text": [
      "oFwu3RrCBWvpk5JKa 2301 N ROAN ST\n",
      "JOHNSON CITY TN  37601\n",
      "USA\n",
      "30\n"
     ]
    },
    {
     "name": "stderr",
     "output_type": "stream",
     "text": [
      "/tmp/ipykernel_198110/2077245259.py:28: FutureWarning: The frame.append method is deprecated and will be removed from pandas in a future version. Use pandas.concat instead.\n",
      "  latlong_df = latlong_df.append({'address': address, 'etHash': etHash,'bucket_id': bucket_id}, ignore_index=True)\n"
     ]
    },
    {
     "name": "stdout",
     "output_type": "stream",
     "text": [
      "sNoHFYLkNwpPQJ3g4 3101 E OAKLAND AVE\n",
      "JOHNSON CITY TN  37601\n",
      "USA\n",
      "31\n",
      "B2a2LgyjQJkqz8qsK 165 PLAZA RD SW\n",
      "WISE VA  24293\n",
      "USA\n",
      "32\n"
     ]
    },
    {
     "name": "stderr",
     "output_type": "stream",
     "text": [
      "/tmp/ipykernel_198110/2077245259.py:28: FutureWarning: The frame.append method is deprecated and will be removed from pandas in a future version. Use pandas.concat instead.\n",
      "  latlong_df = latlong_df.append({'address': address, 'etHash': etHash,'bucket_id': bucket_id}, ignore_index=True)\n",
      "/tmp/ipykernel_198110/2077245259.py:28: FutureWarning: The frame.append method is deprecated and will be removed from pandas in a future version. Use pandas.concat instead.\n",
      "  latlong_df = latlong_df.append({'address': address, 'etHash': etHash,'bucket_id': bucket_id}, ignore_index=True)\n"
     ]
    },
    {
     "name": "stdout",
     "output_type": "stream",
     "text": [
      "AwK9b5XkKjihsJSra 111 S PICKENS BRIDGE RD # S\n",
      "JOHNSON CITY TN  37615\n",
      "USA\n",
      "33\n"
     ]
    },
    {
     "name": "stderr",
     "output_type": "stream",
     "text": [
      "/tmp/ipykernel_198110/2077245259.py:28: FutureWarning: The frame.append method is deprecated and will be removed from pandas in a future version. Use pandas.concat instead.\n",
      "  latlong_df = latlong_df.append({'address': address, 'etHash': etHash,'bucket_id': bucket_id}, ignore_index=True)\n"
     ]
    },
    {
     "name": "stdout",
     "output_type": "stream",
     "text": [
      "wHMLWecaKTKPiqeaf 155 MARKETPLACE BLVD\n",
      "JOHNSON CITY TN  37604\n",
      "USA\n",
      "34\n"
     ]
    },
    {
     "name": "stderr",
     "output_type": "stream",
     "text": [
      "/tmp/ipykernel_198110/2077245259.py:28: FutureWarning: The frame.append method is deprecated and will be removed from pandas in a future version. Use pandas.concat instead.\n",
      "  latlong_df = latlong_df.append({'address': address, 'etHash': etHash,'bucket_id': bucket_id}, ignore_index=True)\n"
     ]
    },
    {
     "name": "stdout",
     "output_type": "stream",
     "text": [
      "TKQEJihJE4rgGbwJY 4524 N ROAN ST\n",
      "JOHNSON CITY TN  37615\n",
      "USA\n",
      "35\n"
     ]
    },
    {
     "name": "stderr",
     "output_type": "stream",
     "text": [
      "/tmp/ipykernel_198110/2077245259.py:28: FutureWarning: The frame.append method is deprecated and will be removed from pandas in a future version. Use pandas.concat instead.\n",
      "  latlong_df = latlong_df.append({'address': address, 'etHash': etHash,'bucket_id': bucket_id}, ignore_index=True)\n"
     ]
    },
    {
     "name": "stdout",
     "output_type": "stream",
     "text": [
      "fhSMdMXSP9ktFDt7M 1348 STAFFORD DR\n",
      "PRINCETON WV  24740\n",
      "USA\n",
      "36\n"
     ]
    },
    {
     "name": "stderr",
     "output_type": "stream",
     "text": [
      "/tmp/ipykernel_198110/2077245259.py:28: FutureWarning: The frame.append method is deprecated and will be removed from pandas in a future version. Use pandas.concat instead.\n",
      "  latlong_df = latlong_df.append({'address': address, 'etHash': etHash,'bucket_id': bucket_id}, ignore_index=True)\n"
     ]
    },
    {
     "name": "stdout",
     "output_type": "stream",
     "text": [
      "7tamrNGvE2dieSeGC 400 BLAND ST\n",
      "BLUEFIELD WV  24701\n",
      "USA\n",
      "37\n"
     ]
    },
    {
     "name": "stderr",
     "output_type": "stream",
     "text": [
      "/tmp/ipykernel_198110/2077245259.py:28: FutureWarning: The frame.append method is deprecated and will be removed from pandas in a future version. Use pandas.concat instead.\n",
      "  latlong_df = latlong_df.append({'address': address, 'etHash': etHash,'bucket_id': bucket_id}, ignore_index=True)\n"
     ]
    },
    {
     "name": "stdout",
     "output_type": "stream",
     "text": [
      "XyuCYfyNNqReCsEg5 314 BLAND ST\n",
      "BLUEFIELD WV  24701\n",
      "USA\n",
      "38\n"
     ]
    },
    {
     "name": "stderr",
     "output_type": "stream",
     "text": [
      "/tmp/ipykernel_198110/2077245259.py:28: FutureWarning: The frame.append method is deprecated and will be removed from pandas in a future version. Use pandas.concat instead.\n",
      "  latlong_df = latlong_df.append({'address': address, 'etHash': etHash,'bucket_id': bucket_id}, ignore_index=True)\n"
     ]
    },
    {
     "name": "stdout",
     "output_type": "stream",
     "text": [
      "z7ALKmJasazemQqwc 1412 N EISENHOWER DR\n",
      "BECKLEY WV  25801\n",
      "USA\n",
      "39\n"
     ]
    },
    {
     "name": "stderr",
     "output_type": "stream",
     "text": [
      "/tmp/ipykernel_198110/2077245259.py:28: FutureWarning: The frame.append method is deprecated and will be removed from pandas in a future version. Use pandas.concat instead.\n",
      "  latlong_df = latlong_df.append({'address': address, 'etHash': etHash,'bucket_id': bucket_id}, ignore_index=True)\n"
     ]
    },
    {
     "name": "stdout",
     "output_type": "stream",
     "text": [
      "AsyZsPNNr3ntvsMsm 4255 ROBERT C BYRD DR\n",
      "BECKLEY WV  25801\n",
      "USA\n",
      "40\n"
     ]
    },
    {
     "name": "stderr",
     "output_type": "stream",
     "text": [
      "/tmp/ipykernel_198110/2077245259.py:28: FutureWarning: The frame.append method is deprecated and will be removed from pandas in a future version. Use pandas.concat instead.\n",
      "  latlong_df = latlong_df.append({'address': address, 'etHash': etHash,'bucket_id': bucket_id}, ignore_index=True)\n"
     ]
    },
    {
     "name": "stdout",
     "output_type": "stream",
     "text": [
      "A7JgT7sZv56itBknC 1301 W BROAD ST\n",
      "WAYNESBORO VA  22980\n",
      "USA\n",
      "41\n"
     ]
    },
    {
     "name": "stderr",
     "output_type": "stream",
     "text": [
      "/tmp/ipykernel_198110/2077245259.py:28: FutureWarning: The frame.append method is deprecated and will be removed from pandas in a future version. Use pandas.concat instead.\n",
      "  latlong_df = latlong_df.append({'address': address, 'etHash': etHash,'bucket_id': bucket_id}, ignore_index=True)\n"
     ]
    },
    {
     "name": "stdout",
     "output_type": "stream",
     "text": [
      "A3d5pqgDx97No2d5R 2715 W MAIN ST\n",
      "WAYNESBORO VA  22980\n",
      "USA\n",
      "42\n"
     ]
    },
    {
     "name": "stderr",
     "output_type": "stream",
     "text": [
      "/tmp/ipykernel_198110/2077245259.py:28: FutureWarning: The frame.append method is deprecated and will be removed from pandas in a future version. Use pandas.concat instead.\n",
      "  latlong_df = latlong_df.append({'address': address, 'etHash': etHash,'bucket_id': bucket_id}, ignore_index=True)\n"
     ]
    },
    {
     "name": "stdout",
     "output_type": "stream",
     "text": [
      "N72R2LSMYZui7J3AT 100 E BROAD ST\n",
      "WAYNESBORO VA  22980\n",
      "USA\n",
      "43\n"
     ]
    },
    {
     "name": "stderr",
     "output_type": "stream",
     "text": [
      "/tmp/ipykernel_198110/2077245259.py:28: FutureWarning: The frame.append method is deprecated and will be removed from pandas in a future version. Use pandas.concat instead.\n",
      "  latlong_df = latlong_df.append({'address': address, 'etHash': etHash,'bucket_id': bucket_id}, ignore_index=True)\n"
     ]
    },
    {
     "name": "stdout",
     "output_type": "stream",
     "text": [
      "uLNgKnZYFoMz9bd3W 831 LEW DEWITT BLVD\n",
      "WAYNESBORO VA  22980\n",
      "USA\n",
      "44\n"
     ]
    },
    {
     "name": "stderr",
     "output_type": "stream",
     "text": [
      "/tmp/ipykernel_198110/2077245259.py:28: FutureWarning: The frame.append method is deprecated and will be removed from pandas in a future version. Use pandas.concat instead.\n",
      "  latlong_df = latlong_df.append({'address': address, 'etHash': etHash,'bucket_id': bucket_id}, ignore_index=True)\n"
     ]
    },
    {
     "name": "stdout",
     "output_type": "stream",
     "text": [
      "d4bnkxGNHx6eYry58 1209 RICHMOND AVE\n",
      "STAUNTON VA  24401\n",
      "USA\n",
      "45\n"
     ]
    },
    {
     "name": "stderr",
     "output_type": "stream",
     "text": [
      "/tmp/ipykernel_198110/2077245259.py:28: FutureWarning: The frame.append method is deprecated and will be removed from pandas in a future version. Use pandas.concat instead.\n",
      "  latlong_df = latlong_df.append({'address': address, 'etHash': etHash,'bucket_id': bucket_id}, ignore_index=True)\n"
     ]
    },
    {
     "name": "stdout",
     "output_type": "stream",
     "text": [
      "5u82vG35vu7rLGZHP 1445 TOWNE SQUARE BLVD NW\n",
      "ROANOKE VA  24012\n",
      "USA\n",
      "46\n"
     ]
    },
    {
     "name": "stderr",
     "output_type": "stream",
     "text": [
      "/tmp/ipykernel_198110/2077245259.py:28: FutureWarning: The frame.append method is deprecated and will be removed from pandas in a future version. Use pandas.concat instead.\n",
      "  latlong_df = latlong_df.append({'address': address, 'etHash': etHash,'bucket_id': bucket_id}, ignore_index=True)\n"
     ]
    },
    {
     "name": "stdout",
     "output_type": "stream",
     "text": [
      "GGHTfvPYan3feo7fS 4801 VALLEY VIEW BLVD NW\n",
      "ROANOKE VA  24012\n",
      "USA\n",
      "47\n"
     ]
    },
    {
     "name": "stderr",
     "output_type": "stream",
     "text": [
      "/tmp/ipykernel_198110/2077245259.py:28: FutureWarning: The frame.append method is deprecated and will be removed from pandas in a future version. Use pandas.concat instead.\n",
      "  latlong_df = latlong_df.append({'address': address, 'etHash': etHash,'bucket_id': bucket_id}, ignore_index=True)\n"
     ]
    },
    {
     "name": "stdout",
     "output_type": "stream",
     "text": [
      "hCuzgR6mLDsHGyLkJ 1445 TOWNE SQUARE BLVD NW\n",
      "ROANOKE VA  24012\n",
      "USA\n",
      "48\n"
     ]
    },
    {
     "name": "stderr",
     "output_type": "stream",
     "text": [
      "/tmp/ipykernel_198110/2077245259.py:28: FutureWarning: The frame.append method is deprecated and will be removed from pandas in a future version. Use pandas.concat instead.\n",
      "  latlong_df = latlong_df.append({'address': address, 'etHash': etHash,'bucket_id': bucket_id}, ignore_index=True)\n"
     ]
    },
    {
     "name": "stdout",
     "output_type": "stream",
     "text": [
      "sdsZeRBcCMu34hKcn 4037 ELECTRIC RD\n",
      "CAVE SPRING VA  24018\n",
      "USA\n",
      "49\n"
     ]
    },
    {
     "name": "stderr",
     "output_type": "stream",
     "text": [
      "/tmp/ipykernel_198110/2077245259.py:28: FutureWarning: The frame.append method is deprecated and will be removed from pandas in a future version. Use pandas.concat instead.\n",
      "  latlong_df = latlong_df.append({'address': address, 'etHash': etHash,'bucket_id': bucket_id}, ignore_index=True)\n"
     ]
    },
    {
     "name": "stdout",
     "output_type": "stream",
     "text": [
      "quucYtAMrYcKCBj78 3542 ORANGE AVE NE\n",
      "ROANOKE VA  24012\n",
      "USA\n",
      "50\n"
     ]
    },
    {
     "name": "stderr",
     "output_type": "stream",
     "text": [
      "/tmp/ipykernel_198110/2077245259.py:28: FutureWarning: The frame.append method is deprecated and will be removed from pandas in a future version. Use pandas.concat instead.\n",
      "  latlong_df = latlong_df.append({'address': address, 'etHash': etHash,'bucket_id': bucket_id}, ignore_index=True)\n"
     ]
    },
    {
     "name": "stdout",
     "output_type": "stream",
     "text": [
      "BMvJG8CrZ6jbBhTmW 4350 FRANKLIN RD SW\n",
      "ROANOKE VA  24014\n",
      "USA\n",
      "51\n"
     ]
    },
    {
     "name": "stderr",
     "output_type": "stream",
     "text": [
      "/tmp/ipykernel_198110/2077245259.py:28: FutureWarning: The frame.append method is deprecated and will be removed from pandas in a future version. Use pandas.concat instead.\n",
      "  latlong_df = latlong_df.append({'address': address, 'etHash': etHash,'bucket_id': bucket_id}, ignore_index=True)\n"
     ]
    },
    {
     "name": "stdout",
     "output_type": "stream",
     "text": [
      "3KNT68t4i6PpDzMC7 2845 HERSHBERGER RD NW\n",
      "ROANOKE VA  24017\n",
      "USA\n",
      "52\n"
     ]
    },
    {
     "name": "stderr",
     "output_type": "stream",
     "text": [
      "/tmp/ipykernel_198110/2077245259.py:28: FutureWarning: The frame.append method is deprecated and will be removed from pandas in a future version. Use pandas.concat instead.\n",
      "  latlong_df = latlong_df.append({'address': address, 'etHash': etHash,'bucket_id': bucket_id}, ignore_index=True)\n"
     ]
    },
    {
     "name": "stdout",
     "output_type": "stream",
     "text": [
      "RaRvY8EEE3Kp4x9gZ 1052 INDEPENDENCE BLVD\n",
      "BEDFORD VA  24523\n",
      "USA\n",
      "53\n"
     ]
    },
    {
     "name": "stderr",
     "output_type": "stream",
     "text": [
      "/tmp/ipykernel_198110/2077245259.py:28: FutureWarning: The frame.append method is deprecated and will be removed from pandas in a future version. Use pandas.concat instead.\n",
      "  latlong_df = latlong_df.append({'address': address, 'etHash': etHash,'bucket_id': bucket_id}, ignore_index=True)\n"
     ]
    },
    {
     "name": "stdout",
     "output_type": "stream",
     "text": [
      "ojuJd7DZkdDjKtsfN 3639 BRAMBLETON AVE\n",
      "CAVE SPRING VA  24018\n",
      "USA\n",
      "54\n"
     ]
    },
    {
     "name": "stderr",
     "output_type": "stream",
     "text": [
      "/tmp/ipykernel_198110/2077245259.py:28: FutureWarning: The frame.append method is deprecated and will be removed from pandas in a future version. Use pandas.concat instead.\n",
      "  latlong_df = latlong_df.append({'address': address, 'etHash': etHash,'bucket_id': bucket_id}, ignore_index=True)\n"
     ]
    },
    {
     "name": "stdout",
     "output_type": "stream",
     "text": [
      "MDaefKGsqdSgi9g27 3200 LAS VEGAS BLVD S\n",
      "LAS VEGAS NV  89109\n",
      "USA\n",
      "55\n"
     ]
    },
    {
     "name": "stderr",
     "output_type": "stream",
     "text": [
      "/tmp/ipykernel_198110/2077245259.py:28: FutureWarning: The frame.append method is deprecated and will be removed from pandas in a future version. Use pandas.concat instead.\n",
      "  latlong_df = latlong_df.append({'address': address, 'etHash': etHash,'bucket_id': bucket_id}, ignore_index=True)\n"
     ]
    },
    {
     "name": "stdout",
     "output_type": "stream",
     "text": [
      "j9d93cfSQrkbKyJgD 4037 ELECTRIC RD\n",
      "CAVE SPRING VA  24018\n",
      "USA\n",
      "56\n"
     ]
    },
    {
     "name": "stderr",
     "output_type": "stream",
     "text": [
      "/tmp/ipykernel_198110/2077245259.py:28: FutureWarning: The frame.append method is deprecated and will be removed from pandas in a future version. Use pandas.concat instead.\n",
      "  latlong_df = latlong_df.append({'address': address, 'etHash': etHash,'bucket_id': bucket_id}, ignore_index=True)\n"
     ]
    },
    {
     "name": "stdout",
     "output_type": "stream",
     "text": [
      "GoNr5WH5wyFCPKdYg 3325 LAS VEGAS BLVD S\n",
      "LAS VEGAS NV  89109\n",
      "USA\n",
      "57\n"
     ]
    },
    {
     "name": "stderr",
     "output_type": "stream",
     "text": [
      "/tmp/ipykernel_198110/2077245259.py:28: FutureWarning: The frame.append method is deprecated and will be removed from pandas in a future version. Use pandas.concat instead.\n",
      "  latlong_df = latlong_df.append({'address': address, 'etHash': etHash,'bucket_id': bucket_id}, ignore_index=True)\n"
     ]
    },
    {
     "name": "stdout",
     "output_type": "stream",
     "text": [
      "pMmqkj6ZCkmpn2HNa 3377 LAS VEGAS BLVD S\n",
      "LAS VEGAS NV  89109\n",
      "USA\n",
      "58\n"
     ]
    },
    {
     "name": "stderr",
     "output_type": "stream",
     "text": [
      "/tmp/ipykernel_198110/2077245259.py:28: FutureWarning: The frame.append method is deprecated and will be removed from pandas in a future version. Use pandas.concat instead.\n",
      "  latlong_df = latlong_df.append({'address': address, 'etHash': etHash,'bucket_id': bucket_id}, ignore_index=True)\n"
     ]
    },
    {
     "name": "stdout",
     "output_type": "stream",
     "text": [
      "4AoAWeKyuhpAhr6Jg 290 PEPPERS FRY RD NE\n",
      "CHRISTIANSBURG VA  24073\n",
      "USA\n",
      "59\n"
     ]
    },
    {
     "name": "stderr",
     "output_type": "stream",
     "text": [
      "/tmp/ipykernel_198110/2077245259.py:28: FutureWarning: The frame.append method is deprecated and will be removed from pandas in a future version. Use pandas.concat instead.\n",
      "  latlong_df = latlong_df.append({'address': address, 'etHash': etHash,'bucket_id': bucket_id}, ignore_index=True)\n"
     ]
    },
    {
     "name": "stdout",
     "output_type": "stream",
     "text": [
      "9etZWbx3c3Qp6Czbm 50 PEPPERS FRY RD NE\n",
      "CHRISTIANSBURG VA  24073\n",
      "USA\n",
      "60\n"
     ]
    },
    {
     "name": "stderr",
     "output_type": "stream",
     "text": [
      "/tmp/ipykernel_198110/2077245259.py:28: FutureWarning: The frame.append method is deprecated and will be removed from pandas in a future version. Use pandas.concat instead.\n",
      "  latlong_df = latlong_df.append({'address': address, 'etHash': etHash,'bucket_id': bucket_id}, ignore_index=True)\n"
     ]
    },
    {
     "name": "stdout",
     "output_type": "stream",
     "text": [
      "6uDyJWeWqXYY3rjx5 2400 N FRANKLIN ST\n",
      "CHRISTIANSBURG VA  24073\n",
      "USA\n",
      "61\n"
     ]
    },
    {
     "name": "stderr",
     "output_type": "stream",
     "text": [
      "/tmp/ipykernel_198110/2077245259.py:28: FutureWarning: The frame.append method is deprecated and will be removed from pandas in a future version. Use pandas.concat instead.\n",
      "  latlong_df = latlong_df.append({'address': address, 'etHash': etHash,'bucket_id': bucket_id}, ignore_index=True)\n"
     ]
    },
    {
     "name": "stdout",
     "output_type": "stream",
     "text": [
      "Tjks26Lo5e6XuWqxS 120 MARKET ST\n",
      "HENDERSON NV  89015\n",
      "USA\n",
      "62\n"
     ]
    },
    {
     "name": "stderr",
     "output_type": "stream",
     "text": [
      "/tmp/ipykernel_198110/2077245259.py:28: FutureWarning: The frame.append method is deprecated and will be removed from pandas in a future version. Use pandas.concat instead.\n",
      "  latlong_df = latlong_df.append({'address': address, 'etHash': etHash,'bucket_id': bucket_id}, ignore_index=True)\n"
     ]
    },
    {
     "name": "stdout",
     "output_type": "stream",
     "text": [
      "gsiLq9E3zw8NsitB7 7429 LEE HWY\n",
      "FAIRLAWN VA  24141\n",
      "USA\n",
      "63\n"
     ]
    },
    {
     "name": "stderr",
     "output_type": "stream",
     "text": [
      "/tmp/ipykernel_198110/2077245259.py:28: FutureWarning: The frame.append method is deprecated and will be removed from pandas in a future version. Use pandas.concat instead.\n",
      "  latlong_df = latlong_df.append({'address': address, 'etHash': etHash,'bucket_id': bucket_id}, ignore_index=True)\n"
     ]
    },
    {
     "name": "stdout",
     "output_type": "stream",
     "text": [
      "XKYdntww5dQQZ2yNC 50 PEPPERS FRY RD NE\n",
      "CHRISTIANSBURG VA  24073\n",
      "USA\n",
      "64\n"
     ]
    },
    {
     "name": "stderr",
     "output_type": "stream",
     "text": [
      "/tmp/ipykernel_198110/2077245259.py:28: FutureWarning: The frame.append method is deprecated and will be removed from pandas in a future version. Use pandas.concat instead.\n",
      "  latlong_df = latlong_df.append({'address': address, 'etHash': etHash,'bucket_id': bucket_id}, ignore_index=True)\n"
     ]
    },
    {
     "name": "stdout",
     "output_type": "stream",
     "text": [
      "qWgnWnmdniCBDJhJm 2400 N FRANKLIN ST\n",
      "CHRISTIANSBURG VA  24073\n",
      "USA\n",
      "65\n"
     ]
    },
    {
     "name": "stderr",
     "output_type": "stream",
     "text": [
      "/tmp/ipykernel_198110/2077245259.py:28: FutureWarning: The frame.append method is deprecated and will be removed from pandas in a future version. Use pandas.concat instead.\n",
      "  latlong_df = latlong_df.append({'address': address, 'etHash': etHash,'bucket_id': bucket_id}, ignore_index=True)\n"
     ]
    },
    {
     "name": "stdout",
     "output_type": "stream",
     "text": [
      "CoJAte9mDYr9iDGkY 1470 S MAIN ST\n",
      "BLACKSBURG VA  24060\n",
      "USA\n",
      "66\n"
     ]
    },
    {
     "name": "stderr",
     "output_type": "stream",
     "text": [
      "/tmp/ipykernel_198110/2077245259.py:28: FutureWarning: The frame.append method is deprecated and will be removed from pandas in a future version. Use pandas.concat instead.\n",
      "  latlong_df = latlong_df.append({'address': address, 'etHash': etHash,'bucket_id': bucket_id}, ignore_index=True)\n"
     ]
    },
    {
     "name": "stdout",
     "output_type": "stream",
     "text": [
      "jf2kCwsYCWXR2eZGx 201 FARMVIEW RD NW\n",
      "CHRISTIANSBURG VA  24073\n",
      "USA\n",
      "67\n"
     ]
    },
    {
     "name": "stderr",
     "output_type": "stream",
     "text": [
      "/tmp/ipykernel_198110/2077245259.py:28: FutureWarning: The frame.append method is deprecated and will be removed from pandas in a future version. Use pandas.concat instead.\n",
      "  latlong_df = latlong_df.append({'address': address, 'etHash': etHash,'bucket_id': bucket_id}, ignore_index=True)\n"
     ]
    },
    {
     "name": "stdout",
     "output_type": "stream",
     "text": [
      "YgCGuYg6GjHDrogRP 120 MARKET ST\n",
      "HENDERSON NV  89015\n",
      "USA\n",
      "68\n"
     ]
    },
    {
     "name": "stderr",
     "output_type": "stream",
     "text": [
      "/tmp/ipykernel_198110/2077245259.py:28: FutureWarning: The frame.append method is deprecated and will be removed from pandas in a future version. Use pandas.concat instead.\n",
      "  latlong_df = latlong_df.append({'address': address, 'etHash': etHash,'bucket_id': bucket_id}, ignore_index=True)\n"
     ]
    },
    {
     "name": "stdout",
     "output_type": "stream",
     "text": [
      "dofdm7nk9Ym7LwTDH 3920 WARDS RD\n",
      "LYNCHBURG VA  24502\n",
      "USA\n",
      "69\n"
     ]
    },
    {
     "name": "stderr",
     "output_type": "stream",
     "text": [
      "/tmp/ipykernel_198110/2077245259.py:28: FutureWarning: The frame.append method is deprecated and will be removed from pandas in a future version. Use pandas.concat instead.\n",
      "  latlong_df = latlong_df.append({'address': address, 'etHash': etHash,'bucket_id': bucket_id}, ignore_index=True)\n"
     ]
    },
    {
     "name": "stdout",
     "output_type": "stream",
     "text": [
      "E2Qb7PTeen5bot3tP 100 ATLANTA AVE\n",
      "LYNCHBURG VA  24502\n",
      "USA\n",
      "70\n"
     ]
    },
    {
     "name": "stderr",
     "output_type": "stream",
     "text": [
      "/tmp/ipykernel_198110/2077245259.py:28: FutureWarning: The frame.append method is deprecated and will be removed from pandas in a future version. Use pandas.concat instead.\n",
      "  latlong_df = latlong_df.append({'address': address, 'etHash': etHash,'bucket_id': bucket_id}, ignore_index=True)\n"
     ]
    },
    {
     "name": "stdout",
     "output_type": "stream",
     "text": [
      "dLQQaWsGhjrhw6t5B 3901 OLD FOREST RD\n",
      "LYNCHBURG VA  24501\n",
      "USA\n",
      "71\n"
     ]
    },
    {
     "name": "stderr",
     "output_type": "stream",
     "text": [
      "/tmp/ipykernel_198110/2077245259.py:28: FutureWarning: The frame.append method is deprecated and will be removed from pandas in a future version. Use pandas.concat instead.\n",
      "  latlong_df = latlong_df.append({'address': address, 'etHash': etHash,'bucket_id': bucket_id}, ignore_index=True)\n"
     ]
    },
    {
     "name": "stdout",
     "output_type": "stream",
     "text": [
      "P4AaTkuPXKZuRECK6 2100 WARDS RD\n",
      "LYNCHBURG VA  24502\n",
      "USA\n",
      "72\n"
     ]
    },
    {
     "name": "stderr",
     "output_type": "stream",
     "text": [
      "/tmp/ipykernel_198110/2077245259.py:28: FutureWarning: The frame.append method is deprecated and will be removed from pandas in a future version. Use pandas.concat instead.\n",
      "  latlong_df = latlong_df.append({'address': address, 'etHash': etHash,'bucket_id': bucket_id}, ignore_index=True)\n"
     ]
    },
    {
     "name": "stdout",
     "output_type": "stream",
     "text": [
      "w22FE5Pu2msLveTqB 2505 WARDS RD\n",
      "LYNCHBURG VA  24502\n",
      "USA\n",
      "73\n"
     ]
    },
    {
     "name": "stderr",
     "output_type": "stream",
     "text": [
      "/tmp/ipykernel_198110/2077245259.py:28: FutureWarning: The frame.append method is deprecated and will be removed from pandas in a future version. Use pandas.concat instead.\n",
      "  latlong_df = latlong_df.append({'address': address, 'etHash': etHash,'bucket_id': bucket_id}, ignore_index=True)\n"
     ]
    },
    {
     "name": "stdout",
     "output_type": "stream",
     "text": [
      "zzvLKAHeg2iXuRLDc 1913 SHERWOOD RD\n",
      "KINGSPORT TN  37664\n",
      "USA\n",
      "74\n"
     ]
    },
    {
     "name": "stderr",
     "output_type": "stream",
     "text": [
      "/tmp/ipykernel_198110/2077245259.py:28: FutureWarning: The frame.append method is deprecated and will be removed from pandas in a future version. Use pandas.concat instead.\n",
      "  latlong_df = latlong_df.append({'address': address, 'etHash': etHash,'bucket_id': bucket_id}, ignore_index=True)\n"
     ]
    },
    {
     "name": "stdout",
     "output_type": "stream",
     "text": [
      "FKLgWyv2StAtGDQQL 2450 MEMORIAL BLVD\n",
      "KINGSPORT TN  37664\n",
      "USA\n",
      "75\n"
     ]
    },
    {
     "name": "stderr",
     "output_type": "stream",
     "text": [
      "/tmp/ipykernel_198110/2077245259.py:28: FutureWarning: The frame.append method is deprecated and will be removed from pandas in a future version. Use pandas.concat instead.\n",
      "  latlong_df = latlong_df.append({'address': address, 'etHash': etHash,'bucket_id': bucket_id}, ignore_index=True)\n"
     ]
    },
    {
     "name": "stdout",
     "output_type": "stream",
     "text": [
      "TNy3rS4gEdg89qETA 278 DEVERS ST\n",
      "FAYETTEVILLE NC  28303\n",
      "USA\n",
      "76\n"
     ]
    },
    {
     "name": "stderr",
     "output_type": "stream",
     "text": [
      "/tmp/ipykernel_198110/2077245259.py:28: FutureWarning: The frame.append method is deprecated and will be removed from pandas in a future version. Use pandas.concat instead.\n",
      "  latlong_df = latlong_df.append({'address': address, 'etHash': etHash,'bucket_id': bucket_id}, ignore_index=True)\n"
     ]
    },
    {
     "name": "stdout",
     "output_type": "stream",
     "text": [
      "NdRseFGNtXczBkFLA 3434 KILDAIRE FARM RD\n",
      "CARY NC  27518\n",
      "USA\n",
      "77\n"
     ]
    },
    {
     "name": "stderr",
     "output_type": "stream",
     "text": [
      "/tmp/ipykernel_198110/2077245259.py:28: FutureWarning: The frame.append method is deprecated and will be removed from pandas in a future version. Use pandas.concat instead.\n",
      "  latlong_df = latlong_df.append({'address': address, 'etHash': etHash,'bucket_id': bucket_id}, ignore_index=True)\n"
     ]
    },
    {
     "name": "stdout",
     "output_type": "stream",
     "text": [
      "yv8iRFXFMr2bw7jFS 5329 ROLESVILLE RD\n",
      "WENDELL NC  27591\n",
      "USA\n",
      "78\n"
     ]
    },
    {
     "name": "stderr",
     "output_type": "stream",
     "text": [
      "/tmp/ipykernel_198110/2077245259.py:28: FutureWarning: The frame.append method is deprecated and will be removed from pandas in a future version. Use pandas.concat instead.\n",
      "  latlong_df = latlong_df.append({'address': address, 'etHash': etHash,'bucket_id': bucket_id}, ignore_index=True)\n"
     ]
    },
    {
     "name": "stdout",
     "output_type": "stream",
     "text": [
      "NZWyTaCWTLGTr5uz5 3200 BUSH ST\n",
      "RALEIGH NC  27609\n",
      "USA\n",
      "79\n"
     ]
    },
    {
     "name": "stderr",
     "output_type": "stream",
     "text": [
      "/tmp/ipykernel_198110/2077245259.py:28: FutureWarning: The frame.append method is deprecated and will be removed from pandas in a future version. Use pandas.concat instead.\n",
      "  latlong_df = latlong_df.append({'address': address, 'etHash': etHash,'bucket_id': bucket_id}, ignore_index=True)\n"
     ]
    },
    {
     "name": "stdout",
     "output_type": "stream",
     "text": [
      "ZR7PxytAWRAEvgmjK 6600 LOUISBURG RD\n",
      "RALEIGH NC  27616\n",
      "USA\n",
      "80\n"
     ]
    },
    {
     "name": "stderr",
     "output_type": "stream",
     "text": [
      "/tmp/ipykernel_198110/2077245259.py:28: FutureWarning: The frame.append method is deprecated and will be removed from pandas in a future version. Use pandas.concat instead.\n",
      "  latlong_df = latlong_df.append({'address': address, 'etHash': etHash,'bucket_id': bucket_id}, ignore_index=True)\n"
     ]
    },
    {
     "name": "stdout",
     "output_type": "stream",
     "text": [
      "cZ82iMqnCf7L3x6DY 2901 HOLSTON LN\n",
      "RALEIGH NC  27610\n",
      "USA\n",
      "81\n"
     ]
    },
    {
     "name": "stderr",
     "output_type": "stream",
     "text": [
      "/tmp/ipykernel_198110/2077245259.py:28: FutureWarning: The frame.append method is deprecated and will be removed from pandas in a future version. Use pandas.concat instead.\n",
      "  latlong_df = latlong_df.append({'address': address, 'etHash': etHash,'bucket_id': bucket_id}, ignore_index=True)\n"
     ]
    },
    {
     "name": "stdout",
     "output_type": "stream",
     "text": [
      "EjTDvZeeu25dNqhtZ 321 CHAPANOKE RD\n",
      "RALEIGH NC  27603\n",
      "USA\n",
      "82\n"
     ]
    },
    {
     "name": "stderr",
     "output_type": "stream",
     "text": [
      "/tmp/ipykernel_198110/2077245259.py:28: FutureWarning: The frame.append method is deprecated and will be removed from pandas in a future version. Use pandas.concat instead.\n",
      "  latlong_df = latlong_df.append({'address': address, 'etHash': etHash,'bucket_id': bucket_id}, ignore_index=True)\n"
     ]
    },
    {
     "name": "stdout",
     "output_type": "stream",
     "text": [
      "QZMLeH8ygF2FmAJx9 433 KNOWLEDGE DR\n",
      "MORRISVILLE NC  27560\n",
      "USA\n",
      "83\n"
     ]
    },
    {
     "name": "stderr",
     "output_type": "stream",
     "text": [
      "/tmp/ipykernel_198110/2077245259.py:28: FutureWarning: The frame.append method is deprecated and will be removed from pandas in a future version. Use pandas.concat instead.\n",
      "  latlong_df = latlong_df.append({'address': address, 'etHash': etHash,'bucket_id': bucket_id}, ignore_index=True)\n"
     ]
    },
    {
     "name": "stdout",
     "output_type": "stream",
     "text": [
      "9nGwbaWG8fXc2GG79 3246 COMMONWEALTH AVE\n",
      "CHARLOTTE NC  28205\n",
      "USA\n",
      "84\n"
     ]
    },
    {
     "name": "stderr",
     "output_type": "stream",
     "text": [
      "/tmp/ipykernel_198110/2077245259.py:28: FutureWarning: The frame.append method is deprecated and will be removed from pandas in a future version. Use pandas.concat instead.\n",
      "  latlong_df = latlong_df.append({'address': address, 'etHash': etHash,'bucket_id': bucket_id}, ignore_index=True)\n"
     ]
    },
    {
     "name": "stdout",
     "output_type": "stream",
     "text": [
      "QgawdT62ZkFxSzksg 2800 CAMPUS RIDGE RD\n",
      "MATTHEWS NC  28105\n",
      "USA\n",
      "85\n"
     ]
    },
    {
     "name": "stderr",
     "output_type": "stream",
     "text": [
      "/tmp/ipykernel_198110/2077245259.py:28: FutureWarning: The frame.append method is deprecated and will be removed from pandas in a future version. Use pandas.concat instead.\n",
      "  latlong_df = latlong_df.append({'address': address, 'etHash': etHash,'bucket_id': bucket_id}, ignore_index=True)\n"
     ]
    },
    {
     "name": "stdout",
     "output_type": "stream",
     "text": [
      "gET87pAep3zmkoZ8J 11930 VERHOEFF DR\n",
      "HUNTERSVILLE NC  28078\n",
      "USA\n",
      "86\n"
     ]
    },
    {
     "name": "stderr",
     "output_type": "stream",
     "text": [
      "/tmp/ipykernel_198110/2077245259.py:28: FutureWarning: The frame.append method is deprecated and will be removed from pandas in a future version. Use pandas.concat instead.\n",
      "  latlong_df = latlong_df.append({'address': address, 'etHash': etHash,'bucket_id': bucket_id}, ignore_index=True)\n"
     ]
    },
    {
     "name": "stdout",
     "output_type": "stream",
     "text": [
      "qC5SpWfhE57qnttX4 3210 CPCC HARRIS CAMPUS DR\n",
      "CHARLOTTE NC  28208\n",
      "USA\n",
      "87\n"
     ]
    },
    {
     "name": "stderr",
     "output_type": "stream",
     "text": [
      "/tmp/ipykernel_198110/2077245259.py:28: FutureWarning: The frame.append method is deprecated and will be removed from pandas in a future version. Use pandas.concat instead.\n",
      "  latlong_df = latlong_df.append({'address': address, 'etHash': etHash,'bucket_id': bucket_id}, ignore_index=True)\n"
     ]
    },
    {
     "name": "stdout",
     "output_type": "stream",
     "text": [
      "QvGLFwD5ukGNfQZJY 315 W HEBRON ST\n",
      "CHARLOTTE NC  28273\n",
      "USA\n",
      "88\n"
     ]
    },
    {
     "name": "stderr",
     "output_type": "stream",
     "text": [
      "/tmp/ipykernel_198110/2077245259.py:28: FutureWarning: The frame.append method is deprecated and will be removed from pandas in a future version. Use pandas.concat instead.\n",
      "  latlong_df = latlong_df.append({'address': address, 'etHash': etHash,'bucket_id': bucket_id}, ignore_index=True)\n"
     ]
    },
    {
     "name": "stdout",
     "output_type": "stream",
     "text": [
      "bvF2FTnbEWnpHXuND 1609 ALLEGHANY ST\n",
      "CHARLOTTE NC  28208\n",
      "USA\n",
      "89\n"
     ]
    },
    {
     "name": "stderr",
     "output_type": "stream",
     "text": [
      "/tmp/ipykernel_198110/2077245259.py:28: FutureWarning: The frame.append method is deprecated and will be removed from pandas in a future version. Use pandas.concat instead.\n",
      "  latlong_df = latlong_df.append({'address': address, 'etHash': etHash,'bucket_id': bucket_id}, ignore_index=True)\n"
     ]
    },
    {
     "name": "stdout",
     "output_type": "stream",
     "text": [
      "HGowErDPW6wiNDbCj 1202 ELIZABETH AVE\n",
      "CHARLOTTE NC  28204\n",
      "USA\n",
      "90\n"
     ]
    },
    {
     "name": "stderr",
     "output_type": "stream",
     "text": [
      "/tmp/ipykernel_198110/2077245259.py:28: FutureWarning: The frame.append method is deprecated and will be removed from pandas in a future version. Use pandas.concat instead.\n",
      "  latlong_df = latlong_df.append({'address': address, 'etHash': etHash,'bucket_id': bucket_id}, ignore_index=True)\n"
     ]
    },
    {
     "name": "stdout",
     "output_type": "stream",
     "text": [
      "xug3NSMgme3YXyynp 8120 GRIER RD\n",
      "CHARLOTTE NC  28215\n",
      "USA\n",
      "91\n"
     ]
    },
    {
     "name": "stderr",
     "output_type": "stream",
     "text": [
      "/tmp/ipykernel_198110/2077245259.py:28: FutureWarning: The frame.append method is deprecated and will be removed from pandas in a future version. Use pandas.concat instead.\n",
      "  latlong_df = latlong_df.append({'address': address, 'etHash': etHash,'bucket_id': bucket_id}, ignore_index=True)\n"
     ]
    },
    {
     "name": "stdout",
     "output_type": "stream",
     "text": [
      "Jvke4esLfXHXd4ePd 278 DEVERS ST\n",
      "FAYETTEVILLE NC  28303\n",
      "USA\n",
      "92\n"
     ]
    },
    {
     "name": "stderr",
     "output_type": "stream",
     "text": [
      "/tmp/ipykernel_198110/2077245259.py:28: FutureWarning: The frame.append method is deprecated and will be removed from pandas in a future version. Use pandas.concat instead.\n",
      "  latlong_df = latlong_df.append({'address': address, 'etHash': etHash,'bucket_id': bucket_id}, ignore_index=True)\n"
     ]
    },
    {
     "name": "stdout",
     "output_type": "stream",
     "text": [
      "hjrkWN9TYtYM3zd4n 1581 METROPOLITAN PKWY SW\n",
      "ATLANTA GA  30310\n",
      "USA\n",
      "93\n"
     ]
    },
    {
     "name": "stderr",
     "output_type": "stream",
     "text": [
      "/tmp/ipykernel_198110/2077245259.py:28: FutureWarning: The frame.append method is deprecated and will be removed from pandas in a future version. Use pandas.concat instead.\n",
      "  latlong_df = latlong_df.append({'address': address, 'etHash': etHash,'bucket_id': bucket_id}, ignore_index=True)\n"
     ]
    },
    {
     "name": "stdout",
     "output_type": "stream",
     "text": [
      "Fdz9wcCB4BpR8Foxv 900 SANDTOWN RD SW\n",
      "MARIETTA GA  30008\n",
      "USA\n",
      "94\n"
     ]
    },
    {
     "name": "stderr",
     "output_type": "stream",
     "text": [
      "/tmp/ipykernel_198110/2077245259.py:28: FutureWarning: The frame.append method is deprecated and will be removed from pandas in a future version. Use pandas.concat instead.\n",
      "  latlong_df = latlong_df.append({'address': address, 'etHash': etHash,'bucket_id': bucket_id}, ignore_index=True)\n"
     ]
    },
    {
     "name": "stdout",
     "output_type": "stream",
     "text": [
      "fFuZoXTonFMv3Atpd 495 N INDIAN CREEK DR\n",
      "CLARKSTON GA  30021\n",
      "USA\n",
      "95\n"
     ]
    },
    {
     "name": "stderr",
     "output_type": "stream",
     "text": [
      "/tmp/ipykernel_198110/2077245259.py:28: FutureWarning: The frame.append method is deprecated and will be removed from pandas in a future version. Use pandas.concat instead.\n",
      "  latlong_df = latlong_df.append({'address': address, 'etHash': etHash,'bucket_id': bucket_id}, ignore_index=True)\n"
     ]
    },
    {
     "name": "stdout",
     "output_type": "stream",
     "text": [
      "wpNJqaLJ9jExP8sGm 5150 SUGARLOAF PKWY\n",
      "LAWRENCEVILLE GA  30043\n",
      "USA\n",
      "96\n"
     ]
    },
    {
     "name": "stderr",
     "output_type": "stream",
     "text": [
      "/tmp/ipykernel_198110/2077245259.py:28: FutureWarning: The frame.append method is deprecated and will be removed from pandas in a future version. Use pandas.concat instead.\n",
      "  latlong_df = latlong_df.append({'address': address, 'etHash': etHash,'bucket_id': bucket_id}, ignore_index=True)\n"
     ]
    },
    {
     "name": "stdout",
     "output_type": "stream",
     "text": [
      "dkp2dCt6PRBXtJzSc 1800 CENTURY PL NE\n",
      "CHAMBLEE GA  30345\n",
      "USA\n",
      "97\n"
     ]
    },
    {
     "name": "stderr",
     "output_type": "stream",
     "text": [
      "/tmp/ipykernel_198110/2077245259.py:28: FutureWarning: The frame.append method is deprecated and will be removed from pandas in a future version. Use pandas.concat instead.\n",
      "  latlong_df = latlong_df.append({'address': address, 'etHash': etHash,'bucket_id': bucket_id}, ignore_index=True)\n"
     ]
    },
    {
     "name": "stdout",
     "output_type": "stream",
     "text": [
      "kRE2YhyDm2gA3MtaB 861 NEW JERSEY AVE SE\n",
      "WASHINGTON DC  20003\n",
      "USA\n",
      "98\n"
     ]
    },
    {
     "name": "stderr",
     "output_type": "stream",
     "text": [
      "/tmp/ipykernel_198110/2077245259.py:28: FutureWarning: The frame.append method is deprecated and will be removed from pandas in a future version. Use pandas.concat instead.\n",
      "  latlong_df = latlong_df.append({'address': address, 'etHash': etHash,'bucket_id': bucket_id}, ignore_index=True)\n"
     ]
    },
    {
     "name": "stdout",
     "output_type": "stream",
     "text": [
      "2ZvG5ebSSJocfDxLu 2024 S HIGHWAY 53\n",
      "LA GRANGE KY  40031\n",
      "USA\n",
      "99\n"
     ]
    },
    {
     "name": "stderr",
     "output_type": "stream",
     "text": [
      "/tmp/ipykernel_198110/2077245259.py:28: FutureWarning: The frame.append method is deprecated and will be removed from pandas in a future version. Use pandas.concat instead.\n",
      "  latlong_df = latlong_df.append({'address': address, 'etHash': etHash,'bucket_id': bucket_id}, ignore_index=True)\n"
     ]
    },
    {
     "name": "stdout",
     "output_type": "stream",
     "text": [
      "26Si2uhygeyu5aJ4y 522 W 3RD ST S\n",
      "TULSA OK  74103\n",
      "USA\n",
      "100\n"
     ]
    },
    {
     "name": "stderr",
     "output_type": "stream",
     "text": [
      "/tmp/ipykernel_198110/2077245259.py:28: FutureWarning: The frame.append method is deprecated and will be removed from pandas in a future version. Use pandas.concat instead.\n",
      "  latlong_df = latlong_df.append({'address': address, 'etHash': etHash,'bucket_id': bucket_id}, ignore_index=True)\n"
     ]
    },
    {
     "name": "stdout",
     "output_type": "stream",
     "text": [
      "vjsLna8BrG7q6Zdbe 1510 E PERSHING BLVD\n",
      "CHEYENNE WY  82001\n",
      "USA\n",
      "101\n"
     ]
    },
    {
     "name": "stderr",
     "output_type": "stream",
     "text": [
      "/tmp/ipykernel_198110/2077245259.py:28: FutureWarning: The frame.append method is deprecated and will be removed from pandas in a future version. Use pandas.concat instead.\n",
      "  latlong_df = latlong_df.append({'address': address, 'etHash': etHash,'bucket_id': bucket_id}, ignore_index=True)\n"
     ]
    },
    {
     "name": "stdout",
     "output_type": "stream",
     "text": [
      "m7Dc8p9mDjF9yQQY6 3617 E LINCOLNWAY\n",
      "CHEYENNE WY  82001\n",
      "USA\n",
      "102\n"
     ]
    },
    {
     "name": "stderr",
     "output_type": "stream",
     "text": [
      "/tmp/ipykernel_198110/2077245259.py:28: FutureWarning: The frame.append method is deprecated and will be removed from pandas in a future version. Use pandas.concat instead.\n",
      "  latlong_df = latlong_df.append({'address': address, 'etHash': etHash,'bucket_id': bucket_id}, ignore_index=True)\n"
     ]
    },
    {
     "name": "stdout",
     "output_type": "stream",
     "text": [
      "S6CWjacjC5Qgh8eht 726 NE 2ND AVE\n",
      "FORT LAUDERDALE FL  33304\n",
      "USA\n",
      "103\n"
     ]
    },
    {
     "name": "stderr",
     "output_type": "stream",
     "text": [
      "/tmp/ipykernel_198110/2077245259.py:28: FutureWarning: The frame.append method is deprecated and will be removed from pandas in a future version. Use pandas.concat instead.\n",
      "  latlong_df = latlong_df.append({'address': address, 'etHash': etHash,'bucket_id': bucket_id}, ignore_index=True)\n"
     ]
    },
    {
     "name": "stdout",
     "output_type": "stream",
     "text": [
      "g8C5MrYe9fMY9ybjp 236 N FEDERAL HWY\n",
      "DANIA BEACH FL  33004\n",
      "USA\n",
      "104\n"
     ]
    },
    {
     "name": "stderr",
     "output_type": "stream",
     "text": [
      "/tmp/ipykernel_198110/2077245259.py:28: FutureWarning: The frame.append method is deprecated and will be removed from pandas in a future version. Use pandas.concat instead.\n",
      "  latlong_df = latlong_df.append({'address': address, 'etHash': etHash,'bucket_id': bucket_id}, ignore_index=True)\n"
     ]
    },
    {
     "name": "stdout",
     "output_type": "stream",
     "text": [
      "chapts7LyN2PW2BdQ 726 NE 2ND AVE\n",
      "FORT LAUDERDALE FL  33304\n",
      "USA\n",
      "105\n"
     ]
    },
    {
     "name": "stderr",
     "output_type": "stream",
     "text": [
      "/tmp/ipykernel_198110/2077245259.py:28: FutureWarning: The frame.append method is deprecated and will be removed from pandas in a future version. Use pandas.concat instead.\n",
      "  latlong_df = latlong_df.append({'address': address, 'etHash': etHash,'bucket_id': bucket_id}, ignore_index=True)\n"
     ]
    },
    {
     "name": "stdout",
     "output_type": "stream",
     "text": [
      "sKBckWm63tYZuke8c 200 SW 6TH ST\n",
      "FORT LAUDERDALE FL  33301\n",
      "USA\n",
      "106\n"
     ]
    },
    {
     "name": "stderr",
     "output_type": "stream",
     "text": [
      "/tmp/ipykernel_198110/2077245259.py:28: FutureWarning: The frame.append method is deprecated and will be removed from pandas in a future version. Use pandas.concat instead.\n",
      "  latlong_df = latlong_df.append({'address': address, 'etHash': etHash,'bucket_id': bucket_id}, ignore_index=True)\n"
     ]
    },
    {
     "name": "stdout",
     "output_type": "stream",
     "text": [
      "pYA5oySuapBdmk236 1400 MARKET ST\n",
      "SAINT LOUIS MO  63103\n",
      "USA\n",
      "107\n"
     ]
    },
    {
     "name": "stderr",
     "output_type": "stream",
     "text": [
      "/tmp/ipykernel_198110/2077245259.py:28: FutureWarning: The frame.append method is deprecated and will be removed from pandas in a future version. Use pandas.concat instead.\n",
      "  latlong_df = latlong_df.append({'address': address, 'etHash': etHash,'bucket_id': bucket_id}, ignore_index=True)\n"
     ]
    },
    {
     "name": "stdout",
     "output_type": "stream",
     "text": [
      "YavpAbAw9TbxjBTxu 24 GOLDEN ROD CIR\n",
      "SANTA ROSA BEACH FL  32459\n",
      "USA\n",
      "108\n",
      "5QkEeyhvJf3ZKCrHn 111 W WASHINGTON ST\n",
      "LOUISVILLE KY  40202\n",
      "USA\n",
      "109\n"
     ]
    },
    {
     "name": "stderr",
     "output_type": "stream",
     "text": [
      "/tmp/ipykernel_198110/2077245259.py:28: FutureWarning: The frame.append method is deprecated and will be removed from pandas in a future version. Use pandas.concat instead.\n",
      "  latlong_df = latlong_df.append({'address': address, 'etHash': etHash,'bucket_id': bucket_id}, ignore_index=True)\n",
      "/tmp/ipykernel_198110/2077245259.py:28: FutureWarning: The frame.append method is deprecated and will be removed from pandas in a future version. Use pandas.concat instead.\n",
      "  latlong_df = latlong_df.append({'address': address, 'etHash': etHash,'bucket_id': bucket_id}, ignore_index=True)\n"
     ]
    },
    {
     "name": "stdout",
     "output_type": "stream",
     "text": [
      "iTctqYY7b2XBgf7Ft 4 N BEACH ST\n",
      "ORMOND BEACH FL  32174\n",
      "USA\n",
      "110\n"
     ]
    },
    {
     "name": "stderr",
     "output_type": "stream",
     "text": [
      "/tmp/ipykernel_198110/2077245259.py:28: FutureWarning: The frame.append method is deprecated and will be removed from pandas in a future version. Use pandas.concat instead.\n",
      "  latlong_df = latlong_df.append({'address': address, 'etHash': etHash,'bucket_id': bucket_id}, ignore_index=True)\n"
     ]
    },
    {
     "name": "stdout",
     "output_type": "stream",
     "text": [
      "XjfifZpkADW9uR8qt 1000 H ST NW\n",
      "WASHINGTON DC  20001\n",
      "USA\n",
      "111\n"
     ]
    },
    {
     "name": "stderr",
     "output_type": "stream",
     "text": [
      "/tmp/ipykernel_198110/2077245259.py:28: FutureWarning: The frame.append method is deprecated and will be removed from pandas in a future version. Use pandas.concat instead.\n",
      "  latlong_df = latlong_df.append({'address': address, 'etHash': etHash,'bucket_id': bucket_id}, ignore_index=True)\n"
     ]
    },
    {
     "name": "stdout",
     "output_type": "stream",
     "text": [
      "ndr6Fo2DhS4dQAbxZ 801 MOUNT VERNON PL NW\n",
      "WASHINGTON DC  20001\n",
      "USA\n",
      "112\n"
     ]
    },
    {
     "name": "stderr",
     "output_type": "stream",
     "text": [
      "/tmp/ipykernel_198110/2077245259.py:28: FutureWarning: The frame.append method is deprecated and will be removed from pandas in a future version. Use pandas.concat instead.\n",
      "  latlong_df = latlong_df.append({'address': address, 'etHash': etHash,'bucket_id': bucket_id}, ignore_index=True)\n"
     ]
    },
    {
     "name": "stdout",
     "output_type": "stream",
     "text": [
      "xEjwBa6PhJtRKAjR9 216 GREENFIELD RD\n",
      "LANCASTER PA  17601\n",
      "USA\n",
      "113\n"
     ]
    },
    {
     "name": "stderr",
     "output_type": "stream",
     "text": [
      "/tmp/ipykernel_198110/2077245259.py:28: FutureWarning: The frame.append method is deprecated and will be removed from pandas in a future version. Use pandas.concat instead.\n",
      "  latlong_df = latlong_df.append({'address': address, 'etHash': etHash,'bucket_id': bucket_id}, ignore_index=True)\n"
     ]
    },
    {
     "name": "stdout",
     "output_type": "stream",
     "text": [
      "MBBoym58qDWet9A5s 25 W CHRISTMAS BLVD\n",
      "SANTA CLAUS IN  47579\n",
      "USA\n",
      "114\n"
     ]
    },
    {
     "name": "stderr",
     "output_type": "stream",
     "text": [
      "/tmp/ipykernel_198110/2077245259.py:28: FutureWarning: The frame.append method is deprecated and will be removed from pandas in a future version. Use pandas.concat instead.\n",
      "  latlong_df = latlong_df.append({'address': address, 'etHash': etHash,'bucket_id': bucket_id}, ignore_index=True)\n"
     ]
    },
    {
     "name": "stdout",
     "output_type": "stream",
     "text": [
      "PxziaWdZpi8Lot5dD 3500 FREDERICA ST\n",
      "OWENSBORO KY  42301\n",
      "USA\n",
      "115\n"
     ]
    },
    {
     "name": "stderr",
     "output_type": "stream",
     "text": [
      "/tmp/ipykernel_198110/2077245259.py:28: FutureWarning: The frame.append method is deprecated and will be removed from pandas in a future version. Use pandas.concat instead.\n",
      "  latlong_df = latlong_df.append({'address': address, 'etHash': etHash,'bucket_id': bucket_id}, ignore_index=True)\n"
     ]
    },
    {
     "name": "stdout",
     "output_type": "stream",
     "text": [
      "ourczLiuW6tFJFNDk 111 W WASHINGTON ST\n",
      "LOUISVILLE KY  40202\n",
      "USA\n",
      "116\n"
     ]
    },
    {
     "name": "stderr",
     "output_type": "stream",
     "text": [
      "/tmp/ipykernel_198110/2077245259.py:28: FutureWarning: The frame.append method is deprecated and will be removed from pandas in a future version. Use pandas.concat instead.\n",
      "  latlong_df = latlong_df.append({'address': address, 'etHash': etHash,'bucket_id': bucket_id}, ignore_index=True)\n"
     ]
    },
    {
     "name": "stdout",
     "output_type": "stream",
     "text": [
      "ft9Nq8WuhJSdSTDfT 111 W WASHINGTON ST\n",
      "LOUISVILLE KY  40202\n",
      "USA\n",
      "117\n"
     ]
    },
    {
     "name": "stderr",
     "output_type": "stream",
     "text": [
      "/tmp/ipykernel_198110/2077245259.py:28: FutureWarning: The frame.append method is deprecated and will be removed from pandas in a future version. Use pandas.concat instead.\n",
      "  latlong_df = latlong_df.append({'address': address, 'etHash': etHash,'bucket_id': bucket_id}, ignore_index=True)\n"
     ]
    },
    {
     "name": "stdout",
     "output_type": "stream",
     "text": [
      "uxR4BswsujM5iNx27 225 CANAL ST\n",
      "PUEBLO CO  81004\n",
      "USA\n",
      "118\n"
     ]
    },
    {
     "name": "stderr",
     "output_type": "stream",
     "text": [
      "/tmp/ipykernel_198110/2077245259.py:28: FutureWarning: The frame.append method is deprecated and will be removed from pandas in a future version. Use pandas.concat instead.\n",
      "  latlong_df = latlong_df.append({'address': address, 'etHash': etHash,'bucket_id': bucket_id}, ignore_index=True)\n"
     ]
    },
    {
     "name": "stdout",
     "output_type": "stream",
     "text": [
      "wE3ytSqFoAgzBF9ur 250 MARIETTA ST NW\n",
      "ATLANTA GA  30313\n",
      "USA\n",
      "119\n"
     ]
    },
    {
     "name": "stderr",
     "output_type": "stream",
     "text": [
      "/tmp/ipykernel_198110/2077245259.py:28: FutureWarning: The frame.append method is deprecated and will be removed from pandas in a future version. Use pandas.concat instead.\n",
      "  latlong_df = latlong_df.append({'address': address, 'etHash': etHash,'bucket_id': bucket_id}, ignore_index=True)\n"
     ]
    },
    {
     "name": "stdout",
     "output_type": "stream",
     "text": [
      "9g4wrrBzjyPATCLMP \n",
      "WASHINGTON DC  20002\n",
      "USA\n",
      "120\n"
     ]
    },
    {
     "name": "stderr",
     "output_type": "stream",
     "text": [
      "/tmp/ipykernel_198110/2077245259.py:28: FutureWarning: The frame.append method is deprecated and will be removed from pandas in a future version. Use pandas.concat instead.\n",
      "  latlong_df = latlong_df.append({'address': address, 'etHash': etHash,'bucket_id': bucket_id}, ignore_index=True)\n"
     ]
    },
    {
     "name": "stdout",
     "output_type": "stream",
     "text": [
      "CXaXXXqc8n9hoXBD5 700 CAPITAL AVE\n",
      "FRANKFORT KY  40601\n",
      "USA\n",
      "121\n"
     ]
    },
    {
     "name": "stderr",
     "output_type": "stream",
     "text": [
      "/tmp/ipykernel_198110/2077245259.py:28: FutureWarning: The frame.append method is deprecated and will be removed from pandas in a future version. Use pandas.concat instead.\n",
      "  latlong_df = latlong_df.append({'address': address, 'etHash': etHash,'bucket_id': bucket_id}, ignore_index=True)\n"
     ]
    },
    {
     "name": "stdout",
     "output_type": "stream",
     "text": [
      "d6YogxSFhS2thzedb 1 W MIFFLIN ST\n",
      "MADISON WI  53703\n",
      "USA\n",
      "122\n"
     ]
    },
    {
     "name": "stderr",
     "output_type": "stream",
     "text": [
      "/tmp/ipykernel_198110/2077245259.py:28: FutureWarning: The frame.append method is deprecated and will be removed from pandas in a future version. Use pandas.concat instead.\n",
      "  latlong_df = latlong_df.append({'address': address, 'etHash': etHash,'bucket_id': bucket_id}, ignore_index=True)\n"
     ]
    },
    {
     "name": "stdout",
     "output_type": "stream",
     "text": [
      "CfLh8HNFRmkFWNoYH \n",
      "WASHINGTON DC  20002\n",
      "USA\n",
      "123\n"
     ]
    },
    {
     "name": "stderr",
     "output_type": "stream",
     "text": [
      "/tmp/ipykernel_198110/2077245259.py:28: FutureWarning: The frame.append method is deprecated and will be removed from pandas in a future version. Use pandas.concat instead.\n",
      "  latlong_df = latlong_df.append({'address': address, 'etHash': etHash,'bucket_id': bucket_id}, ignore_index=True)\n"
     ]
    },
    {
     "name": "stdout",
     "output_type": "stream",
     "text": [
      "gjfWpkr5Ju6i6tBk4 100 S CAPITOL AVE\n",
      "LANSING MI  48933\n",
      "USA\n",
      "124\n"
     ]
    },
    {
     "name": "stderr",
     "output_type": "stream",
     "text": [
      "/tmp/ipykernel_198110/2077245259.py:28: FutureWarning: The frame.append method is deprecated and will be removed from pandas in a future version. Use pandas.concat instead.\n",
      "  latlong_df = latlong_df.append({'address': address, 'etHash': etHash,'bucket_id': bucket_id}, ignore_index=True)\n"
     ]
    },
    {
     "name": "stdout",
     "output_type": "stream",
     "text": [
      "9bc6PQXgnTbj5Q8Te 117 W STATE ST\n",
      "TRENTON NJ  08608\n",
      "USA\n",
      "125\n"
     ]
    },
    {
     "name": "stderr",
     "output_type": "stream",
     "text": [
      "/tmp/ipykernel_198110/2077245259.py:28: FutureWarning: The frame.append method is deprecated and will be removed from pandas in a future version. Use pandas.concat instead.\n",
      "  latlong_df = latlong_df.append({'address': address, 'etHash': etHash,'bucket_id': bucket_id}, ignore_index=True)\n"
     ]
    },
    {
     "name": "stdout",
     "output_type": "stream",
     "text": [
      "G8beDmLXK6aa7Ypf4 401 S 2ND ST\n",
      "SPRINGFIELD IL  62701\n",
      "USA\n",
      "126\n"
     ]
    },
    {
     "name": "stderr",
     "output_type": "stream",
     "text": [
      "/tmp/ipykernel_198110/2077245259.py:28: FutureWarning: The frame.append method is deprecated and will be removed from pandas in a future version. Use pandas.concat instead.\n",
      "  latlong_df = latlong_df.append({'address': address, 'etHash': etHash,'bucket_id': bucket_id}, ignore_index=True)\n"
     ]
    },
    {
     "name": "stdout",
     "output_type": "stream",
     "text": [
      "Xk7rC6Q5Z8XDSLo9T 1021 O ST\n",
      "SACRAMENTO CA  95814\n",
      "USA\n",
      "127\n"
     ]
    },
    {
     "name": "stderr",
     "output_type": "stream",
     "text": [
      "/tmp/ipykernel_198110/2077245259.py:28: FutureWarning: The frame.append method is deprecated and will be removed from pandas in a future version. Use pandas.concat instead.\n",
      "  latlong_df = latlong_df.append({'address': address, 'etHash': etHash,'bucket_id': bucket_id}, ignore_index=True)\n"
     ]
    },
    {
     "name": "stdout",
     "output_type": "stream",
     "text": [
      "mv98FxweEcMRbPi7j 64 EAGLE ST\n",
      "ALBANY NY  12207\n",
      "USA\n",
      "128\n"
     ]
    },
    {
     "name": "stderr",
     "output_type": "stream",
     "text": [
      "/tmp/ipykernel_198110/2077245259.py:28: FutureWarning: The frame.append method is deprecated and will be removed from pandas in a future version. Use pandas.concat instead.\n",
      "  latlong_df = latlong_df.append({'address': address, 'etHash': etHash,'bucket_id': bucket_id}, ignore_index=True)\n"
     ]
    },
    {
     "name": "stdout",
     "output_type": "stream",
     "text": [
      "j9S2k3GPXHNSqNRBn 500 N 3RD ST\n",
      "HARRISBURG PA  17101\n",
      "USA\n",
      "129\n"
     ]
    },
    {
     "name": "stderr",
     "output_type": "stream",
     "text": [
      "/tmp/ipykernel_198110/2077245259.py:28: FutureWarning: The frame.append method is deprecated and will be removed from pandas in a future version. Use pandas.concat instead.\n",
      "  latlong_df = latlong_df.append({'address': address, 'etHash': etHash,'bucket_id': bucket_id}, ignore_index=True)\n"
     ]
    },
    {
     "name": "stdout",
     "output_type": "stream",
     "text": [
      "ojbHnELgARk3iHRWf 1 E EDENTON ST\n",
      "RALEIGH NC  27601\n",
      "USA\n",
      "130\n"
     ]
    },
    {
     "name": "stderr",
     "output_type": "stream",
     "text": [
      "/tmp/ipykernel_198110/2077245259.py:28: FutureWarning: The frame.append method is deprecated and will be removed from pandas in a future version. Use pandas.concat instead.\n",
      "  latlong_df = latlong_df.append({'address': address, 'etHash': etHash,'bucket_id': bucket_id}, ignore_index=True)\n"
     ]
    },
    {
     "name": "stdout",
     "output_type": "stream",
     "text": [
      "n8ebirsHR4CS999ww 1021 O ST\n",
      "SACRAMENTO CA  95814\n",
      "USA\n",
      "131\n"
     ]
    },
    {
     "name": "stderr",
     "output_type": "stream",
     "text": [
      "/tmp/ipykernel_198110/2077245259.py:28: FutureWarning: The frame.append method is deprecated and will be removed from pandas in a future version. Use pandas.concat instead.\n",
      "  latlong_df = latlong_df.append({'address': address, 'etHash': etHash,'bucket_id': bucket_id}, ignore_index=True)\n"
     ]
    },
    {
     "name": "stdout",
     "output_type": "stream",
     "text": [
      "Kq4bwfrqmrDcJNn8g 401 S 2ND ST\n",
      "SPRINGFIELD IL  62701\n",
      "USA\n",
      "132\n"
     ]
    },
    {
     "name": "stderr",
     "output_type": "stream",
     "text": [
      "/tmp/ipykernel_198110/2077245259.py:28: FutureWarning: The frame.append method is deprecated and will be removed from pandas in a future version. Use pandas.concat instead.\n",
      "  latlong_df = latlong_df.append({'address': address, 'etHash': etHash,'bucket_id': bucket_id}, ignore_index=True)\n"
     ]
    },
    {
     "name": "stdout",
     "output_type": "stream",
     "text": [
      "BepRf2YYw8ghKcuAp 117 W STATE ST\n",
      "TRENTON NJ  08608\n",
      "USA\n",
      "133\n"
     ]
    },
    {
     "name": "stderr",
     "output_type": "stream",
     "text": [
      "/tmp/ipykernel_198110/2077245259.py:28: FutureWarning: The frame.append method is deprecated and will be removed from pandas in a future version. Use pandas.concat instead.\n",
      "  latlong_df = latlong_df.append({'address': address, 'etHash': etHash,'bucket_id': bucket_id}, ignore_index=True)\n"
     ]
    },
    {
     "name": "stdout",
     "output_type": "stream",
     "text": [
      "8YGk8LbxRkqdr72zZ 1256 WHISTLING SWAN DR\n",
      "FOREST VA  24551\n",
      "USA\n",
      "134\n"
     ]
    },
    {
     "name": "stderr",
     "output_type": "stream",
     "text": [
      "/tmp/ipykernel_198110/2077245259.py:28: FutureWarning: The frame.append method is deprecated and will be removed from pandas in a future version. Use pandas.concat instead.\n",
      "  latlong_df = latlong_df.append({'address': address, 'etHash': etHash,'bucket_id': bucket_id}, ignore_index=True)\n"
     ]
    },
    {
     "name": "stdout",
     "output_type": "stream",
     "text": [
      "q9xyrgqGMT6vXJsmZ 1919 CONNECTICUT AVE NW\n",
      "WASHINGTON DC  20009\n",
      "USA\n",
      "135\n"
     ]
    },
    {
     "name": "stderr",
     "output_type": "stream",
     "text": [
      "/tmp/ipykernel_198110/2077245259.py:28: FutureWarning: The frame.append method is deprecated and will be removed from pandas in a future version. Use pandas.concat instead.\n",
      "  latlong_df = latlong_df.append({'address': address, 'etHash': etHash,'bucket_id': bucket_id}, ignore_index=True)\n"
     ]
    },
    {
     "name": "stdout",
     "output_type": "stream",
     "text": [
      "DtC2Nf4GgwpckhZHi 111 W WASHINGTON ST\n",
      "LOUISVILLE KY  40202\n",
      "USA\n",
      "136\n"
     ]
    },
    {
     "name": "stderr",
     "output_type": "stream",
     "text": [
      "/tmp/ipykernel_198110/2077245259.py:28: FutureWarning: The frame.append method is deprecated and will be removed from pandas in a future version. Use pandas.concat instead.\n",
      "  latlong_df = latlong_df.append({'address': address, 'etHash': etHash,'bucket_id': bucket_id}, ignore_index=True)\n"
     ]
    },
    {
     "name": "stdout",
     "output_type": "stream",
     "text": [
      "sYaKqBzXYupbaFo3d 111 W WASHINGTON ST\n",
      "LOUISVILLE KY  40202\n",
      "USA\n",
      "137\n"
     ]
    },
    {
     "name": "stderr",
     "output_type": "stream",
     "text": [
      "/tmp/ipykernel_198110/2077245259.py:28: FutureWarning: The frame.append method is deprecated and will be removed from pandas in a future version. Use pandas.concat instead.\n",
      "  latlong_df = latlong_df.append({'address': address, 'etHash': etHash,'bucket_id': bucket_id}, ignore_index=True)\n"
     ]
    },
    {
     "name": "stdout",
     "output_type": "stream",
     "text": [
      "CjM8FbDuHyxYE24iJ 209 E MARIPOSA ST\n",
      "ALTADENA CA  91001\n",
      "USA\n",
      "138\n"
     ]
    },
    {
     "name": "stderr",
     "output_type": "stream",
     "text": [
      "/tmp/ipykernel_198110/2077245259.py:28: FutureWarning: The frame.append method is deprecated and will be removed from pandas in a future version. Use pandas.concat instead.\n",
      "  latlong_df = latlong_df.append({'address': address, 'etHash': etHash,'bucket_id': bucket_id}, ignore_index=True)\n"
     ]
    },
    {
     "name": "stdout",
     "output_type": "stream",
     "text": [
      "MNZpBRkJDvLc992Kv 111 W WASHINGTON ST\n",
      "LOUISVILLE KY  40202\n",
      "USA\n",
      "139\n"
     ]
    },
    {
     "name": "stderr",
     "output_type": "stream",
     "text": [
      "/tmp/ipykernel_198110/2077245259.py:28: FutureWarning: The frame.append method is deprecated and will be removed from pandas in a future version. Use pandas.concat instead.\n",
      "  latlong_df = latlong_df.append({'address': address, 'etHash': etHash,'bucket_id': bucket_id}, ignore_index=True)\n"
     ]
    },
    {
     "name": "stdout",
     "output_type": "stream",
     "text": [
      "s4JyhtHSBBQSFKiuy 1301 E MAIN ST\n",
      "MURFREESBORO TN  37132\n",
      "USA\n",
      "140\n"
     ]
    },
    {
     "name": "stderr",
     "output_type": "stream",
     "text": [
      "/tmp/ipykernel_198110/2077245259.py:28: FutureWarning: The frame.append method is deprecated and will be removed from pandas in a future version. Use pandas.concat instead.\n",
      "  latlong_df = latlong_df.append({'address': address, 'etHash': etHash,'bucket_id': bucket_id}, ignore_index=True)\n"
     ]
    },
    {
     "name": "stdout",
     "output_type": "stream",
     "text": [
      "btMLG4SLqbfKQiiiC 900 S LAMAR ST\n",
      "DALLAS TX  75202\n",
      "USA\n",
      "141\n"
     ]
    },
    {
     "name": "stderr",
     "output_type": "stream",
     "text": [
      "/tmp/ipykernel_198110/2077245259.py:28: FutureWarning: The frame.append method is deprecated and will be removed from pandas in a future version. Use pandas.concat instead.\n",
      "  latlong_df = latlong_df.append({'address': address, 'etHash': etHash,'bucket_id': bucket_id}, ignore_index=True)\n"
     ]
    },
    {
     "name": "stdout",
     "output_type": "stream",
     "text": [
      "4HzfdffHs8sBgpt42 900 S LAMAR ST\n",
      "DALLAS TX  75202\n",
      "USA\n",
      "142\n"
     ]
    },
    {
     "name": "stderr",
     "output_type": "stream",
     "text": [
      "/tmp/ipykernel_198110/2077245259.py:28: FutureWarning: The frame.append method is deprecated and will be removed from pandas in a future version. Use pandas.concat instead.\n",
      "  latlong_df = latlong_df.append({'address': address, 'etHash': etHash,'bucket_id': bucket_id}, ignore_index=True)\n"
     ]
    },
    {
     "name": "stdout",
     "output_type": "stream",
     "text": [
      "MMG6McCxNvFXvo9sQ \n",
      "WASHINGTON DC  20002\n",
      "USA\n",
      "143\n"
     ]
    },
    {
     "name": "stderr",
     "output_type": "stream",
     "text": [
      "/tmp/ipykernel_198110/2077245259.py:28: FutureWarning: The frame.append method is deprecated and will be removed from pandas in a future version. Use pandas.concat instead.\n",
      "  latlong_df = latlong_df.append({'address': address, 'etHash': etHash,'bucket_id': bucket_id}, ignore_index=True)\n"
     ]
    },
    {
     "name": "stdout",
     "output_type": "stream",
     "text": [
      "NmXsXWmuv3XMDHLE5 \n",
      "WASHINGTON DC  20002\n",
      "USA\n",
      "144\n"
     ]
    },
    {
     "name": "stderr",
     "output_type": "stream",
     "text": [
      "/tmp/ipykernel_198110/2077245259.py:28: FutureWarning: The frame.append method is deprecated and will be removed from pandas in a future version. Use pandas.concat instead.\n",
      "  latlong_df = latlong_df.append({'address': address, 'etHash': etHash,'bucket_id': bucket_id}, ignore_index=True)\n"
     ]
    },
    {
     "name": "stdout",
     "output_type": "stream",
     "text": [
      "ymtFRdKS9XF4v63jM 900 S LAMAR ST\n",
      "DALLAS TX  75202\n",
      "USA\n",
      "145\n"
     ]
    },
    {
     "name": "stderr",
     "output_type": "stream",
     "text": [
      "/tmp/ipykernel_198110/2077245259.py:28: FutureWarning: The frame.append method is deprecated and will be removed from pandas in a future version. Use pandas.concat instead.\n",
      "  latlong_df = latlong_df.append({'address': address, 'etHash': etHash,'bucket_id': bucket_id}, ignore_index=True)\n"
     ]
    },
    {
     "name": "stdout",
     "output_type": "stream",
     "text": [
      "SaCHeRacqcqtinKzQ 122 GRANITE ST\n",
      "QUINCY MA  02169\n",
      "USA\n",
      "146\n"
     ]
    },
    {
     "name": "stderr",
     "output_type": "stream",
     "text": [
      "/tmp/ipykernel_198110/2077245259.py:28: FutureWarning: The frame.append method is deprecated and will be removed from pandas in a future version. Use pandas.concat instead.\n",
      "  latlong_df = latlong_df.append({'address': address, 'etHash': etHash,'bucket_id': bucket_id}, ignore_index=True)\n"
     ]
    },
    {
     "name": "stdout",
     "output_type": "stream",
     "text": [
      "PdL6SRcKuk6skRr6r 497 SOUTHERN ARTERY\n",
      "QUINCY MA  02169\n",
      "USA\n",
      "147\n"
     ]
    },
    {
     "name": "stderr",
     "output_type": "stream",
     "text": [
      "/tmp/ipykernel_198110/2077245259.py:28: FutureWarning: The frame.append method is deprecated and will be removed from pandas in a future version. Use pandas.concat instead.\n",
      "  latlong_df = latlong_df.append({'address': address, 'etHash': etHash,'bucket_id': bucket_id}, ignore_index=True)\n"
     ]
    },
    {
     "name": "stdout",
     "output_type": "stream",
     "text": [
      "G5CZYKLntAPxfcHeu 171 WILLARD ST\n",
      "QUINCY MA  02169\n",
      "USA\n",
      "148\n"
     ]
    },
    {
     "name": "stderr",
     "output_type": "stream",
     "text": [
      "/tmp/ipykernel_198110/2077245259.py:28: FutureWarning: The frame.append method is deprecated and will be removed from pandas in a future version. Use pandas.concat instead.\n",
      "  latlong_df = latlong_df.append({'address': address, 'etHash': etHash,'bucket_id': bucket_id}, ignore_index=True)\n"
     ]
    },
    {
     "name": "stdout",
     "output_type": "stream",
     "text": [
      "RFjqTxQjKLrx8Qd2c 200 CROWN COLONY DR\n",
      "QUINCY MA  02169\n",
      "USA\n",
      "149\n"
     ]
    },
    {
     "name": "stderr",
     "output_type": "stream",
     "text": [
      "/tmp/ipykernel_198110/2077245259.py:28: FutureWarning: The frame.append method is deprecated and will be removed from pandas in a future version. Use pandas.concat instead.\n",
      "  latlong_df = latlong_df.append({'address': address, 'etHash': etHash,'bucket_id': bucket_id}, ignore_index=True)\n"
     ]
    },
    {
     "name": "stdout",
     "output_type": "stream",
     "text": [
      "T3sTHrmtbby46rFYT 77 QUINCY AVE\n",
      "QUINCY MA  02169\n",
      "USA\n",
      "150\n"
     ]
    },
    {
     "name": "stderr",
     "output_type": "stream",
     "text": [
      "/tmp/ipykernel_198110/2077245259.py:28: FutureWarning: The frame.append method is deprecated and will be removed from pandas in a future version. Use pandas.concat instead.\n",
      "  latlong_df = latlong_df.append({'address': address, 'etHash': etHash,'bucket_id': bucket_id}, ignore_index=True)\n"
     ]
    },
    {
     "name": "stdout",
     "output_type": "stream",
     "text": [
      "ZRdFozpf6He28xE5G 101 FALLS BLVD\n",
      "QUINCY MA  02169\n",
      "USA\n",
      "151\n"
     ]
    },
    {
     "name": "stderr",
     "output_type": "stream",
     "text": [
      "/tmp/ipykernel_198110/2077245259.py:28: FutureWarning: The frame.append method is deprecated and will be removed from pandas in a future version. Use pandas.concat instead.\n",
      "  latlong_df = latlong_df.append({'address': address, 'etHash': etHash,'bucket_id': bucket_id}, ignore_index=True)\n"
     ]
    },
    {
     "name": "stdout",
     "output_type": "stream",
     "text": [
      "dpGv78Ax2X5tqGQit 231 HANCOCK ST\n",
      "QUINCY MA  02171\n",
      "USA\n",
      "152\n"
     ]
    },
    {
     "name": "stderr",
     "output_type": "stream",
     "text": [
      "/tmp/ipykernel_198110/2077245259.py:28: FutureWarning: The frame.append method is deprecated and will be removed from pandas in a future version. Use pandas.concat instead.\n",
      "  latlong_df = latlong_df.append({'address': address, 'etHash': etHash,'bucket_id': bucket_id}, ignore_index=True)\n"
     ]
    },
    {
     "name": "stdout",
     "output_type": "stream",
     "text": [
      "qeMR3iD9EAqQLJ4G8 230 QUINCY AVE\n",
      "QUINCY MA  02169\n",
      "USA\n",
      "153\n"
     ]
    },
    {
     "name": "stderr",
     "output_type": "stream",
     "text": [
      "/tmp/ipykernel_198110/2077245259.py:28: FutureWarning: The frame.append method is deprecated and will be removed from pandas in a future version. Use pandas.concat instead.\n",
      "  latlong_df = latlong_df.append({'address': address, 'etHash': etHash,'bucket_id': bucket_id}, ignore_index=True)\n"
     ]
    },
    {
     "name": "stdout",
     "output_type": "stream",
     "text": [
      "D9Sp9sAp66Mfqs5Kq 74 GRANITE ST\n",
      "QUINCY MA  02169\n",
      "USA\n",
      "154\n"
     ]
    },
    {
     "name": "stderr",
     "output_type": "stream",
     "text": [
      "/tmp/ipykernel_198110/2077245259.py:28: FutureWarning: The frame.append method is deprecated and will be removed from pandas in a future version. Use pandas.concat instead.\n",
      "  latlong_df = latlong_df.append({'address': address, 'etHash': etHash,'bucket_id': bucket_id}, ignore_index=True)\n"
     ]
    },
    {
     "name": "stdout",
     "output_type": "stream",
     "text": [
      "zAAehZw5B4JegJKRB 715 BRIDGE ST\n",
      "NORTH WEYMOUTH MA  02191\n",
      "USA\n",
      "155\n"
     ]
    },
    {
     "name": "stderr",
     "output_type": "stream",
     "text": [
      "/tmp/ipykernel_198110/2077245259.py:28: FutureWarning: The frame.append method is deprecated and will be removed from pandas in a future version. Use pandas.concat instead.\n",
      "  latlong_df = latlong_df.append({'address': address, 'etHash': etHash,'bucket_id': bucket_id}, ignore_index=True)\n"
     ]
    },
    {
     "name": "stdout",
     "output_type": "stream",
     "text": [
      "Ywxdb7ghbG6GY4AJb 740 MIDDLE ST\n",
      "WEYMOUTH MA  02188\n",
      "USA\n",
      "156\n"
     ]
    },
    {
     "name": "stderr",
     "output_type": "stream",
     "text": [
      "/tmp/ipykernel_198110/2077245259.py:28: FutureWarning: The frame.append method is deprecated and will be removed from pandas in a future version. Use pandas.concat instead.\n",
      "  latlong_df = latlong_df.append({'address': address, 'etHash': etHash,'bucket_id': bucket_id}, ignore_index=True)\n"
     ]
    },
    {
     "name": "stdout",
     "output_type": "stream",
     "text": [
      "Wto9dEhGbi9Stf9Kh 620 MIDDLE ST\n",
      "EAST WEYMOUTH MA  02189\n",
      "USA\n",
      "157\n"
     ]
    },
    {
     "name": "stderr",
     "output_type": "stream",
     "text": [
      "/tmp/ipykernel_198110/2077245259.py:28: FutureWarning: The frame.append method is deprecated and will be removed from pandas in a future version. Use pandas.concat instead.\n",
      "  latlong_df = latlong_df.append({'address': address, 'etHash': etHash,'bucket_id': bucket_id}, ignore_index=True)\n"
     ]
    },
    {
     "name": "stdout",
     "output_type": "stream",
     "text": [
      "xJ59MPvcj36DT3vhz 110 MAIN ST\n",
      "WEYMOUTH MA  02188\n",
      "USA\n",
      "158\n"
     ]
    },
    {
     "name": "stderr",
     "output_type": "stream",
     "text": [
      "/tmp/ipykernel_198110/2077245259.py:28: FutureWarning: The frame.append method is deprecated and will be removed from pandas in a future version. Use pandas.concat instead.\n",
      "  latlong_df = latlong_df.append({'address': address, 'etHash': etHash,'bucket_id': bucket_id}, ignore_index=True)\n"
     ]
    },
    {
     "name": "stdout",
     "output_type": "stream",
     "text": [
      "gtgG5sEKEw53kYgYd 779 S FRANKLIN ST # 785\n",
      "HOLBROOK MA  02343\n",
      "USA\n",
      "159\n"
     ]
    },
    {
     "name": "stderr",
     "output_type": "stream",
     "text": [
      "/tmp/ipykernel_198110/2077245259.py:28: FutureWarning: The frame.append method is deprecated and will be removed from pandas in a future version. Use pandas.concat instead.\n",
      "  latlong_df = latlong_df.append({'address': address, 'etHash': etHash,'bucket_id': bucket_id}, ignore_index=True)\n"
     ]
    },
    {
     "name": "stdout",
     "output_type": "stream",
     "text": [
      "zWaBDoFbAQa8woNGe 41 PLYMOUTH ST\n",
      "HOLBROOK MA  02343\n",
      "USA\n",
      "160\n"
     ]
    },
    {
     "name": "stderr",
     "output_type": "stream",
     "text": [
      "/tmp/ipykernel_198110/2077245259.py:28: FutureWarning: The frame.append method is deprecated and will be removed from pandas in a future version. Use pandas.concat instead.\n",
      "  latlong_df = latlong_df.append({'address': address, 'etHash': etHash,'bucket_id': bucket_id}, ignore_index=True)\n"
     ]
    },
    {
     "name": "stdout",
     "output_type": "stream",
     "text": [
      "E8SKtyyTTGit9cRXk 47 FRANKLIN ST\n",
      "QUINCY MA  02169\n",
      "USA\n",
      "161\n"
     ]
    },
    {
     "name": "stderr",
     "output_type": "stream",
     "text": [
      "/tmp/ipykernel_198110/2077245259.py:28: FutureWarning: The frame.append method is deprecated and will be removed from pandas in a future version. Use pandas.concat instead.\n",
      "  latlong_df = latlong_df.append({'address': address, 'etHash': etHash,'bucket_id': bucket_id}, ignore_index=True)\n"
     ]
    },
    {
     "name": "stdout",
     "output_type": "stream",
     "text": [
      "CDWHhPkhPdJirqjqd 30 MEMORIAL DR\n",
      "AVON MA  02322\n",
      "USA\n",
      "162\n"
     ]
    },
    {
     "name": "stderr",
     "output_type": "stream",
     "text": [
      "/tmp/ipykernel_198110/2077245259.py:28: FutureWarning: The frame.append method is deprecated and will be removed from pandas in a future version. Use pandas.concat instead.\n",
      "  latlong_df = latlong_df.append({'address': address, 'etHash': etHash,'bucket_id': bucket_id}, ignore_index=True)\n"
     ]
    },
    {
     "name": "stdout",
     "output_type": "stream",
     "text": [
      "WfdahBcih2Y7ZbRCK 79 LYNNFIELD ST\n",
      "PEABODY MA  01960\n",
      "USA\n",
      "163\n"
     ]
    },
    {
     "name": "stderr",
     "output_type": "stream",
     "text": [
      "/tmp/ipykernel_198110/2077245259.py:28: FutureWarning: The frame.append method is deprecated and will be removed from pandas in a future version. Use pandas.concat instead.\n",
      "  latlong_df = latlong_df.append({'address': address, 'etHash': etHash,'bucket_id': bucket_id}, ignore_index=True)\n"
     ]
    },
    {
     "name": "stdout",
     "output_type": "stream",
     "text": [
      "2JGZAsPgwnN9cFiqW 152 SHORE DR\n",
      "PEABODY MA  01960\n",
      "USA\n",
      "164\n"
     ]
    },
    {
     "name": "stderr",
     "output_type": "stream",
     "text": [
      "/tmp/ipykernel_198110/2077245259.py:28: FutureWarning: The frame.append method is deprecated and will be removed from pandas in a future version. Use pandas.concat instead.\n",
      "  latlong_df = latlong_df.append({'address': address, 'etHash': etHash,'bucket_id': bucket_id}, ignore_index=True)\n"
     ]
    },
    {
     "name": "stdout",
     "output_type": "stream",
     "text": [
      "wkX3YY7AokbegoTzH 230 INDEPENDENCE WAY\n",
      "DANVERS MA  01923\n",
      "USA\n",
      "165\n"
     ]
    },
    {
     "name": "stderr",
     "output_type": "stream",
     "text": [
      "/tmp/ipykernel_198110/2077245259.py:28: FutureWarning: The frame.append method is deprecated and will be removed from pandas in a future version. Use pandas.concat instead.\n",
      "  latlong_df = latlong_df.append({'address': address, 'etHash': etHash,'bucket_id': bucket_id}, ignore_index=True)\n"
     ]
    },
    {
     "name": "stdout",
     "output_type": "stream",
     "text": [
      "GvnLwDeJ8bMZ6Kbyi 84 NEWBURY ST\n",
      "DANVERS MA  01923\n",
      "USA\n",
      "166\n"
     ]
    },
    {
     "name": "stderr",
     "output_type": "stream",
     "text": [
      "/tmp/ipykernel_198110/2077245259.py:28: FutureWarning: The frame.append method is deprecated and will be removed from pandas in a future version. Use pandas.concat instead.\n",
      "  latlong_df = latlong_df.append({'address': address, 'etHash': etHash,'bucket_id': bucket_id}, ignore_index=True)\n"
     ]
    },
    {
     "name": "stdout",
     "output_type": "stream",
     "text": [
      "cbprq5yD6WgXojBdM 164 BOSTON ST # R\n",
      "SALEM MA  01970\n",
      "USA\n",
      "167\n"
     ]
    },
    {
     "name": "stderr",
     "output_type": "stream",
     "text": [
      "/tmp/ipykernel_198110/2077245259.py:28: FutureWarning: The frame.append method is deprecated and will be removed from pandas in a future version. Use pandas.concat instead.\n",
      "  latlong_df = latlong_df.append({'address': address, 'etHash': etHash,'bucket_id': bucket_id}, ignore_index=True)\n"
     ]
    },
    {
     "name": "stdout",
     "output_type": "stream",
     "text": [
      "ujetvu8uqSmwPF8M6 54 FOSTER ST\n",
      "PEABODY MA  01960\n",
      "USA\n",
      "168\n"
     ]
    },
    {
     "name": "stderr",
     "output_type": "stream",
     "text": [
      "/tmp/ipykernel_198110/2077245259.py:28: FutureWarning: The frame.append method is deprecated and will be removed from pandas in a future version. Use pandas.concat instead.\n",
      "  latlong_df = latlong_df.append({'address': address, 'etHash': etHash,'bucket_id': bucket_id}, ignore_index=True)\n"
     ]
    },
    {
     "name": "stdout",
     "output_type": "stream",
     "text": [
      "b97kSKmSySvuzy6pQ 427 WALNUT ST\n",
      "LYNNFIELD MA  01940\n",
      "USA\n",
      "169\n"
     ]
    },
    {
     "name": "stderr",
     "output_type": "stream",
     "text": [
      "/tmp/ipykernel_198110/2077245259.py:28: FutureWarning: The frame.append method is deprecated and will be removed from pandas in a future version. Use pandas.concat instead.\n",
      "  latlong_df = latlong_df.append({'address': address, 'etHash': etHash,'bucket_id': bucket_id}, ignore_index=True)\n"
     ]
    },
    {
     "name": "stdout",
     "output_type": "stream",
     "text": [
      "nyQZ76xFuyAZrRsuy 300 ANDOVER ST\n",
      "DANVERS MA  01960\n",
      "USA\n",
      "170\n"
     ]
    },
    {
     "name": "stderr",
     "output_type": "stream",
     "text": [
      "/tmp/ipykernel_198110/2077245259.py:28: FutureWarning: The frame.append method is deprecated and will be removed from pandas in a future version. Use pandas.concat instead.\n",
      "  latlong_df = latlong_df.append({'address': address, 'etHash': etHash,'bucket_id': bucket_id}, ignore_index=True)\n"
     ]
    },
    {
     "name": "stdout",
     "output_type": "stream",
     "text": [
      "8Y4w8BqxJ69L8Pzst 50 TRADERS WAY\n",
      "SALEM MA  01970\n",
      "USA\n",
      "171\n"
     ]
    },
    {
     "name": "stderr",
     "output_type": "stream",
     "text": [
      "/tmp/ipykernel_198110/2077245259.py:28: FutureWarning: The frame.append method is deprecated and will be removed from pandas in a future version. Use pandas.concat instead.\n",
      "  latlong_df = latlong_df.append({'address': address, 'etHash': etHash,'bucket_id': bucket_id}, ignore_index=True)\n"
     ]
    },
    {
     "name": "stdout",
     "output_type": "stream",
     "text": [
      "3wpcP9xXpSqo2Z9Qx 139 ENDICOTT ST\n",
      "DANVERS MA  01923\n",
      "USA\n",
      "172\n"
     ]
    },
    {
     "name": "stderr",
     "output_type": "stream",
     "text": [
      "/tmp/ipykernel_198110/2077245259.py:28: FutureWarning: The frame.append method is deprecated and will be removed from pandas in a future version. Use pandas.concat instead.\n",
      "  latlong_df = latlong_df.append({'address': address, 'etHash': etHash,'bucket_id': bucket_id}, ignore_index=True)\n"
     ]
    },
    {
     "name": "stdout",
     "output_type": "stream",
     "text": [
      "HqGBp6QYsfeyDLydn 485 LOWELL ST\n",
      "PEABODY MA  01960\n",
      "USA\n",
      "173\n"
     ]
    },
    {
     "name": "stderr",
     "output_type": "stream",
     "text": [
      "/tmp/ipykernel_198110/2077245259.py:28: FutureWarning: The frame.append method is deprecated and will be removed from pandas in a future version. Use pandas.concat instead.\n",
      "  latlong_df = latlong_df.append({'address': address, 'etHash': etHash,'bucket_id': bucket_id}, ignore_index=True)\n"
     ]
    },
    {
     "name": "stdout",
     "output_type": "stream",
     "text": [
      "AzLM7MQvAJNn2ZoYY 122 GRANITE ST\n",
      "QUINCY MA  02169\n",
      "USA\n",
      "174\n"
     ]
    },
    {
     "name": "stderr",
     "output_type": "stream",
     "text": [
      "/tmp/ipykernel_198110/2077245259.py:28: FutureWarning: The frame.append method is deprecated and will be removed from pandas in a future version. Use pandas.concat instead.\n",
      "  latlong_df = latlong_df.append({'address': address, 'etHash': etHash,'bucket_id': bucket_id}, ignore_index=True)\n"
     ]
    },
    {
     "name": "stdout",
     "output_type": "stream",
     "text": [
      "8F5TFnoxfH9nTH88s 230 QUINCY AVE\n",
      "QUINCY MA  02169\n",
      "USA\n",
      "175\n"
     ]
    },
    {
     "name": "stderr",
     "output_type": "stream",
     "text": [
      "/tmp/ipykernel_198110/2077245259.py:28: FutureWarning: The frame.append method is deprecated and will be removed from pandas in a future version. Use pandas.concat instead.\n",
      "  latlong_df = latlong_df.append({'address': address, 'etHash': etHash,'bucket_id': bucket_id}, ignore_index=True)\n"
     ]
    },
    {
     "name": "stdout",
     "output_type": "stream",
     "text": [
      "tLFGFCy7yHtLSoFbW 35 PLEASANT ST\n",
      "SOUTH WEYMOUTH MA  02190\n",
      "USA\n",
      "176\n"
     ]
    },
    {
     "name": "stderr",
     "output_type": "stream",
     "text": [
      "/tmp/ipykernel_198110/2077245259.py:28: FutureWarning: The frame.append method is deprecated and will be removed from pandas in a future version. Use pandas.concat instead.\n",
      "  latlong_df = latlong_df.append({'address': address, 'etHash': etHash,'bucket_id': bucket_id}, ignore_index=True)\n"
     ]
    },
    {
     "name": "stdout",
     "output_type": "stream",
     "text": [
      "H85ZobfcHrHh2BoDx 800 S FRANKLIN ST\n",
      "HOLBROOK MA  02343\n",
      "USA\n",
      "177\n"
     ]
    },
    {
     "name": "stderr",
     "output_type": "stream",
     "text": [
      "/tmp/ipykernel_198110/2077245259.py:28: FutureWarning: The frame.append method is deprecated and will be removed from pandas in a future version. Use pandas.concat instead.\n",
      "  latlong_df = latlong_df.append({'address': address, 'etHash': etHash,'bucket_id': bucket_id}, ignore_index=True)\n"
     ]
    },
    {
     "name": "stdout",
     "output_type": "stream",
     "text": [
      "fMje8q46ft898ow3g 715 BRIDGE ST\n",
      "NORTH WEYMOUTH MA  02191\n",
      "USA\n",
      "178\n"
     ]
    },
    {
     "name": "stderr",
     "output_type": "stream",
     "text": [
      "/tmp/ipykernel_198110/2077245259.py:28: FutureWarning: The frame.append method is deprecated and will be removed from pandas in a future version. Use pandas.concat instead.\n",
      "  latlong_df = latlong_df.append({'address': address, 'etHash': etHash,'bucket_id': bucket_id}, ignore_index=True)\n"
     ]
    },
    {
     "name": "stdout",
     "output_type": "stream",
     "text": [
      "GXKsp4JewuSJMCTaC 35 PLEASANT ST\n",
      "SOUTH WEYMOUTH MA  02190\n",
      "USA\n",
      "179\n"
     ]
    },
    {
     "name": "stderr",
     "output_type": "stream",
     "text": [
      "/tmp/ipykernel_198110/2077245259.py:28: FutureWarning: The frame.append method is deprecated and will be removed from pandas in a future version. Use pandas.concat instead.\n",
      "  latlong_df = latlong_df.append({'address': address, 'etHash': etHash,'bucket_id': bucket_id}, ignore_index=True)\n"
     ]
    },
    {
     "name": "stdout",
     "output_type": "stream",
     "text": [
      "HisEYTtxsJc4W5zLn 79 LYNNFIELD ST\n",
      "PEABODY MA  01960\n",
      "USA\n",
      "180\n"
     ]
    },
    {
     "name": "stderr",
     "output_type": "stream",
     "text": [
      "/tmp/ipykernel_198110/2077245259.py:28: FutureWarning: The frame.append method is deprecated and will be removed from pandas in a future version. Use pandas.concat instead.\n",
      "  latlong_df = latlong_df.append({'address': address, 'etHash': etHash,'bucket_id': bucket_id}, ignore_index=True)\n"
     ]
    },
    {
     "name": "stdout",
     "output_type": "stream",
     "text": [
      "nAP3J4CjAurNDobGN 230 INDEPENDENCE WAY\n",
      "DANVERS MA  01923\n",
      "USA\n",
      "181\n"
     ]
    },
    {
     "name": "stderr",
     "output_type": "stream",
     "text": [
      "/tmp/ipykernel_198110/2077245259.py:28: FutureWarning: The frame.append method is deprecated and will be removed from pandas in a future version. Use pandas.concat instead.\n",
      "  latlong_df = latlong_df.append({'address': address, 'etHash': etHash,'bucket_id': bucket_id}, ignore_index=True)\n"
     ]
    },
    {
     "name": "stdout",
     "output_type": "stream",
     "text": [
      "WiujHfhzFkh6ysW4v 230 INDEPENDENCE WAY\n",
      "DANVERS MA  01923\n",
      "USA\n",
      "182\n"
     ]
    },
    {
     "name": "stderr",
     "output_type": "stream",
     "text": [
      "/tmp/ipykernel_198110/2077245259.py:28: FutureWarning: The frame.append method is deprecated and will be removed from pandas in a future version. Use pandas.concat instead.\n",
      "  latlong_df = latlong_df.append({'address': address, 'etHash': etHash,'bucket_id': bucket_id}, ignore_index=True)\n"
     ]
    },
    {
     "name": "stdout",
     "output_type": "stream",
     "text": [
      "5hkQKP5KN2n4kAy8W 84 NEWBURY ST\n",
      "DANVERS MA  01923\n",
      "USA\n",
      "183\n"
     ]
    },
    {
     "name": "stderr",
     "output_type": "stream",
     "text": [
      "/tmp/ipykernel_198110/2077245259.py:28: FutureWarning: The frame.append method is deprecated and will be removed from pandas in a future version. Use pandas.concat instead.\n",
      "  latlong_df = latlong_df.append({'address': address, 'etHash': etHash,'bucket_id': bucket_id}, ignore_index=True)\n"
     ]
    },
    {
     "name": "stdout",
     "output_type": "stream",
     "text": [
      "rSH3QDN6bQb7Q9B6A 139 ENDICOTT ST\n",
      "DANVERS MA  01923\n",
      "USA\n",
      "184\n"
     ]
    },
    {
     "name": "stderr",
     "output_type": "stream",
     "text": [
      "/tmp/ipykernel_198110/2077245259.py:28: FutureWarning: The frame.append method is deprecated and will be removed from pandas in a future version. Use pandas.concat instead.\n",
      "  latlong_df = latlong_df.append({'address': address, 'etHash': etHash,'bucket_id': bucket_id}, ignore_index=True)\n"
     ]
    },
    {
     "name": "stdout",
     "output_type": "stream",
     "text": [
      "MCq6er8D5WzXksptb 79 LYNNFIELD ST\n",
      "PEABODY MA  01960\n",
      "USA\n",
      "185\n"
     ]
    },
    {
     "name": "stderr",
     "output_type": "stream",
     "text": [
      "/tmp/ipykernel_198110/2077245259.py:28: FutureWarning: The frame.append method is deprecated and will be removed from pandas in a future version. Use pandas.concat instead.\n",
      "  latlong_df = latlong_df.append({'address': address, 'etHash': etHash,'bucket_id': bucket_id}, ignore_index=True)\n"
     ]
    },
    {
     "name": "stdout",
     "output_type": "stream",
     "text": [
      "n6odg3ynig9WgmsaZ 54 FOSTER ST\n",
      "PEABODY MA  01960\n",
      "USA\n",
      "186\n"
     ]
    },
    {
     "name": "stderr",
     "output_type": "stream",
     "text": [
      "/tmp/ipykernel_198110/2077245259.py:28: FutureWarning: The frame.append method is deprecated and will be removed from pandas in a future version. Use pandas.concat instead.\n",
      "  latlong_df = latlong_df.append({'address': address, 'etHash': etHash,'bucket_id': bucket_id}, ignore_index=True)\n",
      "Backing off _address_for_latlong_query(...) for 2.0s (requests.exceptions.ConnectTimeout: HTTPSConnectionPool(host='atlas.k8s.eltoro.com', port=443): Max retries exceeded with url: / (Caused by ConnectTimeoutError(<urllib3.connection.HTTPSConnection object at 0x7f68110bf970>, 'Connection to atlas.k8s.eltoro.com timed out. (connect timeout=None)')))\n"
     ]
    },
    {
     "name": "stdout",
     "output_type": "stream",
     "text": [
      "eTL66btWHyhNHQdfJ 79 LYNNFIELD ST\n",
      "PEABODY MA  01960\n",
      "USA\n",
      "187\n"
     ]
    },
    {
     "name": "stderr",
     "output_type": "stream",
     "text": [
      "/tmp/ipykernel_198110/2077245259.py:28: FutureWarning: The frame.append method is deprecated and will be removed from pandas in a future version. Use pandas.concat instead.\n",
      "  latlong_df = latlong_df.append({'address': address, 'etHash': etHash,'bucket_id': bucket_id}, ignore_index=True)\n"
     ]
    },
    {
     "name": "stdout",
     "output_type": "stream",
     "text": [
      "BcTmX7noCaFpMsujL 11601 BLUEGRASS PKWY\n",
      "JEFFERSONTOWN KY  40299\n",
      "USA\n",
      "188\n"
     ]
    },
    {
     "name": "stderr",
     "output_type": "stream",
     "text": [
      "/tmp/ipykernel_198110/2077245259.py:28: FutureWarning: The frame.append method is deprecated and will be removed from pandas in a future version. Use pandas.concat instead.\n",
      "  latlong_df = latlong_df.append({'address': address, 'etHash': etHash,'bucket_id': bucket_id}, ignore_index=True)\n"
     ]
    },
    {
     "name": "stdout",
     "output_type": "stream",
     "text": [
      "GhSg53s7Ww9kJ8cXY 11601 BLUEGRASS PKWY\n",
      "JEFFERSONTOWN KY  40299\n",
      "USA\n",
      "189\n"
     ]
    },
    {
     "name": "stderr",
     "output_type": "stream",
     "text": [
      "/tmp/ipykernel_198110/2077245259.py:28: FutureWarning: The frame.append method is deprecated and will be removed from pandas in a future version. Use pandas.concat instead.\n",
      "  latlong_df = latlong_df.append({'address': address, 'etHash': etHash,'bucket_id': bucket_id}, ignore_index=True)\n"
     ]
    },
    {
     "name": "stdout",
     "output_type": "stream",
     "text": [
      "a7JsNfSfzx3sqtNNC 101 HUNTINGTON RIDGE DR\n",
      "MIDDLETOWN KY  40223\n",
      "USA\n",
      "190\n"
     ]
    },
    {
     "name": "stderr",
     "output_type": "stream",
     "text": [
      "/tmp/ipykernel_198110/2077245259.py:28: FutureWarning: The frame.append method is deprecated and will be removed from pandas in a future version. Use pandas.concat instead.\n",
      "  latlong_df = latlong_df.append({'address': address, 'etHash': etHash,'bucket_id': bucket_id}, ignore_index=True)\n"
     ]
    },
    {
     "name": "stdout",
     "output_type": "stream",
     "text": [
      "m9tbX37uANXBFPjZ8 101 HUNTINGTON RIDGE DR\n",
      "MIDDLETOWN KY  40223\n",
      "USA\n",
      "191\n"
     ]
    },
    {
     "name": "stderr",
     "output_type": "stream",
     "text": [
      "/tmp/ipykernel_198110/2077245259.py:28: FutureWarning: The frame.append method is deprecated and will be removed from pandas in a future version. Use pandas.concat instead.\n",
      "  latlong_df = latlong_df.append({'address': address, 'etHash': etHash,'bucket_id': bucket_id}, ignore_index=True)\n"
     ]
    },
    {
     "name": "stdout",
     "output_type": "stream",
     "text": [
      "NiNq8BgNFQmY9S6Rb 4100 TOWNE CENTER DR\n",
      "LOUISVILLE KY  40241\n",
      "USA\n",
      "192\n"
     ]
    },
    {
     "name": "stderr",
     "output_type": "stream",
     "text": [
      "/tmp/ipykernel_198110/2077245259.py:28: FutureWarning: The frame.append method is deprecated and will be removed from pandas in a future version. Use pandas.concat instead.\n",
      "  latlong_df = latlong_df.append({'address': address, 'etHash': etHash,'bucket_id': bucket_id}, ignore_index=True)\n"
     ]
    },
    {
     "name": "stdout",
     "output_type": "stream",
     "text": [
      "CdisbxrLhqeKfsjcj 275 TELLER ST\n",
      "CORONA CA  92879\n",
      "USA\n",
      "193\n"
     ]
    },
    {
     "name": "stderr",
     "output_type": "stream",
     "text": [
      "/tmp/ipykernel_198110/2077245259.py:28: FutureWarning: The frame.append method is deprecated and will be removed from pandas in a future version. Use pandas.concat instead.\n",
      "  latlong_df = latlong_df.append({'address': address, 'etHash': etHash,'bucket_id': bucket_id}, ignore_index=True)\n"
     ]
    },
    {
     "name": "stdout",
     "output_type": "stream",
     "text": [
      "yGJRcCaDd8gJ2x3fv 100 N 1ST ST\n",
      "PHOENIX AZ  85004\n",
      "USA\n",
      "194\n"
     ]
    },
    {
     "name": "stderr",
     "output_type": "stream",
     "text": [
      "/tmp/ipykernel_198110/2077245259.py:28: FutureWarning: The frame.append method is deprecated and will be removed from pandas in a future version. Use pandas.concat instead.\n",
      "  latlong_df = latlong_df.append({'address': address, 'etHash': etHash,'bucket_id': bucket_id}, ignore_index=True)\n"
     ]
    },
    {
     "name": "stdout",
     "output_type": "stream",
     "text": [
      "5cqbagy3gKaAjsAy8 700 S FLORIDA AVE\n",
      "TAMPA FL  33602\n",
      "USA\n",
      "195\n"
     ]
    },
    {
     "name": "stderr",
     "output_type": "stream",
     "text": [
      "/tmp/ipykernel_198110/2077245259.py:28: FutureWarning: The frame.append method is deprecated and will be removed from pandas in a future version. Use pandas.concat instead.\n",
      "  latlong_df = latlong_df.append({'address': address, 'etHash': etHash,'bucket_id': bucket_id}, ignore_index=True)\n"
     ]
    },
    {
     "name": "stdout",
     "output_type": "stream",
     "text": [
      "uEyftXFjMXw5Az7ie 666 N 3RD ST\n",
      "LARAMIE WY  82072\n",
      "USA\n",
      "196\n"
     ]
    },
    {
     "name": "stderr",
     "output_type": "stream",
     "text": [
      "/tmp/ipykernel_198110/2077245259.py:28: FutureWarning: The frame.append method is deprecated and will be removed from pandas in a future version. Use pandas.concat instead.\n",
      "  latlong_df = latlong_df.append({'address': address, 'etHash': etHash,'bucket_id': bucket_id}, ignore_index=True)\n"
     ]
    },
    {
     "name": "stdout",
     "output_type": "stream",
     "text": [
      "A8AHKYQ4EvhK3Xq2x 150 UINTA DR\n",
      "GREEN RIVER WY  82935\n",
      "USA\n",
      "197\n"
     ]
    },
    {
     "name": "stderr",
     "output_type": "stream",
     "text": [
      "/tmp/ipykernel_198110/2077245259.py:28: FutureWarning: The frame.append method is deprecated and will be removed from pandas in a future version. Use pandas.concat instead.\n",
      "  latlong_df = latlong_df.append({'address': address, 'etHash': etHash,'bucket_id': bucket_id}, ignore_index=True)\n"
     ]
    },
    {
     "name": "stdout",
     "output_type": "stream",
     "text": [
      "mJhZhTxL7BHuz7cvx 1000 BANK ST\n",
      "RICHMOND VA  23219\n",
      "USA\n",
      "198\n"
     ]
    },
    {
     "name": "stderr",
     "output_type": "stream",
     "text": [
      "/tmp/ipykernel_198110/2077245259.py:28: FutureWarning: The frame.append method is deprecated and will be removed from pandas in a future version. Use pandas.concat instead.\n",
      "  latlong_df = latlong_df.append({'address': address, 'etHash': etHash,'bucket_id': bucket_id}, ignore_index=True)\n",
      "Backing off _address_for_latlong_query(...) for 2.0s (requests.exceptions.ConnectTimeout: HTTPSConnectionPool(host='atlas.k8s.eltoro.com', port=443): Max retries exceeded with url: / (Caused by ConnectTimeoutError(<urllib3.connection.HTTPSConnection object at 0x7f68110be3e0>, 'Connection to atlas.k8s.eltoro.com timed out. (connect timeout=None)')))\n"
     ]
    },
    {
     "name": "stdout",
     "output_type": "stream",
     "text": [
      "3TFxKoEkcfomAMiih 900 E MAIN ST\n",
      "RICHMOND VA  23219\n",
      "USA\n",
      "199\n"
     ]
    },
    {
     "name": "stderr",
     "output_type": "stream",
     "text": [
      "/tmp/ipykernel_198110/2077245259.py:28: FutureWarning: The frame.append method is deprecated and will be removed from pandas in a future version. Use pandas.concat instead.\n",
      "  latlong_df = latlong_df.append({'address': address, 'etHash': etHash,'bucket_id': bucket_id}, ignore_index=True)\n"
     ]
    },
    {
     "name": "stdout",
     "output_type": "stream",
     "text": [
      "T42APBCYqd2Wuz23c 500 E BROAD ST # A\n",
      "RICHMOND VA  23219\n",
      "USA\n",
      "200\n"
     ]
    },
    {
     "name": "stderr",
     "output_type": "stream",
     "text": [
      "/tmp/ipykernel_198110/2077245259.py:28: FutureWarning: The frame.append method is deprecated and will be removed from pandas in a future version. Use pandas.concat instead.\n",
      "  latlong_df = latlong_df.append({'address': address, 'etHash': etHash,'bucket_id': bucket_id}, ignore_index=True)\n"
     ]
    },
    {
     "name": "stdout",
     "output_type": "stream",
     "text": [
      "kgFwH3negekK6XyJ2 230 N 6TH ST # U404\n",
      "RICHMOND VA  23219\n",
      "USA\n",
      "201\n"
     ]
    },
    {
     "name": "stderr",
     "output_type": "stream",
     "text": [
      "/tmp/ipykernel_198110/2077245259.py:28: FutureWarning: The frame.append method is deprecated and will be removed from pandas in a future version. Use pandas.concat instead.\n",
      "  latlong_df = latlong_df.append({'address': address, 'etHash': etHash,'bucket_id': bucket_id}, ignore_index=True)\n"
     ]
    },
    {
     "name": "stdout",
     "output_type": "stream",
     "text": [
      "SsM22bH3DnZZZ8jbg 400 S MONROE ST\n",
      "TALLAHASSEE FL  32399\n",
      "USA\n",
      "202\n"
     ]
    },
    {
     "name": "stderr",
     "output_type": "stream",
     "text": [
      "/tmp/ipykernel_198110/2077245259.py:28: FutureWarning: The frame.append method is deprecated and will be removed from pandas in a future version. Use pandas.concat instead.\n",
      "  latlong_df = latlong_df.append({'address': address, 'etHash': etHash,'bucket_id': bucket_id}, ignore_index=True)\n"
     ]
    },
    {
     "name": "stdout",
     "output_type": "stream",
     "text": [
      "bygR3igYaPow3qfTj 101 W FRANKLIN ST\n",
      "RICHMOND VA  23220\n",
      "USA\n",
      "203\n"
     ]
    },
    {
     "name": "stderr",
     "output_type": "stream",
     "text": [
      "/tmp/ipykernel_198110/2077245259.py:28: FutureWarning: The frame.append method is deprecated and will be removed from pandas in a future version. Use pandas.concat instead.\n",
      "  latlong_df = latlong_df.append({'address': address, 'etHash': etHash,'bucket_id': bucket_id}, ignore_index=True)\n"
     ]
    },
    {
     "name": "stdout",
     "output_type": "stream",
     "text": [
      "kcXatNXcj5uh5hFef 900 E MAIN ST\n",
      "RICHMOND VA  23219\n",
      "USA\n",
      "204\n"
     ]
    },
    {
     "name": "stderr",
     "output_type": "stream",
     "text": [
      "/tmp/ipykernel_198110/2077245259.py:28: FutureWarning: The frame.append method is deprecated and will be removed from pandas in a future version. Use pandas.concat instead.\n",
      "  latlong_df = latlong_df.append({'address': address, 'etHash': etHash,'bucket_id': bucket_id}, ignore_index=True)\n"
     ]
    },
    {
     "name": "stdout",
     "output_type": "stream",
     "text": [
      "M6Pft7kPBfP4DJegb 100 S 12TH ST\n",
      "RICHMOND VA  23219\n",
      "USA\n",
      "205\n"
     ]
    },
    {
     "name": "stderr",
     "output_type": "stream",
     "text": [
      "/tmp/ipykernel_198110/2077245259.py:28: FutureWarning: The frame.append method is deprecated and will be removed from pandas in a future version. Use pandas.concat instead.\n",
      "  latlong_df = latlong_df.append({'address': address, 'etHash': etHash,'bucket_id': bucket_id}, ignore_index=True)\n"
     ]
    },
    {
     "name": "stdout",
     "output_type": "stream",
     "text": [
      "7s3pEuhZaRn2TabpS 110 E FRANKLIN ST\n",
      "RICHMOND VA  23219\n",
      "USA\n",
      "206\n"
     ]
    },
    {
     "name": "stderr",
     "output_type": "stream",
     "text": [
      "/tmp/ipykernel_198110/2077245259.py:28: FutureWarning: The frame.append method is deprecated and will be removed from pandas in a future version. Use pandas.concat instead.\n",
      "  latlong_df = latlong_df.append({'address': address, 'etHash': etHash,'bucket_id': bucket_id}, ignore_index=True)\n"
     ]
    },
    {
     "name": "stdout",
     "output_type": "stream",
     "text": [
      "i3baKakaNjyqzzcS7 1000 BANK ST\n",
      "RICHMOND VA  23219\n",
      "USA\n",
      "207\n"
     ]
    },
    {
     "name": "stderr",
     "output_type": "stream",
     "text": [
      "/tmp/ipykernel_198110/2077245259.py:28: FutureWarning: The frame.append method is deprecated and will be removed from pandas in a future version. Use pandas.concat instead.\n",
      "  latlong_df = latlong_df.append({'address': address, 'etHash': etHash,'bucket_id': bucket_id}, ignore_index=True)\n"
     ]
    },
    {
     "name": "stdout",
     "output_type": "stream",
     "text": [
      "7XDupbxiuiSQwLmh6 4100 TOWNE CENTER DR\n",
      "LOUISVILLE KY  40241\n",
      "USA\n",
      "208\n"
     ]
    },
    {
     "name": "stderr",
     "output_type": "stream",
     "text": [
      "/tmp/ipykernel_198110/2077245259.py:28: FutureWarning: The frame.append method is deprecated and will be removed from pandas in a future version. Use pandas.concat instead.\n",
      "  latlong_df = latlong_df.append({'address': address, 'etHash': etHash,'bucket_id': bucket_id}, ignore_index=True)\n"
     ]
    },
    {
     "name": "stdout",
     "output_type": "stream",
     "text": [
      "wCtDiJ7Mpx5nPg3NT 600 E BROAD ST\n",
      "RICHMOND VA  23219\n",
      "USA\n",
      "209\n"
     ]
    },
    {
     "name": "stderr",
     "output_type": "stream",
     "text": [
      "/tmp/ipykernel_198110/2077245259.py:28: FutureWarning: The frame.append method is deprecated and will be removed from pandas in a future version. Use pandas.concat instead.\n",
      "  latlong_df = latlong_df.append({'address': address, 'etHash': etHash,'bucket_id': bucket_id}, ignore_index=True)\n"
     ]
    },
    {
     "name": "stdout",
     "output_type": "stream",
     "text": [
      "ztizhqMoGFxCSjeCD 101 N CARSON ST\n",
      "CARSON CITY NV  89701\n",
      "USA\n",
      "210\n"
     ]
    },
    {
     "name": "stderr",
     "output_type": "stream",
     "text": [
      "/tmp/ipykernel_198110/2077245259.py:28: FutureWarning: The frame.append method is deprecated and will be removed from pandas in a future version. Use pandas.concat instead.\n",
      "  latlong_df = latlong_df.append({'address': address, 'etHash': etHash,'bucket_id': bucket_id}, ignore_index=True)\n"
     ]
    },
    {
     "name": "stdout",
     "output_type": "stream",
     "text": [
      "bNGgCGEHCpLY5kD2v 400 S MONROE ST\n",
      "TALLAHASSEE FL  32399\n",
      "USA\n",
      "211\n"
     ]
    },
    {
     "name": "stderr",
     "output_type": "stream",
     "text": [
      "/tmp/ipykernel_198110/2077245259.py:28: FutureWarning: The frame.append method is deprecated and will be removed from pandas in a future version. Use pandas.concat instead.\n",
      "  latlong_df = latlong_df.append({'address': address, 'etHash': etHash,'bucket_id': bucket_id}, ignore_index=True)\n"
     ]
    },
    {
     "name": "stdout",
     "output_type": "stream",
     "text": [
      "CkWAaDDJRmumKLkdq 2100 S HIGHWAY 53\n",
      "LA GRANGE KY  40031\n",
      "USA\n",
      "212\n"
     ]
    },
    {
     "name": "stderr",
     "output_type": "stream",
     "text": [
      "/tmp/ipykernel_198110/2077245259.py:28: FutureWarning: The frame.append method is deprecated and will be removed from pandas in a future version. Use pandas.concat instead.\n",
      "  latlong_df = latlong_df.append({'address': address, 'etHash': etHash,'bucket_id': bucket_id}, ignore_index=True)\n"
     ]
    },
    {
     "name": "stdout",
     "output_type": "stream",
     "text": [
      "q2zb4NHmpyckgMyhk 359 MIRACLE RD\n",
      "EVANSVILLE WY  82636\n",
      "USA\n",
      "213\n"
     ]
    },
    {
     "name": "stderr",
     "output_type": "stream",
     "text": [
      "/tmp/ipykernel_198110/2077245259.py:28: FutureWarning: The frame.append method is deprecated and will be removed from pandas in a future version. Use pandas.concat instead.\n",
      "  latlong_df = latlong_df.append({'address': address, 'etHash': etHash,'bucket_id': bucket_id}, ignore_index=True)\n"
     ]
    },
    {
     "name": "stdout",
     "output_type": "stream",
     "text": [
      "gMSGyiEqgtSSoHbsY 2800 S OCEAN BLVD\n",
      "PALM BEACH FL  33480\n",
      "USA\n",
      "214\n"
     ]
    },
    {
     "name": "stderr",
     "output_type": "stream",
     "text": [
      "/tmp/ipykernel_198110/2077245259.py:28: FutureWarning: The frame.append method is deprecated and will be removed from pandas in a future version. Use pandas.concat instead.\n",
      "  latlong_df = latlong_df.append({'address': address, 'etHash': etHash,'bucket_id': bucket_id}, ignore_index=True)\n"
     ]
    },
    {
     "name": "stdout",
     "output_type": "stream",
     "text": [
      "4mdHaNM2GD4YL3Kmv 1100 S OCEAN BLVD\n",
      "PALM BEACH FL  33480\n",
      "USA\n",
      "215\n"
     ]
    },
    {
     "name": "stderr",
     "output_type": "stream",
     "text": [
      "/tmp/ipykernel_198110/2077245259.py:28: FutureWarning: The frame.append method is deprecated and will be removed from pandas in a future version. Use pandas.concat instead.\n",
      "  latlong_df = latlong_df.append({'address': address, 'etHash': etHash,'bucket_id': bucket_id}, ignore_index=True)\n"
     ]
    },
    {
     "name": "stdout",
     "output_type": "stream",
     "text": [
      "3QMWy9yYeNktfrvnd 2100 S HIGHWAY 53\n",
      "LA GRANGE KY  40031\n",
      "USA\n",
      "216\n"
     ]
    },
    {
     "name": "stderr",
     "output_type": "stream",
     "text": [
      "/tmp/ipykernel_198110/2077245259.py:28: FutureWarning: The frame.append method is deprecated and will be removed from pandas in a future version. Use pandas.concat instead.\n",
      "  latlong_df = latlong_df.append({'address': address, 'etHash': etHash,'bucket_id': bucket_id}, ignore_index=True)\n"
     ]
    },
    {
     "name": "stdout",
     "output_type": "stream",
     "text": [
      "5mk5SA5AwXyKWCNxo 2240 COFFEEN AVE\n",
      "SHERIDAN WY  82801\n",
      "USA\n",
      "217\n"
     ]
    },
    {
     "name": "stderr",
     "output_type": "stream",
     "text": [
      "/tmp/ipykernel_198110/2077245259.py:28: FutureWarning: The frame.append method is deprecated and will be removed from pandas in a future version. Use pandas.concat instead.\n",
      "  latlong_df = latlong_df.append({'address': address, 'etHash': etHash,'bucket_id': bucket_id}, ignore_index=True)\n"
     ]
    },
    {
     "name": "stdout",
     "output_type": "stream",
     "text": [
      "Z7AfRChhDbZbFdmhr 1100 S OCEAN BLVD\n",
      "PALM BEACH FL  33480\n",
      "USA\n",
      "218\n"
     ]
    },
    {
     "name": "stderr",
     "output_type": "stream",
     "text": [
      "/tmp/ipykernel_198110/2077245259.py:28: FutureWarning: The frame.append method is deprecated and will be removed from pandas in a future version. Use pandas.concat instead.\n",
      "  latlong_df = latlong_df.append({'address': address, 'etHash': etHash,'bucket_id': bucket_id}, ignore_index=True)\n"
     ]
    },
    {
     "name": "stdout",
     "output_type": "stream",
     "text": [
      "Dtrtdgmrc9B7i4dco 2207 S DOUGLAS HWY\n",
      "GILLETTE WY  82718\n",
      "USA\n",
      "219\n"
     ]
    },
    {
     "name": "stderr",
     "output_type": "stream",
     "text": [
      "/tmp/ipykernel_198110/2077245259.py:28: FutureWarning: The frame.append method is deprecated and will be removed from pandas in a future version. Use pandas.concat instead.\n",
      "  latlong_df = latlong_df.append({'address': address, 'etHash': etHash,'bucket_id': bucket_id}, ignore_index=True)\n"
     ]
    },
    {
     "name": "stdout",
     "output_type": "stream",
     "text": [
      "CQzzsQ9X9hygghGEX 1730 N FOREST AVE\n",
      "ORLANDO FL  32803\n",
      "USA\n",
      "220\n"
     ]
    },
    {
     "name": "stderr",
     "output_type": "stream",
     "text": [
      "/tmp/ipykernel_198110/2077245259.py:28: FutureWarning: The frame.append method is deprecated and will be removed from pandas in a future version. Use pandas.concat instead.\n",
      "  latlong_df = latlong_df.append({'address': address, 'etHash': etHash,'bucket_id': bucket_id}, ignore_index=True)\n"
     ]
    },
    {
     "name": "stdout",
     "output_type": "stream",
     "text": [
      "562JXZtLtyyf5Pc7j 2201 N STEMMONS FWY\n",
      "DALLAS TX  75207\n",
      "USA\n",
      "221\n"
     ]
    },
    {
     "name": "stderr",
     "output_type": "stream",
     "text": [
      "/tmp/ipykernel_198110/2077245259.py:28: FutureWarning: The frame.append method is deprecated and will be removed from pandas in a future version. Use pandas.concat instead.\n",
      "  latlong_df = latlong_df.append({'address': address, 'etHash': etHash,'bucket_id': bucket_id}, ignore_index=True)\n"
     ]
    },
    {
     "name": "stdout",
     "output_type": "stream",
     "text": [
      "ymuXXFFxHrkyt3Tpg 3400 LAS VEGAS BLVD S\n",
      "LAS VEGAS NV  89109\n",
      "USA\n",
      "222\n"
     ]
    },
    {
     "name": "stderr",
     "output_type": "stream",
     "text": [
      "/tmp/ipykernel_198110/2077245259.py:28: FutureWarning: The frame.append method is deprecated and will be removed from pandas in a future version. Use pandas.concat instead.\n",
      "  latlong_df = latlong_df.append({'address': address, 'etHash': etHash,'bucket_id': bucket_id}, ignore_index=True)\n"
     ]
    },
    {
     "name": "stdout",
     "output_type": "stream",
     "text": [
      "m7MbPc2tfsirwJfB7 1503 INDUSTRIAL DR\n",
      "MISSOURI CITY TX  77489\n",
      "USA\n",
      "223\n"
     ]
    },
    {
     "name": "stderr",
     "output_type": "stream",
     "text": [
      "/tmp/ipykernel_198110/2077245259.py:28: FutureWarning: The frame.append method is deprecated and will be removed from pandas in a future version. Use pandas.concat instead.\n",
      "  latlong_df = latlong_df.append({'address': address, 'etHash': etHash,'bucket_id': bucket_id}, ignore_index=True)\n"
     ]
    },
    {
     "name": "stdout",
     "output_type": "stream",
     "text": [
      "hEunXMPErfqm73h6t 900 PACKER AVE\n",
      "PHILADELPHIA PA  19148\n",
      "USA\n",
      "224\n"
     ]
    },
    {
     "name": "stderr",
     "output_type": "stream",
     "text": [
      "/tmp/ipykernel_198110/2077245259.py:28: FutureWarning: The frame.append method is deprecated and will be removed from pandas in a future version. Use pandas.concat instead.\n",
      "  latlong_df = latlong_df.append({'address': address, 'etHash': etHash,'bucket_id': bucket_id}, ignore_index=True)\n"
     ]
    },
    {
     "name": "stdout",
     "output_type": "stream",
     "text": [
      "JPAxh6WhdtBF3qpzg 3360 PARADISE RD\n",
      "LAS VEGAS NV  89169\n",
      "USA\n",
      "225\n"
     ]
    },
    {
     "name": "stderr",
     "output_type": "stream",
     "text": [
      "/tmp/ipykernel_198110/2077245259.py:28: FutureWarning: The frame.append method is deprecated and will be removed from pandas in a future version. Use pandas.concat instead.\n",
      "  latlong_df = latlong_df.append({'address': address, 'etHash': etHash,'bucket_id': bucket_id}, ignore_index=True)\n"
     ]
    },
    {
     "name": "stdout",
     "output_type": "stream",
     "text": [
      "5qSYATk5rdBGAuJ4B 1331 PENNSYLVANIA AVE NW\n",
      "WASHINGTON DC  20004\n",
      "USA\n",
      "226\n"
     ]
    },
    {
     "name": "stderr",
     "output_type": "stream",
     "text": [
      "/tmp/ipykernel_198110/2077245259.py:28: FutureWarning: The frame.append method is deprecated and will be removed from pandas in a future version. Use pandas.concat instead.\n",
      "  latlong_df = latlong_df.append({'address': address, 'etHash': etHash,'bucket_id': bucket_id}, ignore_index=True)\n"
     ]
    },
    {
     "name": "stdout",
     "output_type": "stream",
     "text": [
      "h8G5BwfsHGSfmMYKd 1100 S OCEAN BLVD\n",
      "PALM BEACH FL  33480\n",
      "USA\n",
      "227\n"
     ]
    },
    {
     "name": "stderr",
     "output_type": "stream",
     "text": [
      "/tmp/ipykernel_198110/2077245259.py:28: FutureWarning: The frame.append method is deprecated and will be removed from pandas in a future version. Use pandas.concat instead.\n",
      "  latlong_df = latlong_df.append({'address': address, 'etHash': etHash,'bucket_id': bucket_id}, ignore_index=True)\n"
     ]
    },
    {
     "name": "stdout",
     "output_type": "stream",
     "text": [
      "FpZN4SrjrT43Ao8Sg 111 W WASHINGTON ST\n",
      "LOUISVILLE KY  40202\n",
      "USA\n",
      "228\n"
     ]
    },
    {
     "name": "stderr",
     "output_type": "stream",
     "text": [
      "/tmp/ipykernel_198110/2077245259.py:28: FutureWarning: The frame.append method is deprecated and will be removed from pandas in a future version. Use pandas.concat instead.\n",
      "  latlong_df = latlong_df.append({'address': address, 'etHash': etHash,'bucket_id': bucket_id}, ignore_index=True)\n"
     ]
    },
    {
     "name": "stdout",
     "output_type": "stream",
     "text": [
      "aGkSQkLT4v4HBQHHX 1256 WHISTLING SWAN DR\n",
      "FOREST VA  24551\n",
      "USA\n",
      "229\n"
     ]
    },
    {
     "name": "stderr",
     "output_type": "stream",
     "text": [
      "/tmp/ipykernel_198110/2077245259.py:28: FutureWarning: The frame.append method is deprecated and will be removed from pandas in a future version. Use pandas.concat instead.\n",
      "  latlong_df = latlong_df.append({'address': address, 'etHash': etHash,'bucket_id': bucket_id}, ignore_index=True)\n"
     ]
    },
    {
     "name": "stdout",
     "output_type": "stream",
     "text": [
      "zYp4xLPGvsTwQECP8 355 STONELEDGE DR\n",
      "ROANOKE VA  24019\n",
      "USA\n",
      "230\n"
     ]
    },
    {
     "name": "stderr",
     "output_type": "stream",
     "text": [
      "/tmp/ipykernel_198110/2077245259.py:28: FutureWarning: The frame.append method is deprecated and will be removed from pandas in a future version. Use pandas.concat instead.\n",
      "  latlong_df = latlong_df.append({'address': address, 'etHash': etHash,'bucket_id': bucket_id}, ignore_index=True)\n"
     ]
    },
    {
     "name": "stdout",
     "output_type": "stream",
     "text": [
      "qN6StsTxCKdQtSzCx 1835 I ST NW\n",
      "WASHINGTON DC  20006\n",
      "USA\n",
      "231\n"
     ]
    },
    {
     "name": "stderr",
     "output_type": "stream",
     "text": [
      "/tmp/ipykernel_198110/2077245259.py:28: FutureWarning: The frame.append method is deprecated and will be removed from pandas in a future version. Use pandas.concat instead.\n",
      "  latlong_df = latlong_df.append({'address': address, 'etHash': etHash,'bucket_id': bucket_id}, ignore_index=True)\n"
     ]
    },
    {
     "name": "stdout",
     "output_type": "stream",
     "text": [
      "Jgb4K3h4vdrQri6jW 1925 CONSTITUTION AVE NW\n",
      "WASHINGTON DC  20006\n",
      "USA\n",
      "232\n"
     ]
    },
    {
     "name": "stderr",
     "output_type": "stream",
     "text": [
      "/tmp/ipykernel_198110/2077245259.py:28: FutureWarning: The frame.append method is deprecated and will be removed from pandas in a future version. Use pandas.concat instead.\n",
      "  latlong_df = latlong_df.append({'address': address, 'etHash': etHash,'bucket_id': bucket_id}, ignore_index=True)\n"
     ]
    },
    {
     "name": "stdout",
     "output_type": "stream",
     "text": [
      "KJ7b5QcGq6J5u47Gu 1490 TORREY RD\n",
      "FENTON MI  48430\n",
      "USA\n",
      "233\n"
     ]
    },
    {
     "name": "stderr",
     "output_type": "stream",
     "text": [
      "/tmp/ipykernel_198110/2077245259.py:28: FutureWarning: The frame.append method is deprecated and will be removed from pandas in a future version. Use pandas.concat instead.\n",
      "  latlong_df = latlong_df.append({'address': address, 'etHash': etHash,'bucket_id': bucket_id}, ignore_index=True)\n"
     ]
    },
    {
     "name": "stdout",
     "output_type": "stream",
     "text": [
      "cvDR7TnLuachozty2 19 LIBERTY ST\n",
      "NEW YORK NY  10045\n",
      "USA\n",
      "234\n"
     ]
    },
    {
     "name": "stderr",
     "output_type": "stream",
     "text": [
      "/tmp/ipykernel_198110/2077245259.py:28: FutureWarning: The frame.append method is deprecated and will be removed from pandas in a future version. Use pandas.concat instead.\n",
      "  latlong_df = latlong_df.append({'address': address, 'etHash': etHash,'bucket_id': bucket_id}, ignore_index=True)\n"
     ]
    },
    {
     "name": "stdout",
     "output_type": "stream",
     "text": [
      "8P7Sb68MzpHK8iA4K 1401 MICHIGAN AVE\n",
      "DETROIT MI  48216\n",
      "USA\n",
      "235\n"
     ]
    },
    {
     "name": "stderr",
     "output_type": "stream",
     "text": [
      "/tmp/ipykernel_198110/2077245259.py:28: FutureWarning: The frame.append method is deprecated and will be removed from pandas in a future version. Use pandas.concat instead.\n",
      "  latlong_df = latlong_df.append({'address': address, 'etHash': etHash,'bucket_id': bucket_id}, ignore_index=True)\n"
     ]
    },
    {
     "name": "stdout",
     "output_type": "stream",
     "text": [
      "WbT388JRHA4kJ2Bpd 1000 PEACHTREE ST NE\n",
      "ATLANTA GA  30309\n",
      "USA\n",
      "236\n"
     ]
    },
    {
     "name": "stderr",
     "output_type": "stream",
     "text": [
      "/tmp/ipykernel_198110/2077245259.py:28: FutureWarning: The frame.append method is deprecated and will be removed from pandas in a future version. Use pandas.concat instead.\n",
      "  latlong_df = latlong_df.append({'address': address, 'etHash': etHash,'bucket_id': bucket_id}, ignore_index=True)\n"
     ]
    },
    {
     "name": "stdout",
     "output_type": "stream",
     "text": [
      "AYAH62j9X74HBLkEi 1401 MICHIGAN AVE\n",
      "DETROIT MI  48216\n",
      "USA\n",
      "237\n"
     ]
    },
    {
     "name": "stderr",
     "output_type": "stream",
     "text": [
      "/tmp/ipykernel_198110/2077245259.py:28: FutureWarning: The frame.append method is deprecated and will be removed from pandas in a future version. Use pandas.concat instead.\n",
      "  latlong_df = latlong_df.append({'address': address, 'etHash': etHash,'bucket_id': bucket_id}, ignore_index=True)\n"
     ]
    },
    {
     "name": "stdout",
     "output_type": "stream",
     "text": [
      "oAmHbwAtuMbKkX8CN 411 N 4TH ST\n",
      "SAINT LOUIS MO  63102\n",
      "USA\n",
      "238\n"
     ]
    },
    {
     "name": "stderr",
     "output_type": "stream",
     "text": [
      "/tmp/ipykernel_198110/2077245259.py:28: FutureWarning: The frame.append method is deprecated and will be removed from pandas in a future version. Use pandas.concat instead.\n",
      "  latlong_df = latlong_df.append({'address': address, 'etHash': etHash,'bucket_id': bucket_id}, ignore_index=True)\n"
     ]
    },
    {
     "name": "stdout",
     "output_type": "stream",
     "text": [
      "K29xbLtPKgaYhcBzL 601 ARCH ST\n",
      "PHILADELPHIA PA  19106\n",
      "USA\n",
      "239\n"
     ]
    },
    {
     "name": "stderr",
     "output_type": "stream",
     "text": [
      "/tmp/ipykernel_198110/2077245259.py:28: FutureWarning: The frame.append method is deprecated and will be removed from pandas in a future version. Use pandas.concat instead.\n",
      "  latlong_df = latlong_df.append({'address': address, 'etHash': etHash,'bucket_id': bucket_id}, ignore_index=True)\n"
     ]
    },
    {
     "name": "stdout",
     "output_type": "stream",
     "text": [
      "hZCQKuYkTxsvi5rFX 1000 PEACHTREE ST NE\n",
      "ATLANTA GA  30309\n",
      "USA\n",
      "240\n"
     ]
    },
    {
     "name": "stderr",
     "output_type": "stream",
     "text": [
      "/tmp/ipykernel_198110/2077245259.py:28: FutureWarning: The frame.append method is deprecated and will be removed from pandas in a future version. Use pandas.concat instead.\n",
      "  latlong_df = latlong_df.append({'address': address, 'etHash': etHash,'bucket_id': bucket_id}, ignore_index=True)\n"
     ]
    },
    {
     "name": "stdout",
     "output_type": "stream",
     "text": [
      "JdJqdsbs3BFCmo8q4 601 ARCH ST\n",
      "PHILADELPHIA PA  19106\n",
      "USA\n",
      "241\n"
     ]
    },
    {
     "name": "stderr",
     "output_type": "stream",
     "text": [
      "/tmp/ipykernel_198110/2077245259.py:28: FutureWarning: The frame.append method is deprecated and will be removed from pandas in a future version. Use pandas.concat instead.\n",
      "  latlong_df = latlong_df.append({'address': address, 'etHash': etHash,'bucket_id': bucket_id}, ignore_index=True)\n"
     ]
    },
    {
     "name": "stdout",
     "output_type": "stream",
     "text": [
      "8jnaDA8tkKc9Rd9mg 1000 SUBURBAN DR\n",
      "NEWARK DE  19711\n",
      "USA\n",
      "242\n"
     ]
    },
    {
     "name": "stderr",
     "output_type": "stream",
     "text": [
      "/tmp/ipykernel_198110/2077245259.py:28: FutureWarning: The frame.append method is deprecated and will be removed from pandas in a future version. Use pandas.concat instead.\n",
      "  latlong_df = latlong_df.append({'address': address, 'etHash': etHash,'bucket_id': bucket_id}, ignore_index=True)\n"
     ]
    },
    {
     "name": "stdout",
     "output_type": "stream",
     "text": [
      "KqfJTe7KQBYPegGjQ 1030 FORREST AVE\n",
      "DOVER DE  19904\n",
      "USA\n",
      "243\n"
     ]
    },
    {
     "name": "stderr",
     "output_type": "stream",
     "text": [
      "/tmp/ipykernel_198110/2077245259.py:28: FutureWarning: The frame.append method is deprecated and will be removed from pandas in a future version. Use pandas.concat instead.\n",
      "  latlong_df = latlong_df.append({'address': address, 'etHash': etHash,'bucket_id': bucket_id}, ignore_index=True)\n"
     ]
    },
    {
     "name": "stdout",
     "output_type": "stream",
     "text": [
      "Qn8JuZvErH5kHAC7Z 375 GATEWAY SOUTH BLVD\n",
      "DOVER DE  19901\n",
      "USA\n",
      "244\n"
     ]
    },
    {
     "name": "stderr",
     "output_type": "stream",
     "text": [
      "/tmp/ipykernel_198110/2077245259.py:28: FutureWarning: The frame.append method is deprecated and will be removed from pandas in a future version. Use pandas.concat instead.\n",
      "  latlong_df = latlong_df.append({'address': address, 'etHash': etHash,'bucket_id': bucket_id}, ignore_index=True)\n"
     ]
    },
    {
     "name": "stdout",
     "output_type": "stream",
     "text": [
      "weGCpqW6YTCBbMKMj 403 NEW LONDON RD\n",
      "NEWARK DE  19711\n",
      "USA\n",
      "245\n"
     ]
    },
    {
     "name": "stderr",
     "output_type": "stream",
     "text": [
      "/tmp/ipykernel_198110/2077245259.py:28: FutureWarning: The frame.append method is deprecated and will be removed from pandas in a future version. Use pandas.concat instead.\n",
      "  latlong_df = latlong_df.append({'address': address, 'etHash': etHash,'bucket_id': bucket_id}, ignore_index=True)\n"
     ]
    },
    {
     "name": "stdout",
     "output_type": "stream",
     "text": [
      "3HDmJR9peadAKsm2S 907 S CHAPEL ST\n",
      "NEWARK DE  19713\n",
      "USA\n",
      "246\n"
     ]
    },
    {
     "name": "stderr",
     "output_type": "stream",
     "text": [
      "/tmp/ipykernel_198110/2077245259.py:28: FutureWarning: The frame.append method is deprecated and will be removed from pandas in a future version. Use pandas.concat instead.\n",
      "  latlong_df = latlong_df.append({'address': address, 'etHash': etHash,'bucket_id': bucket_id}, ignore_index=True)\n"
     ]
    },
    {
     "name": "stdout",
     "output_type": "stream",
     "text": [
      "Zt4nDW2umm2JqRKsg 200 DOVE RUN CENTRE DR\n",
      "MIDDLETOWN DE  19709\n",
      "USA\n",
      "247\n"
     ]
    },
    {
     "name": "stderr",
     "output_type": "stream",
     "text": [
      "/tmp/ipykernel_198110/2077245259.py:28: FutureWarning: The frame.append method is deprecated and will be removed from pandas in a future version. Use pandas.concat instead.\n",
      "  latlong_df = latlong_df.append({'address': address, 'etHash': etHash,'bucket_id': bucket_id}, ignore_index=True)\n"
     ]
    },
    {
     "name": "stdout",
     "output_type": "stream",
     "text": [
      "Yqq2CCQs3BHxjEQWM 350 AUTO PARK DR\n",
      "MIDDLETOWN DE  19709\n",
      "USA\n",
      "248\n"
     ]
    },
    {
     "name": "stderr",
     "output_type": "stream",
     "text": [
      "/tmp/ipykernel_198110/2077245259.py:28: FutureWarning: The frame.append method is deprecated and will be removed from pandas in a future version. Use pandas.concat instead.\n",
      "  latlong_df = latlong_df.append({'address': address, 'etHash': etHash,'bucket_id': bucket_id}, ignore_index=True)\n"
     ]
    },
    {
     "name": "stdout",
     "output_type": "stream",
     "text": [
      "ncKcmA5g5ehTAayRF 801 N DUPONT HWY\n",
      "DOVER DE  19901\n",
      "USA\n",
      "249\n"
     ]
    },
    {
     "name": "stderr",
     "output_type": "stream",
     "text": [
      "/tmp/ipykernel_198110/2077245259.py:28: FutureWarning: The frame.append method is deprecated and will be removed from pandas in a future version. Use pandas.concat instead.\n",
      "  latlong_df = latlong_df.append({'address': address, 'etHash': etHash,'bucket_id': bucket_id}, ignore_index=True)\n"
     ]
    },
    {
     "name": "stdout",
     "output_type": "stream",
     "text": [
      "sBiPuZx2Wgm799Q3B 460 E MAIN ST\n",
      "MIDDLETOWN DE  19709\n",
      "USA\n",
      "250\n"
     ]
    },
    {
     "name": "stderr",
     "output_type": "stream",
     "text": [
      "/tmp/ipykernel_198110/2077245259.py:28: FutureWarning: The frame.append method is deprecated and will be removed from pandas in a future version. Use pandas.concat instead.\n",
      "  latlong_df = latlong_df.append({'address': address, 'etHash': etHash,'bucket_id': bucket_id}, ignore_index=True)\n"
     ]
    },
    {
     "name": "stdout",
     "output_type": "stream",
     "text": [
      "oyFJ4DDjqqhfgzMxR 1030 FORREST AVE\n",
      "DOVER DE  19904\n",
      "USA\n",
      "251\n"
     ]
    },
    {
     "name": "stderr",
     "output_type": "stream",
     "text": [
      "/tmp/ipykernel_198110/2077245259.py:28: FutureWarning: The frame.append method is deprecated and will be removed from pandas in a future version. Use pandas.concat instead.\n",
      "  latlong_df = latlong_df.append({'address': address, 'etHash': etHash,'bucket_id': bucket_id}, ignore_index=True)\n"
     ]
    },
    {
     "name": "stdout",
     "output_type": "stream",
     "text": [
      "bvMCRpWphiKXRCRJb 375 GATEWAY SOUTH BLVD\n",
      "DOVER DE  19901\n",
      "USA\n",
      "252\n"
     ]
    },
    {
     "name": "stderr",
     "output_type": "stream",
     "text": [
      "/tmp/ipykernel_198110/2077245259.py:28: FutureWarning: The frame.append method is deprecated and will be removed from pandas in a future version. Use pandas.concat instead.\n",
      "  latlong_df = latlong_df.append({'address': address, 'etHash': etHash,'bucket_id': bucket_id}, ignore_index=True)\n"
     ]
    },
    {
     "name": "stdout",
     "output_type": "stream",
     "text": [
      "MGySZhGNZQcrM3Yky 1030 FORREST AVE\n",
      "DOVER DE  19904\n",
      "USA\n",
      "253\n"
     ]
    },
    {
     "name": "stderr",
     "output_type": "stream",
     "text": [
      "/tmp/ipykernel_198110/2077245259.py:28: FutureWarning: The frame.append method is deprecated and will be removed from pandas in a future version. Use pandas.concat instead.\n",
      "  latlong_df = latlong_df.append({'address': address, 'etHash': etHash,'bucket_id': bucket_id}, ignore_index=True)\n"
     ]
    },
    {
     "name": "stdout",
     "output_type": "stream",
     "text": [
      "vMJ9s2Q9Eo2fi5hxX 2405 HILLS ST\n",
      "FLINT MI  48503\n",
      "USA\n",
      "254\n"
     ]
    },
    {
     "name": "stderr",
     "output_type": "stream",
     "text": [
      "/tmp/ipykernel_198110/2077245259.py:28: FutureWarning: The frame.append method is deprecated and will be removed from pandas in a future version. Use pandas.concat instead.\n",
      "  latlong_df = latlong_df.append({'address': address, 'etHash': etHash,'bucket_id': bucket_id}, ignore_index=True)\n"
     ]
    },
    {
     "name": "stdout",
     "output_type": "stream",
     "text": [
      "hYKeH2F9SfhLDuMJR 8199 PERRY HWY\n",
      "ERIE PA  16509\n",
      "USA\n",
      "255\n"
     ]
    },
    {
     "name": "stderr",
     "output_type": "stream",
     "text": [
      "/tmp/ipykernel_198110/2077245259.py:28: FutureWarning: The frame.append method is deprecated and will be removed from pandas in a future version. Use pandas.concat instead.\n",
      "  latlong_df = latlong_df.append({'address': address, 'etHash': etHash,'bucket_id': bucket_id}, ignore_index=True)\n"
     ]
    },
    {
     "name": "stdout",
     "output_type": "stream",
     "text": [
      "CD9QS3ARibCv9cFeB 14550 GRAVES RD\n",
      "PINCKNEY MI  48169\n",
      "USA\n",
      "256\n"
     ]
    },
    {
     "name": "stderr",
     "output_type": "stream",
     "text": [
      "/tmp/ipykernel_198110/2077245259.py:28: FutureWarning: The frame.append method is deprecated and will be removed from pandas in a future version. Use pandas.concat instead.\n",
      "  latlong_df = latlong_df.append({'address': address, 'etHash': etHash,'bucket_id': bucket_id}, ignore_index=True)\n"
     ]
    },
    {
     "name": "stdout",
     "output_type": "stream",
     "text": [
      "r8wS4L7TbQWnuyu3G 1401 MICHIGAN AVE\n",
      "DETROIT MI  48216\n",
      "USA\n",
      "257\n"
     ]
    },
    {
     "name": "stderr",
     "output_type": "stream",
     "text": [
      "/tmp/ipykernel_198110/2077245259.py:28: FutureWarning: The frame.append method is deprecated and will be removed from pandas in a future version. Use pandas.concat instead.\n",
      "  latlong_df = latlong_df.append({'address': address, 'etHash': etHash,'bucket_id': bucket_id}, ignore_index=True)\n"
     ]
    },
    {
     "name": "stdout",
     "output_type": "stream",
     "text": [
      "bTwsq77uJrJHpfgWg 1001 N DELAWARE AVE\n",
      "PHILADELPHIA PA  19125\n",
      "USA\n",
      "258\n"
     ]
    },
    {
     "name": "stderr",
     "output_type": "stream",
     "text": [
      "/tmp/ipykernel_198110/2077245259.py:28: FutureWarning: The frame.append method is deprecated and will be removed from pandas in a future version. Use pandas.concat instead.\n",
      "  latlong_df = latlong_df.append({'address': address, 'etHash': etHash,'bucket_id': bucket_id}, ignore_index=True)\n"
     ]
    },
    {
     "name": "stdout",
     "output_type": "stream",
     "text": [
      "AMJaifuim22sgkgqi 100 S RIDGEWOOD AVE\n",
      "DAYTONA BEACH FL  32114\n",
      "USA\n",
      "259\n"
     ]
    },
    {
     "name": "stderr",
     "output_type": "stream",
     "text": [
      "/tmp/ipykernel_198110/2077245259.py:28: FutureWarning: The frame.append method is deprecated and will be removed from pandas in a future version. Use pandas.concat instead.\n",
      "  latlong_df = latlong_df.append({'address': address, 'etHash': etHash,'bucket_id': bucket_id}, ignore_index=True)\n"
     ]
    },
    {
     "name": "stdout",
     "output_type": "stream",
     "text": [
      "cPpQA9cz5eobB96WZ 111 W WASHINGTON ST\n",
      "LOUISVILLE KY  40202\n",
      "USA\n",
      "260\n"
     ]
    },
    {
     "name": "stderr",
     "output_type": "stream",
     "text": [
      "/tmp/ipykernel_198110/2077245259.py:28: FutureWarning: The frame.append method is deprecated and will be removed from pandas in a future version. Use pandas.concat instead.\n",
      "  latlong_df = latlong_df.append({'address': address, 'etHash': etHash,'bucket_id': bucket_id}, ignore_index=True)\n"
     ]
    },
    {
     "name": "stdout",
     "output_type": "stream",
     "text": [
      "kGqgRzYXciRn6PkFs 100 S RIDGEWOOD AVE\n",
      "DAYTONA BEACH FL  32114\n",
      "USA\n",
      "261\n"
     ]
    },
    {
     "name": "stderr",
     "output_type": "stream",
     "text": [
      "/tmp/ipykernel_198110/2077245259.py:28: FutureWarning: The frame.append method is deprecated and will be removed from pandas in a future version. Use pandas.concat instead.\n",
      "  latlong_df = latlong_df.append({'address': address, 'etHash': etHash,'bucket_id': bucket_id}, ignore_index=True)\n"
     ]
    },
    {
     "name": "stdout",
     "output_type": "stream",
     "text": [
      "c23iZj2KXaFLZrk7w 100 S RIDGEWOOD AVE\n",
      "DAYTONA BEACH FL  32114\n",
      "USA\n",
      "262\n"
     ]
    },
    {
     "name": "stderr",
     "output_type": "stream",
     "text": [
      "/tmp/ipykernel_198110/2077245259.py:28: FutureWarning: The frame.append method is deprecated and will be removed from pandas in a future version. Use pandas.concat instead.\n",
      "  latlong_df = latlong_df.append({'address': address, 'etHash': etHash,'bucket_id': bucket_id}, ignore_index=True)\n"
     ]
    },
    {
     "name": "stdout",
     "output_type": "stream",
     "text": [
      "zXBLDiNauPkwqsmfi 4022 W CARRIER RD\n",
      "ENID OK  73703\n",
      "USA\n",
      "263\n"
     ]
    },
    {
     "name": "stderr",
     "output_type": "stream",
     "text": [
      "/tmp/ipykernel_198110/2077245259.py:28: FutureWarning: The frame.append method is deprecated and will be removed from pandas in a future version. Use pandas.concat instead.\n",
      "  latlong_df = latlong_df.append({'address': address, 'etHash': etHash,'bucket_id': bucket_id}, ignore_index=True)\n"
     ]
    },
    {
     "name": "stdout",
     "output_type": "stream",
     "text": [
      "EY8GpYn5AhpTZPTZy 1014 S OAK AVE\n",
      "SANFORD FL  32771\n",
      "USA\n",
      "264\n"
     ]
    },
    {
     "name": "stderr",
     "output_type": "stream",
     "text": [
      "/tmp/ipykernel_198110/2077245259.py:28: FutureWarning: The frame.append method is deprecated and will be removed from pandas in a future version. Use pandas.concat instead.\n",
      "  latlong_df = latlong_df.append({'address': address, 'etHash': etHash,'bucket_id': bucket_id}, ignore_index=True)\n"
     ]
    },
    {
     "name": "stdout",
     "output_type": "stream",
     "text": [
      "QAAB6pgvCBDf2fDpq 220 N MAIN ST\n",
      "SEILING OK  73663\n",
      "USA\n",
      "265\n"
     ]
    },
    {
     "name": "stderr",
     "output_type": "stream",
     "text": [
      "/tmp/ipykernel_198110/2077245259.py:28: FutureWarning: The frame.append method is deprecated and will be removed from pandas in a future version. Use pandas.concat instead.\n",
      "  latlong_df = latlong_df.append({'address': address, 'etHash': etHash,'bucket_id': bucket_id}, ignore_index=True)\n"
     ]
    },
    {
     "name": "stdout",
     "output_type": "stream",
     "text": [
      "7Ea2FgupNm4cywPsN 301 N MAIN ST\n",
      "MEDFORD OK  73759\n",
      "USA\n",
      "266\n"
     ]
    },
    {
     "name": "stderr",
     "output_type": "stream",
     "text": [
      "/tmp/ipykernel_198110/2077245259.py:28: FutureWarning: The frame.append method is deprecated and will be removed from pandas in a future version. Use pandas.concat instead.\n",
      "  latlong_df = latlong_df.append({'address': address, 'etHash': etHash,'bucket_id': bucket_id}, ignore_index=True)\n"
     ]
    },
    {
     "name": "stdout",
     "output_type": "stream",
     "text": [
      "cYoMLcYft9SBaT7ZA 1111 DOWNS AVE\n",
      "WOODWARD OK  73801\n",
      "USA\n",
      "267\n"
     ]
    },
    {
     "name": "stderr",
     "output_type": "stream",
     "text": [
      "/tmp/ipykernel_198110/2077245259.py:28: FutureWarning: The frame.append method is deprecated and will be removed from pandas in a future version. Use pandas.concat instead.\n",
      "  latlong_df = latlong_df.append({'address': address, 'etHash': etHash,'bucket_id': bucket_id}, ignore_index=True)\n"
     ]
    },
    {
     "name": "stdout",
     "output_type": "stream",
     "text": [
      "P96i3NpaKQQZHCsXR 100 S RIDGEWOOD AVE\n",
      "DAYTONA BEACH FL  32114\n",
      "USA\n",
      "268\n"
     ]
    },
    {
     "name": "stderr",
     "output_type": "stream",
     "text": [
      "/tmp/ipykernel_198110/2077245259.py:28: FutureWarning: The frame.append method is deprecated and will be removed from pandas in a future version. Use pandas.concat instead.\n",
      "  latlong_df = latlong_df.append({'address': address, 'etHash': etHash,'bucket_id': bucket_id}, ignore_index=True)\n"
     ]
    },
    {
     "name": "stdout",
     "output_type": "stream",
     "text": [
      "CQWbwJaBHHScQPDGS 1100 S OCEAN BLVD\n",
      "PALM BEACH FL  33480\n",
      "USA\n",
      "269\n"
     ]
    },
    {
     "name": "stderr",
     "output_type": "stream",
     "text": [
      "/tmp/ipykernel_198110/2077245259.py:28: FutureWarning: The frame.append method is deprecated and will be removed from pandas in a future version. Use pandas.concat instead.\n",
      "  latlong_df = latlong_df.append({'address': address, 'etHash': etHash,'bucket_id': bucket_id}, ignore_index=True)\n"
     ]
    },
    {
     "name": "stdout",
     "output_type": "stream",
     "text": [
      "zof95mJo5oMBKpcAa 301 S INDEPENDENCE ST\n",
      "ENID OK  73701\n",
      "USA\n",
      "270\n"
     ]
    },
    {
     "name": "stderr",
     "output_type": "stream",
     "text": [
      "/tmp/ipykernel_198110/2077245259.py:28: FutureWarning: The frame.append method is deprecated and will be removed from pandas in a future version. Use pandas.concat instead.\n",
      "  latlong_df = latlong_df.append({'address': address, 'etHash': etHash,'bucket_id': bucket_id}, ignore_index=True)\n"
     ]
    },
    {
     "name": "stdout",
     "output_type": "stream",
     "text": [
      "BkjYbJz3F3TwSArF3 3799 LAS VEGAS BLVD S\n",
      "LAS VEGAS NV  89109\n",
      "USA\n",
      "271\n"
     ]
    },
    {
     "name": "stderr",
     "output_type": "stream",
     "text": [
      "/tmp/ipykernel_198110/2077245259.py:28: FutureWarning: The frame.append method is deprecated and will be removed from pandas in a future version. Use pandas.concat instead.\n",
      "  latlong_df = latlong_df.append({'address': address, 'etHash': etHash,'bucket_id': bucket_id}, ignore_index=True)\n"
     ]
    },
    {
     "name": "stdout",
     "output_type": "stream",
     "text": [
      "8QwvjTPsfjwDjsiRv 710 N PALAFOX ST\n",
      "PENSACOLA FL  32501\n",
      "USA\n",
      "272\n"
     ]
    },
    {
     "name": "stderr",
     "output_type": "stream",
     "text": [
      "/tmp/ipykernel_198110/2077245259.py:28: FutureWarning: The frame.append method is deprecated and will be removed from pandas in a future version. Use pandas.concat instead.\n",
      "  latlong_df = latlong_df.append({'address': address, 'etHash': etHash,'bucket_id': bucket_id}, ignore_index=True)\n"
     ]
    },
    {
     "name": "stdout",
     "output_type": "stream",
     "text": [
      "F2G9XaRdw82vmesMN 1020 W GARDEN ST\n",
      "PENSACOLA FL  32502\n",
      "USA\n",
      "273\n"
     ]
    },
    {
     "name": "stderr",
     "output_type": "stream",
     "text": [
      "/tmp/ipykernel_198110/2077245259.py:28: FutureWarning: The frame.append method is deprecated and will be removed from pandas in a future version. Use pandas.concat instead.\n",
      "  latlong_df = latlong_df.append({'address': address, 'etHash': etHash,'bucket_id': bucket_id}, ignore_index=True)\n"
     ]
    },
    {
     "name": "stdout",
     "output_type": "stream",
     "text": [
      "9K2amPxFwbxKnkCiE 1020 W GARDEN ST\n",
      "PENSACOLA FL  32502\n",
      "USA\n",
      "274\n"
     ]
    },
    {
     "name": "stderr",
     "output_type": "stream",
     "text": [
      "/tmp/ipykernel_198110/2077245259.py:28: FutureWarning: The frame.append method is deprecated and will be removed from pandas in a future version. Use pandas.concat instead.\n",
      "  latlong_df = latlong_df.append({'address': address, 'etHash': etHash,'bucket_id': bucket_id}, ignore_index=True)\n"
     ]
    },
    {
     "name": "stdout",
     "output_type": "stream",
     "text": [
      "4fcQ7ErzEDjP48pYv 1020 W GARDEN ST\n",
      "PENSACOLA FL  32502\n",
      "USA\n",
      "275\n"
     ]
    },
    {
     "name": "stderr",
     "output_type": "stream",
     "text": [
      "/tmp/ipykernel_198110/2077245259.py:28: FutureWarning: The frame.append method is deprecated and will be removed from pandas in a future version. Use pandas.concat instead.\n",
      "  latlong_df = latlong_df.append({'address': address, 'etHash': etHash,'bucket_id': bucket_id}, ignore_index=True)\n"
     ]
    },
    {
     "name": "stdout",
     "output_type": "stream",
     "text": [
      "R8rzhYJjjS76wtaFK 300 W MAIN ST\n",
      "PENSACOLA FL  32502\n",
      "USA\n",
      "276\n"
     ]
    },
    {
     "name": "stderr",
     "output_type": "stream",
     "text": [
      "/tmp/ipykernel_198110/2077245259.py:28: FutureWarning: The frame.append method is deprecated and will be removed from pandas in a future version. Use pandas.concat instead.\n",
      "  latlong_df = latlong_df.append({'address': address, 'etHash': etHash,'bucket_id': bucket_id}, ignore_index=True)\n"
     ]
    },
    {
     "name": "stdout",
     "output_type": "stream",
     "text": [
      "k7rkrsHDnWf8zy3qi 511 E GOVERNMENT ST\n",
      "PENSACOLA FL  32502\n",
      "USA\n",
      "277\n"
     ]
    },
    {
     "name": "stderr",
     "output_type": "stream",
     "text": [
      "/tmp/ipykernel_198110/2077245259.py:28: FutureWarning: The frame.append method is deprecated and will be removed from pandas in a future version. Use pandas.concat instead.\n",
      "  latlong_df = latlong_df.append({'address': address, 'etHash': etHash,'bucket_id': bucket_id}, ignore_index=True)\n"
     ]
    },
    {
     "name": "stdout",
     "output_type": "stream",
     "text": [
      "qtxxgBwcMS3pAdZwa 5 E GARDEN ST\n",
      "PENSACOLA FL  32502\n",
      "USA\n",
      "278\n"
     ]
    },
    {
     "name": "stderr",
     "output_type": "stream",
     "text": [
      "/tmp/ipykernel_198110/2077245259.py:28: FutureWarning: The frame.append method is deprecated and will be removed from pandas in a future version. Use pandas.concat instead.\n",
      "  latlong_df = latlong_df.append({'address': address, 'etHash': etHash,'bucket_id': bucket_id}, ignore_index=True)\n"
     ]
    },
    {
     "name": "stdout",
     "output_type": "stream",
     "text": [
      "oY9iL5q8566WwJ8tm 111 W WASHINGTON ST\n",
      "LOUISVILLE KY  40202\n",
      "USA\n",
      "279\n"
     ]
    },
    {
     "name": "stderr",
     "output_type": "stream",
     "text": [
      "/tmp/ipykernel_198110/2077245259.py:28: FutureWarning: The frame.append method is deprecated and will be removed from pandas in a future version. Use pandas.concat instead.\n",
      "  latlong_df = latlong_df.append({'address': address, 'etHash': etHash,'bucket_id': bucket_id}, ignore_index=True)\n"
     ]
    },
    {
     "name": "stdout",
     "output_type": "stream",
     "text": [
      "znHqZhWrFTDhqY4CD 1001 ROUTE 202\n",
      "RARITAN NJ  08869\n",
      "USA\n",
      "280\n"
     ]
    },
    {
     "name": "stderr",
     "output_type": "stream",
     "text": [
      "/tmp/ipykernel_198110/2077245259.py:28: FutureWarning: The frame.append method is deprecated and will be removed from pandas in a future version. Use pandas.concat instead.\n",
      "  latlong_df = latlong_df.append({'address': address, 'etHash': etHash,'bucket_id': bucket_id}, ignore_index=True)\n"
     ]
    },
    {
     "name": "stdout",
     "output_type": "stream",
     "text": [
      "78rSWRHDLK9tSP8KD 3 ALBANY ST\n",
      "NEW BRUNSWICK NJ  08901\n",
      "USA\n",
      "281\n"
     ]
    },
    {
     "name": "stderr",
     "output_type": "stream",
     "text": [
      "/tmp/ipykernel_198110/2077245259.py:28: FutureWarning: The frame.append method is deprecated and will be removed from pandas in a future version. Use pandas.concat instead.\n",
      "  latlong_df = latlong_df.append({'address': address, 'etHash': etHash,'bucket_id': bucket_id}, ignore_index=True)\n"
     ]
    },
    {
     "name": "stdout",
     "output_type": "stream",
     "text": [
      "CHgA5oZjXRmPk36ML 1125 BEAR TAVERN RD\n",
      "TITUSVILLE NJ  08560\n",
      "USA\n",
      "282\n"
     ]
    },
    {
     "name": "stderr",
     "output_type": "stream",
     "text": [
      "/tmp/ipykernel_198110/2077245259.py:28: FutureWarning: The frame.append method is deprecated and will be removed from pandas in a future version. Use pandas.concat instead.\n",
      "  latlong_df = latlong_df.append({'address': address, 'etHash': etHash,'bucket_id': bucket_id}, ignore_index=True)\n"
     ]
    },
    {
     "name": "stdout",
     "output_type": "stream",
     "text": [
      "S8aeZS7WR5cB7CatQ 199 GRANDVIEW RD\n",
      "SKILLMAN NJ  08558\n",
      "USA\n",
      "283\n"
     ]
    },
    {
     "name": "stderr",
     "output_type": "stream",
     "text": [
      "/tmp/ipykernel_198110/2077245259.py:28: FutureWarning: The frame.append method is deprecated and will be removed from pandas in a future version. Use pandas.concat instead.\n",
      "  latlong_df = latlong_df.append({'address': address, 'etHash': etHash,'bucket_id': bucket_id}, ignore_index=True)\n"
     ]
    },
    {
     "name": "stdout",
     "output_type": "stream",
     "text": [
      "np7DMeGnYTzQpiLfv 525 WASHINGTON BLVD\n",
      "JERSEY CITY NJ  07310\n",
      "USA\n",
      "284\n"
     ]
    },
    {
     "name": "stderr",
     "output_type": "stream",
     "text": [
      "/tmp/ipykernel_198110/2077245259.py:28: FutureWarning: The frame.append method is deprecated and will be removed from pandas in a future version. Use pandas.concat instead.\n",
      "  latlong_df = latlong_df.append({'address': address, 'etHash': etHash,'bucket_id': bucket_id}, ignore_index=True)\n"
     ]
    },
    {
     "name": "stdout",
     "output_type": "stream",
     "text": [
      "BE4o47BKGJRrmAXcq 768 ROUTE 202\n",
      "BRIDGEWATER NJ  08807\n",
      "USA\n",
      "285\n"
     ]
    },
    {
     "name": "stderr",
     "output_type": "stream",
     "text": [
      "/tmp/ipykernel_198110/2077245259.py:28: FutureWarning: The frame.append method is deprecated and will be removed from pandas in a future version. Use pandas.concat instead.\n",
      "  latlong_df = latlong_df.append({'address': address, 'etHash': etHash,'bucket_id': bucket_id}, ignore_index=True)\n"
     ]
    },
    {
     "name": "stdout",
     "output_type": "stream",
     "text": [
      "DPuLnaGPbpYdDrm2D 1511 ROUTE 22\n",
      "NORTH PLAINFIELD NJ  07069\n",
      "USA\n",
      "286\n"
     ]
    },
    {
     "name": "stderr",
     "output_type": "stream",
     "text": [
      "/tmp/ipykernel_198110/2077245259.py:28: FutureWarning: The frame.append method is deprecated and will be removed from pandas in a future version. Use pandas.concat instead.\n",
      "  latlong_df = latlong_df.append({'address': address, 'etHash': etHash,'bucket_id': bucket_id}, ignore_index=True)\n"
     ]
    },
    {
     "name": "stdout",
     "output_type": "stream",
     "text": [
      "E4MvRpBgmf4B5WreK 601 ROUTE 206\n",
      "HILLSBOROUGH NJ  08844\n",
      "USA\n",
      "287\n"
     ]
    },
    {
     "name": "stderr",
     "output_type": "stream",
     "text": [
      "/tmp/ipykernel_198110/2077245259.py:28: FutureWarning: The frame.append method is deprecated and will be removed from pandas in a future version. Use pandas.concat instead.\n",
      "  latlong_df = latlong_df.append({'address': address, 'etHash': etHash,'bucket_id': bucket_id}, ignore_index=True)\n"
     ]
    },
    {
     "name": "stdout",
     "output_type": "stream",
     "text": [
      "jN5CaDFzoGyZFdDxE 650 SHOPPES BLVD\n",
      "NORTH BRUNSWICK NJ  08902\n",
      "USA\n",
      "288\n"
     ]
    },
    {
     "name": "stderr",
     "output_type": "stream",
     "text": [
      "/tmp/ipykernel_198110/2077245259.py:28: FutureWarning: The frame.append method is deprecated and will be removed from pandas in a future version. Use pandas.concat instead.\n",
      "  latlong_df = latlong_df.append({'address': address, 'etHash': etHash,'bucket_id': bucket_id}, ignore_index=True)\n"
     ]
    },
    {
     "name": "stdout",
     "output_type": "stream",
     "text": [
      "FcXZBXHuJGWkcaHjR 940 EASTON AVE\n",
      "SOMERSET NJ  08873\n",
      "USA\n",
      "289\n"
     ]
    },
    {
     "name": "stderr",
     "output_type": "stream",
     "text": [
      "/tmp/ipykernel_198110/2077245259.py:28: FutureWarning: The frame.append method is deprecated and will be removed from pandas in a future version. Use pandas.concat instead.\n",
      "  latlong_df = latlong_df.append({'address': address, 'etHash': etHash,'bucket_id': bucket_id}, ignore_index=True)\n"
     ]
    },
    {
     "name": "stdout",
     "output_type": "stream",
     "text": [
      "8sJk5c97niJofcCQy 745 MAIN ST\n",
      "NIAGARA FALLS NY  14301\n",
      "USA\n",
      "290\n"
     ]
    },
    {
     "name": "stderr",
     "output_type": "stream",
     "text": [
      "/tmp/ipykernel_198110/2077245259.py:28: FutureWarning: The frame.append method is deprecated and will be removed from pandas in a future version. Use pandas.concat instead.\n",
      "  latlong_df = latlong_df.append({'address': address, 'etHash': etHash,'bucket_id': bucket_id}, ignore_index=True)\n"
     ]
    },
    {
     "name": "stdout",
     "output_type": "stream",
     "text": [
      "Nc5bQdYGFYQtSxaiG 800 MAIN ST\n",
      "NIAGARA FALLS NY  14301\n",
      "USA\n",
      "291\n"
     ]
    },
    {
     "name": "stderr",
     "output_type": "stream",
     "text": [
      "/tmp/ipykernel_198110/2077245259.py:28: FutureWarning: The frame.append method is deprecated and will be removed from pandas in a future version. Use pandas.concat instead.\n",
      "  latlong_df = latlong_df.append({'address': address, 'etHash': etHash,'bucket_id': bucket_id}, ignore_index=True)\n"
     ]
    },
    {
     "name": "stdout",
     "output_type": "stream",
     "text": [
      "fMtMR5GK46ty4tdW7 111 W WASHINGTON ST\n",
      "LOUISVILLE KY  40202\n",
      "USA\n",
      "292\n"
     ]
    },
    {
     "name": "stderr",
     "output_type": "stream",
     "text": [
      "/tmp/ipykernel_198110/2077245259.py:28: FutureWarning: The frame.append method is deprecated and will be removed from pandas in a future version. Use pandas.concat instead.\n",
      "  latlong_df = latlong_df.append({'address': address, 'etHash': etHash,'bucket_id': bucket_id}, ignore_index=True)\n"
     ]
    },
    {
     "name": "stdout",
     "output_type": "stream",
     "text": [
      "vcShbBymbSeAYrh5h 501 S COLLEGE ST\n",
      "CHARLOTTE NC  28202\n",
      "USA\n",
      "293\n"
     ]
    },
    {
     "name": "stderr",
     "output_type": "stream",
     "text": [
      "/tmp/ipykernel_198110/2077245259.py:28: FutureWarning: The frame.append method is deprecated and will be removed from pandas in a future version. Use pandas.concat instead.\n",
      "  latlong_df = latlong_df.append({'address': address, 'etHash': etHash,'bucket_id': bucket_id}, ignore_index=True)\n"
     ]
    },
    {
     "name": "stdout",
     "output_type": "stream",
     "text": [
      "9ACE5A4yS8eAGCBMk 100 S RIDGEWOOD AVE\n",
      "DAYTONA BEACH FL  32114\n",
      "USA\n",
      "294\n"
     ]
    },
    {
     "name": "stderr",
     "output_type": "stream",
     "text": [
      "/tmp/ipykernel_198110/2077245259.py:28: FutureWarning: The frame.append method is deprecated and will be removed from pandas in a future version. Use pandas.concat instead.\n",
      "  latlong_df = latlong_df.append({'address': address, 'etHash': etHash,'bucket_id': bucket_id}, ignore_index=True)\n"
     ]
    },
    {
     "name": "stdout",
     "output_type": "stream",
     "text": [
      "xwd3TuNmtBxk8qPfG 100 S RIDGEWOOD AVE\n",
      "DAYTONA BEACH FL  32114\n",
      "USA\n",
      "295\n"
     ]
    },
    {
     "name": "stderr",
     "output_type": "stream",
     "text": [
      "/tmp/ipykernel_198110/2077245259.py:28: FutureWarning: The frame.append method is deprecated and will be removed from pandas in a future version. Use pandas.concat instead.\n",
      "  latlong_df = latlong_df.append({'address': address, 'etHash': etHash,'bucket_id': bucket_id}, ignore_index=True)\n"
     ]
    },
    {
     "name": "stdout",
     "output_type": "stream",
     "text": [
      "gNi4jujytj5LJ4adr 175 WALNUT ST\n",
      "LOCKPORT NY  14094\n",
      "USA\n",
      "296\n"
     ]
    },
    {
     "name": "stderr",
     "output_type": "stream",
     "text": [
      "/tmp/ipykernel_198110/2077245259.py:28: FutureWarning: The frame.append method is deprecated and will be removed from pandas in a future version. Use pandas.concat instead.\n",
      "  latlong_df = latlong_df.append({'address': address, 'etHash': etHash,'bucket_id': bucket_id}, ignore_index=True)\n"
     ]
    },
    {
     "name": "stdout",
     "output_type": "stream",
     "text": [
      "qMC9h5mS8xvoQnP5E 3401 W LANCASTER AVE\n",
      "FORT WORTH TX  76107\n",
      "USA\n",
      "297\n"
     ]
    },
    {
     "name": "stderr",
     "output_type": "stream",
     "text": [
      "/tmp/ipykernel_198110/2077245259.py:28: FutureWarning: The frame.append method is deprecated and will be removed from pandas in a future version. Use pandas.concat instead.\n",
      "  latlong_df = latlong_df.append({'address': address, 'etHash': etHash,'bucket_id': bucket_id}, ignore_index=True)\n"
     ]
    },
    {
     "name": "stdout",
     "output_type": "stream",
     "text": [
      "WkcEzMu2jZc73grFL 111 W WASHINGTON ST\n",
      "LOUISVILLE KY  40202\n",
      "USA\n",
      "298\n"
     ]
    },
    {
     "name": "stderr",
     "output_type": "stream",
     "text": [
      "/tmp/ipykernel_198110/2077245259.py:28: FutureWarning: The frame.append method is deprecated and will be removed from pandas in a future version. Use pandas.concat instead.\n",
      "  latlong_df = latlong_df.append({'address': address, 'etHash': etHash,'bucket_id': bucket_id}, ignore_index=True)\n"
     ]
    },
    {
     "name": "stdout",
     "output_type": "stream",
     "text": [
      "uyuNbEgzoBsbpeztG 100 SOMERSET ST\n",
      "NEW BRUNSWICK NJ  08901\n",
      "USA\n",
      "299\n"
     ]
    },
    {
     "name": "stderr",
     "output_type": "stream",
     "text": [
      "/tmp/ipykernel_198110/2077245259.py:28: FutureWarning: The frame.append method is deprecated and will be removed from pandas in a future version. Use pandas.concat instead.\n",
      "  latlong_df = latlong_df.append({'address': address, 'etHash': etHash,'bucket_id': bucket_id}, ignore_index=True)\n"
     ]
    },
    {
     "name": "stdout",
     "output_type": "stream",
     "text": [
      "sGm433WogntEmNYTN 272 HWY 202/31\n",
      "FLEMINGTON NJ  08822\n",
      "USA\n",
      "300\n"
     ]
    },
    {
     "name": "stderr",
     "output_type": "stream",
     "text": [
      "/tmp/ipykernel_198110/2077245259.py:28: FutureWarning: The frame.append method is deprecated and will be removed from pandas in a future version. Use pandas.concat instead.\n",
      "  latlong_df = latlong_df.append({'address': address, 'etHash': etHash,'bucket_id': bucket_id}, ignore_index=True)\n"
     ]
    },
    {
     "name": "stdout",
     "output_type": "stream",
     "text": [
      "6uoAAZNG3XAKskXZ7 43 WATER ST\n",
      "NEW YORK NY  10004\n",
      "USA\n",
      "301\n"
     ]
    },
    {
     "name": "stderr",
     "output_type": "stream",
     "text": [
      "/tmp/ipykernel_198110/2077245259.py:28: FutureWarning: The frame.append method is deprecated and will be removed from pandas in a future version. Use pandas.concat instead.\n",
      "  latlong_df = latlong_df.append({'address': address, 'etHash': etHash,'bucket_id': bucket_id}, ignore_index=True)\n"
     ]
    },
    {
     "name": "stdout",
     "output_type": "stream",
     "text": [
      "hKNS22niPfEFTCrK6 430 ROUTE 22\n",
      "BRIDGEWATER NJ  08807\n",
      "USA\n",
      "302\n"
     ]
    },
    {
     "name": "stderr",
     "output_type": "stream",
     "text": [
      "/tmp/ipykernel_198110/2077245259.py:28: FutureWarning: The frame.append method is deprecated and will be removed from pandas in a future version. Use pandas.concat instead.\n",
      "  latlong_df = latlong_df.append({'address': address, 'etHash': etHash,'bucket_id': bucket_id}, ignore_index=True)\n"
     ]
    },
    {
     "name": "stdout",
     "output_type": "stream",
     "text": [
      "FN6XqzmWPKCp9T3QJ 1000 ROUTE 202\n",
      "RARITAN NJ  08869\n",
      "USA\n",
      "303\n"
     ]
    },
    {
     "name": "stderr",
     "output_type": "stream",
     "text": [
      "/tmp/ipykernel_198110/2077245259.py:28: FutureWarning: The frame.append method is deprecated and will be removed from pandas in a future version. Use pandas.concat instead.\n",
      "  latlong_df = latlong_df.append({'address': address, 'etHash': etHash,'bucket_id': bucket_id}, ignore_index=True)\n"
     ]
    },
    {
     "name": "stdout",
     "output_type": "stream",
     "text": [
      "WwxX9hjahJ3d3kYDq 38 ROCKINGHAM PARK BLVD\n",
      "SALEM NH  03079\n",
      "USA\n",
      "304\n"
     ]
    },
    {
     "name": "stderr",
     "output_type": "stream",
     "text": [
      "/tmp/ipykernel_198110/2077245259.py:28: FutureWarning: The frame.append method is deprecated and will be removed from pandas in a future version. Use pandas.concat instead.\n",
      "  latlong_df = latlong_df.append({'address': address, 'etHash': etHash,'bucket_id': bucket_id}, ignore_index=True)\n"
     ]
    },
    {
     "name": "stdout",
     "output_type": "stream",
     "text": [
      "DevyKzwKR4nWcZ24S 270 US-202\n",
      "RARITAN NJ  08869\n",
      "USA\n",
      "305\n"
     ]
    },
    {
     "name": "stderr",
     "output_type": "stream",
     "text": [
      "/tmp/ipykernel_198110/2077245259.py:28: FutureWarning: The frame.append method is deprecated and will be removed from pandas in a future version. Use pandas.concat instead.\n",
      "  latlong_df = latlong_df.append({'address': address, 'etHash': etHash,'bucket_id': bucket_id}, ignore_index=True)\n"
     ]
    },
    {
     "name": "stdout",
     "output_type": "stream",
     "text": [
      "x7yYCQoDcd5To3aJF 150 HIGHWAY 31\n",
      "FLEMINGTON NJ  08822\n",
      "USA\n",
      "306\n"
     ]
    },
    {
     "name": "stderr",
     "output_type": "stream",
     "text": [
      "/tmp/ipykernel_198110/2077245259.py:28: FutureWarning: The frame.append method is deprecated and will be removed from pandas in a future version. Use pandas.concat instead.\n",
      "  latlong_df = latlong_df.append({'address': address, 'etHash': etHash,'bucket_id': bucket_id}, ignore_index=True)\n"
     ]
    },
    {
     "name": "stdout",
     "output_type": "stream",
     "text": [
      "aMFQ3PsGyDXbndGgE 628 WARFIELD RD\n",
      "NORTH PLAINFIELD NJ  07063\n",
      "USA\n",
      "307\n"
     ]
    },
    {
     "name": "stderr",
     "output_type": "stream",
     "text": [
      "/tmp/ipykernel_198110/2077245259.py:28: FutureWarning: The frame.append method is deprecated and will be removed from pandas in a future version. Use pandas.concat instead.\n",
      "  latlong_df = latlong_df.append({'address': address, 'etHash': etHash,'bucket_id': bucket_id}, ignore_index=True)\n"
     ]
    },
    {
     "name": "stdout",
     "output_type": "stream",
     "text": [
      "zTkn8xYYGAafrH5Mn 315 ROUTE 206\n",
      "HILLSBOROUGH NJ  08844\n",
      "USA\n",
      "308\n"
     ]
    },
    {
     "name": "stderr",
     "output_type": "stream",
     "text": [
      "/tmp/ipykernel_198110/2077245259.py:28: FutureWarning: The frame.append method is deprecated and will be removed from pandas in a future version. Use pandas.concat instead.\n",
      "  latlong_df = latlong_df.append({'address': address, 'etHash': etHash,'bucket_id': bucket_id}, ignore_index=True)\n"
     ]
    },
    {
     "name": "stdout",
     "output_type": "stream",
     "text": [
      "ezuDDsWv8aKr3rAy5 495 METLARS LN\n",
      "PISCATAWAY NJ  08854\n",
      "USA\n",
      "309\n"
     ]
    },
    {
     "name": "stderr",
     "output_type": "stream",
     "text": [
      "/tmp/ipykernel_198110/2077245259.py:28: FutureWarning: The frame.append method is deprecated and will be removed from pandas in a future version. Use pandas.concat instead.\n",
      "  latlong_df = latlong_df.append({'address': address, 'etHash': etHash,'bucket_id': bucket_id}, ignore_index=True)\n"
     ]
    },
    {
     "name": "stdout",
     "output_type": "stream",
     "text": [
      "Tei88CgcvhrRRRMYc 3 CHURCH ST\n",
      "FLEMINGTON NJ  08822\n",
      "USA\n",
      "310\n"
     ]
    },
    {
     "name": "stderr",
     "output_type": "stream",
     "text": [
      "/tmp/ipykernel_198110/2077245259.py:28: FutureWarning: The frame.append method is deprecated and will be removed from pandas in a future version. Use pandas.concat instead.\n",
      "  latlong_df = latlong_df.append({'address': address, 'etHash': etHash,'bucket_id': bucket_id}, ignore_index=True)\n"
     ]
    },
    {
     "name": "stdout",
     "output_type": "stream",
     "text": [
      "7pnMrG2ZxmxgLBJnt 125 VETERANS DR\n",
      "WHITE RIVER JUNCTION VT  05001\n",
      "USA\n",
      "311\n"
     ]
    },
    {
     "name": "stderr",
     "output_type": "stream",
     "text": [
      "/tmp/ipykernel_198110/2077245259.py:28: FutureWarning: The frame.append method is deprecated and will be removed from pandas in a future version. Use pandas.concat instead.\n",
      "  latlong_df = latlong_df.append({'address': address, 'etHash': etHash,'bucket_id': bucket_id}, ignore_index=True)\n"
     ]
    },
    {
     "name": "stdout",
     "output_type": "stream",
     "text": [
      "mtZPgfhGsr6h4ost6 601 ROUTE 206\n",
      "HILLSBOROUGH NJ  08844\n",
      "USA\n",
      "312\n"
     ]
    },
    {
     "name": "stderr",
     "output_type": "stream",
     "text": [
      "/tmp/ipykernel_198110/2077245259.py:28: FutureWarning: The frame.append method is deprecated and will be removed from pandas in a future version. Use pandas.concat instead.\n",
      "  latlong_df = latlong_df.append({'address': address, 'etHash': etHash,'bucket_id': bucket_id}, ignore_index=True)\n"
     ]
    },
    {
     "name": "stdout",
     "output_type": "stream",
     "text": [
      "DjQ7kpBhBN6iQNiRS 628 WARFIELD RD\n",
      "NORTH PLAINFIELD NJ  07063\n",
      "USA\n",
      "313\n"
     ]
    },
    {
     "name": "stderr",
     "output_type": "stream",
     "text": [
      "/tmp/ipykernel_198110/2077245259.py:28: FutureWarning: The frame.append method is deprecated and will be removed from pandas in a future version. Use pandas.concat instead.\n",
      "  latlong_df = latlong_df.append({'address': address, 'etHash': etHash,'bucket_id': bucket_id}, ignore_index=True)\n"
     ]
    },
    {
     "name": "stdout",
     "output_type": "stream",
     "text": [
      "RDBtpoaJH7bCZH8Ni 628 WARFIELD RD\n",
      "NORTH PLAINFIELD NJ  07063\n",
      "USA\n",
      "314\n"
     ]
    },
    {
     "name": "stderr",
     "output_type": "stream",
     "text": [
      "/tmp/ipykernel_198110/2077245259.py:28: FutureWarning: The frame.append method is deprecated and will be removed from pandas in a future version. Use pandas.concat instead.\n",
      "  latlong_df = latlong_df.append({'address': address, 'etHash': etHash,'bucket_id': bucket_id}, ignore_index=True)\n"
     ]
    },
    {
     "name": "stdout",
     "output_type": "stream",
     "text": [
      "eJfoyohu5TL5tkd52 4 CANAL ST\n",
      "NEW ORLEANS LA  70130\n",
      "USA\n",
      "315\n"
     ]
    },
    {
     "name": "stderr",
     "output_type": "stream",
     "text": [
      "/tmp/ipykernel_198110/2077245259.py:28: FutureWarning: The frame.append method is deprecated and will be removed from pandas in a future version. Use pandas.concat instead.\n",
      "  latlong_df = latlong_df.append({'address': address, 'etHash': etHash,'bucket_id': bucket_id}, ignore_index=True)\n"
     ]
    },
    {
     "name": "stdout",
     "output_type": "stream",
     "text": [
      "6jCkgzCRTkirrLPYq 80 W WATER ST\n",
      "INLET BEACH FL  32461\n",
      "USA\n",
      "316\n"
     ]
    },
    {
     "name": "stderr",
     "output_type": "stream",
     "text": [
      "/tmp/ipykernel_198110/2077245259.py:28: FutureWarning: The frame.append method is deprecated and will be removed from pandas in a future version. Use pandas.concat instead.\n",
      "  latlong_df = latlong_df.append({'address': address, 'etHash': etHash,'bucket_id': bucket_id}, ignore_index=True)\n"
     ]
    },
    {
     "name": "stdout",
     "output_type": "stream",
     "text": [
      "HzfY5NvFbRWjvEaY9 205 MAIN ST\n",
      "HIGHLANDS NC  28741\n",
      "USA\n",
      "317\n"
     ]
    },
    {
     "name": "stderr",
     "output_type": "stream",
     "text": [
      "/tmp/ipykernel_198110/2077245259.py:28: FutureWarning: The frame.append method is deprecated and will be removed from pandas in a future version. Use pandas.concat instead.\n",
      "  latlong_df = latlong_df.append({'address': address, 'etHash': etHash,'bucket_id': bucket_id}, ignore_index=True)\n"
     ]
    },
    {
     "name": "stdout",
     "output_type": "stream",
     "text": [
      "Z6F2RzRd7hTtmDHMB 1500 MONROE ST\n",
      "FORT MYERS FL  33901\n",
      "USA\n",
      "318\n"
     ]
    },
    {
     "name": "stderr",
     "output_type": "stream",
     "text": [
      "/tmp/ipykernel_198110/2077245259.py:28: FutureWarning: The frame.append method is deprecated and will be removed from pandas in a future version. Use pandas.concat instead.\n",
      "  latlong_df = latlong_df.append({'address': address, 'etHash': etHash,'bucket_id': bucket_id}, ignore_index=True)\n"
     ]
    },
    {
     "name": "stdout",
     "output_type": "stream",
     "text": [
      "SgqFYyvzwEramv2Ng 111 W WASHINGTON ST\n",
      "LOUISVILLE KY  40202\n",
      "USA\n",
      "319\n"
     ]
    },
    {
     "name": "stderr",
     "output_type": "stream",
     "text": [
      "/tmp/ipykernel_198110/2077245259.py:28: FutureWarning: The frame.append method is deprecated and will be removed from pandas in a future version. Use pandas.concat instead.\n",
      "  latlong_df = latlong_df.append({'address': address, 'etHash': etHash,'bucket_id': bucket_id}, ignore_index=True)\n"
     ]
    },
    {
     "name": "stdout",
     "output_type": "stream",
     "text": [
      "g9QXppoT32uHnyX8X 111 W WASHINGTON ST\n",
      "LOUISVILLE KY  40202\n",
      "USA\n",
      "320\n"
     ]
    },
    {
     "name": "stderr",
     "output_type": "stream",
     "text": [
      "/tmp/ipykernel_198110/2077245259.py:28: FutureWarning: The frame.append method is deprecated and will be removed from pandas in a future version. Use pandas.concat instead.\n",
      "  latlong_df = latlong_df.append({'address': address, 'etHash': etHash,'bucket_id': bucket_id}, ignore_index=True)\n"
     ]
    },
    {
     "name": "stdout",
     "output_type": "stream",
     "text": [
      "99ZTYieQqYzdB8MQy 3021 TILDEN AVE\n",
      "NEW YORK NY  11226\n",
      "USA\n",
      "321\n"
     ]
    },
    {
     "name": "stderr",
     "output_type": "stream",
     "text": [
      "/tmp/ipykernel_198110/2077245259.py:28: FutureWarning: The frame.append method is deprecated and will be removed from pandas in a future version. Use pandas.concat instead.\n",
      "  latlong_df = latlong_df.append({'address': address, 'etHash': etHash,'bucket_id': bucket_id}, ignore_index=True)\n"
     ]
    },
    {
     "name": "stdout",
     "output_type": "stream",
     "text": [
      "TcYZqJmuWSwtkbvdA 3021 TILDEN AVE\n",
      "NEW YORK NY  11226\n",
      "USA\n",
      "322\n"
     ]
    },
    {
     "name": "stderr",
     "output_type": "stream",
     "text": [
      "/tmp/ipykernel_198110/2077245259.py:28: FutureWarning: The frame.append method is deprecated and will be removed from pandas in a future version. Use pandas.concat instead.\n",
      "  latlong_df = latlong_df.append({'address': address, 'etHash': etHash,'bucket_id': bucket_id}, ignore_index=True)\n"
     ]
    },
    {
     "name": "stdout",
     "output_type": "stream",
     "text": [
      "bD3vekfLbpqAbGzkA 3021 TILDEN AVE\n",
      "NEW YORK NY  11226\n",
      "USA\n",
      "323\n"
     ]
    },
    {
     "name": "stderr",
     "output_type": "stream",
     "text": [
      "/tmp/ipykernel_198110/2077245259.py:28: FutureWarning: The frame.append method is deprecated and will be removed from pandas in a future version. Use pandas.concat instead.\n",
      "  latlong_df = latlong_df.append({'address': address, 'etHash': etHash,'bucket_id': bucket_id}, ignore_index=True)\n"
     ]
    },
    {
     "name": "stdout",
     "output_type": "stream",
     "text": [
      "D5J8ibZuiPrEuSJv2 1000 BANK ST\n",
      "RICHMOND VA  23219\n",
      "USA\n",
      "324\n"
     ]
    },
    {
     "name": "stderr",
     "output_type": "stream",
     "text": [
      "/tmp/ipykernel_198110/2077245259.py:28: FutureWarning: The frame.append method is deprecated and will be removed from pandas in a future version. Use pandas.concat instead.\n",
      "  latlong_df = latlong_df.append({'address': address, 'etHash': etHash,'bucket_id': bucket_id}, ignore_index=True)\n"
     ]
    },
    {
     "name": "stdout",
     "output_type": "stream",
     "text": [
      "eDEwcDTKgbfAmd5jo 911 E MAIN ST\n",
      "RICHMOND VA  23219\n",
      "USA\n",
      "325\n"
     ]
    },
    {
     "name": "stderr",
     "output_type": "stream",
     "text": [
      "/tmp/ipykernel_198110/2077245259.py:28: FutureWarning: The frame.append method is deprecated and will be removed from pandas in a future version. Use pandas.concat instead.\n",
      "  latlong_df = latlong_df.append({'address': address, 'etHash': etHash,'bucket_id': bucket_id}, ignore_index=True)\n"
     ]
    },
    {
     "name": "stdout",
     "output_type": "stream",
     "text": [
      "HHpYSbQyZy83habKf 7501 BOULDER VIEW DR\n",
      "RICHMOND VA  23225\n",
      "USA\n",
      "326\n"
     ]
    },
    {
     "name": "stderr",
     "output_type": "stream",
     "text": [
      "/tmp/ipykernel_198110/2077245259.py:28: FutureWarning: The frame.append method is deprecated and will be removed from pandas in a future version. Use pandas.concat instead.\n",
      "  latlong_df = latlong_df.append({'address': address, 'etHash': etHash,'bucket_id': bucket_id}, ignore_index=True)\n"
     ]
    },
    {
     "name": "stdout",
     "output_type": "stream",
     "text": [
      "HtFTuk5cBjTut7Ffo 1400 MARKET ST\n",
      "SAINT LOUIS MO  63103\n",
      "USA\n",
      "327\n"
     ]
    },
    {
     "name": "stderr",
     "output_type": "stream",
     "text": [
      "/tmp/ipykernel_198110/2077245259.py:28: FutureWarning: The frame.append method is deprecated and will be removed from pandas in a future version. Use pandas.concat instead.\n",
      "  latlong_df = latlong_df.append({'address': address, 'etHash': etHash,'bucket_id': bucket_id}, ignore_index=True)\n"
     ]
    },
    {
     "name": "stdout",
     "output_type": "stream",
     "text": [
      "xbk6wJtGs8pwjMxa4 1400 MARKET ST\n",
      "SAINT LOUIS MO  63103\n",
      "USA\n",
      "328\n"
     ]
    },
    {
     "name": "stderr",
     "output_type": "stream",
     "text": [
      "/tmp/ipykernel_198110/2077245259.py:28: FutureWarning: The frame.append method is deprecated and will be removed from pandas in a future version. Use pandas.concat instead.\n",
      "  latlong_df = latlong_df.append({'address': address, 'etHash': etHash,'bucket_id': bucket_id}, ignore_index=True)\n"
     ]
    },
    {
     "name": "stdout",
     "output_type": "stream",
     "text": [
      "YTijmsEQ6swGCYmxe 1400 MARKET ST\n",
      "SAINT LOUIS MO  63103\n",
      "USA\n",
      "329\n"
     ]
    },
    {
     "name": "stderr",
     "output_type": "stream",
     "text": [
      "/tmp/ipykernel_198110/2077245259.py:28: FutureWarning: The frame.append method is deprecated and will be removed from pandas in a future version. Use pandas.concat instead.\n",
      "  latlong_df = latlong_df.append({'address': address, 'etHash': etHash,'bucket_id': bucket_id}, ignore_index=True)\n"
     ]
    },
    {
     "name": "stdout",
     "output_type": "stream",
     "text": [
      "5gk2b5SvkE8gCQ727 2200 BISCAYNE BLVD\n",
      "MIAMI FL  33137\n",
      "USA\n",
      "330\n"
     ]
    },
    {
     "name": "stderr",
     "output_type": "stream",
     "text": [
      "/tmp/ipykernel_198110/2077245259.py:28: FutureWarning: The frame.append method is deprecated and will be removed from pandas in a future version. Use pandas.concat instead.\n",
      "  latlong_df = latlong_df.append({'address': address, 'etHash': etHash,'bucket_id': bucket_id}, ignore_index=True)\n"
     ]
    },
    {
     "name": "stdout",
     "output_type": "stream",
     "text": [
      "jCnu6BtPvuKKjC8nv 111 W WASHINGTON ST\n",
      "LOUISVILLE KY  40202\n",
      "USA\n",
      "331\n"
     ]
    },
    {
     "name": "stderr",
     "output_type": "stream",
     "text": [
      "/tmp/ipykernel_198110/2077245259.py:28: FutureWarning: The frame.append method is deprecated and will be removed from pandas in a future version. Use pandas.concat instead.\n",
      "  latlong_df = latlong_df.append({'address': address, 'etHash': etHash,'bucket_id': bucket_id}, ignore_index=True)\n"
     ]
    },
    {
     "name": "stdout",
     "output_type": "stream",
     "text": [
      "MCSAiQmv6SGgtJszC 111 W WASHINGTON ST\n",
      "LOUISVILLE KY  40202\n",
      "USA\n",
      "332\n"
     ]
    },
    {
     "name": "stderr",
     "output_type": "stream",
     "text": [
      "/tmp/ipykernel_198110/2077245259.py:28: FutureWarning: The frame.append method is deprecated and will be removed from pandas in a future version. Use pandas.concat instead.\n",
      "  latlong_df = latlong_df.append({'address': address, 'etHash': etHash,'bucket_id': bucket_id}, ignore_index=True)\n"
     ]
    },
    {
     "name": "stdout",
     "output_type": "stream",
     "text": [
      "LBBMJrDpZBN452k4C 4490 FM-1185\n",
      "DALE TX  78616\n",
      "USA\n",
      "333\n"
     ]
    },
    {
     "name": "stderr",
     "output_type": "stream",
     "text": [
      "/tmp/ipykernel_198110/2077245259.py:28: FutureWarning: The frame.append method is deprecated and will be removed from pandas in a future version. Use pandas.concat instead.\n",
      "  latlong_df = latlong_df.append({'address': address, 'etHash': etHash,'bucket_id': bucket_id}, ignore_index=True)\n"
     ]
    },
    {
     "name": "stdout",
     "output_type": "stream",
     "text": [
      "9dFtyxjfoYp5teTtu 8625 MONTICELLO LN N\n",
      "MAPLE GROVE MN  55369\n",
      "USA\n",
      "334\n"
     ]
    },
    {
     "name": "stderr",
     "output_type": "stream",
     "text": [
      "/tmp/ipykernel_198110/2077245259.py:28: FutureWarning: The frame.append method is deprecated and will be removed from pandas in a future version. Use pandas.concat instead.\n",
      "  latlong_df = latlong_df.append({'address': address, 'etHash': etHash,'bucket_id': bucket_id}, ignore_index=True)\n"
     ]
    },
    {
     "name": "stdout",
     "output_type": "stream",
     "text": [
      "SABdjdJ8fhunpC5fB 3205 COUNTRY DR\n",
      "LITTLE CANADA MN  55117\n",
      "USA\n",
      "335\n"
     ]
    },
    {
     "name": "stderr",
     "output_type": "stream",
     "text": [
      "/tmp/ipykernel_198110/2077245259.py:28: FutureWarning: The frame.append method is deprecated and will be removed from pandas in a future version. Use pandas.concat instead.\n",
      "  latlong_df = latlong_df.append({'address': address, 'etHash': etHash,'bucket_id': bucket_id}, ignore_index=True)\n"
     ]
    },
    {
     "name": "stdout",
     "output_type": "stream",
     "text": [
      "6No4vc6icDZjDHyFy 2180 OLD HIGHWAY 8 NW\n",
      "NEW BRIGHTON MN  55112\n",
      "USA\n",
      "336\n"
     ]
    },
    {
     "name": "stderr",
     "output_type": "stream",
     "text": [
      "/tmp/ipykernel_198110/2077245259.py:28: FutureWarning: The frame.append method is deprecated and will be removed from pandas in a future version. Use pandas.concat instead.\n",
      "  latlong_df = latlong_df.append({'address': address, 'etHash': etHash,'bucket_id': bucket_id}, ignore_index=True)\n"
     ]
    },
    {
     "name": "stdout",
     "output_type": "stream",
     "text": [
      "2NoXXbgtt83GFye99 6700 W BROADWAY AVE\n",
      "BROOKLYN PARK MN  55428\n",
      "USA\n",
      "337\n"
     ]
    },
    {
     "name": "stderr",
     "output_type": "stream",
     "text": [
      "/tmp/ipykernel_198110/2077245259.py:28: FutureWarning: The frame.append method is deprecated and will be removed from pandas in a future version. Use pandas.concat instead.\n",
      "  latlong_df = latlong_df.append({'address': address, 'etHash': etHash,'bucket_id': bucket_id}, ignore_index=True)\n"
     ]
    },
    {
     "name": "stdout",
     "output_type": "stream",
     "text": [
      "As8Fdrittx9CQAhhc 529 COUNTY ROAD E W\n",
      "SHOREVIEW MN  55126\n",
      "USA\n",
      "338\n"
     ]
    },
    {
     "name": "stderr",
     "output_type": "stream",
     "text": [
      "/tmp/ipykernel_198110/2077245259.py:28: FutureWarning: The frame.append method is deprecated and will be removed from pandas in a future version. Use pandas.concat instead.\n",
      "  latlong_df = latlong_df.append({'address': address, 'etHash': etHash,'bucket_id': bucket_id}, ignore_index=True)\n"
     ]
    },
    {
     "name": "stdout",
     "output_type": "stream",
     "text": [
      "Cx65fux9qCccxx5Su 2350 MAIN ST\n",
      "LINO LAKES MN  55038\n",
      "USA\n",
      "339\n"
     ]
    },
    {
     "name": "stderr",
     "output_type": "stream",
     "text": [
      "/tmp/ipykernel_198110/2077245259.py:28: FutureWarning: The frame.append method is deprecated and will be removed from pandas in a future version. Use pandas.concat instead.\n",
      "  latlong_df = latlong_df.append({'address': address, 'etHash': etHash,'bucket_id': bucket_id}, ignore_index=True)\n"
     ]
    },
    {
     "name": "stdout",
     "output_type": "stream",
     "text": [
      "AsNPdEu9cw8rf3XKm 165 6TH AVE # 2901\n",
      "SAN DIEGO CA  92101\n",
      "USA\n",
      "340\n"
     ]
    },
    {
     "name": "stderr",
     "output_type": "stream",
     "text": [
      "/tmp/ipykernel_198110/2077245259.py:28: FutureWarning: The frame.append method is deprecated and will be removed from pandas in a future version. Use pandas.concat instead.\n",
      "  latlong_df = latlong_df.append({'address': address, 'etHash': etHash,'bucket_id': bucket_id}, ignore_index=True)\n"
     ]
    },
    {
     "name": "stdout",
     "output_type": "stream",
     "text": [
      "syL3TSqWtHSshM5zp 801 MOUNT VERNON PL NW\n",
      "WASHINGTON DC  20001\n",
      "USA\n",
      "341\n"
     ]
    },
    {
     "name": "stderr",
     "output_type": "stream",
     "text": [
      "/tmp/ipykernel_198110/2077245259.py:28: FutureWarning: The frame.append method is deprecated and will be removed from pandas in a future version. Use pandas.concat instead.\n",
      "  latlong_df = latlong_df.append({'address': address, 'etHash': etHash,'bucket_id': bucket_id}, ignore_index=True)\n"
     ]
    },
    {
     "name": "stdout",
     "output_type": "stream",
     "text": [
      "tXmrMcfa2dm7Kp4E5 111 W WASHINGTON ST\n",
      "LOUISVILLE KY  40202\n",
      "USA\n",
      "342\n"
     ]
    },
    {
     "name": "stderr",
     "output_type": "stream",
     "text": [
      "/tmp/ipykernel_198110/2077245259.py:28: FutureWarning: The frame.append method is deprecated and will be removed from pandas in a future version. Use pandas.concat instead.\n",
      "  latlong_df = latlong_df.append({'address': address, 'etHash': etHash,'bucket_id': bucket_id}, ignore_index=True)\n"
     ]
    },
    {
     "name": "stdout",
     "output_type": "stream",
     "text": [
      "sqToWFfLxYAu5eP5q 111 W HARBOR DR\n",
      "SAN DIEGO CA  92101\n",
      "USA\n",
      "343\n"
     ]
    },
    {
     "name": "stderr",
     "output_type": "stream",
     "text": [
      "/tmp/ipykernel_198110/2077245259.py:28: FutureWarning: The frame.append method is deprecated and will be removed from pandas in a future version. Use pandas.concat instead.\n",
      "  latlong_df = latlong_df.append({'address': address, 'etHash': etHash,'bucket_id': bucket_id}, ignore_index=True)\n"
     ]
    },
    {
     "name": "stdout",
     "output_type": "stream",
     "text": [
      "DqWFHtwxpi62QQ8wG \n",
      "LONG BEACH CA  90815\n",
      "USA\n",
      "344\n"
     ]
    },
    {
     "name": "stderr",
     "output_type": "stream",
     "text": [
      "/tmp/ipykernel_198110/2077245259.py:28: FutureWarning: The frame.append method is deprecated and will be removed from pandas in a future version. Use pandas.concat instead.\n",
      "  latlong_df = latlong_df.append({'address': address, 'etHash': etHash,'bucket_id': bucket_id}, ignore_index=True)\n"
     ]
    },
    {
     "name": "stdout",
     "output_type": "stream",
     "text": [
      "yhGfYLxaXYx3ShERM 36 RICHMOND TER\n",
      "NEW YORK NY  10301\n",
      "USA\n",
      "345\n"
     ]
    },
    {
     "name": "stderr",
     "output_type": "stream",
     "text": [
      "/tmp/ipykernel_198110/2077245259.py:28: FutureWarning: The frame.append method is deprecated and will be removed from pandas in a future version. Use pandas.concat instead.\n",
      "  latlong_df = latlong_df.append({'address': address, 'etHash': etHash,'bucket_id': bucket_id}, ignore_index=True)\n"
     ]
    },
    {
     "name": "stdout",
     "output_type": "stream",
     "text": [
      "23FjETT3epKEZ4zHa 36 RICHMOND TER\n",
      "NEW YORK NY  10301\n",
      "USA\n",
      "346\n"
     ]
    },
    {
     "name": "stderr",
     "output_type": "stream",
     "text": [
      "/tmp/ipykernel_198110/2077245259.py:28: FutureWarning: The frame.append method is deprecated and will be removed from pandas in a future version. Use pandas.concat instead.\n",
      "  latlong_df = latlong_df.append({'address': address, 'etHash': etHash,'bucket_id': bucket_id}, ignore_index=True)\n"
     ]
    },
    {
     "name": "stdout",
     "output_type": "stream",
     "text": [
      "xDDXwzQgtfhhxfNv7 957 E 233RD ST\n",
      "NEW YORK NY  10466\n",
      "USA\n",
      "347\n"
     ]
    },
    {
     "name": "stderr",
     "output_type": "stream",
     "text": [
      "/tmp/ipykernel_198110/2077245259.py:28: FutureWarning: The frame.append method is deprecated and will be removed from pandas in a future version. Use pandas.concat instead.\n",
      "  latlong_df = latlong_df.append({'address': address, 'etHash': etHash,'bucket_id': bucket_id}, ignore_index=True)\n"
     ]
    },
    {
     "name": "stdout",
     "output_type": "stream",
     "text": [
      "Xp4aTQEqXMB9QbGWi 541 FREMONT DR\n",
      "PASADENA CA  91103\n",
      "USA\n",
      "348\n"
     ]
    },
    {
     "name": "stderr",
     "output_type": "stream",
     "text": [
      "/tmp/ipykernel_198110/2077245259.py:28: FutureWarning: The frame.append method is deprecated and will be removed from pandas in a future version. Use pandas.concat instead.\n",
      "  latlong_df = latlong_df.append({'address': address, 'etHash': etHash,'bucket_id': bucket_id}, ignore_index=True)\n"
     ]
    },
    {
     "name": "stdout",
     "output_type": "stream",
     "text": [
      "CYBdjWhp6cKEdLbg3 957 E 233RD ST\n",
      "NEW YORK NY  10466\n",
      "USA\n",
      "349\n"
     ]
    },
    {
     "name": "stderr",
     "output_type": "stream",
     "text": [
      "/tmp/ipykernel_198110/2077245259.py:28: FutureWarning: The frame.append method is deprecated and will be removed from pandas in a future version. Use pandas.concat instead.\n",
      "  latlong_df = latlong_df.append({'address': address, 'etHash': etHash,'bucket_id': bucket_id}, ignore_index=True)\n"
     ]
    },
    {
     "name": "stdout",
     "output_type": "stream",
     "text": [
      "T79wyPYRboaz7dDjY 64 EAGLE ST\n",
      "ALBANY NY  12207\n",
      "USA\n",
      "350\n"
     ]
    },
    {
     "name": "stderr",
     "output_type": "stream",
     "text": [
      "/tmp/ipykernel_198110/2077245259.py:28: FutureWarning: The frame.append method is deprecated and will be removed from pandas in a future version. Use pandas.concat instead.\n",
      "  latlong_df = latlong_df.append({'address': address, 'etHash': etHash,'bucket_id': bucket_id}, ignore_index=True)\n"
     ]
    },
    {
     "name": "stdout",
     "output_type": "stream",
     "text": [
      "EiNPd7DWtbhSfwSQv 38-34 BELL BLVD\n",
      "NEW YORK NY  11361\n",
      "USA\n",
      "351\n"
     ]
    },
    {
     "name": "stderr",
     "output_type": "stream",
     "text": [
      "/tmp/ipykernel_198110/2077245259.py:28: FutureWarning: The frame.append method is deprecated and will be removed from pandas in a future version. Use pandas.concat instead.\n",
      "  latlong_df = latlong_df.append({'address': address, 'etHash': etHash,'bucket_id': bucket_id}, ignore_index=True)\n"
     ]
    },
    {
     "name": "stdout",
     "output_type": "stream",
     "text": [
      "Ja88xDxJ7icm6Qa4s 840 UNIVERSITY AVE\n",
      "ROCHESTER NY  14607\n",
      "USA\n",
      "352\n"
     ]
    },
    {
     "name": "stderr",
     "output_type": "stream",
     "text": [
      "/tmp/ipykernel_198110/2077245259.py:28: FutureWarning: The frame.append method is deprecated and will be removed from pandas in a future version. Use pandas.concat instead.\n",
      "  latlong_df = latlong_df.append({'address': address, 'etHash': etHash,'bucket_id': bucket_id}, ignore_index=True)\n"
     ]
    },
    {
     "name": "stdout",
     "output_type": "stream",
     "text": [
      "DcsZRzoJZ3AtYqcmH 4000 EDGMONT AVE # 1\n",
      "BROOKHAVEN PA  19015\n",
      "USA\n",
      "353\n"
     ]
    },
    {
     "name": "stderr",
     "output_type": "stream",
     "text": [
      "/tmp/ipykernel_198110/2077245259.py:28: FutureWarning: The frame.append method is deprecated and will be removed from pandas in a future version. Use pandas.concat instead.\n",
      "  latlong_df = latlong_df.append({'address': address, 'etHash': etHash,'bucket_id': bucket_id}, ignore_index=True)\n"
     ]
    },
    {
     "name": "stdout",
     "output_type": "stream",
     "text": [
      "3DZmoX8apiNhwNnA2 303 S BROADWAY\n",
      "TARRYTOWN NY  10591\n",
      "USA\n",
      "354\n"
     ]
    },
    {
     "name": "stderr",
     "output_type": "stream",
     "text": [
      "/tmp/ipykernel_198110/2077245259.py:28: FutureWarning: The frame.append method is deprecated and will be removed from pandas in a future version. Use pandas.concat instead.\n",
      "  latlong_df = latlong_df.append({'address': address, 'etHash': etHash,'bucket_id': bucket_id}, ignore_index=True)\n"
     ]
    },
    {
     "name": "stdout",
     "output_type": "stream",
     "text": [
      "z35ZWAzkMG5b9tAeQ 2180 OLD HIGHWAY 8 NW\n",
      "NEW BRIGHTON MN  55112\n",
      "USA\n",
      "355\n"
     ]
    },
    {
     "name": "stderr",
     "output_type": "stream",
     "text": [
      "/tmp/ipykernel_198110/2077245259.py:28: FutureWarning: The frame.append method is deprecated and will be removed from pandas in a future version. Use pandas.concat instead.\n",
      "  latlong_df = latlong_df.append({'address': address, 'etHash': etHash,'bucket_id': bucket_id}, ignore_index=True)\n"
     ]
    },
    {
     "name": "stdout",
     "output_type": "stream",
     "text": [
      "FWr2tHeZNXc2wmnKT 630 OKLAHOMA BLVD\n",
      "ALVA OK  73717\n",
      "USA\n",
      "356\n"
     ]
    },
    {
     "name": "stderr",
     "output_type": "stream",
     "text": [
      "/tmp/ipykernel_198110/2077245259.py:28: FutureWarning: The frame.append method is deprecated and will be removed from pandas in a future version. Use pandas.concat instead.\n",
      "  latlong_df = latlong_df.append({'address': address, 'etHash': etHash,'bucket_id': bucket_id}, ignore_index=True)\n"
     ]
    },
    {
     "name": "stdout",
     "output_type": "stream",
     "text": [
      "AkrzGThLpYnTbP8Wd 216 W OXFORD AVE\n",
      "ENID OK  73701\n",
      "USA\n",
      "357\n"
     ]
    },
    {
     "name": "stderr",
     "output_type": "stream",
     "text": [
      "/tmp/ipykernel_198110/2077245259.py:28: FutureWarning: The frame.append method is deprecated and will be removed from pandas in a future version. Use pandas.concat instead.\n",
      "  latlong_df = latlong_df.append({'address': address, 'etHash': etHash,'bucket_id': bucket_id}, ignore_index=True)\n"
     ]
    },
    {
     "name": "stdout",
     "output_type": "stream",
     "text": [
      "mQsC3L4eokwpYpuPM 601 BALTIMORE PIKE # PK\n",
      "SPRINGFIELD PA  19064\n",
      "USA\n",
      "358\n"
     ]
    },
    {
     "name": "stderr",
     "output_type": "stream",
     "text": [
      "/tmp/ipykernel_198110/2077245259.py:28: FutureWarning: The frame.append method is deprecated and will be removed from pandas in a future version. Use pandas.concat instead.\n",
      "  latlong_df = latlong_df.append({'address': address, 'etHash': etHash,'bucket_id': bucket_id}, ignore_index=True)\n"
     ]
    },
    {
     "name": "stdout",
     "output_type": "stream",
     "text": [
      "LBLEfw86XGaEEkTAw 3601 NW MARINE DR # W\n",
      "TROUTDALE OR  97060\n",
      "USA\n",
      "359\n"
     ]
    },
    {
     "name": "stderr",
     "output_type": "stream",
     "text": [
      "/tmp/ipykernel_198110/2077245259.py:28: FutureWarning: The frame.append method is deprecated and will be removed from pandas in a future version. Use pandas.concat instead.\n",
      "  latlong_df = latlong_df.append({'address': address, 'etHash': etHash,'bucket_id': bucket_id}, ignore_index=True)\n"
     ]
    },
    {
     "name": "stdout",
     "output_type": "stream",
     "text": [
      "aP5JKx34LLfc3Pcid 7933 N UPLAND DR\n",
      "PORTLAND OR  97203\n",
      "USA\n",
      "360\n"
     ]
    },
    {
     "name": "stderr",
     "output_type": "stream",
     "text": [
      "/tmp/ipykernel_198110/2077245259.py:28: FutureWarning: The frame.append method is deprecated and will be removed from pandas in a future version. Use pandas.concat instead.\n",
      "  latlong_df = latlong_df.append({'address': address, 'etHash': etHash,'bucket_id': bucket_id}, ignore_index=True)\n"
     ]
    },
    {
     "name": "stdout",
     "output_type": "stream",
     "text": [
      "Bkycke2PEZFfSme5x 9639 N RIVERGATE BLVD\n",
      "PORTLAND OR  97203\n",
      "USA\n",
      "361\n"
     ]
    },
    {
     "name": "stderr",
     "output_type": "stream",
     "text": [
      "/tmp/ipykernel_198110/2077245259.py:28: FutureWarning: The frame.append method is deprecated and will be removed from pandas in a future version. Use pandas.concat instead.\n",
      "  latlong_df = latlong_df.append({'address': address, 'etHash': etHash,'bucket_id': bucket_id}, ignore_index=True)\n"
     ]
    },
    {
     "name": "stdout",
     "output_type": "stream",
     "text": [
      "2yi4nzRaWACWndYC7 501 VARSITY RD\n",
      "GRIFFIN GA  30223\n",
      "USA\n",
      "362\n"
     ]
    },
    {
     "name": "stderr",
     "output_type": "stream",
     "text": [
      "/tmp/ipykernel_198110/2077245259.py:28: FutureWarning: The frame.append method is deprecated and will be removed from pandas in a future version. Use pandas.concat instead.\n",
      "  latlong_df = latlong_df.append({'address': address, 'etHash': etHash,'bucket_id': bucket_id}, ignore_index=True)\n"
     ]
    },
    {
     "name": "stdout",
     "output_type": "stream",
     "text": [
      "cdPRk6JKWkawyXpkj \n",
      "CARROLLTON GA  30117\n",
      "USA\n",
      "363\n"
     ]
    },
    {
     "name": "stderr",
     "output_type": "stream",
     "text": [
      "/tmp/ipykernel_198110/2077245259.py:28: FutureWarning: The frame.append method is deprecated and will be removed from pandas in a future version. Use pandas.concat instead.\n",
      "  latlong_df = latlong_df.append({'address': address, 'etHash': etHash,'bucket_id': bucket_id}, ignore_index=True)\n"
     ]
    },
    {
     "name": "stdout",
     "output_type": "stream",
     "text": [
      "fRrRbKwpWP4YzXzJs 4600 TIMBER RIDGE DR\n",
      "DOUGLASVILLE GA  30135\n",
      "USA\n",
      "364\n"
     ]
    },
    {
     "name": "stderr",
     "output_type": "stream",
     "text": [
      "/tmp/ipykernel_198110/2077245259.py:28: FutureWarning: The frame.append method is deprecated and will be removed from pandas in a future version. Use pandas.concat instead.\n",
      "  latlong_df = latlong_df.append({'address': address, 'etHash': etHash,'bucket_id': bucket_id}, ignore_index=True)\n"
     ]
    },
    {
     "name": "stdout",
     "output_type": "stream",
     "text": [
      "YBoY3Hvk29C33B3NX 176 MURPHY CAMPUS BLVD\n",
      "WACO GA  30182\n",
      "USA\n",
      "365\n"
     ]
    },
    {
     "name": "stderr",
     "output_type": "stream",
     "text": [
      "/tmp/ipykernel_198110/2077245259.py:28: FutureWarning: The frame.append method is deprecated and will be removed from pandas in a future version. Use pandas.concat instead.\n",
      "  latlong_df = latlong_df.append({'address': address, 'etHash': etHash,'bucket_id': bucket_id}, ignore_index=True)\n"
     ]
    },
    {
     "name": "stdout",
     "output_type": "stream",
     "text": [
      "EkPvcbharM3ou7Np9 401 ADAMSON SQ\n",
      "CARROLLTON GA  30117\n",
      "USA\n",
      "366\n"
     ]
    },
    {
     "name": "stderr",
     "output_type": "stream",
     "text": [
      "/tmp/ipykernel_198110/2077245259.py:28: FutureWarning: The frame.append method is deprecated and will be removed from pandas in a future version. Use pandas.concat instead.\n",
      "  latlong_df = latlong_df.append({'address': address, 'etHash': etHash,'bucket_id': bucket_id}, ignore_index=True)\n"
     ]
    },
    {
     "name": "stdout",
     "output_type": "stream",
     "text": [
      "a9bzY8WTeyez9Qomb 200 CAMPUS DR\n",
      "NEWNAN GA  30263\n",
      "USA\n",
      "367\n"
     ]
    },
    {
     "name": "stderr",
     "output_type": "stream",
     "text": [
      "/tmp/ipykernel_198110/2077245259.py:28: FutureWarning: The frame.append method is deprecated and will be removed from pandas in a future version. Use pandas.concat instead.\n",
      "  latlong_df = latlong_df.append({'address': address, 'etHash': etHash,'bucket_id': bucket_id}, ignore_index=True)\n"
     ]
    },
    {
     "name": "stdout",
     "output_type": "stream",
     "text": [
      "wSSZHwP4FxsqFt2Hz 1302 ORCHARD HILL RD\n",
      "LAGRANGE GA  30240\n",
      "USA\n",
      "368\n"
     ]
    },
    {
     "name": "stderr",
     "output_type": "stream",
     "text": [
      "/tmp/ipykernel_198110/2077245259.py:28: FutureWarning: The frame.append method is deprecated and will be removed from pandas in a future version. Use pandas.concat instead.\n",
      "  latlong_df = latlong_df.append({'address': address, 'etHash': etHash,'bucket_id': bucket_id}, ignore_index=True)\n"
     ]
    },
    {
     "name": "stdout",
     "output_type": "stream",
     "text": [
      "G4TaTsKBNtzTiHoE9 800 N US 29 HWY\n",
      "ATHENS GA  30601\n",
      "USA\n",
      "369\n"
     ]
    },
    {
     "name": "stderr",
     "output_type": "stream",
     "text": [
      "/tmp/ipykernel_198110/2077245259.py:28: FutureWarning: The frame.append method is deprecated and will be removed from pandas in a future version. Use pandas.concat instead.\n",
      "  latlong_df = latlong_df.append({'address': address, 'etHash': etHash,'bucket_id': bucket_id}, ignore_index=True)\n"
     ]
    },
    {
     "name": "stdout",
     "output_type": "stream",
     "text": [
      "BSekNFT43R9F2Pkwy 304 RUSSELL FIELD RD NE\n",
      "ROME GA  30165\n",
      "USA\n",
      "370\n"
     ]
    },
    {
     "name": "stderr",
     "output_type": "stream",
     "text": [
      "/tmp/ipykernel_198110/2077245259.py:28: FutureWarning: The frame.append method is deprecated and will be removed from pandas in a future version. Use pandas.concat instead.\n",
      "  latlong_df = latlong_df.append({'address': address, 'etHash': etHash,'bucket_id': bucket_id}, ignore_index=True)\n"
     ]
    },
    {
     "name": "stdout",
     "output_type": "stream",
     "text": [
      "bv8hNvyHDdCkttDg4 112 HEMLOCK ST SW\n",
      "ROME GA  30161\n",
      "USA\n",
      "371\n"
     ]
    },
    {
     "name": "stderr",
     "output_type": "stream",
     "text": [
      "/tmp/ipykernel_198110/2077245259.py:28: FutureWarning: The frame.append method is deprecated and will be removed from pandas in a future version. Use pandas.concat instead.\n",
      "  latlong_df = latlong_df.append({'address': address, 'etHash': etHash,'bucket_id': bucket_id}, ignore_index=True)\n"
     ]
    },
    {
     "name": "stdout",
     "output_type": "stream",
     "text": [
      "355DbCxR8S7EA9snQ 2555 LANIER TECH DR\n",
      "GAINESVILLE GA  30507\n",
      "USA\n",
      "372\n"
     ]
    },
    {
     "name": "stderr",
     "output_type": "stream",
     "text": [
      "/tmp/ipykernel_198110/2077245259.py:28: FutureWarning: The frame.append method is deprecated and will be removed from pandas in a future version. Use pandas.concat instead.\n",
      "  latlong_df = latlong_df.append({'address': address, 'etHash': etHash,'bucket_id': bucket_id}, ignore_index=True)\n"
     ]
    },
    {
     "name": "stdout",
     "output_type": "stream",
     "text": [
      "NC96NZauhK4eiE5Qg 340 N 3RD ST\n",
      "PHOENIX AZ  85004\n",
      "USA\n",
      "373\n"
     ]
    },
    {
     "name": "stderr",
     "output_type": "stream",
     "text": [
      "/tmp/ipykernel_198110/2077245259.py:28: FutureWarning: The frame.append method is deprecated and will be removed from pandas in a future version. Use pandas.concat instead.\n",
      "  latlong_df = latlong_df.append({'address': address, 'etHash': etHash,'bucket_id': bucket_id}, ignore_index=True)\n"
     ]
    },
    {
     "name": "stdout",
     "output_type": "stream",
     "text": [
      "qAZp4NxoeLfkmvPwH 10 ALICE PECK DAY DR\n",
      "LEBANON NH  03766\n",
      "USA\n",
      "374\n"
     ]
    },
    {
     "name": "stderr",
     "output_type": "stream",
     "text": [
      "/tmp/ipykernel_198110/2077245259.py:28: FutureWarning: The frame.append method is deprecated and will be removed from pandas in a future version. Use pandas.concat instead.\n",
      "  latlong_df = latlong_df.append({'address': address, 'etHash': etHash,'bucket_id': bucket_id}, ignore_index=True)\n"
     ]
    },
    {
     "name": "stdout",
     "output_type": "stream",
     "text": [
      "fkfawZyyPsLA9BMEX 2745 CRITTENDEN DR\n",
      "LOUISVILLE KY  40209\n",
      "USA\n",
      "375\n"
     ]
    },
    {
     "name": "stderr",
     "output_type": "stream",
     "text": [
      "/tmp/ipykernel_198110/2077245259.py:28: FutureWarning: The frame.append method is deprecated and will be removed from pandas in a future version. Use pandas.concat instead.\n",
      "  latlong_df = latlong_df.append({'address': address, 'etHash': etHash,'bucket_id': bucket_id}, ignore_index=True)\n"
     ]
    },
    {
     "name": "stdout",
     "output_type": "stream",
     "text": [
      "AMRPd2JopBhavzWeH 300 CONVENTION CENTER DR\n",
      "LAS VEGAS NV  89109\n",
      "USA\n",
      "376\n"
     ]
    },
    {
     "name": "stderr",
     "output_type": "stream",
     "text": [
      "/tmp/ipykernel_198110/2077245259.py:28: FutureWarning: The frame.append method is deprecated and will be removed from pandas in a future version. Use pandas.concat instead.\n",
      "  latlong_df = latlong_df.append({'address': address, 'etHash': etHash,'bucket_id': bucket_id}, ignore_index=True)\n"
     ]
    },
    {
     "name": "stdout",
     "output_type": "stream",
     "text": [
      "a9n3miG82d7TmasyB 2450 ENTERPRISE ST\n",
      "LOS ANGELES CA  90021\n",
      "USA\n",
      "377\n"
     ]
    },
    {
     "name": "stderr",
     "output_type": "stream",
     "text": [
      "/tmp/ipykernel_198110/2077245259.py:28: FutureWarning: The frame.append method is deprecated and will be removed from pandas in a future version. Use pandas.concat instead.\n",
      "  latlong_df = latlong_df.append({'address': address, 'etHash': etHash,'bucket_id': bucket_id}, ignore_index=True)\n"
     ]
    },
    {
     "name": "stdout",
     "output_type": "stream",
     "text": [
      "fKeaRJA2saGBMCDp3 5451 ARVILLE ST\n",
      "LAS VEGAS NV  89118\n",
      "USA\n",
      "378\n"
     ]
    },
    {
     "name": "stderr",
     "output_type": "stream",
     "text": [
      "/tmp/ipykernel_198110/2077245259.py:28: FutureWarning: The frame.append method is deprecated and will be removed from pandas in a future version. Use pandas.concat instead.\n",
      "  latlong_df = latlong_df.append({'address': address, 'etHash': etHash,'bucket_id': bucket_id}, ignore_index=True)\n"
     ]
    },
    {
     "name": "stdout",
     "output_type": "stream",
     "text": [
      "wnvgJPFnarzCjnbuk 510 MASSIE RD\n",
      "CHARLOTTESVILLE VA  22903\n",
      "USA\n",
      "379\n"
     ]
    },
    {
     "name": "stderr",
     "output_type": "stream",
     "text": [
      "/tmp/ipykernel_198110/2077245259.py:28: FutureWarning: The frame.append method is deprecated and will be removed from pandas in a future version. Use pandas.concat instead.\n",
      "  latlong_df = latlong_df.append({'address': address, 'etHash': etHash,'bucket_id': bucket_id}, ignore_index=True)\n"
     ]
    },
    {
     "name": "stdout",
     "output_type": "stream",
     "text": [
      "Sor4iKP784Fj24uC5 1760 HIGHWAY 36 W\n",
      "ROSEVILLE MN  55113\n",
      "USA\n",
      "380\n"
     ]
    },
    {
     "name": "stderr",
     "output_type": "stream",
     "text": [
      "/tmp/ipykernel_198110/2077245259.py:28: FutureWarning: The frame.append method is deprecated and will be removed from pandas in a future version. Use pandas.concat instead.\n",
      "  latlong_df = latlong_df.append({'address': address, 'etHash': etHash,'bucket_id': bucket_id}, ignore_index=True)\n"
     ]
    },
    {
     "name": "stdout",
     "output_type": "stream",
     "text": [
      "EM4dT32PPe2ZhgRo2 2420 CLEVELAND AVE N\n",
      "ROSEVILLE MN  55113\n",
      "USA\n",
      "381\n"
     ]
    },
    {
     "name": "stderr",
     "output_type": "stream",
     "text": [
      "/tmp/ipykernel_198110/2077245259.py:28: FutureWarning: The frame.append method is deprecated and will be removed from pandas in a future version. Use pandas.concat instead.\n",
      "  latlong_df = latlong_df.append({'address': address, 'etHash': etHash,'bucket_id': bucket_id}, ignore_index=True)\n"
     ]
    },
    {
     "name": "stdout",
     "output_type": "stream",
     "text": [
      "JeuaNSipgLAH287Co 2001 COUNTY ROAD C2 W\n",
      "ROSEVILLE MN  55113\n",
      "USA\n",
      "382\n"
     ]
    },
    {
     "name": "stderr",
     "output_type": "stream",
     "text": [
      "/tmp/ipykernel_198110/2077245259.py:28: FutureWarning: The frame.append method is deprecated and will be removed from pandas in a future version. Use pandas.concat instead.\n",
      "  latlong_df = latlong_df.append({'address': address, 'etHash': etHash,'bucket_id': bucket_id}, ignore_index=True)\n"
     ]
    },
    {
     "name": "stdout",
     "output_type": "stream",
     "text": [
      "seFfC533BxK2XDZgh 4800 WHITE BEAR PKWY\n",
      "WHITE BEAR LAKE MN  55110\n",
      "USA\n",
      "383\n"
     ]
    },
    {
     "name": "stderr",
     "output_type": "stream",
     "text": [
      "/tmp/ipykernel_198110/2077245259.py:28: FutureWarning: The frame.append method is deprecated and will be removed from pandas in a future version. Use pandas.concat instead.\n",
      "  latlong_df = latlong_df.append({'address': address, 'etHash': etHash,'bucket_id': bucket_id}, ignore_index=True)\n"
     ]
    },
    {
     "name": "stdout",
     "output_type": "stream",
     "text": [
      "qpqXcZa8guodQJXcq 4600 VICTORIA ST N\n",
      "SHOREVIEW MN  55126\n",
      "USA\n",
      "384\n"
     ]
    },
    {
     "name": "stderr",
     "output_type": "stream",
     "text": [
      "/tmp/ipykernel_198110/2077245259.py:28: FutureWarning: The frame.append method is deprecated and will be removed from pandas in a future version. Use pandas.concat instead.\n",
      "  latlong_df = latlong_df.append({'address': address, 'etHash': etHash,'bucket_id': bucket_id}, ignore_index=True)\n"
     ]
    },
    {
     "name": "stdout",
     "output_type": "stream",
     "text": [
      "EoqkC6F6Fwh7o29dh 1901 S COLUMBUS BLVD\n",
      "PHILADELPHIA PA  19148\n",
      "USA\n",
      "385\n"
     ]
    },
    {
     "name": "stderr",
     "output_type": "stream",
     "text": [
      "/tmp/ipykernel_198110/2077245259.py:28: FutureWarning: The frame.append method is deprecated and will be removed from pandas in a future version. Use pandas.concat instead.\n",
      "  latlong_df = latlong_df.append({'address': address, 'etHash': etHash,'bucket_id': bucket_id}, ignore_index=True)\n"
     ]
    },
    {
     "name": "stdout",
     "output_type": "stream",
     "text": [
      "vg9ZKawXsqc7W39Jb 100 PREMIUM OUTLETS DR\n",
      "GRENLOCH NJ  08012\n",
      "USA\n",
      "386\n"
     ]
    },
    {
     "name": "stderr",
     "output_type": "stream",
     "text": [
      "/tmp/ipykernel_198110/2077245259.py:28: FutureWarning: The frame.append method is deprecated and will be removed from pandas in a future version. Use pandas.concat instead.\n",
      "  latlong_df = latlong_df.append({'address': address, 'etHash': etHash,'bucket_id': bucket_id}, ignore_index=True)\n"
     ]
    },
    {
     "name": "stdout",
     "output_type": "stream",
     "text": [
      "MgExbYogAQ8aRsrk7 120 BLACK HORSE PIKE\n",
      "AUDUBON NJ  08106\n",
      "USA\n",
      "387\n"
     ]
    },
    {
     "name": "stderr",
     "output_type": "stream",
     "text": [
      "/tmp/ipykernel_198110/2077245259.py:28: FutureWarning: The frame.append method is deprecated and will be removed from pandas in a future version. Use pandas.concat instead.\n",
      "  latlong_df = latlong_df.append({'address': address, 'etHash': etHash,'bucket_id': bucket_id}, ignore_index=True)\n"
     ]
    },
    {
     "name": "stdout",
     "output_type": "stream",
     "text": [
      "cFnbx5K2AArawXLJh 18 W LIGHTCAP RD\n",
      "POTTSTOWN PA  19464\n",
      "USA\n",
      "388\n"
     ]
    },
    {
     "name": "stderr",
     "output_type": "stream",
     "text": [
      "/tmp/ipykernel_198110/2077245259.py:28: FutureWarning: The frame.append method is deprecated and will be removed from pandas in a future version. Use pandas.concat instead.\n",
      "  latlong_df = latlong_df.append({'address': address, 'etHash': etHash,'bucket_id': bucket_id}, ignore_index=True)\n"
     ]
    },
    {
     "name": "stdout",
     "output_type": "stream",
     "text": [
      "7wp47YYGav4wNKLdd 100 PREMIUM OUTLETS DR\n",
      "GRENLOCH NJ  08012\n",
      "USA\n",
      "389\n"
     ]
    },
    {
     "name": "stderr",
     "output_type": "stream",
     "text": [
      "/tmp/ipykernel_198110/2077245259.py:28: FutureWarning: The frame.append method is deprecated and will be removed from pandas in a future version. Use pandas.concat instead.\n",
      "  latlong_df = latlong_df.append({'address': address, 'etHash': etHash,'bucket_id': bucket_id}, ignore_index=True)\n"
     ]
    },
    {
     "name": "stdout",
     "output_type": "stream",
     "text": [
      "njx7uew4mxMC8y6jy 120 BLACK HORSE PIKE\n",
      "AUDUBON NJ  08106\n",
      "USA\n",
      "390\n"
     ]
    },
    {
     "name": "stderr",
     "output_type": "stream",
     "text": [
      "/tmp/ipykernel_198110/2077245259.py:28: FutureWarning: The frame.append method is deprecated and will be removed from pandas in a future version. Use pandas.concat instead.\n",
      "  latlong_df = latlong_df.append({'address': address, 'etHash': etHash,'bucket_id': bucket_id}, ignore_index=True)\n"
     ]
    },
    {
     "name": "stdout",
     "output_type": "stream",
     "text": [
      "cpGmKgHTwAdDTDgoJ 6 CENTERTON RD\n",
      "MOUNT LAUREL NJ  08054\n",
      "USA\n",
      "391\n"
     ]
    },
    {
     "name": "stderr",
     "output_type": "stream",
     "text": [
      "/tmp/ipykernel_198110/2077245259.py:28: FutureWarning: The frame.append method is deprecated and will be removed from pandas in a future version. Use pandas.concat instead.\n",
      "  latlong_df = latlong_df.append({'address': address, 'etHash': etHash,'bucket_id': bucket_id}, ignore_index=True)\n"
     ]
    },
    {
     "name": "stdout",
     "output_type": "stream",
     "text": [
      "4P9kYrpGbHDzCm4HF 9173 ROOSEVELT BLVD\n",
      "PHILADELPHIA PA  19114\n",
      "USA\n",
      "392\n"
     ]
    },
    {
     "name": "stderr",
     "output_type": "stream",
     "text": [
      "/tmp/ipykernel_198110/2077245259.py:28: FutureWarning: The frame.append method is deprecated and will be removed from pandas in a future version. Use pandas.concat instead.\n",
      "  latlong_df = latlong_df.append({'address': address, 'etHash': etHash,'bucket_id': bucket_id}, ignore_index=True)\n"
     ]
    },
    {
     "name": "stdout",
     "output_type": "stream",
     "text": [
      "bKvrvrfK7KoCr2vmq 1001 MARKET ST\n",
      "PHILADELPHIA PA  19107\n",
      "USA\n",
      "393\n"
     ]
    },
    {
     "name": "stderr",
     "output_type": "stream",
     "text": [
      "/tmp/ipykernel_198110/2077245259.py:28: FutureWarning: The frame.append method is deprecated and will be removed from pandas in a future version. Use pandas.concat instead.\n",
      "  latlong_df = latlong_df.append({'address': address, 'etHash': etHash,'bucket_id': bucket_id}, ignore_index=True)\n"
     ]
    },
    {
     "name": "stdout",
     "output_type": "stream",
     "text": [
      "gW5rWfY4rrxDGDa8q 1750 DEPTFORD CENTER RD\n",
      "WOODBURY NJ  08096\n",
      "USA\n",
      "394\n"
     ]
    },
    {
     "name": "stderr",
     "output_type": "stream",
     "text": [
      "/tmp/ipykernel_198110/2077245259.py:28: FutureWarning: The frame.append method is deprecated and will be removed from pandas in a future version. Use pandas.concat instead.\n",
      "  latlong_df = latlong_df.append({'address': address, 'etHash': etHash,'bucket_id': bucket_id}, ignore_index=True)\n"
     ]
    },
    {
     "name": "stdout",
     "output_type": "stream",
     "text": [
      "fLHaRpnEhzrQdkB86 2000 ROUTE 38\n",
      "CHERRY HILL NJ  08002\n",
      "USA\n",
      "395\n"
     ]
    },
    {
     "name": "stderr",
     "output_type": "stream",
     "text": [
      "/tmp/ipykernel_198110/2077245259.py:28: FutureWarning: The frame.append method is deprecated and will be removed from pandas in a future version. Use pandas.concat instead.\n",
      "  latlong_df = latlong_df.append({'address': address, 'etHash': etHash,'bucket_id': bucket_id}, ignore_index=True)\n"
     ]
    },
    {
     "name": "stdout",
     "output_type": "stream",
     "text": [
      "a7ffC5rMA4SXymcS4 1920 EASTON RD\n",
      "WILLOW GROVE PA  19090\n",
      "USA\n",
      "396\n"
     ]
    },
    {
     "name": "stderr",
     "output_type": "stream",
     "text": [
      "/tmp/ipykernel_198110/2077245259.py:28: FutureWarning: The frame.append method is deprecated and will be removed from pandas in a future version. Use pandas.concat instead.\n",
      "  latlong_df = latlong_df.append({'address': address, 'etHash': etHash,'bucket_id': bucket_id}, ignore_index=True)\n"
     ]
    },
    {
     "name": "stdout",
     "output_type": "stream",
     "text": [
      "m7h3PyRLRTc2eh5ui 220 BALTIMORE PIKE\n",
      "SPRINGFIELD PA  19064\n",
      "USA\n",
      "397\n"
     ]
    },
    {
     "name": "stderr",
     "output_type": "stream",
     "text": [
      "/tmp/ipykernel_198110/2077245259.py:28: FutureWarning: The frame.append method is deprecated and will be removed from pandas in a future version. Use pandas.concat instead.\n",
      "  latlong_df = latlong_df.append({'address': address, 'etHash': etHash,'bucket_id': bucket_id}, ignore_index=True)\n"
     ]
    },
    {
     "name": "stdout",
     "output_type": "stream",
     "text": [
      "i22yQz25CD5TnQn2z 2327 COTTMAN AVE\n",
      "PHILADELPHIA PA  19149\n",
      "USA\n",
      "398\n"
     ]
    },
    {
     "name": "stderr",
     "output_type": "stream",
     "text": [
      "/tmp/ipykernel_198110/2077245259.py:28: FutureWarning: The frame.append method is deprecated and will be removed from pandas in a future version. Use pandas.concat instead.\n",
      "  latlong_df = latlong_df.append({'address': address, 'etHash': etHash,'bucket_id': bucket_id}, ignore_index=True)\n"
     ]
    },
    {
     "name": "stdout",
     "output_type": "stream",
     "text": [
      "wX55eChcSjGAEDRAm 226 HADDONFIELD RD\n",
      "CHERRY HILL NJ  08002\n",
      "USA\n",
      "399\n"
     ]
    },
    {
     "name": "stderr",
     "output_type": "stream",
     "text": [
      "/tmp/ipykernel_198110/2077245259.py:28: FutureWarning: The frame.append method is deprecated and will be removed from pandas in a future version. Use pandas.concat instead.\n",
      "  latlong_df = latlong_df.append({'address': address, 'etHash': etHash,'bucket_id': bucket_id}, ignore_index=True)\n"
     ]
    },
    {
     "name": "stdout",
     "output_type": "stream",
     "text": [
      "GhwigjyfmHvXfAE2q 1551 E DEBBIE LN\n",
      "MANSFIELD TX  76063\n",
      "USA\n",
      "400\n"
     ]
    },
    {
     "name": "stderr",
     "output_type": "stream",
     "text": [
      "/tmp/ipykernel_198110/2077245259.py:28: FutureWarning: The frame.append method is deprecated and will be removed from pandas in a future version. Use pandas.concat instead.\n",
      "  latlong_df = latlong_df.append({'address': address, 'etHash': etHash,'bucket_id': bucket_id}, ignore_index=True)\n"
     ]
    },
    {
     "name": "stdout",
     "output_type": "stream",
     "text": [
      "QRjpza4b8858kR9LR 4023 OAK LAWN AVE\n",
      "DALLAS TX  75219\n",
      "USA\n",
      "401\n"
     ]
    },
    {
     "name": "stderr",
     "output_type": "stream",
     "text": [
      "/tmp/ipykernel_198110/2077245259.py:28: FutureWarning: The frame.append method is deprecated and will be removed from pandas in a future version. Use pandas.concat instead.\n",
      "  latlong_df = latlong_df.append({'address': address, 'etHash': etHash,'bucket_id': bucket_id}, ignore_index=True)\n"
     ]
    },
    {
     "name": "stdout",
     "output_type": "stream",
     "text": [
      "JrJ5PTSEqFJLA7HRg 1925 W PIONEER PKWY\n",
      "PANTEGO TX  76013\n",
      "USA\n",
      "402\n"
     ]
    },
    {
     "name": "stderr",
     "output_type": "stream",
     "text": [
      "/tmp/ipykernel_198110/2077245259.py:28: FutureWarning: The frame.append method is deprecated and will be removed from pandas in a future version. Use pandas.concat instead.\n",
      "  latlong_df = latlong_df.append({'address': address, 'etHash': etHash,'bucket_id': bucket_id}, ignore_index=True)\n"
     ]
    },
    {
     "name": "stdout",
     "output_type": "stream",
     "text": [
      "yzMKspvaGx8MCxjCf 2325 HIGHWAY 10\n",
      "MOUNDS VIEW MN  55112\n",
      "USA\n",
      "403\n"
     ]
    },
    {
     "name": "stderr",
     "output_type": "stream",
     "text": [
      "/tmp/ipykernel_198110/2077245259.py:28: FutureWarning: The frame.append method is deprecated and will be removed from pandas in a future version. Use pandas.concat instead.\n",
      "  latlong_df = latlong_df.append({'address': address, 'etHash': etHash,'bucket_id': bucket_id}, ignore_index=True)\n"
     ]
    },
    {
     "name": "stdout",
     "output_type": "stream",
     "text": [
      "acdqEExCtzweQBEu9 1582 CHATHAM AVE\n",
      "ARDEN HILLS MN  55112\n",
      "USA\n",
      "404\n"
     ]
    },
    {
     "name": "stderr",
     "output_type": "stream",
     "text": [
      "/tmp/ipykernel_198110/2077245259.py:28: FutureWarning: The frame.append method is deprecated and will be removed from pandas in a future version. Use pandas.concat instead.\n",
      "  latlong_df = latlong_df.append({'address': address, 'etHash': etHash,'bucket_id': bucket_id}, ignore_index=True)\n"
     ]
    },
    {
     "name": "stdout",
     "output_type": "stream",
     "text": [
      "vu8k7tvFdKAdLT4DY 737 PELHAM BLVD\n",
      "SAINT PAUL MN  55114\n",
      "USA\n",
      "405\n"
     ]
    },
    {
     "name": "stderr",
     "output_type": "stream",
     "text": [
      "/tmp/ipykernel_198110/2077245259.py:28: FutureWarning: The frame.append method is deprecated and will be removed from pandas in a future version. Use pandas.concat instead.\n",
      "  latlong_df = latlong_df.append({'address': address, 'etHash': etHash,'bucket_id': bucket_id}, ignore_index=True)\n"
     ]
    },
    {
     "name": "stdout",
     "output_type": "stream",
     "text": [
      "ErSsNQ3yBxjH5JeBg 1201 W RIVER PKWY\n",
      "MINNEAPOLIS MN  55454\n",
      "USA\n",
      "406\n"
     ]
    },
    {
     "name": "stderr",
     "output_type": "stream",
     "text": [
      "/tmp/ipykernel_198110/2077245259.py:28: FutureWarning: The frame.append method is deprecated and will be removed from pandas in a future version. Use pandas.concat instead.\n",
      "  latlong_df = latlong_df.append({'address': address, 'etHash': etHash,'bucket_id': bucket_id}, ignore_index=True)\n"
     ]
    },
    {
     "name": "stdout",
     "output_type": "stream",
     "text": [
      "RAnw85o5YXqAYPH5u 1730 CLEMENTS BRIDGE RD\n",
      "WOODBURY NJ  08096\n",
      "USA\n",
      "407\n"
     ]
    },
    {
     "name": "stderr",
     "output_type": "stream",
     "text": [
      "/tmp/ipykernel_198110/2077245259.py:28: FutureWarning: The frame.append method is deprecated and will be removed from pandas in a future version. Use pandas.concat instead.\n",
      "  latlong_df = latlong_df.append({'address': address, 'etHash': etHash,'bucket_id': bucket_id}, ignore_index=True)\n"
     ]
    },
    {
     "name": "stdout",
     "output_type": "stream",
     "text": [
      "9SrBEmZyojxq9Rh9H 2110 FASHION CENTER BLVD\n",
      "NEWARK DE  19702\n",
      "USA\n",
      "408\n"
     ]
    },
    {
     "name": "stderr",
     "output_type": "stream",
     "text": [
      "/tmp/ipykernel_198110/2077245259.py:28: FutureWarning: The frame.append method is deprecated and will be removed from pandas in a future version. Use pandas.concat instead.\n",
      "  latlong_df = latlong_df.append({'address': address, 'etHash': etHash,'bucket_id': bucket_id}, ignore_index=True)\n"
     ]
    },
    {
     "name": "stdout",
     "output_type": "stream",
     "text": [
      "4gexQTQtwecGKhN3e 1730 CLEMENTS BRIDGE RD\n",
      "WOODBURY NJ  08096\n",
      "USA\n",
      "409\n"
     ]
    },
    {
     "name": "stderr",
     "output_type": "stream",
     "text": [
      "/tmp/ipykernel_198110/2077245259.py:28: FutureWarning: The frame.append method is deprecated and will be removed from pandas in a future version. Use pandas.concat instead.\n",
      "  latlong_df = latlong_df.append({'address': address, 'etHash': etHash,'bucket_id': bucket_id}, ignore_index=True)\n"
     ]
    },
    {
     "name": "stdout",
     "output_type": "stream",
     "text": [
      "8vF27BqqDkCSztxSe 1180 EL CAMINO AVE\n",
      "CORONA CA  92879\n",
      "USA\n",
      "410\n"
     ]
    },
    {
     "name": "stderr",
     "output_type": "stream",
     "text": [
      "/tmp/ipykernel_198110/2077245259.py:28: FutureWarning: The frame.append method is deprecated and will be removed from pandas in a future version. Use pandas.concat instead.\n",
      "  latlong_df = latlong_df.append({'address': address, 'etHash': etHash,'bucket_id': bucket_id}, ignore_index=True)\n"
     ]
    },
    {
     "name": "stdout",
     "output_type": "stream",
     "text": [
      "mtQimWryi2xQBZSAT 737 PELHAM BLVD\n",
      "SAINT PAUL MN  55114\n",
      "USA\n",
      "411\n"
     ]
    },
    {
     "name": "stderr",
     "output_type": "stream",
     "text": [
      "/tmp/ipykernel_198110/2077245259.py:28: FutureWarning: The frame.append method is deprecated and will be removed from pandas in a future version. Use pandas.concat instead.\n",
      "  latlong_df = latlong_df.append({'address': address, 'etHash': etHash,'bucket_id': bucket_id}, ignore_index=True)\n"
     ]
    },
    {
     "name": "stdout",
     "output_type": "stream",
     "text": [
      "hWBpeiiMFu2dseaXj 1201 W RIVER PKWY\n",
      "MINNEAPOLIS MN  55454\n",
      "USA\n",
      "412\n"
     ]
    },
    {
     "name": "stderr",
     "output_type": "stream",
     "text": [
      "/tmp/ipykernel_198110/2077245259.py:28: FutureWarning: The frame.append method is deprecated and will be removed from pandas in a future version. Use pandas.concat instead.\n",
      "  latlong_df = latlong_df.append({'address': address, 'etHash': etHash,'bucket_id': bucket_id}, ignore_index=True)\n"
     ]
    },
    {
     "name": "stdout",
     "output_type": "stream",
     "text": [
      "bv4PjaRv7Syoez5es 40500 PASEO PADRE PKWY\n",
      "FREMONT CA  94538\n",
      "USA\n",
      "413\n"
     ]
    },
    {
     "name": "stderr",
     "output_type": "stream",
     "text": [
      "/tmp/ipykernel_198110/2077245259.py:28: FutureWarning: The frame.append method is deprecated and will be removed from pandas in a future version. Use pandas.concat instead.\n",
      "  latlong_df = latlong_df.append({'address': address, 'etHash': etHash,'bucket_id': bucket_id}, ignore_index=True)\n"
     ]
    },
    {
     "name": "stdout",
     "output_type": "stream",
     "text": [
      "yqZ56jDcJjLR2Rpi6 1600 FORBES WAY\n",
      "LONG BEACH CA  90810\n",
      "USA\n",
      "414\n"
     ]
    },
    {
     "name": "stderr",
     "output_type": "stream",
     "text": [
      "/tmp/ipykernel_198110/2077245259.py:28: FutureWarning: The frame.append method is deprecated and will be removed from pandas in a future version. Use pandas.concat instead.\n",
      "  latlong_df = latlong_df.append({'address': address, 'etHash': etHash,'bucket_id': bucket_id}, ignore_index=True)\n"
     ]
    },
    {
     "name": "stdout",
     "output_type": "stream",
     "text": [
      "kXTjpXjYo7PWSEgZQ 200 SAXONY RD\n",
      "ENCINITAS CA  92024\n",
      "USA\n",
      "415\n"
     ]
    },
    {
     "name": "stderr",
     "output_type": "stream",
     "text": [
      "/tmp/ipykernel_198110/2077245259.py:28: FutureWarning: The frame.append method is deprecated and will be removed from pandas in a future version. Use pandas.concat instead.\n",
      "  latlong_df = latlong_df.append({'address': address, 'etHash': etHash,'bucket_id': bucket_id}, ignore_index=True)\n"
     ]
    },
    {
     "name": "stdout",
     "output_type": "stream",
     "text": [
      "AEStxpRYWrLrKSpLF 6049 E 7TH ST\n",
      "LONG BEACH CA  90840\n",
      "USA\n",
      "416\n"
     ]
    },
    {
     "name": "stderr",
     "output_type": "stream",
     "text": [
      "/tmp/ipykernel_198110/2077245259.py:28: FutureWarning: The frame.append method is deprecated and will be removed from pandas in a future version. Use pandas.concat instead.\n",
      "  latlong_df = latlong_df.append({'address': address, 'etHash': etHash,'bucket_id': bucket_id}, ignore_index=True)\n"
     ]
    },
    {
     "name": "stdout",
     "output_type": "stream",
     "text": [
      "5XyhFypQdjceRbapa \n",
      "LONG BEACH CA  90815\n",
      "USA\n",
      "417\n"
     ]
    },
    {
     "name": "stderr",
     "output_type": "stream",
     "text": [
      "/tmp/ipykernel_198110/2077245259.py:28: FutureWarning: The frame.append method is deprecated and will be removed from pandas in a future version. Use pandas.concat instead.\n",
      "  latlong_df = latlong_df.append({'address': address, 'etHash': etHash,'bucket_id': bucket_id}, ignore_index=True)\n"
     ]
    },
    {
     "name": "stdout",
     "output_type": "stream",
     "text": [
      "kbCSHvH6fQxn58Qpi 1001 PARK AVE\n",
      "LONG BEACH CA  90804\n",
      "USA\n",
      "418\n"
     ]
    },
    {
     "name": "stderr",
     "output_type": "stream",
     "text": [
      "/tmp/ipykernel_198110/2077245259.py:28: FutureWarning: The frame.append method is deprecated and will be removed from pandas in a future version. Use pandas.concat instead.\n",
      "  latlong_df = latlong_df.append({'address': address, 'etHash': etHash,'bucket_id': bucket_id}, ignore_index=True)\n"
     ]
    },
    {
     "name": "stdout",
     "output_type": "stream",
     "text": [
      "gkmof36s8GG62YDr2 \n",
      "LONG BEACH CA  90815\n",
      "USA\n",
      "419\n"
     ]
    },
    {
     "name": "stderr",
     "output_type": "stream",
     "text": [
      "/tmp/ipykernel_198110/2077245259.py:28: FutureWarning: The frame.append method is deprecated and will be removed from pandas in a future version. Use pandas.concat instead.\n",
      "  latlong_df = latlong_df.append({'address': address, 'etHash': etHash,'bucket_id': bucket_id}, ignore_index=True)\n"
     ]
    },
    {
     "name": "stdout",
     "output_type": "stream",
     "text": [
      "CBmEhAK37ucexCkX3 514 FRANKLIN ST\n",
      "SANTA CLARA CA  95050\n",
      "USA\n",
      "420\n"
     ]
    },
    {
     "name": "stderr",
     "output_type": "stream",
     "text": [
      "/tmp/ipykernel_198110/2077245259.py:28: FutureWarning: The frame.append method is deprecated and will be removed from pandas in a future version. Use pandas.concat instead.\n",
      "  latlong_df = latlong_df.append({'address': address, 'etHash': etHash,'bucket_id': bucket_id}, ignore_index=True)\n"
     ]
    },
    {
     "name": "stdout",
     "output_type": "stream",
     "text": [
      "HAxyuDiXigvwKTGJ3 1200 BALTIMORE PIKE # PK\n",
      "SPRINGFIELD PA  19064\n",
      "USA\n",
      "421\n"
     ]
    },
    {
     "name": "stderr",
     "output_type": "stream",
     "text": [
      "/tmp/ipykernel_198110/2077245259.py:28: FutureWarning: The frame.append method is deprecated and will be removed from pandas in a future version. Use pandas.concat instead.\n",
      "  latlong_df = latlong_df.append({'address': address, 'etHash': etHash,'bucket_id': bucket_id}, ignore_index=True)\n"
     ]
    },
    {
     "name": "stdout",
     "output_type": "stream",
     "text": [
      "R9mRBfrefovSoq3CN 1101 MORAGA ST\n",
      "SANTA CLARA CA  95051\n",
      "USA\n",
      "422\n"
     ]
    },
    {
     "name": "stderr",
     "output_type": "stream",
     "text": [
      "/tmp/ipykernel_198110/2077245259.py:28: FutureWarning: The frame.append method is deprecated and will be removed from pandas in a future version. Use pandas.concat instead.\n",
      "  latlong_df = latlong_df.append({'address': address, 'etHash': etHash,'bucket_id': bucket_id}, ignore_index=True)\n"
     ]
    },
    {
     "name": "stdout",
     "output_type": "stream",
     "text": [
      "h34ZKsfrvomuApqx9 600 HATTON DR\n",
      "GLEN MILLS PA  19342\n",
      "USA\n",
      "423\n"
     ]
    },
    {
     "name": "stderr",
     "output_type": "stream",
     "text": [
      "/tmp/ipykernel_198110/2077245259.py:28: FutureWarning: The frame.append method is deprecated and will be removed from pandas in a future version. Use pandas.concat instead.\n",
      "  latlong_df = latlong_df.append({'address': address, 'etHash': etHash,'bucket_id': bucket_id}, ignore_index=True)\n"
     ]
    },
    {
     "name": "stdout",
     "output_type": "stream",
     "text": [
      "2xRHBRrW7ZeoqF72e 1000 BRANDYWINE PKWY\n",
      "WILMINGTON DE  19803\n",
      "USA\n",
      "424\n"
     ]
    },
    {
     "name": "stderr",
     "output_type": "stream",
     "text": [
      "/tmp/ipykernel_198110/2077245259.py:28: FutureWarning: The frame.append method is deprecated and will be removed from pandas in a future version. Use pandas.concat instead.\n",
      "  latlong_df = latlong_df.append({'address': address, 'etHash': etHash,'bucket_id': bucket_id}, ignore_index=True)\n"
     ]
    },
    {
     "name": "stdout",
     "output_type": "stream",
     "text": [
      "bAqT6NnH7zqN7737x 290 E LANCASTER AVE\n",
      "ARDMORE PA  19096\n",
      "USA\n",
      "425\n"
     ]
    },
    {
     "name": "stderr",
     "output_type": "stream",
     "text": [
      "/tmp/ipykernel_198110/2077245259.py:28: FutureWarning: The frame.append method is deprecated and will be removed from pandas in a future version. Use pandas.concat instead.\n",
      "  latlong_df = latlong_df.append({'address': address, 'etHash': etHash,'bucket_id': bucket_id}, ignore_index=True)\n"
     ]
    },
    {
     "name": "stdout",
     "output_type": "stream",
     "text": [
      "j5DwQuSiHwnECrjCs 1020 S BROAD ST\n",
      "PHILADELPHIA PA  19146\n",
      "USA\n",
      "426\n"
     ]
    },
    {
     "name": "stderr",
     "output_type": "stream",
     "text": [
      "/tmp/ipykernel_198110/2077245259.py:28: FutureWarning: The frame.append method is deprecated and will be removed from pandas in a future version. Use pandas.concat instead.\n",
      "  latlong_df = latlong_df.append({'address': address, 'etHash': etHash,'bucket_id': bucket_id}, ignore_index=True)\n"
     ]
    },
    {
     "name": "stdout",
     "output_type": "stream",
     "text": [
      "6DTEhJKPPdNxbQ2eW 1904 CHESTNUT ST\n",
      "PHILADELPHIA PA  19103\n",
      "USA\n",
      "427\n"
     ]
    },
    {
     "name": "stderr",
     "output_type": "stream",
     "text": [
      "/tmp/ipykernel_198110/2077245259.py:28: FutureWarning: The frame.append method is deprecated and will be removed from pandas in a future version. Use pandas.concat instead.\n",
      "  latlong_df = latlong_df.append({'address': address, 'etHash': etHash,'bucket_id': bucket_id}, ignore_index=True)\n"
     ]
    },
    {
     "name": "stdout",
     "output_type": "stream",
     "text": [
      "u6gZvBFmMTKMG3iNS 1 MIFFLIN ST\n",
      "PHILADELPHIA PA  19148\n",
      "USA\n",
      "428\n"
     ]
    },
    {
     "name": "stderr",
     "output_type": "stream",
     "text": [
      "/tmp/ipykernel_198110/2077245259.py:28: FutureWarning: The frame.append method is deprecated and will be removed from pandas in a future version. Use pandas.concat instead.\n",
      "  latlong_df = latlong_df.append({'address': address, 'etHash': etHash,'bucket_id': bucket_id}, ignore_index=True)\n"
     ]
    },
    {
     "name": "stdout",
     "output_type": "stream",
     "text": [
      "wtk7s9wCsj4ExirfN 700 LANCASTER AVE\n",
      "WAYNE PA  19087\n",
      "USA\n",
      "429\n"
     ]
    },
    {
     "name": "stderr",
     "output_type": "stream",
     "text": [
      "/tmp/ipykernel_198110/2077245259.py:28: FutureWarning: The frame.append method is deprecated and will be removed from pandas in a future version. Use pandas.concat instead.\n",
      "  latlong_df = latlong_df.append({'address': address, 'etHash': etHash,'bucket_id': bucket_id}, ignore_index=True)\n"
     ]
    },
    {
     "name": "stdout",
     "output_type": "stream",
     "text": [
      "w6CyQDGN4b6bWbQXj 455 CARNEGIE BLVD\n",
      "MALVERN PA  19355\n",
      "USA\n",
      "430\n"
     ]
    },
    {
     "name": "stderr",
     "output_type": "stream",
     "text": [
      "/tmp/ipykernel_198110/2077245259.py:28: FutureWarning: The frame.append method is deprecated and will be removed from pandas in a future version. Use pandas.concat instead.\n",
      "  latlong_df = latlong_df.append({'address': address, 'etHash': etHash,'bucket_id': bucket_id}, ignore_index=True)\n"
     ]
    },
    {
     "name": "stdout",
     "output_type": "stream",
     "text": [
      "FRct6giadvSwNhdKf 4765 FORBES AVE\n",
      "PITTSBURGH PA  15213\n",
      "USA\n",
      "431\n"
     ]
    },
    {
     "name": "stderr",
     "output_type": "stream",
     "text": [
      "/tmp/ipykernel_198110/2077245259.py:28: FutureWarning: The frame.append method is deprecated and will be removed from pandas in a future version. Use pandas.concat instead.\n",
      "  latlong_df = latlong_df.append({'address': address, 'etHash': etHash,'bucket_id': bucket_id}, ignore_index=True)\n"
     ]
    },
    {
     "name": "stdout",
     "output_type": "stream",
     "text": [
      "rTEhTGHLpnQvQY96Z 11027 EUCLID AVE\n",
      "CLEVELAND OH  44106\n",
      "USA\n",
      "432\n"
     ]
    },
    {
     "name": "stderr",
     "output_type": "stream",
     "text": [
      "/tmp/ipykernel_198110/2077245259.py:28: FutureWarning: The frame.append method is deprecated and will be removed from pandas in a future version. Use pandas.concat instead.\n",
      "  latlong_df = latlong_df.append({'address': address, 'etHash': etHash,'bucket_id': bucket_id}, ignore_index=True)\n"
     ]
    },
    {
     "name": "stdout",
     "output_type": "stream",
     "text": [
      "7cGsiBb2jcA6wqaFN \n",
      "EAST LANSING MI  48824\n",
      "USA\n",
      "433\n"
     ]
    },
    {
     "name": "stderr",
     "output_type": "stream",
     "text": [
      "/tmp/ipykernel_198110/2077245259.py:28: FutureWarning: The frame.append method is deprecated and will be removed from pandas in a future version. Use pandas.concat instead.\n",
      "  latlong_df = latlong_df.append({'address': address, 'etHash': etHash,'bucket_id': bucket_id}, ignore_index=True)\n"
     ]
    },
    {
     "name": "stdout",
     "output_type": "stream",
     "text": [
      "TLuENDgYzDiJEnn9S 141 JERSEY LN\n",
      "CLEMSON UNIVERSITY SC  29634\n",
      "USA\n",
      "434\n"
     ]
    },
    {
     "name": "stderr",
     "output_type": "stream",
     "text": [
      "/tmp/ipykernel_198110/2077245259.py:28: FutureWarning: The frame.append method is deprecated and will be removed from pandas in a future version. Use pandas.concat instead.\n",
      "  latlong_df = latlong_df.append({'address': address, 'etHash': etHash,'bucket_id': bucket_id}, ignore_index=True)\n"
     ]
    },
    {
     "name": "stdout",
     "output_type": "stream",
     "text": [
      "ZGtAeB7Zg9XanGmTD 138 LOMB MEMORIAL DR\n",
      "ROCHESTER NY  14623\n",
      "USA\n",
      "435\n"
     ]
    },
    {
     "name": "stderr",
     "output_type": "stream",
     "text": [
      "/tmp/ipykernel_198110/2077245259.py:28: FutureWarning: The frame.append method is deprecated and will be removed from pandas in a future version. Use pandas.concat instead.\n",
      "  latlong_df = latlong_df.append({'address': address, 'etHash': etHash,'bucket_id': bucket_id}, ignore_index=True)\n"
     ]
    },
    {
     "name": "stdout",
     "output_type": "stream",
     "text": [
      "rfqRCqN3Dk5ZZgYgw 719 BROADWAY ST S\n",
      "MENOMONIE WI  54751\n",
      "USA\n",
      "436\n"
     ]
    },
    {
     "name": "stderr",
     "output_type": "stream",
     "text": [
      "/tmp/ipykernel_198110/2077245259.py:28: FutureWarning: The frame.append method is deprecated and will be removed from pandas in a future version. Use pandas.concat instead.\n",
      "  latlong_df = latlong_df.append({'address': address, 'etHash': etHash,'bucket_id': bucket_id}, ignore_index=True)\n"
     ]
    },
    {
     "name": "stdout",
     "output_type": "stream",
     "text": [
      "yRKn5XgsZfJfCbbhf 103 MANGUM ST NW\n",
      "ATLANTA GA  30313\n",
      "USA\n",
      "437\n"
     ]
    },
    {
     "name": "stderr",
     "output_type": "stream",
     "text": [
      "/tmp/ipykernel_198110/2077245259.py:28: FutureWarning: The frame.append method is deprecated and will be removed from pandas in a future version. Use pandas.concat instead.\n",
      "  latlong_df = latlong_df.append({'address': address, 'etHash': etHash,'bucket_id': bucket_id}, ignore_index=True)\n"
     ]
    },
    {
     "name": "stdout",
     "output_type": "stream",
     "text": [
      "ynyCYrpwDu2ohkxGw 103 MANGUM ST NW\n",
      "ATLANTA GA  30313\n",
      "USA\n",
      "438\n"
     ]
    },
    {
     "name": "stderr",
     "output_type": "stream",
     "text": [
      "/tmp/ipykernel_198110/2077245259.py:28: FutureWarning: The frame.append method is deprecated and will be removed from pandas in a future version. Use pandas.concat instead.\n",
      "  latlong_df = latlong_df.append({'address': address, 'etHash': etHash,'bucket_id': bucket_id}, ignore_index=True)\n"
     ]
    },
    {
     "name": "stdout",
     "output_type": "stream",
     "text": [
      "p6fBeqk4P4f6xR39D 5851 CLINTON ST\n",
      "LOS ANGELES CA  90004\n",
      "USA\n",
      "439\n"
     ]
    },
    {
     "name": "stderr",
     "output_type": "stream",
     "text": [
      "/tmp/ipykernel_198110/2077245259.py:28: FutureWarning: The frame.append method is deprecated and will be removed from pandas in a future version. Use pandas.concat instead.\n",
      "  latlong_df = latlong_df.append({'address': address, 'etHash': etHash,'bucket_id': bucket_id}, ignore_index=True)\n"
     ]
    },
    {
     "name": "stdout",
     "output_type": "stream",
     "text": [
      "QrNywYGSK8DmeRfTJ 190 W CAMPUS DR\n",
      "BLACKSBURG VA  24061\n",
      "USA\n",
      "440\n"
     ]
    },
    {
     "name": "stderr",
     "output_type": "stream",
     "text": [
      "/tmp/ipykernel_198110/2077245259.py:28: FutureWarning: The frame.append method is deprecated and will be removed from pandas in a future version. Use pandas.concat instead.\n",
      "  latlong_df = latlong_df.append({'address': address, 'etHash': etHash,'bucket_id': bucket_id}, ignore_index=True)\n"
     ]
    },
    {
     "name": "stdout",
     "output_type": "stream",
     "text": [
      "rMHz3MojhqZMjeR6T 10000 W PICO BLVD\n",
      "LOS ANGELES CA  90064\n",
      "USA\n",
      "441\n"
     ]
    },
    {
     "name": "stderr",
     "output_type": "stream",
     "text": [
      "/tmp/ipykernel_198110/2077245259.py:28: FutureWarning: The frame.append method is deprecated and will be removed from pandas in a future version. Use pandas.concat instead.\n",
      "  latlong_df = latlong_df.append({'address': address, 'etHash': etHash,'bucket_id': bucket_id}, ignore_index=True)\n"
     ]
    },
    {
     "name": "stdout",
     "output_type": "stream",
     "text": [
      "tpAuim7tSy74bHJqq 340 N MAPLE DR\n",
      "BEVERLY HILLS CA  90210\n",
      "USA\n",
      "442\n"
     ]
    },
    {
     "name": "stderr",
     "output_type": "stream",
     "text": [
      "/tmp/ipykernel_198110/2077245259.py:28: FutureWarning: The frame.append method is deprecated and will be removed from pandas in a future version. Use pandas.concat instead.\n",
      "  latlong_df = latlong_df.append({'address': address, 'etHash': etHash,'bucket_id': bucket_id}, ignore_index=True)\n"
     ]
    },
    {
     "name": "stdout",
     "output_type": "stream",
     "text": [
      "unJacdZMpvTEQZwu4 23847 STUART RANCH RD\n",
      "MALIBU CA  90265\n",
      "USA\n",
      "443\n"
     ]
    },
    {
     "name": "stderr",
     "output_type": "stream",
     "text": [
      "/tmp/ipykernel_198110/2077245259.py:28: FutureWarning: The frame.append method is deprecated and will be removed from pandas in a future version. Use pandas.concat instead.\n",
      "  latlong_df = latlong_df.append({'address': address, 'etHash': etHash,'bucket_id': bucket_id}, ignore_index=True)\n"
     ]
    },
    {
     "name": "stdout",
     "output_type": "stream",
     "text": [
      "eG2QqABGDsmFuNrYa 4001 RESEDA BLVD\n",
      "LOS ANGELES CA  91356\n",
      "USA\n",
      "444\n"
     ]
    },
    {
     "name": "stderr",
     "output_type": "stream",
     "text": [
      "/tmp/ipykernel_198110/2077245259.py:28: FutureWarning: The frame.append method is deprecated and will be removed from pandas in a future version. Use pandas.concat instead.\n",
      "  latlong_df = latlong_df.append({'address': address, 'etHash': etHash,'bucket_id': bucket_id}, ignore_index=True)\n"
     ]
    },
    {
     "name": "stdout",
     "output_type": "stream",
     "text": [
      "DiikrMXiFnCTiZDJ6 111 W WASHINGTON ST\n",
      "LOUISVILLE KY  40202\n",
      "USA\n",
      "445\n"
     ]
    },
    {
     "name": "stderr",
     "output_type": "stream",
     "text": [
      "/tmp/ipykernel_198110/2077245259.py:28: FutureWarning: The frame.append method is deprecated and will be removed from pandas in a future version. Use pandas.concat instead.\n",
      "  latlong_df = latlong_df.append({'address': address, 'etHash': etHash,'bucket_id': bucket_id}, ignore_index=True)\n"
     ]
    },
    {
     "name": "stdout",
     "output_type": "stream",
     "text": [
      "b4SNcri2Qdve68dfM 1330 PARK VIEW AVE\n",
      "MANHATTAN BEACH CA  90266\n",
      "USA\n",
      "446\n"
     ]
    },
    {
     "name": "stderr",
     "output_type": "stream",
     "text": [
      "/tmp/ipykernel_198110/2077245259.py:28: FutureWarning: The frame.append method is deprecated and will be removed from pandas in a future version. Use pandas.concat instead.\n",
      "  latlong_df = latlong_df.append({'address': address, 'etHash': etHash,'bucket_id': bucket_id}, ignore_index=True)\n"
     ]
    },
    {
     "name": "stdout",
     "output_type": "stream",
     "text": [
      "d4kvDMuAAmn5tnJPN 3084 MOTOR AVE\n",
      "LOS ANGELES CA  90064\n",
      "USA\n",
      "447\n"
     ]
    },
    {
     "name": "stderr",
     "output_type": "stream",
     "text": [
      "/tmp/ipykernel_198110/2077245259.py:28: FutureWarning: The frame.append method is deprecated and will be removed from pandas in a future version. Use pandas.concat instead.\n",
      "  latlong_df = latlong_df.append({'address': address, 'etHash': etHash,'bucket_id': bucket_id}, ignore_index=True)\n"
     ]
    },
    {
     "name": "stdout",
     "output_type": "stream",
     "text": [
      "qDNozikLsHRnB4qQr 510 MASSIE RD\n",
      "CHARLOTTESVILLE VA  22903\n",
      "USA\n",
      "448\n"
     ]
    },
    {
     "name": "stderr",
     "output_type": "stream",
     "text": [
      "/tmp/ipykernel_198110/2077245259.py:28: FutureWarning: The frame.append method is deprecated and will be removed from pandas in a future version. Use pandas.concat instead.\n",
      "  latlong_df = latlong_df.append({'address': address, 'etHash': etHash,'bucket_id': bucket_id}, ignore_index=True)\n"
     ]
    },
    {
     "name": "stdout",
     "output_type": "stream",
     "text": [
      "r7bNZYb4YB4cZSxw2 4765 FORBES AVE\n",
      "PITTSBURGH PA  15213\n",
      "USA\n",
      "449\n"
     ]
    },
    {
     "name": "stderr",
     "output_type": "stream",
     "text": [
      "/tmp/ipykernel_198110/2077245259.py:28: FutureWarning: The frame.append method is deprecated and will be removed from pandas in a future version. Use pandas.concat instead.\n",
      "  latlong_df = latlong_df.append({'address': address, 'etHash': etHash,'bucket_id': bucket_id}, ignore_index=True)\n"
     ]
    },
    {
     "name": "stdout",
     "output_type": "stream",
     "text": [
      "WftXDqonN5HeDfzsA 4635 TOWNESBURY LN\n",
      "RALEIGH NC  27612\n",
      "USA\n",
      "450\n"
     ]
    },
    {
     "name": "stderr",
     "output_type": "stream",
     "text": [
      "/tmp/ipykernel_198110/2077245259.py:28: FutureWarning: The frame.append method is deprecated and will be removed from pandas in a future version. Use pandas.concat instead.\n",
      "  latlong_df = latlong_df.append({'address': address, 'etHash': etHash,'bucket_id': bucket_id}, ignore_index=True)\n"
     ]
    },
    {
     "name": "stdout",
     "output_type": "stream",
     "text": [
      "86p7BA5YMSDQeFqFL 11119 BELLFLOWER RD\n",
      "CLEVELAND OH  44106\n",
      "USA\n",
      "451\n"
     ]
    },
    {
     "name": "stderr",
     "output_type": "stream",
     "text": [
      "/tmp/ipykernel_198110/2077245259.py:28: FutureWarning: The frame.append method is deprecated and will be removed from pandas in a future version. Use pandas.concat instead.\n",
      "  latlong_df = latlong_df.append({'address': address, 'etHash': etHash,'bucket_id': bucket_id}, ignore_index=True)\n"
     ]
    },
    {
     "name": "stdout",
     "output_type": "stream",
     "text": [
      "z3daMSy5mi7rmzFbP 1350 MILLER RD\n",
      "CORAL GABLES FL  33146\n",
      "USA\n",
      "452\n"
     ]
    },
    {
     "name": "stderr",
     "output_type": "stream",
     "text": [
      "/tmp/ipykernel_198110/2077245259.py:28: FutureWarning: The frame.append method is deprecated and will be removed from pandas in a future version. Use pandas.concat instead.\n",
      "  latlong_df = latlong_df.append({'address': address, 'etHash': etHash,'bucket_id': bucket_id}, ignore_index=True)\n"
     ]
    },
    {
     "name": "stdout",
     "output_type": "stream",
     "text": [
      "9mY4NZp9YZXFXzA9a 25 COLCHESTER AVE\n",
      "BURLINGTON VT  05405\n",
      "USA\n",
      "453\n"
     ]
    },
    {
     "name": "stderr",
     "output_type": "stream",
     "text": [
      "/tmp/ipykernel_198110/2077245259.py:28: FutureWarning: The frame.append method is deprecated and will be removed from pandas in a future version. Use pandas.concat instead.\n",
      "  latlong_df = latlong_df.append({'address': address, 'etHash': etHash,'bucket_id': bucket_id}, ignore_index=True)\n"
     ]
    },
    {
     "name": "stdout",
     "output_type": "stream",
     "text": [
      "NZ3hwmMoAFrX579FQ 7825 CAPLE BLVD\n",
      "NORTHWOOD OH  43619\n",
      "USA\n",
      "454\n"
     ]
    },
    {
     "name": "stderr",
     "output_type": "stream",
     "text": [
      "/tmp/ipykernel_198110/2077245259.py:28: FutureWarning: The frame.append method is deprecated and will be removed from pandas in a future version. Use pandas.concat instead.\n",
      "  latlong_df = latlong_df.append({'address': address, 'etHash': etHash,'bucket_id': bucket_id}, ignore_index=True)\n"
     ]
    },
    {
     "name": "stdout",
     "output_type": "stream",
     "text": [
      "CEja39guE5cnqwQCK 2371 WOODSTREAM DR\n",
      "BOWLING GREEN OH  43402\n",
      "USA\n",
      "455\n"
     ]
    },
    {
     "name": "stderr",
     "output_type": "stream",
     "text": [
      "/tmp/ipykernel_198110/2077245259.py:28: FutureWarning: The frame.append method is deprecated and will be removed from pandas in a future version. Use pandas.concat instead.\n",
      "  latlong_df = latlong_df.append({'address': address, 'etHash': etHash,'bucket_id': bucket_id}, ignore_index=True)\n"
     ]
    },
    {
     "name": "stdout",
     "output_type": "stream",
     "text": [
      "Ktx9ZSJ7SuGo75JnE 2371 WOODSTREAM DR\n",
      "BOWLING GREEN OH  43402\n",
      "USA\n",
      "456\n"
     ]
    },
    {
     "name": "stderr",
     "output_type": "stream",
     "text": [
      "/tmp/ipykernel_198110/2077245259.py:28: FutureWarning: The frame.append method is deprecated and will be removed from pandas in a future version. Use pandas.concat instead.\n",
      "  latlong_df = latlong_df.append({'address': address, 'etHash': etHash,'bucket_id': bucket_id}, ignore_index=True)\n"
     ]
    },
    {
     "name": "stdout",
     "output_type": "stream",
     "text": [
      "GjsD5wivW3su5Mm8b 1201 S FIGUEROA ST\n",
      "LOS ANGELES CA  90015\n",
      "USA\n",
      "457\n"
     ]
    },
    {
     "name": "stderr",
     "output_type": "stream",
     "text": [
      "/tmp/ipykernel_198110/2077245259.py:28: FutureWarning: The frame.append method is deprecated and will be removed from pandas in a future version. Use pandas.concat instead.\n",
      "  latlong_df = latlong_df.append({'address': address, 'etHash': etHash,'bucket_id': bucket_id}, ignore_index=True)\n"
     ]
    },
    {
     "name": "stdout",
     "output_type": "stream",
     "text": [
      "DYxRcZG9cmuY5EDGx 800 S COLLEGE DR\n",
      "SANTA MARIA CA  93454\n",
      "USA\n",
      "458\n"
     ]
    },
    {
     "name": "stderr",
     "output_type": "stream",
     "text": [
      "/tmp/ipykernel_198110/2077245259.py:28: FutureWarning: The frame.append method is deprecated and will be removed from pandas in a future version. Use pandas.concat instead.\n",
      "  latlong_df = latlong_df.append({'address': address, 'etHash': etHash,'bucket_id': bucket_id}, ignore_index=True)\n"
     ]
    },
    {
     "name": "stdout",
     "output_type": "stream",
     "text": [
      "DBBeotQoMEWixkhSZ 4700 COLLEGE OAK DR\n",
      "NORTH HIGHLANDS CA  95841\n",
      "USA\n",
      "459\n"
     ]
    },
    {
     "name": "stderr",
     "output_type": "stream",
     "text": [
      "/tmp/ipykernel_198110/2077245259.py:28: FutureWarning: The frame.append method is deprecated and will be removed from pandas in a future version. Use pandas.concat instead.\n",
      "  latlong_df = latlong_df.append({'address': address, 'etHash': etHash,'bucket_id': bucket_id}, ignore_index=True)\n"
     ]
    },
    {
     "name": "stdout",
     "output_type": "stream",
     "text": [
      "GAj5rptehJCATfkvc 3041 W AVENUE K\n",
      "LANCASTER CA  93536\n",
      "USA\n",
      "460\n"
     ]
    },
    {
     "name": "stderr",
     "output_type": "stream",
     "text": [
      "/tmp/ipykernel_198110/2077245259.py:28: FutureWarning: The frame.append method is deprecated and will be removed from pandas in a future version. Use pandas.concat instead.\n",
      "  latlong_df = latlong_df.append({'address': address, 'etHash': etHash,'bucket_id': bucket_id}, ignore_index=True)\n"
     ]
    },
    {
     "name": "stdout",
     "output_type": "stream",
     "text": [
      "aKHP5Z2wWNcqjiCEo 1801 PANORAMA DR\n",
      "BAKERSFIELD CA  93305\n",
      "USA\n",
      "461\n"
     ]
    },
    {
     "name": "stderr",
     "output_type": "stream",
     "text": [
      "/tmp/ipykernel_198110/2077245259.py:28: FutureWarning: The frame.append method is deprecated and will be removed from pandas in a future version. Use pandas.concat instead.\n",
      "  latlong_df = latlong_df.append({'address': address, 'etHash': etHash,'bucket_id': bucket_id}, ignore_index=True)\n"
     ]
    },
    {
     "name": "stdout",
     "output_type": "stream",
     "text": [
      "bGrrMFd7a92GcDdyD \n",
      "BARSTOW CA  92311\n",
      "USA\n",
      "462\n"
     ]
    },
    {
     "name": "stderr",
     "output_type": "stream",
     "text": [
      "/tmp/ipykernel_198110/2077245259.py:28: FutureWarning: The frame.append method is deprecated and will be removed from pandas in a future version. Use pandas.concat instead.\n",
      "  latlong_df = latlong_df.append({'address': address, 'etHash': etHash,'bucket_id': bucket_id}, ignore_index=True)\n"
     ]
    },
    {
     "name": "stdout",
     "output_type": "stream",
     "text": [
      "jd8gpF9ph3zwCPjvz 3536 BUTTE CAMPUS DR\n",
      "BUTTE VALLEY CA  95965\n",
      "USA\n",
      "463\n"
     ]
    },
    {
     "name": "stderr",
     "output_type": "stream",
     "text": [
      "/tmp/ipykernel_198110/2077245259.py:28: FutureWarning: The frame.append method is deprecated and will be removed from pandas in a future version. Use pandas.concat instead.\n",
      "  latlong_df = latlong_df.append({'address': address, 'etHash': etHash,'bucket_id': bucket_id}, ignore_index=True)\n"
     ]
    },
    {
     "name": "stdout",
     "output_type": "stream",
     "text": [
      "xj58NPEPHjSqHkjJ5 2800 CABRILLO COLLEGE DR\n",
      "APTOS CA  95003\n",
      "USA\n",
      "464\n"
     ]
    },
    {
     "name": "stderr",
     "output_type": "stream",
     "text": [
      "/tmp/ipykernel_198110/2077245259.py:28: FutureWarning: The frame.append method is deprecated and will be removed from pandas in a future version. Use pandas.concat instead.\n",
      "  latlong_df = latlong_df.append({'address': address, 'etHash': etHash,'bucket_id': bucket_id}, ignore_index=True)\n"
     ]
    },
    {
     "name": "stdout",
     "output_type": "stream",
     "text": [
      "fMxdzNWfZhqn3o3iN \n",
      "RIDGECREST CA  93555\n",
      "USA\n",
      "465\n"
     ]
    },
    {
     "name": "stderr",
     "output_type": "stream",
     "text": [
      "/tmp/ipykernel_198110/2077245259.py:28: FutureWarning: The frame.append method is deprecated and will be removed from pandas in a future version. Use pandas.concat instead.\n",
      "  latlong_df = latlong_df.append({'address': address, 'etHash': etHash,'bucket_id': bucket_id}, ignore_index=True)\n"
     ]
    },
    {
     "name": "stdout",
     "output_type": "stream",
     "text": [
      "JAyujcjF3pbDYsDju \n",
      "PALM DESERT CA  92260\n",
      "USA\n",
      "466\n"
     ]
    },
    {
     "name": "stderr",
     "output_type": "stream",
     "text": [
      "/tmp/ipykernel_198110/2077245259.py:28: FutureWarning: The frame.append method is deprecated and will be removed from pandas in a future version. Use pandas.concat instead.\n",
      "  latlong_df = latlong_df.append({'address': address, 'etHash': etHash,'bucket_id': bucket_id}, ignore_index=True)\n"
     ]
    },
    {
     "name": "stdout",
     "output_type": "stream",
     "text": [
      "BySAr2gwJn4eNZZz7 7351 TOMPKINS HILL RD\n",
      "EUREKA CA  95501\n",
      "USA\n",
      "467\n"
     ]
    },
    {
     "name": "stderr",
     "output_type": "stream",
     "text": [
      "/tmp/ipykernel_198110/2077245259.py:28: FutureWarning: The frame.append method is deprecated and will be removed from pandas in a future version. Use pandas.concat instead.\n",
      "  latlong_df = latlong_df.append({'address': address, 'etHash': etHash,'bucket_id': bucket_id}, ignore_index=True)\n"
     ]
    },
    {
     "name": "stdout",
     "output_type": "stream",
     "text": [
      "NkBNZWXWHZEghZwRh \n",
      "WEED CA  96094\n",
      "USA\n",
      "468\n"
     ]
    },
    {
     "name": "stderr",
     "output_type": "stream",
     "text": [
      "/tmp/ipykernel_198110/2077245259.py:28: FutureWarning: The frame.append method is deprecated and will be removed from pandas in a future version. Use pandas.concat instead.\n",
      "  latlong_df = latlong_df.append({'address': address, 'etHash': etHash,'bucket_id': bucket_id}, ignore_index=True)\n"
     ]
    },
    {
     "name": "stdout",
     "output_type": "stream",
     "text": [
      "xyQ89LGRuXsKvBQxQ 920 S MOONEY BLVD\n",
      "VISALIA CA  93277\n",
      "USA\n",
      "469\n"
     ]
    },
    {
     "name": "stderr",
     "output_type": "stream",
     "text": [
      "/tmp/ipykernel_198110/2077245259.py:28: FutureWarning: The frame.append method is deprecated and will be removed from pandas in a future version. Use pandas.concat instead.\n",
      "  latlong_df = latlong_df.append({'address': address, 'etHash': etHash,'bucket_id': bucket_id}, ignore_index=True)\n"
     ]
    },
    {
     "name": "stdout",
     "output_type": "stream",
     "text": [
      "9DDhDi6hEwKxRKfDE \n",
      "JOSHUA TREE CA  92252\n",
      "USA\n",
      "470\n"
     ]
    },
    {
     "name": "stderr",
     "output_type": "stream",
     "text": [
      "/tmp/ipykernel_198110/2077245259.py:28: FutureWarning: The frame.append method is deprecated and will be removed from pandas in a future version. Use pandas.concat instead.\n",
      "  latlong_df = latlong_df.append({'address': address, 'etHash': etHash,'bucket_id': bucket_id}, ignore_index=True)\n"
     ]
    },
    {
     "name": "stdout",
     "output_type": "stream",
     "text": [
      "apw7QiGMyZWKkT2TM 8401 CENTER PKWY\n",
      "SACRAMENTO CA  95823\n",
      "USA\n",
      "471\n"
     ]
    },
    {
     "name": "stderr",
     "output_type": "stream",
     "text": [
      "/tmp/ipykernel_198110/2077245259.py:28: FutureWarning: The frame.append method is deprecated and will be removed from pandas in a future version. Use pandas.concat instead.\n",
      "  latlong_df = latlong_df.append({'address': address, 'etHash': etHash,'bucket_id': bucket_id}, ignore_index=True)\n"
     ]
    },
    {
     "name": "stdout",
     "output_type": "stream",
     "text": [
      "chMnbMT65xNESb275 \n",
      "SAN LUIS OBISPO CA  93405\n",
      "USA\n",
      "472\n"
     ]
    },
    {
     "name": "stderr",
     "output_type": "stream",
     "text": [
      "/tmp/ipykernel_198110/2077245259.py:28: FutureWarning: The frame.append method is deprecated and will be removed from pandas in a future version. Use pandas.concat instead.\n",
      "  latlong_df = latlong_df.append({'address': address, 'etHash': etHash,'bucket_id': bucket_id}, ignore_index=True)\n"
     ]
    },
    {
     "name": "stdout",
     "output_type": "stream",
     "text": [
      "JD5dBGYN3Aoaw3H6o \n",
      "SAN LUIS OBISPO CA  93405\n",
      "USA\n",
      "473\n"
     ]
    },
    {
     "name": "stderr",
     "output_type": "stream",
     "text": [
      "/tmp/ipykernel_198110/2077245259.py:28: FutureWarning: The frame.append method is deprecated and will be removed from pandas in a future version. Use pandas.concat instead.\n",
      "  latlong_df = latlong_df.append({'address': address, 'etHash': etHash,'bucket_id': bucket_id}, ignore_index=True)\n"
     ]
    },
    {
     "name": "stdout",
     "output_type": "stream",
     "text": [
      "ZeLKxhw9sP6evujqx 570 GOLDEN EAGLE AVE\n",
      "QUINCY CA  95971\n",
      "USA\n",
      "474\n"
     ]
    },
    {
     "name": "stderr",
     "output_type": "stream",
     "text": [
      "/tmp/ipykernel_198110/2077245259.py:28: FutureWarning: The frame.append method is deprecated and will be removed from pandas in a future version. Use pandas.concat instead.\n",
      "  latlong_df = latlong_df.append({'address': address, 'etHash': etHash,'bucket_id': bucket_id}, ignore_index=True)\n"
     ]
    },
    {
     "name": "stdout",
     "output_type": "stream",
     "text": [
      "biGoa3xBrQQjKv7Cn 100 SCHOLAR WAY\n",
      "FOLSOM CA  95630\n",
      "USA\n",
      "475\n"
     ]
    },
    {
     "name": "stderr",
     "output_type": "stream",
     "text": [
      "/tmp/ipykernel_198110/2077245259.py:28: FutureWarning: The frame.append method is deprecated and will be removed from pandas in a future version. Use pandas.concat instead.\n",
      "  latlong_df = latlong_df.append({'address': address, 'etHash': etHash,'bucket_id': bucket_id}, ignore_index=True)\n"
     ]
    },
    {
     "name": "stdout",
     "output_type": "stream",
     "text": [
      "KKNJFyZyspgycujhg 1721 N VAN NESS AVE\n",
      "FRESNO CA  93704\n",
      "USA\n",
      "476\n"
     ]
    },
    {
     "name": "stderr",
     "output_type": "stream",
     "text": [
      "/tmp/ipykernel_198110/2077245259.py:28: FutureWarning: The frame.append method is deprecated and will be removed from pandas in a future version. Use pandas.concat instead.\n",
      "  latlong_df = latlong_df.append({'address': address, 'etHash': etHash,'bucket_id': bucket_id}, ignore_index=True)\n"
     ]
    },
    {
     "name": "stdout",
     "output_type": "stream",
     "text": [
      "JjxE29KEvfNEgm2PP 1 COLLEGE DR\n",
      "SOUTH LAKE TAHOE CA  96150\n",
      "USA\n",
      "477\n"
     ]
    },
    {
     "name": "stderr",
     "output_type": "stream",
     "text": [
      "/tmp/ipykernel_198110/2077245259.py:28: FutureWarning: The frame.append method is deprecated and will be removed from pandas in a future version. Use pandas.concat instead.\n",
      "  latlong_df = latlong_df.append({'address': address, 'etHash': etHash,'bucket_id': bucket_id}, ignore_index=True)\n"
     ]
    },
    {
     "name": "stdout",
     "output_type": "stream",
     "text": [
      "gL98t88hBKqFTmjPi \n",
      "SANTA CLARA CA  95054\n",
      "USA\n",
      "478\n"
     ]
    },
    {
     "name": "stderr",
     "output_type": "stream",
     "text": [
      "/tmp/ipykernel_198110/2077245259.py:28: FutureWarning: The frame.append method is deprecated and will be removed from pandas in a future version. Use pandas.concat instead.\n",
      "  latlong_df = latlong_df.append({'address': address, 'etHash': etHash,'bucket_id': bucket_id}, ignore_index=True)\n"
     ]
    },
    {
     "name": "stdout",
     "output_type": "stream",
     "text": [
      "Myhik9KSnSHjiGbhh 3835 FREEPORT BLVD\n",
      "SACRAMENTO CA  95822\n",
      "USA\n",
      "479\n"
     ]
    },
    {
     "name": "stderr",
     "output_type": "stream",
     "text": [
      "/tmp/ipykernel_198110/2077245259.py:28: FutureWarning: The frame.append method is deprecated and will be removed from pandas in a future version. Use pandas.concat instead.\n",
      "  latlong_df = latlong_df.append({'address': address, 'etHash': etHash,'bucket_id': bucket_id}, ignore_index=True)\n"
     ]
    },
    {
     "name": "stdout",
     "output_type": "stream",
     "text": [
      "aLmx89uMQAHrEpCJy 5151 PACIFIC AVE\n",
      "STOCKTON CA  95207\n",
      "USA\n",
      "480\n"
     ]
    },
    {
     "name": "stderr",
     "output_type": "stream",
     "text": [
      "/tmp/ipykernel_198110/2077245259.py:28: FutureWarning: The frame.append method is deprecated and will be removed from pandas in a future version. Use pandas.concat instead.\n",
      "  latlong_df = latlong_df.append({'address': address, 'etHash': etHash,'bucket_id': bucket_id}, ignore_index=True)\n"
     ]
    },
    {
     "name": "stdout",
     "output_type": "stream",
     "text": [
      "uZTXHu5aewpCgzfzR 1501 MENDOCINO AVE\n",
      "SANTA ROSA CA  95401\n",
      "USA\n",
      "481\n"
     ]
    },
    {
     "name": "stderr",
     "output_type": "stream",
     "text": [
      "/tmp/ipykernel_198110/2077245259.py:28: FutureWarning: The frame.append method is deprecated and will be removed from pandas in a future version. Use pandas.concat instead.\n",
      "  latlong_df = latlong_df.append({'address': address, 'etHash': etHash,'bucket_id': bucket_id}, ignore_index=True)\n"
     ]
    },
    {
     "name": "stdout",
     "output_type": "stream",
     "text": [
      "jtSityJzRigZ4mJug 11555 OLD OREGON TRL\n",
      "REDDING CA  96003\n",
      "USA\n",
      "482\n"
     ]
    },
    {
     "name": "stderr",
     "output_type": "stream",
     "text": [
      "/tmp/ipykernel_198110/2077245259.py:28: FutureWarning: The frame.append method is deprecated and will be removed from pandas in a future version. Use pandas.concat instead.\n",
      "  latlong_df = latlong_df.append({'address': address, 'etHash': etHash,'bucket_id': bucket_id}, ignore_index=True)\n"
     ]
    },
    {
     "name": "stdout",
     "output_type": "stream",
     "text": [
      "AwK6kPE2vLcFNqy8A 5100 SIERRA COLLEGE BLVD\n",
      "ROCKLIN CA  95677\n",
      "USA\n",
      "483\n"
     ]
    },
    {
     "name": "stderr",
     "output_type": "stream",
     "text": [
      "/tmp/ipykernel_198110/2077245259.py:28: FutureWarning: The frame.append method is deprecated and will be removed from pandas in a future version. Use pandas.concat instead.\n",
      "  latlong_df = latlong_df.append({'address': address, 'etHash': etHash,'bucket_id': bucket_id}, ignore_index=True)\n"
     ]
    },
    {
     "name": "stdout",
     "output_type": "stream",
     "text": [
      "zfu7QS6MJ8EusLrNr \n",
      "SAN BRUNO CA  94066\n",
      "USA\n",
      "484\n"
     ]
    },
    {
     "name": "stderr",
     "output_type": "stream",
     "text": [
      "/tmp/ipykernel_198110/2077245259.py:28: FutureWarning: The frame.append method is deprecated and will be removed from pandas in a future version. Use pandas.concat instead.\n",
      "  latlong_df = latlong_df.append({'address': address, 'etHash': etHash,'bucket_id': bucket_id}, ignore_index=True)\n"
     ]
    },
    {
     "name": "stdout",
     "output_type": "stream",
     "text": [
      "Y9QQa9XwS4MgxLcpy \n",
      "SAN BRUNO CA  94066\n",
      "USA\n",
      "485\n"
     ]
    },
    {
     "name": "stderr",
     "output_type": "stream",
     "text": [
      "/tmp/ipykernel_198110/2077245259.py:28: FutureWarning: The frame.append method is deprecated and will be removed from pandas in a future version. Use pandas.concat instead.\n",
      "  latlong_df = latlong_df.append({'address': address, 'etHash': etHash,'bucket_id': bucket_id}, ignore_index=True)\n"
     ]
    },
    {
     "name": "stdout",
     "output_type": "stream",
     "text": [
      "KRZKRDgMobRrq5mAR 4000 SUISUN VALLEY RD\n",
      "FAIRFIELD CA  94534\n",
      "USA\n",
      "486\n"
     ]
    },
    {
     "name": "stderr",
     "output_type": "stream",
     "text": [
      "/tmp/ipykernel_198110/2077245259.py:28: FutureWarning: The frame.append method is deprecated and will be removed from pandas in a future version. Use pandas.concat instead.\n",
      "  latlong_df = latlong_df.append({'address': address, 'etHash': etHash,'bucket_id': bucket_id}, ignore_index=True)\n"
     ]
    },
    {
     "name": "stdout",
     "output_type": "stream",
     "text": [
      "cA8dKE2ZteyfYFAaW 2088 N BEALE RD\n",
      "LINDA CA  95901\n",
      "USA\n",
      "487\n"
     ]
    },
    {
     "name": "stderr",
     "output_type": "stream",
     "text": [
      "/tmp/ipykernel_198110/2077245259.py:28: FutureWarning: The frame.append method is deprecated and will be removed from pandas in a future version. Use pandas.concat instead.\n",
      "  latlong_df = latlong_df.append({'address': address, 'etHash': etHash,'bucket_id': bucket_id}, ignore_index=True)\n"
     ]
    },
    {
     "name": "stdout",
     "output_type": "stream",
     "text": [
      "EMdooHDzNfquiZ2Js 2626 E PECOS RD\n",
      "CHANDLER AZ  85225\n",
      "USA\n",
      "488\n"
     ]
    },
    {
     "name": "stderr",
     "output_type": "stream",
     "text": [
      "/tmp/ipykernel_198110/2077245259.py:28: FutureWarning: The frame.append method is deprecated and will be removed from pandas in a future version. Use pandas.concat instead.\n",
      "  latlong_df = latlong_df.append({'address': address, 'etHash': etHash,'bucket_id': bucket_id}, ignore_index=True)\n"
     ]
    },
    {
     "name": "stdout",
     "output_type": "stream",
     "text": [
      "Ko7NJm72zEbxzoA7s 1833 W SOUTHERN AVE\n",
      "MESA AZ  85202\n",
      "USA\n",
      "489\n"
     ]
    },
    {
     "name": "stderr",
     "output_type": "stream",
     "text": [
      "/tmp/ipykernel_198110/2077245259.py:28: FutureWarning: The frame.append method is deprecated and will be removed from pandas in a future version. Use pandas.concat instead.\n",
      "  latlong_df = latlong_df.append({'address': address, 'etHash': etHash,'bucket_id': bucket_id}, ignore_index=True)\n"
     ]
    },
    {
     "ename": "IndexError",
     "evalue": "list index out of range",
     "output_type": "error",
     "traceback": [
      "\u001b[0;31m---------------------------------------------------------------------------\u001b[0m",
      "\u001b[0;31mIndexError\u001b[0m                                Traceback (most recent call last)",
      "Cell \u001b[0;32mIn[4], line 23\u001b[0m\n\u001b[1;32m     21\u001b[0m bucket_id \u001b[38;5;241m=\u001b[39m row[\u001b[38;5;124m'\u001b[39m\u001b[38;5;124mbucket_ids\u001b[39m\u001b[38;5;124m'\u001b[39m]\n\u001b[1;32m     22\u001b[0m vr_joblatlong1 \u001b[38;5;241m=\u001b[39m VRJobLatLong(latitude, longitude)\n\u001b[0;32m---> 23\u001b[0m \u001b[43mvr_joblatlong1\u001b[49m\u001b[38;5;241;43m.\u001b[39;49m\u001b[43mrun_job\u001b[49m\u001b[43m(\u001b[49m\u001b[43m)\u001b[49m\n\u001b[1;32m     24\u001b[0m address \u001b[38;5;241m=\u001b[39m vr_joblatlong1\u001b[38;5;241m.\u001b[39maddress_match\n\u001b[1;32m     25\u001b[0m etHash \u001b[38;5;241m=\u001b[39m vr_joblatlong1\u001b[38;5;241m.\u001b[39methash_addr_match\n",
      "File \u001b[0;32m~/anaconda3/lib/python3.10/site-packages/backoff/_sync.py:105\u001b[0m, in \u001b[0;36mretry_exception.<locals>.retry\u001b[0;34m(*args, **kwargs)\u001b[0m\n\u001b[1;32m     96\u001b[0m details \u001b[38;5;241m=\u001b[39m {\n\u001b[1;32m     97\u001b[0m     \u001b[38;5;124m\"\u001b[39m\u001b[38;5;124mtarget\u001b[39m\u001b[38;5;124m\"\u001b[39m: target,\n\u001b[1;32m     98\u001b[0m     \u001b[38;5;124m\"\u001b[39m\u001b[38;5;124margs\u001b[39m\u001b[38;5;124m\"\u001b[39m: args,\n\u001b[0;32m   (...)\u001b[0m\n\u001b[1;32m    101\u001b[0m     \u001b[38;5;124m\"\u001b[39m\u001b[38;5;124melapsed\u001b[39m\u001b[38;5;124m\"\u001b[39m: elapsed,\n\u001b[1;32m    102\u001b[0m }\n\u001b[1;32m    104\u001b[0m \u001b[38;5;28;01mtry\u001b[39;00m:\n\u001b[0;32m--> 105\u001b[0m     ret \u001b[38;5;241m=\u001b[39m \u001b[43mtarget\u001b[49m\u001b[43m(\u001b[49m\u001b[38;5;241;43m*\u001b[39;49m\u001b[43margs\u001b[49m\u001b[43m,\u001b[49m\u001b[43m \u001b[49m\u001b[38;5;241;43m*\u001b[39;49m\u001b[38;5;241;43m*\u001b[39;49m\u001b[43mkwargs\u001b[49m\u001b[43m)\u001b[49m\n\u001b[1;32m    106\u001b[0m \u001b[38;5;28;01mexcept\u001b[39;00m exception \u001b[38;5;28;01mas\u001b[39;00m e:\n\u001b[1;32m    107\u001b[0m     max_tries_exceeded \u001b[38;5;241m=\u001b[39m (tries \u001b[38;5;241m==\u001b[39m max_tries_value)\n",
      "File \u001b[0;32m~/Documents/VR_Compare_old/vr_job_reversegeocode.py:86\u001b[0m, in \u001b[0;36mVRJobLatLong.run_job\u001b[0;34m(self)\u001b[0m\n\u001b[1;32m     68\u001b[0m \u001b[38;5;129m@backoff\u001b[39m\u001b[38;5;241m.\u001b[39mon_exception(\n\u001b[1;32m     69\u001b[0m     backoff\u001b[38;5;241m.\u001b[39mexpo,\n\u001b[1;32m     70\u001b[0m     (\n\u001b[0;32m   (...)\u001b[0m\n\u001b[1;32m     84\u001b[0m )\n\u001b[1;32m     85\u001b[0m \u001b[38;5;28;01mdef\u001b[39;00m \u001b[38;5;21mrun_job\u001b[39m(\u001b[38;5;28mself\u001b[39m):\n\u001b[0;32m---> 86\u001b[0m     \u001b[38;5;28;43mself\u001b[39;49m\u001b[38;5;241;43m.\u001b[39;49m\u001b[43mget_address_for_latlong\u001b[49m\u001b[43m(\u001b[49m\u001b[43m)\u001b[49m\n",
      "File \u001b[0;32m~/Documents/VR_Compare_old/vr_job_reversegeocode.py:61\u001b[0m, in \u001b[0;36mVRJobLatLong.get_address_for_latlong\u001b[0;34m(self)\u001b[0m\n\u001b[1;32m     58\u001b[0m \u001b[38;5;28;01mdef\u001b[39;00m \u001b[38;5;21mget_address_for_latlong\u001b[39m(\u001b[38;5;28mself\u001b[39m):\n\u001b[1;32m     60\u001b[0m     response \u001b[38;5;241m=\u001b[39m \u001b[38;5;28mself\u001b[39m\u001b[38;5;241m.\u001b[39m_address_for_latlong_query()\n\u001b[0;32m---> 61\u001b[0m     address \u001b[38;5;241m=\u001b[39m \u001b[43mresponse\u001b[49m\u001b[43m[\u001b[49m\u001b[38;5;124;43m'\u001b[39;49m\u001b[38;5;124;43mdata\u001b[39;49m\u001b[38;5;124;43m'\u001b[39;49m\u001b[43m]\u001b[49m\u001b[43m[\u001b[49m\u001b[38;5;124;43m'\u001b[39;49m\u001b[38;5;124;43mreverseGeocode\u001b[39;49m\u001b[38;5;124;43m'\u001b[39;49m\u001b[43m]\u001b[49m\u001b[43m[\u001b[49m\u001b[38;5;241;43m0\u001b[39;49m\u001b[43m]\u001b[49m[\u001b[38;5;124m'\u001b[39m\u001b[38;5;124maddress\u001b[39m\u001b[38;5;124m'\u001b[39m]\n\u001b[1;32m     62\u001b[0m     etHash \u001b[38;5;241m=\u001b[39m response[\u001b[38;5;124m'\u001b[39m\u001b[38;5;124mdata\u001b[39m\u001b[38;5;124m'\u001b[39m][\u001b[38;5;124m'\u001b[39m\u001b[38;5;124mreverseGeocode\u001b[39m\u001b[38;5;124m'\u001b[39m][\u001b[38;5;241m0\u001b[39m][\u001b[38;5;124m'\u001b[39m\u001b[38;5;124metHash\u001b[39m\u001b[38;5;124m'\u001b[39m]\n\u001b[1;32m     63\u001b[0m     \u001b[38;5;28mself\u001b[39m\u001b[38;5;241m.\u001b[39maddress_match \u001b[38;5;241m=\u001b[39m address\n",
      "\u001b[0;31mIndexError\u001b[0m: list index out of range"
     ]
    }
   ],
   "source": [
    "from vr_job_reversegeocode import VRJobLatLong\n",
    "\n",
    "#Pass data in form of batch of chunks in to the reverseGeocode\n",
    "chunk_size = 500  # Set your desired chunk size\n",
    "df_chunks = pd.read_csv('data_final.csv', chunksize=chunk_size)\n",
    "\n",
    "#latlong_df = pd.DataFrame(columns=['address', 'etHash', 'bucket_id'])  # Create an empty DataFrame with columns\n",
    "\n",
    "for i, df_chunk in enumerate(df_chunks):\n",
    "    # Split the 'coordinates' column into two columns: 'latitude' and 'longitude'\n",
    "    df_chunk[['longitude', 'latitude']] = df_chunk['bucket_coordinates'].str.strip('[]').str.split(', ', expand=True)\n",
    "\n",
    "    # Convert the columns to float (if needed)\n",
    "    df_chunk['latitude'] = df_chunk['latitude'].astype(float)\n",
    "    df_chunk['longitude'] = df_chunk['longitude'].astype(float)\n",
    "    \n",
    "    latlong_df = pd.DataFrame(columns=['address', 'etHash', 'bucket_id'])\n",
    "    for index, row in df_chunk.iterrows():\n",
    "        latitude = row['latitude'] \n",
    "        longitude = row['longitude']\n",
    "        bucket_id = row['bucket_ids']\n",
    "        vr_joblatlong1 = VRJobLatLong(latitude, longitude)\n",
    "        vr_joblatlong1.run_job()\n",
    "        address = vr_joblatlong1.address_match\n",
    "        etHash = vr_joblatlong1.ethash_addr_match\n",
    "        print(bucket_id, address)\n",
    "        # Append a new row to the DataFrame using a dictionary\n",
    "        latlong_df = latlong_df.append({'address': address, 'etHash': etHash,'bucket_id': bucket_id}, ignore_index=True)\n",
    "        print(len(latlong_df))\n",
    "    if i==0:\n",
    "        latlong_df.to_csv('final_df_add.csv',index=False,header=True)\n",
    "    else:\n",
    "        latlong_df.to_csv('final_df_add.csv',index=False,header=False,mode='a')\n",
    "# Print the resulting DataFrame\n",
    "#print(latlong_df)"
   ]
  },
  {
   "cell_type": "code",
   "execution_count": 2,
   "id": "154f6dcb",
   "metadata": {},
   "outputs": [],
   "source": [
    "df_final_noaddrs = pd.read_csv('data_final.csv') # Read data without etHash and address\n",
    "df_final_addrs_ethash = pd.read_csv('final_df_add.csv') #data output from reversegeocode with address,etHash mapping\n",
    "\n"
   ]
  },
  {
   "cell_type": "code",
   "execution_count": 6,
   "id": "bf706c05",
   "metadata": {},
   "outputs": [],
   "source": [
    "#Merge the data to mapp address and etHash\n",
    "df_metric_mapping = pd.merge(df_final_noaddrs,df_final_addrs_ethash.rename(columns={'bucket_id': 'bucket_ids'}),on='bucket_ids',how='inner')"
   ]
  },
  {
   "cell_type": "code",
   "execution_count": 8,
   "id": "f7b7c456",
   "metadata": {},
   "outputs": [],
   "source": [
    "#write the final csv file\n",
    "df_metric_mapping.to_csv('metric_df_vr.csv',index=False)"
   ]
  },
  {
   "cell_type": "code",
   "execution_count": null,
   "id": "20affcbb",
   "metadata": {},
   "outputs": [],
   "source": []
  },
  {
   "cell_type": "code",
   "execution_count": null,
   "id": "c53f77cc",
   "metadata": {},
   "outputs": [],
   "source": []
  },
  {
   "cell_type": "code",
   "execution_count": null,
   "id": "8d1725c1",
   "metadata": {},
   "outputs": [],
   "source": []
  },
  {
   "cell_type": "code",
   "execution_count": null,
   "id": "d08ea07d",
   "metadata": {},
   "outputs": [],
   "source": [
    "#Mapping salesrep"
   ]
  },
  {
   "cell_type": "code",
   "execution_count": 6,
   "id": "f99a6dff",
   "metadata": {},
   "outputs": [],
   "source": [
    "#Read the metric file\n",
    "df_metric_mapping = pd.read_csv('metric_df_vr.csv')"
   ]
  },
  {
   "cell_type": "code",
   "execution_count": 11,
   "id": "00140b78",
   "metadata": {},
   "outputs": [],
   "source": [
    "\n",
    "# List of _backet_id for mapping salesrep\n",
    "id_list = list(df_metric_mapping['bucket_ids'])\n",
    "buckets_test = list(db.buckets.find(\n",
    "    {\n",
    "        \"_id\": {\"$in\": id_list}, \n",
    "        \"type\": 22,\n",
    "        \"created\": {\"$gte\": datetime(2023, 1, 1)},\n",
    "        \"files\": {\"$exists\": True, \"$not\": {\"$size\": 0}},\n",
    "        \"conf.geoframe.map.center\": {\"$exists\": True, \"$not\": {\"$size\": 0}},\n",
    "        \"conf.buckets._id\": {\"$exists\": True, \"$not\": {\"$size\": 0}}\n",
    "    },\n",
    "    {\n",
    "        \"conf\": 1,\n",
    "        \"orgId\":1,\n",
    "        \"files\": 1,\n",
    "        \"name\": 1,\n",
    "        \"created\": 1,\n",
    "        \"updated\": 1,\n",
    "        \"total_stat\": \"$stats.total\"\n",
    "    }\n",
    "))\n"
   ]
  },
  {
   "cell_type": "code",
   "execution_count": 12,
   "id": "66cb5422",
   "metadata": {},
   "outputs": [
    {
     "data": {
      "text/plain": [
       "8155"
      ]
     },
     "execution_count": 12,
     "metadata": {},
     "output_type": "execute_result"
    }
   ],
   "source": [
    "len(buckets_test)"
   ]
  },
  {
   "cell_type": "code",
   "execution_count": null,
   "id": "d2f05e43",
   "metadata": {},
   "outputs": [],
   "source": [
    "#Mapiing SalesRep to the file"
   ]
  },
  {
   "cell_type": "code",
   "execution_count": 13,
   "id": "7bde6fff",
   "metadata": {},
   "outputs": [
    {
     "ename": "NameError",
     "evalue": "name 'metric_df_vr' is not defined",
     "output_type": "error",
     "traceback": [
      "\u001b[0;31m---------------------------------------------------------------------------\u001b[0m",
      "\u001b[0;31mNameError\u001b[0m                                 Traceback (most recent call last)",
      "Cell \u001b[0;32mIn[13], line 2\u001b[0m\n\u001b[1;32m      1\u001b[0m \u001b[38;5;66;03m# List of bucket_id values you want to match\u001b[39;00m\n\u001b[0;32m----> 2\u001b[0m orgId_list \u001b[38;5;241m=\u001b[39m \u001b[38;5;28mlist\u001b[39m(\u001b[43mmetric_df_vr\u001b[49m[\u001b[38;5;124m'\u001b[39m\u001b[38;5;124morgId\u001b[39m\u001b[38;5;124m'\u001b[39m]\u001b[38;5;241m.\u001b[39munique())\n\u001b[1;32m      3\u001b[0m buckets_reps \u001b[38;5;241m=\u001b[39m \u001b[38;5;28mlist\u001b[39m(db\u001b[38;5;241m.\u001b[39morgs\u001b[38;5;241m.\u001b[39mfind(\n\u001b[1;32m      4\u001b[0m     {\n\u001b[1;32m      5\u001b[0m         \u001b[38;5;124m\"\u001b[39m\u001b[38;5;124m_id\u001b[39m\u001b[38;5;124m\"\u001b[39m: {\u001b[38;5;124m\"\u001b[39m\u001b[38;5;124m$in\u001b[39m\u001b[38;5;124m\"\u001b[39m: orgId_list} \n\u001b[0;32m   (...)\u001b[0m\n\u001b[1;32m     10\u001b[0m     }\n\u001b[1;32m     11\u001b[0m ))\n",
      "\u001b[0;31mNameError\u001b[0m: name 'metric_df_vr' is not defined"
     ]
    }
   ],
   "source": [
    "# List of bucket_id values you want to match\n",
    "orgId_list = list(df_metric_mapping['orgId'].unique())\n",
    "buckets_reps = list(db.orgs.find(\n",
    "    {\n",
    "        \"_id\": {\"$in\": orgId_list} \n",
    "    },\n",
    "    {\n",
    "        \"_id\":1,\n",
    "        \"accountReps\": 1\n",
    "    }\n",
    "))"
   ]
  },
  {
   "cell_type": "code",
   "execution_count": 51,
   "id": "ba3d58db",
   "metadata": {},
   "outputs": [
    {
     "data": {
      "text/plain": [
       "470"
      ]
     },
     "execution_count": 51,
     "metadata": {},
     "output_type": "execute_result"
    }
   ],
   "source": [
    "len(buckets_reps)"
   ]
  },
  {
   "cell_type": "code",
   "execution_count": 73,
   "id": "c2ade659",
   "metadata": {},
   "outputs": [
    {
     "data": {
      "text/plain": [
       "{'_id': '58bdd7113314b55970a72e47',\n",
       " 'accountReps': [{'name': 'Sean Howard',\n",
       "   'email': 'showard@eltoro.com',\n",
       "   'userId': '573092a2f1dbb830078d4bcd'},\n",
       "  {'name': 'Meghan Darst',\n",
       "   'email': 'meghan@eltoro.com',\n",
       "   'userId': 'cuFGrFkBRckfjue9m'}]}"
      ]
     },
     "execution_count": 73,
     "metadata": {},
     "output_type": "execute_result"
    }
   ],
   "source": [
    "#some buckets have >1 salesrep\n",
    "buckets_reps[63]"
   ]
  },
  {
   "cell_type": "code",
   "execution_count": 107,
   "id": "eefd33cc",
   "metadata": {},
   "outputs": [
    {
     "name": "stderr",
     "output_type": "stream",
     "text": [
      "/tmp/ipykernel_98549/3138874623.py:22: FutureWarning: The frame.append method is deprecated and will be removed from pandas in a future version. Use pandas.concat instead.\n",
      "  df_test_reps = df_test_reps.append(row_data, ignore_index=True)\n",
      "/tmp/ipykernel_98549/3138874623.py:22: FutureWarning: The frame.append method is deprecated and will be removed from pandas in a future version. Use pandas.concat instead.\n",
      "  df_test_reps = df_test_reps.append(row_data, ignore_index=True)\n",
      "/tmp/ipykernel_98549/3138874623.py:22: FutureWarning: The frame.append method is deprecated and will be removed from pandas in a future version. Use pandas.concat instead.\n",
      "  df_test_reps = df_test_reps.append(row_data, ignore_index=True)\n",
      "/tmp/ipykernel_98549/3138874623.py:22: FutureWarning: The frame.append method is deprecated and will be removed from pandas in a future version. Use pandas.concat instead.\n",
      "  df_test_reps = df_test_reps.append(row_data, ignore_index=True)\n",
      "/tmp/ipykernel_98549/3138874623.py:22: FutureWarning: The frame.append method is deprecated and will be removed from pandas in a future version. Use pandas.concat instead.\n",
      "  df_test_reps = df_test_reps.append(row_data, ignore_index=True)\n",
      "/tmp/ipykernel_98549/3138874623.py:22: FutureWarning: The frame.append method is deprecated and will be removed from pandas in a future version. Use pandas.concat instead.\n",
      "  df_test_reps = df_test_reps.append(row_data, ignore_index=True)\n",
      "/tmp/ipykernel_98549/3138874623.py:22: FutureWarning: The frame.append method is deprecated and will be removed from pandas in a future version. Use pandas.concat instead.\n",
      "  df_test_reps = df_test_reps.append(row_data, ignore_index=True)\n",
      "/tmp/ipykernel_98549/3138874623.py:22: FutureWarning: The frame.append method is deprecated and will be removed from pandas in a future version. Use pandas.concat instead.\n",
      "  df_test_reps = df_test_reps.append(row_data, ignore_index=True)\n",
      "/tmp/ipykernel_98549/3138874623.py:22: FutureWarning: The frame.append method is deprecated and will be removed from pandas in a future version. Use pandas.concat instead.\n",
      "  df_test_reps = df_test_reps.append(row_data, ignore_index=True)\n",
      "/tmp/ipykernel_98549/3138874623.py:22: FutureWarning: The frame.append method is deprecated and will be removed from pandas in a future version. Use pandas.concat instead.\n",
      "  df_test_reps = df_test_reps.append(row_data, ignore_index=True)\n",
      "/tmp/ipykernel_98549/3138874623.py:22: FutureWarning: The frame.append method is deprecated and will be removed from pandas in a future version. Use pandas.concat instead.\n",
      "  df_test_reps = df_test_reps.append(row_data, ignore_index=True)\n",
      "/tmp/ipykernel_98549/3138874623.py:22: FutureWarning: The frame.append method is deprecated and will be removed from pandas in a future version. Use pandas.concat instead.\n",
      "  df_test_reps = df_test_reps.append(row_data, ignore_index=True)\n",
      "/tmp/ipykernel_98549/3138874623.py:22: FutureWarning: The frame.append method is deprecated and will be removed from pandas in a future version. Use pandas.concat instead.\n",
      "  df_test_reps = df_test_reps.append(row_data, ignore_index=True)\n",
      "/tmp/ipykernel_98549/3138874623.py:22: FutureWarning: The frame.append method is deprecated and will be removed from pandas in a future version. Use pandas.concat instead.\n",
      "  df_test_reps = df_test_reps.append(row_data, ignore_index=True)\n",
      "/tmp/ipykernel_98549/3138874623.py:22: FutureWarning: The frame.append method is deprecated and will be removed from pandas in a future version. Use pandas.concat instead.\n",
      "  df_test_reps = df_test_reps.append(row_data, ignore_index=True)\n",
      "/tmp/ipykernel_98549/3138874623.py:22: FutureWarning: The frame.append method is deprecated and will be removed from pandas in a future version. Use pandas.concat instead.\n",
      "  df_test_reps = df_test_reps.append(row_data, ignore_index=True)\n",
      "/tmp/ipykernel_98549/3138874623.py:22: FutureWarning: The frame.append method is deprecated and will be removed from pandas in a future version. Use pandas.concat instead.\n",
      "  df_test_reps = df_test_reps.append(row_data, ignore_index=True)\n",
      "/tmp/ipykernel_98549/3138874623.py:22: FutureWarning: The frame.append method is deprecated and will be removed from pandas in a future version. Use pandas.concat instead.\n",
      "  df_test_reps = df_test_reps.append(row_data, ignore_index=True)\n",
      "/tmp/ipykernel_98549/3138874623.py:22: FutureWarning: The frame.append method is deprecated and will be removed from pandas in a future version. Use pandas.concat instead.\n",
      "  df_test_reps = df_test_reps.append(row_data, ignore_index=True)\n",
      "/tmp/ipykernel_98549/3138874623.py:22: FutureWarning: The frame.append method is deprecated and will be removed from pandas in a future version. Use pandas.concat instead.\n",
      "  df_test_reps = df_test_reps.append(row_data, ignore_index=True)\n",
      "/tmp/ipykernel_98549/3138874623.py:22: FutureWarning: The frame.append method is deprecated and will be removed from pandas in a future version. Use pandas.concat instead.\n",
      "  df_test_reps = df_test_reps.append(row_data, ignore_index=True)\n",
      "/tmp/ipykernel_98549/3138874623.py:22: FutureWarning: The frame.append method is deprecated and will be removed from pandas in a future version. Use pandas.concat instead.\n",
      "  df_test_reps = df_test_reps.append(row_data, ignore_index=True)\n",
      "/tmp/ipykernel_98549/3138874623.py:22: FutureWarning: The frame.append method is deprecated and will be removed from pandas in a future version. Use pandas.concat instead.\n",
      "  df_test_reps = df_test_reps.append(row_data, ignore_index=True)\n",
      "/tmp/ipykernel_98549/3138874623.py:22: FutureWarning: The frame.append method is deprecated and will be removed from pandas in a future version. Use pandas.concat instead.\n",
      "  df_test_reps = df_test_reps.append(row_data, ignore_index=True)\n",
      "/tmp/ipykernel_98549/3138874623.py:22: FutureWarning: The frame.append method is deprecated and will be removed from pandas in a future version. Use pandas.concat instead.\n",
      "  df_test_reps = df_test_reps.append(row_data, ignore_index=True)\n",
      "/tmp/ipykernel_98549/3138874623.py:22: FutureWarning: The frame.append method is deprecated and will be removed from pandas in a future version. Use pandas.concat instead.\n",
      "  df_test_reps = df_test_reps.append(row_data, ignore_index=True)\n",
      "/tmp/ipykernel_98549/3138874623.py:22: FutureWarning: The frame.append method is deprecated and will be removed from pandas in a future version. Use pandas.concat instead.\n",
      "  df_test_reps = df_test_reps.append(row_data, ignore_index=True)\n",
      "/tmp/ipykernel_98549/3138874623.py:22: FutureWarning: The frame.append method is deprecated and will be removed from pandas in a future version. Use pandas.concat instead.\n",
      "  df_test_reps = df_test_reps.append(row_data, ignore_index=True)\n",
      "/tmp/ipykernel_98549/3138874623.py:22: FutureWarning: The frame.append method is deprecated and will be removed from pandas in a future version. Use pandas.concat instead.\n",
      "  df_test_reps = df_test_reps.append(row_data, ignore_index=True)\n",
      "/tmp/ipykernel_98549/3138874623.py:22: FutureWarning: The frame.append method is deprecated and will be removed from pandas in a future version. Use pandas.concat instead.\n",
      "  df_test_reps = df_test_reps.append(row_data, ignore_index=True)\n",
      "/tmp/ipykernel_98549/3138874623.py:22: FutureWarning: The frame.append method is deprecated and will be removed from pandas in a future version. Use pandas.concat instead.\n",
      "  df_test_reps = df_test_reps.append(row_data, ignore_index=True)\n",
      "/tmp/ipykernel_98549/3138874623.py:22: FutureWarning: The frame.append method is deprecated and will be removed from pandas in a future version. Use pandas.concat instead.\n",
      "  df_test_reps = df_test_reps.append(row_data, ignore_index=True)\n",
      "/tmp/ipykernel_98549/3138874623.py:22: FutureWarning: The frame.append method is deprecated and will be removed from pandas in a future version. Use pandas.concat instead.\n",
      "  df_test_reps = df_test_reps.append(row_data, ignore_index=True)\n",
      "/tmp/ipykernel_98549/3138874623.py:22: FutureWarning: The frame.append method is deprecated and will be removed from pandas in a future version. Use pandas.concat instead.\n",
      "  df_test_reps = df_test_reps.append(row_data, ignore_index=True)\n",
      "/tmp/ipykernel_98549/3138874623.py:22: FutureWarning: The frame.append method is deprecated and will be removed from pandas in a future version. Use pandas.concat instead.\n",
      "  df_test_reps = df_test_reps.append(row_data, ignore_index=True)\n",
      "/tmp/ipykernel_98549/3138874623.py:22: FutureWarning: The frame.append method is deprecated and will be removed from pandas in a future version. Use pandas.concat instead.\n",
      "  df_test_reps = df_test_reps.append(row_data, ignore_index=True)\n",
      "/tmp/ipykernel_98549/3138874623.py:22: FutureWarning: The frame.append method is deprecated and will be removed from pandas in a future version. Use pandas.concat instead.\n",
      "  df_test_reps = df_test_reps.append(row_data, ignore_index=True)\n",
      "/tmp/ipykernel_98549/3138874623.py:22: FutureWarning: The frame.append method is deprecated and will be removed from pandas in a future version. Use pandas.concat instead.\n",
      "  df_test_reps = df_test_reps.append(row_data, ignore_index=True)\n",
      "/tmp/ipykernel_98549/3138874623.py:22: FutureWarning: The frame.append method is deprecated and will be removed from pandas in a future version. Use pandas.concat instead.\n",
      "  df_test_reps = df_test_reps.append(row_data, ignore_index=True)\n",
      "/tmp/ipykernel_98549/3138874623.py:22: FutureWarning: The frame.append method is deprecated and will be removed from pandas in a future version. Use pandas.concat instead.\n",
      "  df_test_reps = df_test_reps.append(row_data, ignore_index=True)\n",
      "/tmp/ipykernel_98549/3138874623.py:22: FutureWarning: The frame.append method is deprecated and will be removed from pandas in a future version. Use pandas.concat instead.\n",
      "  df_test_reps = df_test_reps.append(row_data, ignore_index=True)\n",
      "/tmp/ipykernel_98549/3138874623.py:22: FutureWarning: The frame.append method is deprecated and will be removed from pandas in a future version. Use pandas.concat instead.\n",
      "  df_test_reps = df_test_reps.append(row_data, ignore_index=True)\n",
      "/tmp/ipykernel_98549/3138874623.py:22: FutureWarning: The frame.append method is deprecated and will be removed from pandas in a future version. Use pandas.concat instead.\n",
      "  df_test_reps = df_test_reps.append(row_data, ignore_index=True)\n",
      "/tmp/ipykernel_98549/3138874623.py:22: FutureWarning: The frame.append method is deprecated and will be removed from pandas in a future version. Use pandas.concat instead.\n",
      "  df_test_reps = df_test_reps.append(row_data, ignore_index=True)\n",
      "/tmp/ipykernel_98549/3138874623.py:22: FutureWarning: The frame.append method is deprecated and will be removed from pandas in a future version. Use pandas.concat instead.\n",
      "  df_test_reps = df_test_reps.append(row_data, ignore_index=True)\n",
      "/tmp/ipykernel_98549/3138874623.py:22: FutureWarning: The frame.append method is deprecated and will be removed from pandas in a future version. Use pandas.concat instead.\n",
      "  df_test_reps = df_test_reps.append(row_data, ignore_index=True)\n",
      "/tmp/ipykernel_98549/3138874623.py:22: FutureWarning: The frame.append method is deprecated and will be removed from pandas in a future version. Use pandas.concat instead.\n",
      "  df_test_reps = df_test_reps.append(row_data, ignore_index=True)\n",
      "/tmp/ipykernel_98549/3138874623.py:22: FutureWarning: The frame.append method is deprecated and will be removed from pandas in a future version. Use pandas.concat instead.\n",
      "  df_test_reps = df_test_reps.append(row_data, ignore_index=True)\n",
      "/tmp/ipykernel_98549/3138874623.py:22: FutureWarning: The frame.append method is deprecated and will be removed from pandas in a future version. Use pandas.concat instead.\n",
      "  df_test_reps = df_test_reps.append(row_data, ignore_index=True)\n",
      "/tmp/ipykernel_98549/3138874623.py:22: FutureWarning: The frame.append method is deprecated and will be removed from pandas in a future version. Use pandas.concat instead.\n",
      "  df_test_reps = df_test_reps.append(row_data, ignore_index=True)\n",
      "/tmp/ipykernel_98549/3138874623.py:22: FutureWarning: The frame.append method is deprecated and will be removed from pandas in a future version. Use pandas.concat instead.\n",
      "  df_test_reps = df_test_reps.append(row_data, ignore_index=True)\n",
      "/tmp/ipykernel_98549/3138874623.py:22: FutureWarning: The frame.append method is deprecated and will be removed from pandas in a future version. Use pandas.concat instead.\n",
      "  df_test_reps = df_test_reps.append(row_data, ignore_index=True)\n",
      "/tmp/ipykernel_98549/3138874623.py:22: FutureWarning: The frame.append method is deprecated and will be removed from pandas in a future version. Use pandas.concat instead.\n",
      "  df_test_reps = df_test_reps.append(row_data, ignore_index=True)\n",
      "/tmp/ipykernel_98549/3138874623.py:22: FutureWarning: The frame.append method is deprecated and will be removed from pandas in a future version. Use pandas.concat instead.\n",
      "  df_test_reps = df_test_reps.append(row_data, ignore_index=True)\n",
      "/tmp/ipykernel_98549/3138874623.py:22: FutureWarning: The frame.append method is deprecated and will be removed from pandas in a future version. Use pandas.concat instead.\n",
      "  df_test_reps = df_test_reps.append(row_data, ignore_index=True)\n",
      "/tmp/ipykernel_98549/3138874623.py:22: FutureWarning: The frame.append method is deprecated and will be removed from pandas in a future version. Use pandas.concat instead.\n",
      "  df_test_reps = df_test_reps.append(row_data, ignore_index=True)\n",
      "/tmp/ipykernel_98549/3138874623.py:22: FutureWarning: The frame.append method is deprecated and will be removed from pandas in a future version. Use pandas.concat instead.\n",
      "  df_test_reps = df_test_reps.append(row_data, ignore_index=True)\n",
      "/tmp/ipykernel_98549/3138874623.py:22: FutureWarning: The frame.append method is deprecated and will be removed from pandas in a future version. Use pandas.concat instead.\n",
      "  df_test_reps = df_test_reps.append(row_data, ignore_index=True)\n",
      "/tmp/ipykernel_98549/3138874623.py:22: FutureWarning: The frame.append method is deprecated and will be removed from pandas in a future version. Use pandas.concat instead.\n",
      "  df_test_reps = df_test_reps.append(row_data, ignore_index=True)\n",
      "/tmp/ipykernel_98549/3138874623.py:22: FutureWarning: The frame.append method is deprecated and will be removed from pandas in a future version. Use pandas.concat instead.\n",
      "  df_test_reps = df_test_reps.append(row_data, ignore_index=True)\n",
      "/tmp/ipykernel_98549/3138874623.py:22: FutureWarning: The frame.append method is deprecated and will be removed from pandas in a future version. Use pandas.concat instead.\n",
      "  df_test_reps = df_test_reps.append(row_data, ignore_index=True)\n",
      "/tmp/ipykernel_98549/3138874623.py:22: FutureWarning: The frame.append method is deprecated and will be removed from pandas in a future version. Use pandas.concat instead.\n",
      "  df_test_reps = df_test_reps.append(row_data, ignore_index=True)\n",
      "/tmp/ipykernel_98549/3138874623.py:22: FutureWarning: The frame.append method is deprecated and will be removed from pandas in a future version. Use pandas.concat instead.\n",
      "  df_test_reps = df_test_reps.append(row_data, ignore_index=True)\n",
      "/tmp/ipykernel_98549/3138874623.py:22: FutureWarning: The frame.append method is deprecated and will be removed from pandas in a future version. Use pandas.concat instead.\n",
      "  df_test_reps = df_test_reps.append(row_data, ignore_index=True)\n",
      "/tmp/ipykernel_98549/3138874623.py:22: FutureWarning: The frame.append method is deprecated and will be removed from pandas in a future version. Use pandas.concat instead.\n",
      "  df_test_reps = df_test_reps.append(row_data, ignore_index=True)\n",
      "/tmp/ipykernel_98549/3138874623.py:22: FutureWarning: The frame.append method is deprecated and will be removed from pandas in a future version. Use pandas.concat instead.\n",
      "  df_test_reps = df_test_reps.append(row_data, ignore_index=True)\n",
      "/tmp/ipykernel_98549/3138874623.py:22: FutureWarning: The frame.append method is deprecated and will be removed from pandas in a future version. Use pandas.concat instead.\n",
      "  df_test_reps = df_test_reps.append(row_data, ignore_index=True)\n",
      "/tmp/ipykernel_98549/3138874623.py:22: FutureWarning: The frame.append method is deprecated and will be removed from pandas in a future version. Use pandas.concat instead.\n",
      "  df_test_reps = df_test_reps.append(row_data, ignore_index=True)\n",
      "/tmp/ipykernel_98549/3138874623.py:22: FutureWarning: The frame.append method is deprecated and will be removed from pandas in a future version. Use pandas.concat instead.\n",
      "  df_test_reps = df_test_reps.append(row_data, ignore_index=True)\n",
      "/tmp/ipykernel_98549/3138874623.py:22: FutureWarning: The frame.append method is deprecated and will be removed from pandas in a future version. Use pandas.concat instead.\n",
      "  df_test_reps = df_test_reps.append(row_data, ignore_index=True)\n",
      "/tmp/ipykernel_98549/3138874623.py:22: FutureWarning: The frame.append method is deprecated and will be removed from pandas in a future version. Use pandas.concat instead.\n",
      "  df_test_reps = df_test_reps.append(row_data, ignore_index=True)\n",
      "/tmp/ipykernel_98549/3138874623.py:22: FutureWarning: The frame.append method is deprecated and will be removed from pandas in a future version. Use pandas.concat instead.\n",
      "  df_test_reps = df_test_reps.append(row_data, ignore_index=True)\n",
      "/tmp/ipykernel_98549/3138874623.py:22: FutureWarning: The frame.append method is deprecated and will be removed from pandas in a future version. Use pandas.concat instead.\n",
      "  df_test_reps = df_test_reps.append(row_data, ignore_index=True)\n",
      "/tmp/ipykernel_98549/3138874623.py:22: FutureWarning: The frame.append method is deprecated and will be removed from pandas in a future version. Use pandas.concat instead.\n",
      "  df_test_reps = df_test_reps.append(row_data, ignore_index=True)\n",
      "/tmp/ipykernel_98549/3138874623.py:22: FutureWarning: The frame.append method is deprecated and will be removed from pandas in a future version. Use pandas.concat instead.\n",
      "  df_test_reps = df_test_reps.append(row_data, ignore_index=True)\n",
      "/tmp/ipykernel_98549/3138874623.py:22: FutureWarning: The frame.append method is deprecated and will be removed from pandas in a future version. Use pandas.concat instead.\n",
      "  df_test_reps = df_test_reps.append(row_data, ignore_index=True)\n",
      "/tmp/ipykernel_98549/3138874623.py:22: FutureWarning: The frame.append method is deprecated and will be removed from pandas in a future version. Use pandas.concat instead.\n",
      "  df_test_reps = df_test_reps.append(row_data, ignore_index=True)\n",
      "/tmp/ipykernel_98549/3138874623.py:22: FutureWarning: The frame.append method is deprecated and will be removed from pandas in a future version. Use pandas.concat instead.\n",
      "  df_test_reps = df_test_reps.append(row_data, ignore_index=True)\n",
      "/tmp/ipykernel_98549/3138874623.py:22: FutureWarning: The frame.append method is deprecated and will be removed from pandas in a future version. Use pandas.concat instead.\n",
      "  df_test_reps = df_test_reps.append(row_data, ignore_index=True)\n",
      "/tmp/ipykernel_98549/3138874623.py:22: FutureWarning: The frame.append method is deprecated and will be removed from pandas in a future version. Use pandas.concat instead.\n",
      "  df_test_reps = df_test_reps.append(row_data, ignore_index=True)\n",
      "/tmp/ipykernel_98549/3138874623.py:22: FutureWarning: The frame.append method is deprecated and will be removed from pandas in a future version. Use pandas.concat instead.\n",
      "  df_test_reps = df_test_reps.append(row_data, ignore_index=True)\n",
      "/tmp/ipykernel_98549/3138874623.py:22: FutureWarning: The frame.append method is deprecated and will be removed from pandas in a future version. Use pandas.concat instead.\n",
      "  df_test_reps = df_test_reps.append(row_data, ignore_index=True)\n",
      "/tmp/ipykernel_98549/3138874623.py:22: FutureWarning: The frame.append method is deprecated and will be removed from pandas in a future version. Use pandas.concat instead.\n",
      "  df_test_reps = df_test_reps.append(row_data, ignore_index=True)\n",
      "/tmp/ipykernel_98549/3138874623.py:22: FutureWarning: The frame.append method is deprecated and will be removed from pandas in a future version. Use pandas.concat instead.\n",
      "  df_test_reps = df_test_reps.append(row_data, ignore_index=True)\n",
      "/tmp/ipykernel_98549/3138874623.py:22: FutureWarning: The frame.append method is deprecated and will be removed from pandas in a future version. Use pandas.concat instead.\n",
      "  df_test_reps = df_test_reps.append(row_data, ignore_index=True)\n",
      "/tmp/ipykernel_98549/3138874623.py:22: FutureWarning: The frame.append method is deprecated and will be removed from pandas in a future version. Use pandas.concat instead.\n",
      "  df_test_reps = df_test_reps.append(row_data, ignore_index=True)\n",
      "/tmp/ipykernel_98549/3138874623.py:22: FutureWarning: The frame.append method is deprecated and will be removed from pandas in a future version. Use pandas.concat instead.\n",
      "  df_test_reps = df_test_reps.append(row_data, ignore_index=True)\n",
      "/tmp/ipykernel_98549/3138874623.py:22: FutureWarning: The frame.append method is deprecated and will be removed from pandas in a future version. Use pandas.concat instead.\n",
      "  df_test_reps = df_test_reps.append(row_data, ignore_index=True)\n",
      "/tmp/ipykernel_98549/3138874623.py:22: FutureWarning: The frame.append method is deprecated and will be removed from pandas in a future version. Use pandas.concat instead.\n",
      "  df_test_reps = df_test_reps.append(row_data, ignore_index=True)\n",
      "/tmp/ipykernel_98549/3138874623.py:22: FutureWarning: The frame.append method is deprecated and will be removed from pandas in a future version. Use pandas.concat instead.\n",
      "  df_test_reps = df_test_reps.append(row_data, ignore_index=True)\n",
      "/tmp/ipykernel_98549/3138874623.py:22: FutureWarning: The frame.append method is deprecated and will be removed from pandas in a future version. Use pandas.concat instead.\n",
      "  df_test_reps = df_test_reps.append(row_data, ignore_index=True)\n",
      "/tmp/ipykernel_98549/3138874623.py:22: FutureWarning: The frame.append method is deprecated and will be removed from pandas in a future version. Use pandas.concat instead.\n",
      "  df_test_reps = df_test_reps.append(row_data, ignore_index=True)\n",
      "/tmp/ipykernel_98549/3138874623.py:22: FutureWarning: The frame.append method is deprecated and will be removed from pandas in a future version. Use pandas.concat instead.\n",
      "  df_test_reps = df_test_reps.append(row_data, ignore_index=True)\n",
      "/tmp/ipykernel_98549/3138874623.py:22: FutureWarning: The frame.append method is deprecated and will be removed from pandas in a future version. Use pandas.concat instead.\n",
      "  df_test_reps = df_test_reps.append(row_data, ignore_index=True)\n",
      "/tmp/ipykernel_98549/3138874623.py:22: FutureWarning: The frame.append method is deprecated and will be removed from pandas in a future version. Use pandas.concat instead.\n",
      "  df_test_reps = df_test_reps.append(row_data, ignore_index=True)\n",
      "/tmp/ipykernel_98549/3138874623.py:22: FutureWarning: The frame.append method is deprecated and will be removed from pandas in a future version. Use pandas.concat instead.\n",
      "  df_test_reps = df_test_reps.append(row_data, ignore_index=True)\n",
      "/tmp/ipykernel_98549/3138874623.py:22: FutureWarning: The frame.append method is deprecated and will be removed from pandas in a future version. Use pandas.concat instead.\n",
      "  df_test_reps = df_test_reps.append(row_data, ignore_index=True)\n",
      "/tmp/ipykernel_98549/3138874623.py:22: FutureWarning: The frame.append method is deprecated and will be removed from pandas in a future version. Use pandas.concat instead.\n",
      "  df_test_reps = df_test_reps.append(row_data, ignore_index=True)\n",
      "/tmp/ipykernel_98549/3138874623.py:22: FutureWarning: The frame.append method is deprecated and will be removed from pandas in a future version. Use pandas.concat instead.\n",
      "  df_test_reps = df_test_reps.append(row_data, ignore_index=True)\n",
      "/tmp/ipykernel_98549/3138874623.py:22: FutureWarning: The frame.append method is deprecated and will be removed from pandas in a future version. Use pandas.concat instead.\n",
      "  df_test_reps = df_test_reps.append(row_data, ignore_index=True)\n",
      "/tmp/ipykernel_98549/3138874623.py:22: FutureWarning: The frame.append method is deprecated and will be removed from pandas in a future version. Use pandas.concat instead.\n",
      "  df_test_reps = df_test_reps.append(row_data, ignore_index=True)\n",
      "/tmp/ipykernel_98549/3138874623.py:22: FutureWarning: The frame.append method is deprecated and will be removed from pandas in a future version. Use pandas.concat instead.\n",
      "  df_test_reps = df_test_reps.append(row_data, ignore_index=True)\n",
      "/tmp/ipykernel_98549/3138874623.py:22: FutureWarning: The frame.append method is deprecated and will be removed from pandas in a future version. Use pandas.concat instead.\n",
      "  df_test_reps = df_test_reps.append(row_data, ignore_index=True)\n",
      "/tmp/ipykernel_98549/3138874623.py:22: FutureWarning: The frame.append method is deprecated and will be removed from pandas in a future version. Use pandas.concat instead.\n",
      "  df_test_reps = df_test_reps.append(row_data, ignore_index=True)\n",
      "/tmp/ipykernel_98549/3138874623.py:22: FutureWarning: The frame.append method is deprecated and will be removed from pandas in a future version. Use pandas.concat instead.\n",
      "  df_test_reps = df_test_reps.append(row_data, ignore_index=True)\n",
      "/tmp/ipykernel_98549/3138874623.py:22: FutureWarning: The frame.append method is deprecated and will be removed from pandas in a future version. Use pandas.concat instead.\n",
      "  df_test_reps = df_test_reps.append(row_data, ignore_index=True)\n",
      "/tmp/ipykernel_98549/3138874623.py:22: FutureWarning: The frame.append method is deprecated and will be removed from pandas in a future version. Use pandas.concat instead.\n",
      "  df_test_reps = df_test_reps.append(row_data, ignore_index=True)\n",
      "/tmp/ipykernel_98549/3138874623.py:22: FutureWarning: The frame.append method is deprecated and will be removed from pandas in a future version. Use pandas.concat instead.\n",
      "  df_test_reps = df_test_reps.append(row_data, ignore_index=True)\n",
      "/tmp/ipykernel_98549/3138874623.py:22: FutureWarning: The frame.append method is deprecated and will be removed from pandas in a future version. Use pandas.concat instead.\n",
      "  df_test_reps = df_test_reps.append(row_data, ignore_index=True)\n",
      "/tmp/ipykernel_98549/3138874623.py:22: FutureWarning: The frame.append method is deprecated and will be removed from pandas in a future version. Use pandas.concat instead.\n",
      "  df_test_reps = df_test_reps.append(row_data, ignore_index=True)\n",
      "/tmp/ipykernel_98549/3138874623.py:22: FutureWarning: The frame.append method is deprecated and will be removed from pandas in a future version. Use pandas.concat instead.\n",
      "  df_test_reps = df_test_reps.append(row_data, ignore_index=True)\n",
      "/tmp/ipykernel_98549/3138874623.py:22: FutureWarning: The frame.append method is deprecated and will be removed from pandas in a future version. Use pandas.concat instead.\n",
      "  df_test_reps = df_test_reps.append(row_data, ignore_index=True)\n",
      "/tmp/ipykernel_98549/3138874623.py:22: FutureWarning: The frame.append method is deprecated and will be removed from pandas in a future version. Use pandas.concat instead.\n",
      "  df_test_reps = df_test_reps.append(row_data, ignore_index=True)\n",
      "/tmp/ipykernel_98549/3138874623.py:22: FutureWarning: The frame.append method is deprecated and will be removed from pandas in a future version. Use pandas.concat instead.\n",
      "  df_test_reps = df_test_reps.append(row_data, ignore_index=True)\n",
      "/tmp/ipykernel_98549/3138874623.py:22: FutureWarning: The frame.append method is deprecated and will be removed from pandas in a future version. Use pandas.concat instead.\n",
      "  df_test_reps = df_test_reps.append(row_data, ignore_index=True)\n",
      "/tmp/ipykernel_98549/3138874623.py:22: FutureWarning: The frame.append method is deprecated and will be removed from pandas in a future version. Use pandas.concat instead.\n",
      "  df_test_reps = df_test_reps.append(row_data, ignore_index=True)\n",
      "/tmp/ipykernel_98549/3138874623.py:22: FutureWarning: The frame.append method is deprecated and will be removed from pandas in a future version. Use pandas.concat instead.\n",
      "  df_test_reps = df_test_reps.append(row_data, ignore_index=True)\n",
      "/tmp/ipykernel_98549/3138874623.py:22: FutureWarning: The frame.append method is deprecated and will be removed from pandas in a future version. Use pandas.concat instead.\n",
      "  df_test_reps = df_test_reps.append(row_data, ignore_index=True)\n",
      "/tmp/ipykernel_98549/3138874623.py:22: FutureWarning: The frame.append method is deprecated and will be removed from pandas in a future version. Use pandas.concat instead.\n",
      "  df_test_reps = df_test_reps.append(row_data, ignore_index=True)\n",
      "/tmp/ipykernel_98549/3138874623.py:22: FutureWarning: The frame.append method is deprecated and will be removed from pandas in a future version. Use pandas.concat instead.\n",
      "  df_test_reps = df_test_reps.append(row_data, ignore_index=True)\n",
      "/tmp/ipykernel_98549/3138874623.py:22: FutureWarning: The frame.append method is deprecated and will be removed from pandas in a future version. Use pandas.concat instead.\n",
      "  df_test_reps = df_test_reps.append(row_data, ignore_index=True)\n",
      "/tmp/ipykernel_98549/3138874623.py:22: FutureWarning: The frame.append method is deprecated and will be removed from pandas in a future version. Use pandas.concat instead.\n",
      "  df_test_reps = df_test_reps.append(row_data, ignore_index=True)\n",
      "/tmp/ipykernel_98549/3138874623.py:22: FutureWarning: The frame.append method is deprecated and will be removed from pandas in a future version. Use pandas.concat instead.\n",
      "  df_test_reps = df_test_reps.append(row_data, ignore_index=True)\n",
      "/tmp/ipykernel_98549/3138874623.py:22: FutureWarning: The frame.append method is deprecated and will be removed from pandas in a future version. Use pandas.concat instead.\n",
      "  df_test_reps = df_test_reps.append(row_data, ignore_index=True)\n",
      "/tmp/ipykernel_98549/3138874623.py:22: FutureWarning: The frame.append method is deprecated and will be removed from pandas in a future version. Use pandas.concat instead.\n",
      "  df_test_reps = df_test_reps.append(row_data, ignore_index=True)\n",
      "/tmp/ipykernel_98549/3138874623.py:22: FutureWarning: The frame.append method is deprecated and will be removed from pandas in a future version. Use pandas.concat instead.\n",
      "  df_test_reps = df_test_reps.append(row_data, ignore_index=True)\n",
      "/tmp/ipykernel_98549/3138874623.py:22: FutureWarning: The frame.append method is deprecated and will be removed from pandas in a future version. Use pandas.concat instead.\n",
      "  df_test_reps = df_test_reps.append(row_data, ignore_index=True)\n",
      "/tmp/ipykernel_98549/3138874623.py:22: FutureWarning: The frame.append method is deprecated and will be removed from pandas in a future version. Use pandas.concat instead.\n",
      "  df_test_reps = df_test_reps.append(row_data, ignore_index=True)\n",
      "/tmp/ipykernel_98549/3138874623.py:22: FutureWarning: The frame.append method is deprecated and will be removed from pandas in a future version. Use pandas.concat instead.\n",
      "  df_test_reps = df_test_reps.append(row_data, ignore_index=True)\n",
      "/tmp/ipykernel_98549/3138874623.py:22: FutureWarning: The frame.append method is deprecated and will be removed from pandas in a future version. Use pandas.concat instead.\n",
      "  df_test_reps = df_test_reps.append(row_data, ignore_index=True)\n",
      "/tmp/ipykernel_98549/3138874623.py:22: FutureWarning: The frame.append method is deprecated and will be removed from pandas in a future version. Use pandas.concat instead.\n",
      "  df_test_reps = df_test_reps.append(row_data, ignore_index=True)\n",
      "/tmp/ipykernel_98549/3138874623.py:22: FutureWarning: The frame.append method is deprecated and will be removed from pandas in a future version. Use pandas.concat instead.\n",
      "  df_test_reps = df_test_reps.append(row_data, ignore_index=True)\n",
      "/tmp/ipykernel_98549/3138874623.py:22: FutureWarning: The frame.append method is deprecated and will be removed from pandas in a future version. Use pandas.concat instead.\n",
      "  df_test_reps = df_test_reps.append(row_data, ignore_index=True)\n",
      "/tmp/ipykernel_98549/3138874623.py:22: FutureWarning: The frame.append method is deprecated and will be removed from pandas in a future version. Use pandas.concat instead.\n",
      "  df_test_reps = df_test_reps.append(row_data, ignore_index=True)\n",
      "/tmp/ipykernel_98549/3138874623.py:22: FutureWarning: The frame.append method is deprecated and will be removed from pandas in a future version. Use pandas.concat instead.\n",
      "  df_test_reps = df_test_reps.append(row_data, ignore_index=True)\n",
      "/tmp/ipykernel_98549/3138874623.py:22: FutureWarning: The frame.append method is deprecated and will be removed from pandas in a future version. Use pandas.concat instead.\n",
      "  df_test_reps = df_test_reps.append(row_data, ignore_index=True)\n",
      "/tmp/ipykernel_98549/3138874623.py:22: FutureWarning: The frame.append method is deprecated and will be removed from pandas in a future version. Use pandas.concat instead.\n",
      "  df_test_reps = df_test_reps.append(row_data, ignore_index=True)\n",
      "/tmp/ipykernel_98549/3138874623.py:22: FutureWarning: The frame.append method is deprecated and will be removed from pandas in a future version. Use pandas.concat instead.\n",
      "  df_test_reps = df_test_reps.append(row_data, ignore_index=True)\n",
      "/tmp/ipykernel_98549/3138874623.py:22: FutureWarning: The frame.append method is deprecated and will be removed from pandas in a future version. Use pandas.concat instead.\n",
      "  df_test_reps = df_test_reps.append(row_data, ignore_index=True)\n",
      "/tmp/ipykernel_98549/3138874623.py:22: FutureWarning: The frame.append method is deprecated and will be removed from pandas in a future version. Use pandas.concat instead.\n",
      "  df_test_reps = df_test_reps.append(row_data, ignore_index=True)\n",
      "/tmp/ipykernel_98549/3138874623.py:22: FutureWarning: The frame.append method is deprecated and will be removed from pandas in a future version. Use pandas.concat instead.\n",
      "  df_test_reps = df_test_reps.append(row_data, ignore_index=True)\n",
      "/tmp/ipykernel_98549/3138874623.py:22: FutureWarning: The frame.append method is deprecated and will be removed from pandas in a future version. Use pandas.concat instead.\n",
      "  df_test_reps = df_test_reps.append(row_data, ignore_index=True)\n",
      "/tmp/ipykernel_98549/3138874623.py:22: FutureWarning: The frame.append method is deprecated and will be removed from pandas in a future version. Use pandas.concat instead.\n",
      "  df_test_reps = df_test_reps.append(row_data, ignore_index=True)\n",
      "/tmp/ipykernel_98549/3138874623.py:22: FutureWarning: The frame.append method is deprecated and will be removed from pandas in a future version. Use pandas.concat instead.\n",
      "  df_test_reps = df_test_reps.append(row_data, ignore_index=True)\n",
      "/tmp/ipykernel_98549/3138874623.py:22: FutureWarning: The frame.append method is deprecated and will be removed from pandas in a future version. Use pandas.concat instead.\n",
      "  df_test_reps = df_test_reps.append(row_data, ignore_index=True)\n",
      "/tmp/ipykernel_98549/3138874623.py:22: FutureWarning: The frame.append method is deprecated and will be removed from pandas in a future version. Use pandas.concat instead.\n",
      "  df_test_reps = df_test_reps.append(row_data, ignore_index=True)\n",
      "/tmp/ipykernel_98549/3138874623.py:22: FutureWarning: The frame.append method is deprecated and will be removed from pandas in a future version. Use pandas.concat instead.\n",
      "  df_test_reps = df_test_reps.append(row_data, ignore_index=True)\n",
      "/tmp/ipykernel_98549/3138874623.py:22: FutureWarning: The frame.append method is deprecated and will be removed from pandas in a future version. Use pandas.concat instead.\n",
      "  df_test_reps = df_test_reps.append(row_data, ignore_index=True)\n",
      "/tmp/ipykernel_98549/3138874623.py:22: FutureWarning: The frame.append method is deprecated and will be removed from pandas in a future version. Use pandas.concat instead.\n",
      "  df_test_reps = df_test_reps.append(row_data, ignore_index=True)\n",
      "/tmp/ipykernel_98549/3138874623.py:22: FutureWarning: The frame.append method is deprecated and will be removed from pandas in a future version. Use pandas.concat instead.\n",
      "  df_test_reps = df_test_reps.append(row_data, ignore_index=True)\n",
      "/tmp/ipykernel_98549/3138874623.py:22: FutureWarning: The frame.append method is deprecated and will be removed from pandas in a future version. Use pandas.concat instead.\n",
      "  df_test_reps = df_test_reps.append(row_data, ignore_index=True)\n",
      "/tmp/ipykernel_98549/3138874623.py:22: FutureWarning: The frame.append method is deprecated and will be removed from pandas in a future version. Use pandas.concat instead.\n",
      "  df_test_reps = df_test_reps.append(row_data, ignore_index=True)\n",
      "/tmp/ipykernel_98549/3138874623.py:22: FutureWarning: The frame.append method is deprecated and will be removed from pandas in a future version. Use pandas.concat instead.\n",
      "  df_test_reps = df_test_reps.append(row_data, ignore_index=True)\n",
      "/tmp/ipykernel_98549/3138874623.py:22: FutureWarning: The frame.append method is deprecated and will be removed from pandas in a future version. Use pandas.concat instead.\n",
      "  df_test_reps = df_test_reps.append(row_data, ignore_index=True)\n",
      "/tmp/ipykernel_98549/3138874623.py:22: FutureWarning: The frame.append method is deprecated and will be removed from pandas in a future version. Use pandas.concat instead.\n",
      "  df_test_reps = df_test_reps.append(row_data, ignore_index=True)\n",
      "/tmp/ipykernel_98549/3138874623.py:22: FutureWarning: The frame.append method is deprecated and will be removed from pandas in a future version. Use pandas.concat instead.\n",
      "  df_test_reps = df_test_reps.append(row_data, ignore_index=True)\n",
      "/tmp/ipykernel_98549/3138874623.py:22: FutureWarning: The frame.append method is deprecated and will be removed from pandas in a future version. Use pandas.concat instead.\n",
      "  df_test_reps = df_test_reps.append(row_data, ignore_index=True)\n",
      "/tmp/ipykernel_98549/3138874623.py:22: FutureWarning: The frame.append method is deprecated and will be removed from pandas in a future version. Use pandas.concat instead.\n",
      "  df_test_reps = df_test_reps.append(row_data, ignore_index=True)\n",
      "/tmp/ipykernel_98549/3138874623.py:22: FutureWarning: The frame.append method is deprecated and will be removed from pandas in a future version. Use pandas.concat instead.\n",
      "  df_test_reps = df_test_reps.append(row_data, ignore_index=True)\n",
      "/tmp/ipykernel_98549/3138874623.py:22: FutureWarning: The frame.append method is deprecated and will be removed from pandas in a future version. Use pandas.concat instead.\n",
      "  df_test_reps = df_test_reps.append(row_data, ignore_index=True)\n",
      "/tmp/ipykernel_98549/3138874623.py:22: FutureWarning: The frame.append method is deprecated and will be removed from pandas in a future version. Use pandas.concat instead.\n",
      "  df_test_reps = df_test_reps.append(row_data, ignore_index=True)\n",
      "/tmp/ipykernel_98549/3138874623.py:22: FutureWarning: The frame.append method is deprecated and will be removed from pandas in a future version. Use pandas.concat instead.\n",
      "  df_test_reps = df_test_reps.append(row_data, ignore_index=True)\n",
      "/tmp/ipykernel_98549/3138874623.py:22: FutureWarning: The frame.append method is deprecated and will be removed from pandas in a future version. Use pandas.concat instead.\n",
      "  df_test_reps = df_test_reps.append(row_data, ignore_index=True)\n",
      "/tmp/ipykernel_98549/3138874623.py:22: FutureWarning: The frame.append method is deprecated and will be removed from pandas in a future version. Use pandas.concat instead.\n",
      "  df_test_reps = df_test_reps.append(row_data, ignore_index=True)\n",
      "/tmp/ipykernel_98549/3138874623.py:22: FutureWarning: The frame.append method is deprecated and will be removed from pandas in a future version. Use pandas.concat instead.\n",
      "  df_test_reps = df_test_reps.append(row_data, ignore_index=True)\n",
      "/tmp/ipykernel_98549/3138874623.py:22: FutureWarning: The frame.append method is deprecated and will be removed from pandas in a future version. Use pandas.concat instead.\n",
      "  df_test_reps = df_test_reps.append(row_data, ignore_index=True)\n",
      "/tmp/ipykernel_98549/3138874623.py:22: FutureWarning: The frame.append method is deprecated and will be removed from pandas in a future version. Use pandas.concat instead.\n",
      "  df_test_reps = df_test_reps.append(row_data, ignore_index=True)\n",
      "/tmp/ipykernel_98549/3138874623.py:22: FutureWarning: The frame.append method is deprecated and will be removed from pandas in a future version. Use pandas.concat instead.\n",
      "  df_test_reps = df_test_reps.append(row_data, ignore_index=True)\n",
      "/tmp/ipykernel_98549/3138874623.py:22: FutureWarning: The frame.append method is deprecated and will be removed from pandas in a future version. Use pandas.concat instead.\n",
      "  df_test_reps = df_test_reps.append(row_data, ignore_index=True)\n",
      "/tmp/ipykernel_98549/3138874623.py:22: FutureWarning: The frame.append method is deprecated and will be removed from pandas in a future version. Use pandas.concat instead.\n",
      "  df_test_reps = df_test_reps.append(row_data, ignore_index=True)\n",
      "/tmp/ipykernel_98549/3138874623.py:22: FutureWarning: The frame.append method is deprecated and will be removed from pandas in a future version. Use pandas.concat instead.\n",
      "  df_test_reps = df_test_reps.append(row_data, ignore_index=True)\n",
      "/tmp/ipykernel_98549/3138874623.py:22: FutureWarning: The frame.append method is deprecated and will be removed from pandas in a future version. Use pandas.concat instead.\n",
      "  df_test_reps = df_test_reps.append(row_data, ignore_index=True)\n",
      "/tmp/ipykernel_98549/3138874623.py:22: FutureWarning: The frame.append method is deprecated and will be removed from pandas in a future version. Use pandas.concat instead.\n",
      "  df_test_reps = df_test_reps.append(row_data, ignore_index=True)\n",
      "/tmp/ipykernel_98549/3138874623.py:22: FutureWarning: The frame.append method is deprecated and will be removed from pandas in a future version. Use pandas.concat instead.\n",
      "  df_test_reps = df_test_reps.append(row_data, ignore_index=True)\n",
      "/tmp/ipykernel_98549/3138874623.py:22: FutureWarning: The frame.append method is deprecated and will be removed from pandas in a future version. Use pandas.concat instead.\n",
      "  df_test_reps = df_test_reps.append(row_data, ignore_index=True)\n",
      "/tmp/ipykernel_98549/3138874623.py:22: FutureWarning: The frame.append method is deprecated and will be removed from pandas in a future version. Use pandas.concat instead.\n",
      "  df_test_reps = df_test_reps.append(row_data, ignore_index=True)\n",
      "/tmp/ipykernel_98549/3138874623.py:22: FutureWarning: The frame.append method is deprecated and will be removed from pandas in a future version. Use pandas.concat instead.\n",
      "  df_test_reps = df_test_reps.append(row_data, ignore_index=True)\n",
      "/tmp/ipykernel_98549/3138874623.py:22: FutureWarning: The frame.append method is deprecated and will be removed from pandas in a future version. Use pandas.concat instead.\n",
      "  df_test_reps = df_test_reps.append(row_data, ignore_index=True)\n",
      "/tmp/ipykernel_98549/3138874623.py:22: FutureWarning: The frame.append method is deprecated and will be removed from pandas in a future version. Use pandas.concat instead.\n",
      "  df_test_reps = df_test_reps.append(row_data, ignore_index=True)\n",
      "/tmp/ipykernel_98549/3138874623.py:22: FutureWarning: The frame.append method is deprecated and will be removed from pandas in a future version. Use pandas.concat instead.\n",
      "  df_test_reps = df_test_reps.append(row_data, ignore_index=True)\n",
      "/tmp/ipykernel_98549/3138874623.py:22: FutureWarning: The frame.append method is deprecated and will be removed from pandas in a future version. Use pandas.concat instead.\n",
      "  df_test_reps = df_test_reps.append(row_data, ignore_index=True)\n",
      "/tmp/ipykernel_98549/3138874623.py:22: FutureWarning: The frame.append method is deprecated and will be removed from pandas in a future version. Use pandas.concat instead.\n",
      "  df_test_reps = df_test_reps.append(row_data, ignore_index=True)\n",
      "/tmp/ipykernel_98549/3138874623.py:22: FutureWarning: The frame.append method is deprecated and will be removed from pandas in a future version. Use pandas.concat instead.\n",
      "  df_test_reps = df_test_reps.append(row_data, ignore_index=True)\n",
      "/tmp/ipykernel_98549/3138874623.py:22: FutureWarning: The frame.append method is deprecated and will be removed from pandas in a future version. Use pandas.concat instead.\n",
      "  df_test_reps = df_test_reps.append(row_data, ignore_index=True)\n",
      "/tmp/ipykernel_98549/3138874623.py:22: FutureWarning: The frame.append method is deprecated and will be removed from pandas in a future version. Use pandas.concat instead.\n",
      "  df_test_reps = df_test_reps.append(row_data, ignore_index=True)\n",
      "/tmp/ipykernel_98549/3138874623.py:22: FutureWarning: The frame.append method is deprecated and will be removed from pandas in a future version. Use pandas.concat instead.\n",
      "  df_test_reps = df_test_reps.append(row_data, ignore_index=True)\n",
      "/tmp/ipykernel_98549/3138874623.py:22: FutureWarning: The frame.append method is deprecated and will be removed from pandas in a future version. Use pandas.concat instead.\n",
      "  df_test_reps = df_test_reps.append(row_data, ignore_index=True)\n",
      "/tmp/ipykernel_98549/3138874623.py:22: FutureWarning: The frame.append method is deprecated and will be removed from pandas in a future version. Use pandas.concat instead.\n",
      "  df_test_reps = df_test_reps.append(row_data, ignore_index=True)\n",
      "/tmp/ipykernel_98549/3138874623.py:22: FutureWarning: The frame.append method is deprecated and will be removed from pandas in a future version. Use pandas.concat instead.\n",
      "  df_test_reps = df_test_reps.append(row_data, ignore_index=True)\n",
      "/tmp/ipykernel_98549/3138874623.py:22: FutureWarning: The frame.append method is deprecated and will be removed from pandas in a future version. Use pandas.concat instead.\n",
      "  df_test_reps = df_test_reps.append(row_data, ignore_index=True)\n",
      "/tmp/ipykernel_98549/3138874623.py:22: FutureWarning: The frame.append method is deprecated and will be removed from pandas in a future version. Use pandas.concat instead.\n",
      "  df_test_reps = df_test_reps.append(row_data, ignore_index=True)\n",
      "/tmp/ipykernel_98549/3138874623.py:22: FutureWarning: The frame.append method is deprecated and will be removed from pandas in a future version. Use pandas.concat instead.\n",
      "  df_test_reps = df_test_reps.append(row_data, ignore_index=True)\n",
      "/tmp/ipykernel_98549/3138874623.py:22: FutureWarning: The frame.append method is deprecated and will be removed from pandas in a future version. Use pandas.concat instead.\n",
      "  df_test_reps = df_test_reps.append(row_data, ignore_index=True)\n",
      "/tmp/ipykernel_98549/3138874623.py:22: FutureWarning: The frame.append method is deprecated and will be removed from pandas in a future version. Use pandas.concat instead.\n",
      "  df_test_reps = df_test_reps.append(row_data, ignore_index=True)\n",
      "/tmp/ipykernel_98549/3138874623.py:22: FutureWarning: The frame.append method is deprecated and will be removed from pandas in a future version. Use pandas.concat instead.\n",
      "  df_test_reps = df_test_reps.append(row_data, ignore_index=True)\n",
      "/tmp/ipykernel_98549/3138874623.py:22: FutureWarning: The frame.append method is deprecated and will be removed from pandas in a future version. Use pandas.concat instead.\n",
      "  df_test_reps = df_test_reps.append(row_data, ignore_index=True)\n",
      "/tmp/ipykernel_98549/3138874623.py:22: FutureWarning: The frame.append method is deprecated and will be removed from pandas in a future version. Use pandas.concat instead.\n",
      "  df_test_reps = df_test_reps.append(row_data, ignore_index=True)\n",
      "/tmp/ipykernel_98549/3138874623.py:22: FutureWarning: The frame.append method is deprecated and will be removed from pandas in a future version. Use pandas.concat instead.\n",
      "  df_test_reps = df_test_reps.append(row_data, ignore_index=True)\n",
      "/tmp/ipykernel_98549/3138874623.py:22: FutureWarning: The frame.append method is deprecated and will be removed from pandas in a future version. Use pandas.concat instead.\n",
      "  df_test_reps = df_test_reps.append(row_data, ignore_index=True)\n",
      "/tmp/ipykernel_98549/3138874623.py:22: FutureWarning: The frame.append method is deprecated and will be removed from pandas in a future version. Use pandas.concat instead.\n",
      "  df_test_reps = df_test_reps.append(row_data, ignore_index=True)\n",
      "/tmp/ipykernel_98549/3138874623.py:22: FutureWarning: The frame.append method is deprecated and will be removed from pandas in a future version. Use pandas.concat instead.\n",
      "  df_test_reps = df_test_reps.append(row_data, ignore_index=True)\n",
      "/tmp/ipykernel_98549/3138874623.py:22: FutureWarning: The frame.append method is deprecated and will be removed from pandas in a future version. Use pandas.concat instead.\n",
      "  df_test_reps = df_test_reps.append(row_data, ignore_index=True)\n",
      "/tmp/ipykernel_98549/3138874623.py:22: FutureWarning: The frame.append method is deprecated and will be removed from pandas in a future version. Use pandas.concat instead.\n",
      "  df_test_reps = df_test_reps.append(row_data, ignore_index=True)\n",
      "/tmp/ipykernel_98549/3138874623.py:22: FutureWarning: The frame.append method is deprecated and will be removed from pandas in a future version. Use pandas.concat instead.\n",
      "  df_test_reps = df_test_reps.append(row_data, ignore_index=True)\n",
      "/tmp/ipykernel_98549/3138874623.py:22: FutureWarning: The frame.append method is deprecated and will be removed from pandas in a future version. Use pandas.concat instead.\n",
      "  df_test_reps = df_test_reps.append(row_data, ignore_index=True)\n",
      "/tmp/ipykernel_98549/3138874623.py:22: FutureWarning: The frame.append method is deprecated and will be removed from pandas in a future version. Use pandas.concat instead.\n",
      "  df_test_reps = df_test_reps.append(row_data, ignore_index=True)\n",
      "/tmp/ipykernel_98549/3138874623.py:22: FutureWarning: The frame.append method is deprecated and will be removed from pandas in a future version. Use pandas.concat instead.\n",
      "  df_test_reps = df_test_reps.append(row_data, ignore_index=True)\n",
      "/tmp/ipykernel_98549/3138874623.py:22: FutureWarning: The frame.append method is deprecated and will be removed from pandas in a future version. Use pandas.concat instead.\n",
      "  df_test_reps = df_test_reps.append(row_data, ignore_index=True)\n",
      "/tmp/ipykernel_98549/3138874623.py:22: FutureWarning: The frame.append method is deprecated and will be removed from pandas in a future version. Use pandas.concat instead.\n",
      "  df_test_reps = df_test_reps.append(row_data, ignore_index=True)\n",
      "/tmp/ipykernel_98549/3138874623.py:22: FutureWarning: The frame.append method is deprecated and will be removed from pandas in a future version. Use pandas.concat instead.\n",
      "  df_test_reps = df_test_reps.append(row_data, ignore_index=True)\n",
      "/tmp/ipykernel_98549/3138874623.py:22: FutureWarning: The frame.append method is deprecated and will be removed from pandas in a future version. Use pandas.concat instead.\n",
      "  df_test_reps = df_test_reps.append(row_data, ignore_index=True)\n",
      "/tmp/ipykernel_98549/3138874623.py:22: FutureWarning: The frame.append method is deprecated and will be removed from pandas in a future version. Use pandas.concat instead.\n",
      "  df_test_reps = df_test_reps.append(row_data, ignore_index=True)\n",
      "/tmp/ipykernel_98549/3138874623.py:22: FutureWarning: The frame.append method is deprecated and will be removed from pandas in a future version. Use pandas.concat instead.\n",
      "  df_test_reps = df_test_reps.append(row_data, ignore_index=True)\n",
      "/tmp/ipykernel_98549/3138874623.py:22: FutureWarning: The frame.append method is deprecated and will be removed from pandas in a future version. Use pandas.concat instead.\n",
      "  df_test_reps = df_test_reps.append(row_data, ignore_index=True)\n",
      "/tmp/ipykernel_98549/3138874623.py:22: FutureWarning: The frame.append method is deprecated and will be removed from pandas in a future version. Use pandas.concat instead.\n",
      "  df_test_reps = df_test_reps.append(row_data, ignore_index=True)\n",
      "/tmp/ipykernel_98549/3138874623.py:22: FutureWarning: The frame.append method is deprecated and will be removed from pandas in a future version. Use pandas.concat instead.\n",
      "  df_test_reps = df_test_reps.append(row_data, ignore_index=True)\n",
      "/tmp/ipykernel_98549/3138874623.py:22: FutureWarning: The frame.append method is deprecated and will be removed from pandas in a future version. Use pandas.concat instead.\n",
      "  df_test_reps = df_test_reps.append(row_data, ignore_index=True)\n",
      "/tmp/ipykernel_98549/3138874623.py:22: FutureWarning: The frame.append method is deprecated and will be removed from pandas in a future version. Use pandas.concat instead.\n",
      "  df_test_reps = df_test_reps.append(row_data, ignore_index=True)\n",
      "/tmp/ipykernel_98549/3138874623.py:22: FutureWarning: The frame.append method is deprecated and will be removed from pandas in a future version. Use pandas.concat instead.\n",
      "  df_test_reps = df_test_reps.append(row_data, ignore_index=True)\n",
      "/tmp/ipykernel_98549/3138874623.py:22: FutureWarning: The frame.append method is deprecated and will be removed from pandas in a future version. Use pandas.concat instead.\n",
      "  df_test_reps = df_test_reps.append(row_data, ignore_index=True)\n",
      "/tmp/ipykernel_98549/3138874623.py:22: FutureWarning: The frame.append method is deprecated and will be removed from pandas in a future version. Use pandas.concat instead.\n",
      "  df_test_reps = df_test_reps.append(row_data, ignore_index=True)\n",
      "/tmp/ipykernel_98549/3138874623.py:22: FutureWarning: The frame.append method is deprecated and will be removed from pandas in a future version. Use pandas.concat instead.\n",
      "  df_test_reps = df_test_reps.append(row_data, ignore_index=True)\n",
      "/tmp/ipykernel_98549/3138874623.py:22: FutureWarning: The frame.append method is deprecated and will be removed from pandas in a future version. Use pandas.concat instead.\n",
      "  df_test_reps = df_test_reps.append(row_data, ignore_index=True)\n",
      "/tmp/ipykernel_98549/3138874623.py:22: FutureWarning: The frame.append method is deprecated and will be removed from pandas in a future version. Use pandas.concat instead.\n",
      "  df_test_reps = df_test_reps.append(row_data, ignore_index=True)\n",
      "/tmp/ipykernel_98549/3138874623.py:22: FutureWarning: The frame.append method is deprecated and will be removed from pandas in a future version. Use pandas.concat instead.\n",
      "  df_test_reps = df_test_reps.append(row_data, ignore_index=True)\n",
      "/tmp/ipykernel_98549/3138874623.py:22: FutureWarning: The frame.append method is deprecated and will be removed from pandas in a future version. Use pandas.concat instead.\n",
      "  df_test_reps = df_test_reps.append(row_data, ignore_index=True)\n",
      "/tmp/ipykernel_98549/3138874623.py:22: FutureWarning: The frame.append method is deprecated and will be removed from pandas in a future version. Use pandas.concat instead.\n",
      "  df_test_reps = df_test_reps.append(row_data, ignore_index=True)\n",
      "/tmp/ipykernel_98549/3138874623.py:22: FutureWarning: The frame.append method is deprecated and will be removed from pandas in a future version. Use pandas.concat instead.\n",
      "  df_test_reps = df_test_reps.append(row_data, ignore_index=True)\n",
      "/tmp/ipykernel_98549/3138874623.py:22: FutureWarning: The frame.append method is deprecated and will be removed from pandas in a future version. Use pandas.concat instead.\n",
      "  df_test_reps = df_test_reps.append(row_data, ignore_index=True)\n",
      "/tmp/ipykernel_98549/3138874623.py:22: FutureWarning: The frame.append method is deprecated and will be removed from pandas in a future version. Use pandas.concat instead.\n",
      "  df_test_reps = df_test_reps.append(row_data, ignore_index=True)\n",
      "/tmp/ipykernel_98549/3138874623.py:22: FutureWarning: The frame.append method is deprecated and will be removed from pandas in a future version. Use pandas.concat instead.\n",
      "  df_test_reps = df_test_reps.append(row_data, ignore_index=True)\n",
      "/tmp/ipykernel_98549/3138874623.py:22: FutureWarning: The frame.append method is deprecated and will be removed from pandas in a future version. Use pandas.concat instead.\n",
      "  df_test_reps = df_test_reps.append(row_data, ignore_index=True)\n",
      "/tmp/ipykernel_98549/3138874623.py:22: FutureWarning: The frame.append method is deprecated and will be removed from pandas in a future version. Use pandas.concat instead.\n",
      "  df_test_reps = df_test_reps.append(row_data, ignore_index=True)\n",
      "/tmp/ipykernel_98549/3138874623.py:22: FutureWarning: The frame.append method is deprecated and will be removed from pandas in a future version. Use pandas.concat instead.\n",
      "  df_test_reps = df_test_reps.append(row_data, ignore_index=True)\n",
      "/tmp/ipykernel_98549/3138874623.py:22: FutureWarning: The frame.append method is deprecated and will be removed from pandas in a future version. Use pandas.concat instead.\n",
      "  df_test_reps = df_test_reps.append(row_data, ignore_index=True)\n",
      "/tmp/ipykernel_98549/3138874623.py:22: FutureWarning: The frame.append method is deprecated and will be removed from pandas in a future version. Use pandas.concat instead.\n",
      "  df_test_reps = df_test_reps.append(row_data, ignore_index=True)\n",
      "/tmp/ipykernel_98549/3138874623.py:22: FutureWarning: The frame.append method is deprecated and will be removed from pandas in a future version. Use pandas.concat instead.\n",
      "  df_test_reps = df_test_reps.append(row_data, ignore_index=True)\n",
      "/tmp/ipykernel_98549/3138874623.py:22: FutureWarning: The frame.append method is deprecated and will be removed from pandas in a future version. Use pandas.concat instead.\n",
      "  df_test_reps = df_test_reps.append(row_data, ignore_index=True)\n",
      "/tmp/ipykernel_98549/3138874623.py:22: FutureWarning: The frame.append method is deprecated and will be removed from pandas in a future version. Use pandas.concat instead.\n",
      "  df_test_reps = df_test_reps.append(row_data, ignore_index=True)\n",
      "/tmp/ipykernel_98549/3138874623.py:22: FutureWarning: The frame.append method is deprecated and will be removed from pandas in a future version. Use pandas.concat instead.\n",
      "  df_test_reps = df_test_reps.append(row_data, ignore_index=True)\n",
      "/tmp/ipykernel_98549/3138874623.py:22: FutureWarning: The frame.append method is deprecated and will be removed from pandas in a future version. Use pandas.concat instead.\n",
      "  df_test_reps = df_test_reps.append(row_data, ignore_index=True)\n",
      "/tmp/ipykernel_98549/3138874623.py:22: FutureWarning: The frame.append method is deprecated and will be removed from pandas in a future version. Use pandas.concat instead.\n",
      "  df_test_reps = df_test_reps.append(row_data, ignore_index=True)\n",
      "/tmp/ipykernel_98549/3138874623.py:22: FutureWarning: The frame.append method is deprecated and will be removed from pandas in a future version. Use pandas.concat instead.\n",
      "  df_test_reps = df_test_reps.append(row_data, ignore_index=True)\n",
      "/tmp/ipykernel_98549/3138874623.py:22: FutureWarning: The frame.append method is deprecated and will be removed from pandas in a future version. Use pandas.concat instead.\n",
      "  df_test_reps = df_test_reps.append(row_data, ignore_index=True)\n",
      "/tmp/ipykernel_98549/3138874623.py:22: FutureWarning: The frame.append method is deprecated and will be removed from pandas in a future version. Use pandas.concat instead.\n",
      "  df_test_reps = df_test_reps.append(row_data, ignore_index=True)\n",
      "/tmp/ipykernel_98549/3138874623.py:22: FutureWarning: The frame.append method is deprecated and will be removed from pandas in a future version. Use pandas.concat instead.\n",
      "  df_test_reps = df_test_reps.append(row_data, ignore_index=True)\n",
      "/tmp/ipykernel_98549/3138874623.py:22: FutureWarning: The frame.append method is deprecated and will be removed from pandas in a future version. Use pandas.concat instead.\n",
      "  df_test_reps = df_test_reps.append(row_data, ignore_index=True)\n",
      "/tmp/ipykernel_98549/3138874623.py:22: FutureWarning: The frame.append method is deprecated and will be removed from pandas in a future version. Use pandas.concat instead.\n",
      "  df_test_reps = df_test_reps.append(row_data, ignore_index=True)\n",
      "/tmp/ipykernel_98549/3138874623.py:22: FutureWarning: The frame.append method is deprecated and will be removed from pandas in a future version. Use pandas.concat instead.\n",
      "  df_test_reps = df_test_reps.append(row_data, ignore_index=True)\n",
      "/tmp/ipykernel_98549/3138874623.py:22: FutureWarning: The frame.append method is deprecated and will be removed from pandas in a future version. Use pandas.concat instead.\n",
      "  df_test_reps = df_test_reps.append(row_data, ignore_index=True)\n",
      "/tmp/ipykernel_98549/3138874623.py:22: FutureWarning: The frame.append method is deprecated and will be removed from pandas in a future version. Use pandas.concat instead.\n",
      "  df_test_reps = df_test_reps.append(row_data, ignore_index=True)\n",
      "/tmp/ipykernel_98549/3138874623.py:22: FutureWarning: The frame.append method is deprecated and will be removed from pandas in a future version. Use pandas.concat instead.\n",
      "  df_test_reps = df_test_reps.append(row_data, ignore_index=True)\n",
      "/tmp/ipykernel_98549/3138874623.py:22: FutureWarning: The frame.append method is deprecated and will be removed from pandas in a future version. Use pandas.concat instead.\n",
      "  df_test_reps = df_test_reps.append(row_data, ignore_index=True)\n",
      "/tmp/ipykernel_98549/3138874623.py:22: FutureWarning: The frame.append method is deprecated and will be removed from pandas in a future version. Use pandas.concat instead.\n",
      "  df_test_reps = df_test_reps.append(row_data, ignore_index=True)\n",
      "/tmp/ipykernel_98549/3138874623.py:22: FutureWarning: The frame.append method is deprecated and will be removed from pandas in a future version. Use pandas.concat instead.\n",
      "  df_test_reps = df_test_reps.append(row_data, ignore_index=True)\n",
      "/tmp/ipykernel_98549/3138874623.py:22: FutureWarning: The frame.append method is deprecated and will be removed from pandas in a future version. Use pandas.concat instead.\n",
      "  df_test_reps = df_test_reps.append(row_data, ignore_index=True)\n",
      "/tmp/ipykernel_98549/3138874623.py:22: FutureWarning: The frame.append method is deprecated and will be removed from pandas in a future version. Use pandas.concat instead.\n",
      "  df_test_reps = df_test_reps.append(row_data, ignore_index=True)\n",
      "/tmp/ipykernel_98549/3138874623.py:22: FutureWarning: The frame.append method is deprecated and will be removed from pandas in a future version. Use pandas.concat instead.\n",
      "  df_test_reps = df_test_reps.append(row_data, ignore_index=True)\n",
      "/tmp/ipykernel_98549/3138874623.py:22: FutureWarning: The frame.append method is deprecated and will be removed from pandas in a future version. Use pandas.concat instead.\n",
      "  df_test_reps = df_test_reps.append(row_data, ignore_index=True)\n",
      "/tmp/ipykernel_98549/3138874623.py:22: FutureWarning: The frame.append method is deprecated and will be removed from pandas in a future version. Use pandas.concat instead.\n",
      "  df_test_reps = df_test_reps.append(row_data, ignore_index=True)\n",
      "/tmp/ipykernel_98549/3138874623.py:22: FutureWarning: The frame.append method is deprecated and will be removed from pandas in a future version. Use pandas.concat instead.\n",
      "  df_test_reps = df_test_reps.append(row_data, ignore_index=True)\n",
      "/tmp/ipykernel_98549/3138874623.py:22: FutureWarning: The frame.append method is deprecated and will be removed from pandas in a future version. Use pandas.concat instead.\n",
      "  df_test_reps = df_test_reps.append(row_data, ignore_index=True)\n",
      "/tmp/ipykernel_98549/3138874623.py:22: FutureWarning: The frame.append method is deprecated and will be removed from pandas in a future version. Use pandas.concat instead.\n",
      "  df_test_reps = df_test_reps.append(row_data, ignore_index=True)\n",
      "/tmp/ipykernel_98549/3138874623.py:22: FutureWarning: The frame.append method is deprecated and will be removed from pandas in a future version. Use pandas.concat instead.\n",
      "  df_test_reps = df_test_reps.append(row_data, ignore_index=True)\n",
      "/tmp/ipykernel_98549/3138874623.py:22: FutureWarning: The frame.append method is deprecated and will be removed from pandas in a future version. Use pandas.concat instead.\n",
      "  df_test_reps = df_test_reps.append(row_data, ignore_index=True)\n",
      "/tmp/ipykernel_98549/3138874623.py:22: FutureWarning: The frame.append method is deprecated and will be removed from pandas in a future version. Use pandas.concat instead.\n",
      "  df_test_reps = df_test_reps.append(row_data, ignore_index=True)\n",
      "/tmp/ipykernel_98549/3138874623.py:22: FutureWarning: The frame.append method is deprecated and will be removed from pandas in a future version. Use pandas.concat instead.\n",
      "  df_test_reps = df_test_reps.append(row_data, ignore_index=True)\n",
      "/tmp/ipykernel_98549/3138874623.py:22: FutureWarning: The frame.append method is deprecated and will be removed from pandas in a future version. Use pandas.concat instead.\n",
      "  df_test_reps = df_test_reps.append(row_data, ignore_index=True)\n",
      "/tmp/ipykernel_98549/3138874623.py:22: FutureWarning: The frame.append method is deprecated and will be removed from pandas in a future version. Use pandas.concat instead.\n",
      "  df_test_reps = df_test_reps.append(row_data, ignore_index=True)\n",
      "/tmp/ipykernel_98549/3138874623.py:22: FutureWarning: The frame.append method is deprecated and will be removed from pandas in a future version. Use pandas.concat instead.\n",
      "  df_test_reps = df_test_reps.append(row_data, ignore_index=True)\n",
      "/tmp/ipykernel_98549/3138874623.py:22: FutureWarning: The frame.append method is deprecated and will be removed from pandas in a future version. Use pandas.concat instead.\n",
      "  df_test_reps = df_test_reps.append(row_data, ignore_index=True)\n",
      "/tmp/ipykernel_98549/3138874623.py:22: FutureWarning: The frame.append method is deprecated and will be removed from pandas in a future version. Use pandas.concat instead.\n",
      "  df_test_reps = df_test_reps.append(row_data, ignore_index=True)\n",
      "/tmp/ipykernel_98549/3138874623.py:22: FutureWarning: The frame.append method is deprecated and will be removed from pandas in a future version. Use pandas.concat instead.\n",
      "  df_test_reps = df_test_reps.append(row_data, ignore_index=True)\n",
      "/tmp/ipykernel_98549/3138874623.py:22: FutureWarning: The frame.append method is deprecated and will be removed from pandas in a future version. Use pandas.concat instead.\n",
      "  df_test_reps = df_test_reps.append(row_data, ignore_index=True)\n",
      "/tmp/ipykernel_98549/3138874623.py:22: FutureWarning: The frame.append method is deprecated and will be removed from pandas in a future version. Use pandas.concat instead.\n",
      "  df_test_reps = df_test_reps.append(row_data, ignore_index=True)\n",
      "/tmp/ipykernel_98549/3138874623.py:22: FutureWarning: The frame.append method is deprecated and will be removed from pandas in a future version. Use pandas.concat instead.\n",
      "  df_test_reps = df_test_reps.append(row_data, ignore_index=True)\n",
      "/tmp/ipykernel_98549/3138874623.py:22: FutureWarning: The frame.append method is deprecated and will be removed from pandas in a future version. Use pandas.concat instead.\n",
      "  df_test_reps = df_test_reps.append(row_data, ignore_index=True)\n",
      "/tmp/ipykernel_98549/3138874623.py:22: FutureWarning: The frame.append method is deprecated and will be removed from pandas in a future version. Use pandas.concat instead.\n",
      "  df_test_reps = df_test_reps.append(row_data, ignore_index=True)\n",
      "/tmp/ipykernel_98549/3138874623.py:22: FutureWarning: The frame.append method is deprecated and will be removed from pandas in a future version. Use pandas.concat instead.\n",
      "  df_test_reps = df_test_reps.append(row_data, ignore_index=True)\n",
      "/tmp/ipykernel_98549/3138874623.py:22: FutureWarning: The frame.append method is deprecated and will be removed from pandas in a future version. Use pandas.concat instead.\n",
      "  df_test_reps = df_test_reps.append(row_data, ignore_index=True)\n",
      "/tmp/ipykernel_98549/3138874623.py:22: FutureWarning: The frame.append method is deprecated and will be removed from pandas in a future version. Use pandas.concat instead.\n",
      "  df_test_reps = df_test_reps.append(row_data, ignore_index=True)\n",
      "/tmp/ipykernel_98549/3138874623.py:22: FutureWarning: The frame.append method is deprecated and will be removed from pandas in a future version. Use pandas.concat instead.\n",
      "  df_test_reps = df_test_reps.append(row_data, ignore_index=True)\n",
      "/tmp/ipykernel_98549/3138874623.py:22: FutureWarning: The frame.append method is deprecated and will be removed from pandas in a future version. Use pandas.concat instead.\n",
      "  df_test_reps = df_test_reps.append(row_data, ignore_index=True)\n",
      "/tmp/ipykernel_98549/3138874623.py:22: FutureWarning: The frame.append method is deprecated and will be removed from pandas in a future version. Use pandas.concat instead.\n",
      "  df_test_reps = df_test_reps.append(row_data, ignore_index=True)\n",
      "/tmp/ipykernel_98549/3138874623.py:22: FutureWarning: The frame.append method is deprecated and will be removed from pandas in a future version. Use pandas.concat instead.\n",
      "  df_test_reps = df_test_reps.append(row_data, ignore_index=True)\n",
      "/tmp/ipykernel_98549/3138874623.py:22: FutureWarning: The frame.append method is deprecated and will be removed from pandas in a future version. Use pandas.concat instead.\n",
      "  df_test_reps = df_test_reps.append(row_data, ignore_index=True)\n",
      "/tmp/ipykernel_98549/3138874623.py:22: FutureWarning: The frame.append method is deprecated and will be removed from pandas in a future version. Use pandas.concat instead.\n",
      "  df_test_reps = df_test_reps.append(row_data, ignore_index=True)\n",
      "/tmp/ipykernel_98549/3138874623.py:22: FutureWarning: The frame.append method is deprecated and will be removed from pandas in a future version. Use pandas.concat instead.\n",
      "  df_test_reps = df_test_reps.append(row_data, ignore_index=True)\n",
      "/tmp/ipykernel_98549/3138874623.py:22: FutureWarning: The frame.append method is deprecated and will be removed from pandas in a future version. Use pandas.concat instead.\n",
      "  df_test_reps = df_test_reps.append(row_data, ignore_index=True)\n",
      "/tmp/ipykernel_98549/3138874623.py:22: FutureWarning: The frame.append method is deprecated and will be removed from pandas in a future version. Use pandas.concat instead.\n",
      "  df_test_reps = df_test_reps.append(row_data, ignore_index=True)\n",
      "/tmp/ipykernel_98549/3138874623.py:22: FutureWarning: The frame.append method is deprecated and will be removed from pandas in a future version. Use pandas.concat instead.\n",
      "  df_test_reps = df_test_reps.append(row_data, ignore_index=True)\n",
      "/tmp/ipykernel_98549/3138874623.py:22: FutureWarning: The frame.append method is deprecated and will be removed from pandas in a future version. Use pandas.concat instead.\n",
      "  df_test_reps = df_test_reps.append(row_data, ignore_index=True)\n",
      "/tmp/ipykernel_98549/3138874623.py:22: FutureWarning: The frame.append method is deprecated and will be removed from pandas in a future version. Use pandas.concat instead.\n",
      "  df_test_reps = df_test_reps.append(row_data, ignore_index=True)\n",
      "/tmp/ipykernel_98549/3138874623.py:22: FutureWarning: The frame.append method is deprecated and will be removed from pandas in a future version. Use pandas.concat instead.\n",
      "  df_test_reps = df_test_reps.append(row_data, ignore_index=True)\n",
      "/tmp/ipykernel_98549/3138874623.py:22: FutureWarning: The frame.append method is deprecated and will be removed from pandas in a future version. Use pandas.concat instead.\n",
      "  df_test_reps = df_test_reps.append(row_data, ignore_index=True)\n",
      "/tmp/ipykernel_98549/3138874623.py:22: FutureWarning: The frame.append method is deprecated and will be removed from pandas in a future version. Use pandas.concat instead.\n",
      "  df_test_reps = df_test_reps.append(row_data, ignore_index=True)\n",
      "/tmp/ipykernel_98549/3138874623.py:22: FutureWarning: The frame.append method is deprecated and will be removed from pandas in a future version. Use pandas.concat instead.\n",
      "  df_test_reps = df_test_reps.append(row_data, ignore_index=True)\n",
      "/tmp/ipykernel_98549/3138874623.py:22: FutureWarning: The frame.append method is deprecated and will be removed from pandas in a future version. Use pandas.concat instead.\n",
      "  df_test_reps = df_test_reps.append(row_data, ignore_index=True)\n",
      "/tmp/ipykernel_98549/3138874623.py:22: FutureWarning: The frame.append method is deprecated and will be removed from pandas in a future version. Use pandas.concat instead.\n",
      "  df_test_reps = df_test_reps.append(row_data, ignore_index=True)\n",
      "/tmp/ipykernel_98549/3138874623.py:22: FutureWarning: The frame.append method is deprecated and will be removed from pandas in a future version. Use pandas.concat instead.\n",
      "  df_test_reps = df_test_reps.append(row_data, ignore_index=True)\n",
      "/tmp/ipykernel_98549/3138874623.py:22: FutureWarning: The frame.append method is deprecated and will be removed from pandas in a future version. Use pandas.concat instead.\n",
      "  df_test_reps = df_test_reps.append(row_data, ignore_index=True)\n",
      "/tmp/ipykernel_98549/3138874623.py:22: FutureWarning: The frame.append method is deprecated and will be removed from pandas in a future version. Use pandas.concat instead.\n",
      "  df_test_reps = df_test_reps.append(row_data, ignore_index=True)\n",
      "/tmp/ipykernel_98549/3138874623.py:22: FutureWarning: The frame.append method is deprecated and will be removed from pandas in a future version. Use pandas.concat instead.\n",
      "  df_test_reps = df_test_reps.append(row_data, ignore_index=True)\n",
      "/tmp/ipykernel_98549/3138874623.py:22: FutureWarning: The frame.append method is deprecated and will be removed from pandas in a future version. Use pandas.concat instead.\n",
      "  df_test_reps = df_test_reps.append(row_data, ignore_index=True)\n",
      "/tmp/ipykernel_98549/3138874623.py:22: FutureWarning: The frame.append method is deprecated and will be removed from pandas in a future version. Use pandas.concat instead.\n",
      "  df_test_reps = df_test_reps.append(row_data, ignore_index=True)\n",
      "/tmp/ipykernel_98549/3138874623.py:22: FutureWarning: The frame.append method is deprecated and will be removed from pandas in a future version. Use pandas.concat instead.\n",
      "  df_test_reps = df_test_reps.append(row_data, ignore_index=True)\n",
      "/tmp/ipykernel_98549/3138874623.py:22: FutureWarning: The frame.append method is deprecated and will be removed from pandas in a future version. Use pandas.concat instead.\n",
      "  df_test_reps = df_test_reps.append(row_data, ignore_index=True)\n",
      "/tmp/ipykernel_98549/3138874623.py:22: FutureWarning: The frame.append method is deprecated and will be removed from pandas in a future version. Use pandas.concat instead.\n",
      "  df_test_reps = df_test_reps.append(row_data, ignore_index=True)\n",
      "/tmp/ipykernel_98549/3138874623.py:22: FutureWarning: The frame.append method is deprecated and will be removed from pandas in a future version. Use pandas.concat instead.\n",
      "  df_test_reps = df_test_reps.append(row_data, ignore_index=True)\n",
      "/tmp/ipykernel_98549/3138874623.py:22: FutureWarning: The frame.append method is deprecated and will be removed from pandas in a future version. Use pandas.concat instead.\n",
      "  df_test_reps = df_test_reps.append(row_data, ignore_index=True)\n",
      "/tmp/ipykernel_98549/3138874623.py:22: FutureWarning: The frame.append method is deprecated and will be removed from pandas in a future version. Use pandas.concat instead.\n",
      "  df_test_reps = df_test_reps.append(row_data, ignore_index=True)\n",
      "/tmp/ipykernel_98549/3138874623.py:22: FutureWarning: The frame.append method is deprecated and will be removed from pandas in a future version. Use pandas.concat instead.\n",
      "  df_test_reps = df_test_reps.append(row_data, ignore_index=True)\n",
      "/tmp/ipykernel_98549/3138874623.py:22: FutureWarning: The frame.append method is deprecated and will be removed from pandas in a future version. Use pandas.concat instead.\n",
      "  df_test_reps = df_test_reps.append(row_data, ignore_index=True)\n",
      "/tmp/ipykernel_98549/3138874623.py:22: FutureWarning: The frame.append method is deprecated and will be removed from pandas in a future version. Use pandas.concat instead.\n",
      "  df_test_reps = df_test_reps.append(row_data, ignore_index=True)\n",
      "/tmp/ipykernel_98549/3138874623.py:22: FutureWarning: The frame.append method is deprecated and will be removed from pandas in a future version. Use pandas.concat instead.\n",
      "  df_test_reps = df_test_reps.append(row_data, ignore_index=True)\n",
      "/tmp/ipykernel_98549/3138874623.py:22: FutureWarning: The frame.append method is deprecated and will be removed from pandas in a future version. Use pandas.concat instead.\n",
      "  df_test_reps = df_test_reps.append(row_data, ignore_index=True)\n",
      "/tmp/ipykernel_98549/3138874623.py:22: FutureWarning: The frame.append method is deprecated and will be removed from pandas in a future version. Use pandas.concat instead.\n",
      "  df_test_reps = df_test_reps.append(row_data, ignore_index=True)\n",
      "/tmp/ipykernel_98549/3138874623.py:22: FutureWarning: The frame.append method is deprecated and will be removed from pandas in a future version. Use pandas.concat instead.\n",
      "  df_test_reps = df_test_reps.append(row_data, ignore_index=True)\n",
      "/tmp/ipykernel_98549/3138874623.py:22: FutureWarning: The frame.append method is deprecated and will be removed from pandas in a future version. Use pandas.concat instead.\n",
      "  df_test_reps = df_test_reps.append(row_data, ignore_index=True)\n",
      "/tmp/ipykernel_98549/3138874623.py:22: FutureWarning: The frame.append method is deprecated and will be removed from pandas in a future version. Use pandas.concat instead.\n",
      "  df_test_reps = df_test_reps.append(row_data, ignore_index=True)\n",
      "/tmp/ipykernel_98549/3138874623.py:22: FutureWarning: The frame.append method is deprecated and will be removed from pandas in a future version. Use pandas.concat instead.\n",
      "  df_test_reps = df_test_reps.append(row_data, ignore_index=True)\n",
      "/tmp/ipykernel_98549/3138874623.py:22: FutureWarning: The frame.append method is deprecated and will be removed from pandas in a future version. Use pandas.concat instead.\n",
      "  df_test_reps = df_test_reps.append(row_data, ignore_index=True)\n",
      "/tmp/ipykernel_98549/3138874623.py:22: FutureWarning: The frame.append method is deprecated and will be removed from pandas in a future version. Use pandas.concat instead.\n",
      "  df_test_reps = df_test_reps.append(row_data, ignore_index=True)\n",
      "/tmp/ipykernel_98549/3138874623.py:22: FutureWarning: The frame.append method is deprecated and will be removed from pandas in a future version. Use pandas.concat instead.\n",
      "  df_test_reps = df_test_reps.append(row_data, ignore_index=True)\n",
      "/tmp/ipykernel_98549/3138874623.py:22: FutureWarning: The frame.append method is deprecated and will be removed from pandas in a future version. Use pandas.concat instead.\n",
      "  df_test_reps = df_test_reps.append(row_data, ignore_index=True)\n",
      "/tmp/ipykernel_98549/3138874623.py:22: FutureWarning: The frame.append method is deprecated and will be removed from pandas in a future version. Use pandas.concat instead.\n",
      "  df_test_reps = df_test_reps.append(row_data, ignore_index=True)\n",
      "/tmp/ipykernel_98549/3138874623.py:22: FutureWarning: The frame.append method is deprecated and will be removed from pandas in a future version. Use pandas.concat instead.\n",
      "  df_test_reps = df_test_reps.append(row_data, ignore_index=True)\n",
      "/tmp/ipykernel_98549/3138874623.py:22: FutureWarning: The frame.append method is deprecated and will be removed from pandas in a future version. Use pandas.concat instead.\n",
      "  df_test_reps = df_test_reps.append(row_data, ignore_index=True)\n",
      "/tmp/ipykernel_98549/3138874623.py:22: FutureWarning: The frame.append method is deprecated and will be removed from pandas in a future version. Use pandas.concat instead.\n",
      "  df_test_reps = df_test_reps.append(row_data, ignore_index=True)\n",
      "/tmp/ipykernel_98549/3138874623.py:22: FutureWarning: The frame.append method is deprecated and will be removed from pandas in a future version. Use pandas.concat instead.\n",
      "  df_test_reps = df_test_reps.append(row_data, ignore_index=True)\n",
      "/tmp/ipykernel_98549/3138874623.py:22: FutureWarning: The frame.append method is deprecated and will be removed from pandas in a future version. Use pandas.concat instead.\n",
      "  df_test_reps = df_test_reps.append(row_data, ignore_index=True)\n",
      "/tmp/ipykernel_98549/3138874623.py:22: FutureWarning: The frame.append method is deprecated and will be removed from pandas in a future version. Use pandas.concat instead.\n",
      "  df_test_reps = df_test_reps.append(row_data, ignore_index=True)\n",
      "/tmp/ipykernel_98549/3138874623.py:22: FutureWarning: The frame.append method is deprecated and will be removed from pandas in a future version. Use pandas.concat instead.\n",
      "  df_test_reps = df_test_reps.append(row_data, ignore_index=True)\n"
     ]
    },
    {
     "name": "stderr",
     "output_type": "stream",
     "text": [
      "/tmp/ipykernel_98549/3138874623.py:22: FutureWarning: The frame.append method is deprecated and will be removed from pandas in a future version. Use pandas.concat instead.\n",
      "  df_test_reps = df_test_reps.append(row_data, ignore_index=True)\n",
      "/tmp/ipykernel_98549/3138874623.py:22: FutureWarning: The frame.append method is deprecated and will be removed from pandas in a future version. Use pandas.concat instead.\n",
      "  df_test_reps = df_test_reps.append(row_data, ignore_index=True)\n",
      "/tmp/ipykernel_98549/3138874623.py:22: FutureWarning: The frame.append method is deprecated and will be removed from pandas in a future version. Use pandas.concat instead.\n",
      "  df_test_reps = df_test_reps.append(row_data, ignore_index=True)\n",
      "/tmp/ipykernel_98549/3138874623.py:22: FutureWarning: The frame.append method is deprecated and will be removed from pandas in a future version. Use pandas.concat instead.\n",
      "  df_test_reps = df_test_reps.append(row_data, ignore_index=True)\n",
      "/tmp/ipykernel_98549/3138874623.py:22: FutureWarning: The frame.append method is deprecated and will be removed from pandas in a future version. Use pandas.concat instead.\n",
      "  df_test_reps = df_test_reps.append(row_data, ignore_index=True)\n",
      "/tmp/ipykernel_98549/3138874623.py:22: FutureWarning: The frame.append method is deprecated and will be removed from pandas in a future version. Use pandas.concat instead.\n",
      "  df_test_reps = df_test_reps.append(row_data, ignore_index=True)\n",
      "/tmp/ipykernel_98549/3138874623.py:22: FutureWarning: The frame.append method is deprecated and will be removed from pandas in a future version. Use pandas.concat instead.\n",
      "  df_test_reps = df_test_reps.append(row_data, ignore_index=True)\n",
      "/tmp/ipykernel_98549/3138874623.py:22: FutureWarning: The frame.append method is deprecated and will be removed from pandas in a future version. Use pandas.concat instead.\n",
      "  df_test_reps = df_test_reps.append(row_data, ignore_index=True)\n",
      "/tmp/ipykernel_98549/3138874623.py:22: FutureWarning: The frame.append method is deprecated and will be removed from pandas in a future version. Use pandas.concat instead.\n",
      "  df_test_reps = df_test_reps.append(row_data, ignore_index=True)\n",
      "/tmp/ipykernel_98549/3138874623.py:22: FutureWarning: The frame.append method is deprecated and will be removed from pandas in a future version. Use pandas.concat instead.\n",
      "  df_test_reps = df_test_reps.append(row_data, ignore_index=True)\n",
      "/tmp/ipykernel_98549/3138874623.py:22: FutureWarning: The frame.append method is deprecated and will be removed from pandas in a future version. Use pandas.concat instead.\n",
      "  df_test_reps = df_test_reps.append(row_data, ignore_index=True)\n",
      "/tmp/ipykernel_98549/3138874623.py:22: FutureWarning: The frame.append method is deprecated and will be removed from pandas in a future version. Use pandas.concat instead.\n",
      "  df_test_reps = df_test_reps.append(row_data, ignore_index=True)\n",
      "/tmp/ipykernel_98549/3138874623.py:22: FutureWarning: The frame.append method is deprecated and will be removed from pandas in a future version. Use pandas.concat instead.\n",
      "  df_test_reps = df_test_reps.append(row_data, ignore_index=True)\n",
      "/tmp/ipykernel_98549/3138874623.py:22: FutureWarning: The frame.append method is deprecated and will be removed from pandas in a future version. Use pandas.concat instead.\n",
      "  df_test_reps = df_test_reps.append(row_data, ignore_index=True)\n",
      "/tmp/ipykernel_98549/3138874623.py:22: FutureWarning: The frame.append method is deprecated and will be removed from pandas in a future version. Use pandas.concat instead.\n",
      "  df_test_reps = df_test_reps.append(row_data, ignore_index=True)\n",
      "/tmp/ipykernel_98549/3138874623.py:22: FutureWarning: The frame.append method is deprecated and will be removed from pandas in a future version. Use pandas.concat instead.\n",
      "  df_test_reps = df_test_reps.append(row_data, ignore_index=True)\n",
      "/tmp/ipykernel_98549/3138874623.py:22: FutureWarning: The frame.append method is deprecated and will be removed from pandas in a future version. Use pandas.concat instead.\n",
      "  df_test_reps = df_test_reps.append(row_data, ignore_index=True)\n",
      "/tmp/ipykernel_98549/3138874623.py:22: FutureWarning: The frame.append method is deprecated and will be removed from pandas in a future version. Use pandas.concat instead.\n",
      "  df_test_reps = df_test_reps.append(row_data, ignore_index=True)\n",
      "/tmp/ipykernel_98549/3138874623.py:22: FutureWarning: The frame.append method is deprecated and will be removed from pandas in a future version. Use pandas.concat instead.\n",
      "  df_test_reps = df_test_reps.append(row_data, ignore_index=True)\n",
      "/tmp/ipykernel_98549/3138874623.py:22: FutureWarning: The frame.append method is deprecated and will be removed from pandas in a future version. Use pandas.concat instead.\n",
      "  df_test_reps = df_test_reps.append(row_data, ignore_index=True)\n",
      "/tmp/ipykernel_98549/3138874623.py:22: FutureWarning: The frame.append method is deprecated and will be removed from pandas in a future version. Use pandas.concat instead.\n",
      "  df_test_reps = df_test_reps.append(row_data, ignore_index=True)\n",
      "/tmp/ipykernel_98549/3138874623.py:22: FutureWarning: The frame.append method is deprecated and will be removed from pandas in a future version. Use pandas.concat instead.\n",
      "  df_test_reps = df_test_reps.append(row_data, ignore_index=True)\n",
      "/tmp/ipykernel_98549/3138874623.py:22: FutureWarning: The frame.append method is deprecated and will be removed from pandas in a future version. Use pandas.concat instead.\n",
      "  df_test_reps = df_test_reps.append(row_data, ignore_index=True)\n",
      "/tmp/ipykernel_98549/3138874623.py:22: FutureWarning: The frame.append method is deprecated and will be removed from pandas in a future version. Use pandas.concat instead.\n",
      "  df_test_reps = df_test_reps.append(row_data, ignore_index=True)\n",
      "/tmp/ipykernel_98549/3138874623.py:22: FutureWarning: The frame.append method is deprecated and will be removed from pandas in a future version. Use pandas.concat instead.\n",
      "  df_test_reps = df_test_reps.append(row_data, ignore_index=True)\n",
      "/tmp/ipykernel_98549/3138874623.py:22: FutureWarning: The frame.append method is deprecated and will be removed from pandas in a future version. Use pandas.concat instead.\n",
      "  df_test_reps = df_test_reps.append(row_data, ignore_index=True)\n",
      "/tmp/ipykernel_98549/3138874623.py:22: FutureWarning: The frame.append method is deprecated and will be removed from pandas in a future version. Use pandas.concat instead.\n",
      "  df_test_reps = df_test_reps.append(row_data, ignore_index=True)\n",
      "/tmp/ipykernel_98549/3138874623.py:22: FutureWarning: The frame.append method is deprecated and will be removed from pandas in a future version. Use pandas.concat instead.\n",
      "  df_test_reps = df_test_reps.append(row_data, ignore_index=True)\n",
      "/tmp/ipykernel_98549/3138874623.py:22: FutureWarning: The frame.append method is deprecated and will be removed from pandas in a future version. Use pandas.concat instead.\n",
      "  df_test_reps = df_test_reps.append(row_data, ignore_index=True)\n",
      "/tmp/ipykernel_98549/3138874623.py:22: FutureWarning: The frame.append method is deprecated and will be removed from pandas in a future version. Use pandas.concat instead.\n",
      "  df_test_reps = df_test_reps.append(row_data, ignore_index=True)\n",
      "/tmp/ipykernel_98549/3138874623.py:22: FutureWarning: The frame.append method is deprecated and will be removed from pandas in a future version. Use pandas.concat instead.\n",
      "  df_test_reps = df_test_reps.append(row_data, ignore_index=True)\n",
      "/tmp/ipykernel_98549/3138874623.py:22: FutureWarning: The frame.append method is deprecated and will be removed from pandas in a future version. Use pandas.concat instead.\n",
      "  df_test_reps = df_test_reps.append(row_data, ignore_index=True)\n",
      "/tmp/ipykernel_98549/3138874623.py:22: FutureWarning: The frame.append method is deprecated and will be removed from pandas in a future version. Use pandas.concat instead.\n",
      "  df_test_reps = df_test_reps.append(row_data, ignore_index=True)\n",
      "/tmp/ipykernel_98549/3138874623.py:22: FutureWarning: The frame.append method is deprecated and will be removed from pandas in a future version. Use pandas.concat instead.\n",
      "  df_test_reps = df_test_reps.append(row_data, ignore_index=True)\n",
      "/tmp/ipykernel_98549/3138874623.py:22: FutureWarning: The frame.append method is deprecated and will be removed from pandas in a future version. Use pandas.concat instead.\n",
      "  df_test_reps = df_test_reps.append(row_data, ignore_index=True)\n",
      "/tmp/ipykernel_98549/3138874623.py:22: FutureWarning: The frame.append method is deprecated and will be removed from pandas in a future version. Use pandas.concat instead.\n",
      "  df_test_reps = df_test_reps.append(row_data, ignore_index=True)\n",
      "/tmp/ipykernel_98549/3138874623.py:22: FutureWarning: The frame.append method is deprecated and will be removed from pandas in a future version. Use pandas.concat instead.\n",
      "  df_test_reps = df_test_reps.append(row_data, ignore_index=True)\n",
      "/tmp/ipykernel_98549/3138874623.py:22: FutureWarning: The frame.append method is deprecated and will be removed from pandas in a future version. Use pandas.concat instead.\n",
      "  df_test_reps = df_test_reps.append(row_data, ignore_index=True)\n",
      "/tmp/ipykernel_98549/3138874623.py:22: FutureWarning: The frame.append method is deprecated and will be removed from pandas in a future version. Use pandas.concat instead.\n",
      "  df_test_reps = df_test_reps.append(row_data, ignore_index=True)\n",
      "/tmp/ipykernel_98549/3138874623.py:22: FutureWarning: The frame.append method is deprecated and will be removed from pandas in a future version. Use pandas.concat instead.\n",
      "  df_test_reps = df_test_reps.append(row_data, ignore_index=True)\n",
      "/tmp/ipykernel_98549/3138874623.py:22: FutureWarning: The frame.append method is deprecated and will be removed from pandas in a future version. Use pandas.concat instead.\n",
      "  df_test_reps = df_test_reps.append(row_data, ignore_index=True)\n",
      "/tmp/ipykernel_98549/3138874623.py:22: FutureWarning: The frame.append method is deprecated and will be removed from pandas in a future version. Use pandas.concat instead.\n",
      "  df_test_reps = df_test_reps.append(row_data, ignore_index=True)\n",
      "/tmp/ipykernel_98549/3138874623.py:22: FutureWarning: The frame.append method is deprecated and will be removed from pandas in a future version. Use pandas.concat instead.\n",
      "  df_test_reps = df_test_reps.append(row_data, ignore_index=True)\n",
      "/tmp/ipykernel_98549/3138874623.py:22: FutureWarning: The frame.append method is deprecated and will be removed from pandas in a future version. Use pandas.concat instead.\n",
      "  df_test_reps = df_test_reps.append(row_data, ignore_index=True)\n",
      "/tmp/ipykernel_98549/3138874623.py:22: FutureWarning: The frame.append method is deprecated and will be removed from pandas in a future version. Use pandas.concat instead.\n",
      "  df_test_reps = df_test_reps.append(row_data, ignore_index=True)\n",
      "/tmp/ipykernel_98549/3138874623.py:22: FutureWarning: The frame.append method is deprecated and will be removed from pandas in a future version. Use pandas.concat instead.\n",
      "  df_test_reps = df_test_reps.append(row_data, ignore_index=True)\n",
      "/tmp/ipykernel_98549/3138874623.py:22: FutureWarning: The frame.append method is deprecated and will be removed from pandas in a future version. Use pandas.concat instead.\n",
      "  df_test_reps = df_test_reps.append(row_data, ignore_index=True)\n",
      "/tmp/ipykernel_98549/3138874623.py:22: FutureWarning: The frame.append method is deprecated and will be removed from pandas in a future version. Use pandas.concat instead.\n",
      "  df_test_reps = df_test_reps.append(row_data, ignore_index=True)\n",
      "/tmp/ipykernel_98549/3138874623.py:22: FutureWarning: The frame.append method is deprecated and will be removed from pandas in a future version. Use pandas.concat instead.\n",
      "  df_test_reps = df_test_reps.append(row_data, ignore_index=True)\n",
      "/tmp/ipykernel_98549/3138874623.py:22: FutureWarning: The frame.append method is deprecated and will be removed from pandas in a future version. Use pandas.concat instead.\n",
      "  df_test_reps = df_test_reps.append(row_data, ignore_index=True)\n",
      "/tmp/ipykernel_98549/3138874623.py:22: FutureWarning: The frame.append method is deprecated and will be removed from pandas in a future version. Use pandas.concat instead.\n",
      "  df_test_reps = df_test_reps.append(row_data, ignore_index=True)\n",
      "/tmp/ipykernel_98549/3138874623.py:22: FutureWarning: The frame.append method is deprecated and will be removed from pandas in a future version. Use pandas.concat instead.\n",
      "  df_test_reps = df_test_reps.append(row_data, ignore_index=True)\n",
      "/tmp/ipykernel_98549/3138874623.py:22: FutureWarning: The frame.append method is deprecated and will be removed from pandas in a future version. Use pandas.concat instead.\n",
      "  df_test_reps = df_test_reps.append(row_data, ignore_index=True)\n",
      "/tmp/ipykernel_98549/3138874623.py:22: FutureWarning: The frame.append method is deprecated and will be removed from pandas in a future version. Use pandas.concat instead.\n",
      "  df_test_reps = df_test_reps.append(row_data, ignore_index=True)\n",
      "/tmp/ipykernel_98549/3138874623.py:22: FutureWarning: The frame.append method is deprecated and will be removed from pandas in a future version. Use pandas.concat instead.\n",
      "  df_test_reps = df_test_reps.append(row_data, ignore_index=True)\n",
      "/tmp/ipykernel_98549/3138874623.py:22: FutureWarning: The frame.append method is deprecated and will be removed from pandas in a future version. Use pandas.concat instead.\n",
      "  df_test_reps = df_test_reps.append(row_data, ignore_index=True)\n",
      "/tmp/ipykernel_98549/3138874623.py:22: FutureWarning: The frame.append method is deprecated and will be removed from pandas in a future version. Use pandas.concat instead.\n",
      "  df_test_reps = df_test_reps.append(row_data, ignore_index=True)\n",
      "/tmp/ipykernel_98549/3138874623.py:22: FutureWarning: The frame.append method is deprecated and will be removed from pandas in a future version. Use pandas.concat instead.\n",
      "  df_test_reps = df_test_reps.append(row_data, ignore_index=True)\n",
      "/tmp/ipykernel_98549/3138874623.py:22: FutureWarning: The frame.append method is deprecated and will be removed from pandas in a future version. Use pandas.concat instead.\n",
      "  df_test_reps = df_test_reps.append(row_data, ignore_index=True)\n",
      "/tmp/ipykernel_98549/3138874623.py:22: FutureWarning: The frame.append method is deprecated and will be removed from pandas in a future version. Use pandas.concat instead.\n",
      "  df_test_reps = df_test_reps.append(row_data, ignore_index=True)\n",
      "/tmp/ipykernel_98549/3138874623.py:22: FutureWarning: The frame.append method is deprecated and will be removed from pandas in a future version. Use pandas.concat instead.\n",
      "  df_test_reps = df_test_reps.append(row_data, ignore_index=True)\n",
      "/tmp/ipykernel_98549/3138874623.py:22: FutureWarning: The frame.append method is deprecated and will be removed from pandas in a future version. Use pandas.concat instead.\n",
      "  df_test_reps = df_test_reps.append(row_data, ignore_index=True)\n",
      "/tmp/ipykernel_98549/3138874623.py:22: FutureWarning: The frame.append method is deprecated and will be removed from pandas in a future version. Use pandas.concat instead.\n",
      "  df_test_reps = df_test_reps.append(row_data, ignore_index=True)\n",
      "/tmp/ipykernel_98549/3138874623.py:22: FutureWarning: The frame.append method is deprecated and will be removed from pandas in a future version. Use pandas.concat instead.\n",
      "  df_test_reps = df_test_reps.append(row_data, ignore_index=True)\n",
      "/tmp/ipykernel_98549/3138874623.py:22: FutureWarning: The frame.append method is deprecated and will be removed from pandas in a future version. Use pandas.concat instead.\n",
      "  df_test_reps = df_test_reps.append(row_data, ignore_index=True)\n",
      "/tmp/ipykernel_98549/3138874623.py:22: FutureWarning: The frame.append method is deprecated and will be removed from pandas in a future version. Use pandas.concat instead.\n",
      "  df_test_reps = df_test_reps.append(row_data, ignore_index=True)\n",
      "/tmp/ipykernel_98549/3138874623.py:22: FutureWarning: The frame.append method is deprecated and will be removed from pandas in a future version. Use pandas.concat instead.\n",
      "  df_test_reps = df_test_reps.append(row_data, ignore_index=True)\n",
      "/tmp/ipykernel_98549/3138874623.py:22: FutureWarning: The frame.append method is deprecated and will be removed from pandas in a future version. Use pandas.concat instead.\n",
      "  df_test_reps = df_test_reps.append(row_data, ignore_index=True)\n",
      "/tmp/ipykernel_98549/3138874623.py:22: FutureWarning: The frame.append method is deprecated and will be removed from pandas in a future version. Use pandas.concat instead.\n",
      "  df_test_reps = df_test_reps.append(row_data, ignore_index=True)\n",
      "/tmp/ipykernel_98549/3138874623.py:22: FutureWarning: The frame.append method is deprecated and will be removed from pandas in a future version. Use pandas.concat instead.\n",
      "  df_test_reps = df_test_reps.append(row_data, ignore_index=True)\n",
      "/tmp/ipykernel_98549/3138874623.py:22: FutureWarning: The frame.append method is deprecated and will be removed from pandas in a future version. Use pandas.concat instead.\n",
      "  df_test_reps = df_test_reps.append(row_data, ignore_index=True)\n",
      "/tmp/ipykernel_98549/3138874623.py:22: FutureWarning: The frame.append method is deprecated and will be removed from pandas in a future version. Use pandas.concat instead.\n",
      "  df_test_reps = df_test_reps.append(row_data, ignore_index=True)\n",
      "/tmp/ipykernel_98549/3138874623.py:22: FutureWarning: The frame.append method is deprecated and will be removed from pandas in a future version. Use pandas.concat instead.\n",
      "  df_test_reps = df_test_reps.append(row_data, ignore_index=True)\n",
      "/tmp/ipykernel_98549/3138874623.py:22: FutureWarning: The frame.append method is deprecated and will be removed from pandas in a future version. Use pandas.concat instead.\n",
      "  df_test_reps = df_test_reps.append(row_data, ignore_index=True)\n",
      "/tmp/ipykernel_98549/3138874623.py:22: FutureWarning: The frame.append method is deprecated and will be removed from pandas in a future version. Use pandas.concat instead.\n",
      "  df_test_reps = df_test_reps.append(row_data, ignore_index=True)\n",
      "/tmp/ipykernel_98549/3138874623.py:22: FutureWarning: The frame.append method is deprecated and will be removed from pandas in a future version. Use pandas.concat instead.\n",
      "  df_test_reps = df_test_reps.append(row_data, ignore_index=True)\n",
      "/tmp/ipykernel_98549/3138874623.py:22: FutureWarning: The frame.append method is deprecated and will be removed from pandas in a future version. Use pandas.concat instead.\n",
      "  df_test_reps = df_test_reps.append(row_data, ignore_index=True)\n",
      "/tmp/ipykernel_98549/3138874623.py:22: FutureWarning: The frame.append method is deprecated and will be removed from pandas in a future version. Use pandas.concat instead.\n",
      "  df_test_reps = df_test_reps.append(row_data, ignore_index=True)\n",
      "/tmp/ipykernel_98549/3138874623.py:22: FutureWarning: The frame.append method is deprecated and will be removed from pandas in a future version. Use pandas.concat instead.\n",
      "  df_test_reps = df_test_reps.append(row_data, ignore_index=True)\n",
      "/tmp/ipykernel_98549/3138874623.py:22: FutureWarning: The frame.append method is deprecated and will be removed from pandas in a future version. Use pandas.concat instead.\n",
      "  df_test_reps = df_test_reps.append(row_data, ignore_index=True)\n",
      "/tmp/ipykernel_98549/3138874623.py:22: FutureWarning: The frame.append method is deprecated and will be removed from pandas in a future version. Use pandas.concat instead.\n",
      "  df_test_reps = df_test_reps.append(row_data, ignore_index=True)\n",
      "/tmp/ipykernel_98549/3138874623.py:22: FutureWarning: The frame.append method is deprecated and will be removed from pandas in a future version. Use pandas.concat instead.\n",
      "  df_test_reps = df_test_reps.append(row_data, ignore_index=True)\n",
      "/tmp/ipykernel_98549/3138874623.py:22: FutureWarning: The frame.append method is deprecated and will be removed from pandas in a future version. Use pandas.concat instead.\n",
      "  df_test_reps = df_test_reps.append(row_data, ignore_index=True)\n",
      "/tmp/ipykernel_98549/3138874623.py:22: FutureWarning: The frame.append method is deprecated and will be removed from pandas in a future version. Use pandas.concat instead.\n",
      "  df_test_reps = df_test_reps.append(row_data, ignore_index=True)\n",
      "/tmp/ipykernel_98549/3138874623.py:22: FutureWarning: The frame.append method is deprecated and will be removed from pandas in a future version. Use pandas.concat instead.\n",
      "  df_test_reps = df_test_reps.append(row_data, ignore_index=True)\n",
      "/tmp/ipykernel_98549/3138874623.py:22: FutureWarning: The frame.append method is deprecated and will be removed from pandas in a future version. Use pandas.concat instead.\n",
      "  df_test_reps = df_test_reps.append(row_data, ignore_index=True)\n",
      "/tmp/ipykernel_98549/3138874623.py:22: FutureWarning: The frame.append method is deprecated and will be removed from pandas in a future version. Use pandas.concat instead.\n",
      "  df_test_reps = df_test_reps.append(row_data, ignore_index=True)\n",
      "/tmp/ipykernel_98549/3138874623.py:22: FutureWarning: The frame.append method is deprecated and will be removed from pandas in a future version. Use pandas.concat instead.\n",
      "  df_test_reps = df_test_reps.append(row_data, ignore_index=True)\n",
      "/tmp/ipykernel_98549/3138874623.py:22: FutureWarning: The frame.append method is deprecated and will be removed from pandas in a future version. Use pandas.concat instead.\n",
      "  df_test_reps = df_test_reps.append(row_data, ignore_index=True)\n",
      "/tmp/ipykernel_98549/3138874623.py:22: FutureWarning: The frame.append method is deprecated and will be removed from pandas in a future version. Use pandas.concat instead.\n",
      "  df_test_reps = df_test_reps.append(row_data, ignore_index=True)\n",
      "/tmp/ipykernel_98549/3138874623.py:22: FutureWarning: The frame.append method is deprecated and will be removed from pandas in a future version. Use pandas.concat instead.\n",
      "  df_test_reps = df_test_reps.append(row_data, ignore_index=True)\n",
      "/tmp/ipykernel_98549/3138874623.py:22: FutureWarning: The frame.append method is deprecated and will be removed from pandas in a future version. Use pandas.concat instead.\n",
      "  df_test_reps = df_test_reps.append(row_data, ignore_index=True)\n",
      "/tmp/ipykernel_98549/3138874623.py:22: FutureWarning: The frame.append method is deprecated and will be removed from pandas in a future version. Use pandas.concat instead.\n",
      "  df_test_reps = df_test_reps.append(row_data, ignore_index=True)\n",
      "/tmp/ipykernel_98549/3138874623.py:22: FutureWarning: The frame.append method is deprecated and will be removed from pandas in a future version. Use pandas.concat instead.\n",
      "  df_test_reps = df_test_reps.append(row_data, ignore_index=True)\n",
      "/tmp/ipykernel_98549/3138874623.py:22: FutureWarning: The frame.append method is deprecated and will be removed from pandas in a future version. Use pandas.concat instead.\n",
      "  df_test_reps = df_test_reps.append(row_data, ignore_index=True)\n",
      "/tmp/ipykernel_98549/3138874623.py:22: FutureWarning: The frame.append method is deprecated and will be removed from pandas in a future version. Use pandas.concat instead.\n",
      "  df_test_reps = df_test_reps.append(row_data, ignore_index=True)\n",
      "/tmp/ipykernel_98549/3138874623.py:22: FutureWarning: The frame.append method is deprecated and will be removed from pandas in a future version. Use pandas.concat instead.\n",
      "  df_test_reps = df_test_reps.append(row_data, ignore_index=True)\n",
      "/tmp/ipykernel_98549/3138874623.py:22: FutureWarning: The frame.append method is deprecated and will be removed from pandas in a future version. Use pandas.concat instead.\n",
      "  df_test_reps = df_test_reps.append(row_data, ignore_index=True)\n",
      "/tmp/ipykernel_98549/3138874623.py:22: FutureWarning: The frame.append method is deprecated and will be removed from pandas in a future version. Use pandas.concat instead.\n",
      "  df_test_reps = df_test_reps.append(row_data, ignore_index=True)\n",
      "/tmp/ipykernel_98549/3138874623.py:22: FutureWarning: The frame.append method is deprecated and will be removed from pandas in a future version. Use pandas.concat instead.\n",
      "  df_test_reps = df_test_reps.append(row_data, ignore_index=True)\n",
      "/tmp/ipykernel_98549/3138874623.py:22: FutureWarning: The frame.append method is deprecated and will be removed from pandas in a future version. Use pandas.concat instead.\n",
      "  df_test_reps = df_test_reps.append(row_data, ignore_index=True)\n",
      "/tmp/ipykernel_98549/3138874623.py:22: FutureWarning: The frame.append method is deprecated and will be removed from pandas in a future version. Use pandas.concat instead.\n",
      "  df_test_reps = df_test_reps.append(row_data, ignore_index=True)\n",
      "/tmp/ipykernel_98549/3138874623.py:22: FutureWarning: The frame.append method is deprecated and will be removed from pandas in a future version. Use pandas.concat instead.\n",
      "  df_test_reps = df_test_reps.append(row_data, ignore_index=True)\n",
      "/tmp/ipykernel_98549/3138874623.py:22: FutureWarning: The frame.append method is deprecated and will be removed from pandas in a future version. Use pandas.concat instead.\n",
      "  df_test_reps = df_test_reps.append(row_data, ignore_index=True)\n",
      "/tmp/ipykernel_98549/3138874623.py:22: FutureWarning: The frame.append method is deprecated and will be removed from pandas in a future version. Use pandas.concat instead.\n",
      "  df_test_reps = df_test_reps.append(row_data, ignore_index=True)\n",
      "/tmp/ipykernel_98549/3138874623.py:22: FutureWarning: The frame.append method is deprecated and will be removed from pandas in a future version. Use pandas.concat instead.\n",
      "  df_test_reps = df_test_reps.append(row_data, ignore_index=True)\n",
      "/tmp/ipykernel_98549/3138874623.py:22: FutureWarning: The frame.append method is deprecated and will be removed from pandas in a future version. Use pandas.concat instead.\n",
      "  df_test_reps = df_test_reps.append(row_data, ignore_index=True)\n",
      "/tmp/ipykernel_98549/3138874623.py:22: FutureWarning: The frame.append method is deprecated and will be removed from pandas in a future version. Use pandas.concat instead.\n",
      "  df_test_reps = df_test_reps.append(row_data, ignore_index=True)\n",
      "/tmp/ipykernel_98549/3138874623.py:22: FutureWarning: The frame.append method is deprecated and will be removed from pandas in a future version. Use pandas.concat instead.\n",
      "  df_test_reps = df_test_reps.append(row_data, ignore_index=True)\n",
      "/tmp/ipykernel_98549/3138874623.py:22: FutureWarning: The frame.append method is deprecated and will be removed from pandas in a future version. Use pandas.concat instead.\n",
      "  df_test_reps = df_test_reps.append(row_data, ignore_index=True)\n",
      "/tmp/ipykernel_98549/3138874623.py:22: FutureWarning: The frame.append method is deprecated and will be removed from pandas in a future version. Use pandas.concat instead.\n",
      "  df_test_reps = df_test_reps.append(row_data, ignore_index=True)\n",
      "/tmp/ipykernel_98549/3138874623.py:22: FutureWarning: The frame.append method is deprecated and will be removed from pandas in a future version. Use pandas.concat instead.\n",
      "  df_test_reps = df_test_reps.append(row_data, ignore_index=True)\n",
      "/tmp/ipykernel_98549/3138874623.py:22: FutureWarning: The frame.append method is deprecated and will be removed from pandas in a future version. Use pandas.concat instead.\n",
      "  df_test_reps = df_test_reps.append(row_data, ignore_index=True)\n",
      "/tmp/ipykernel_98549/3138874623.py:22: FutureWarning: The frame.append method is deprecated and will be removed from pandas in a future version. Use pandas.concat instead.\n",
      "  df_test_reps = df_test_reps.append(row_data, ignore_index=True)\n",
      "/tmp/ipykernel_98549/3138874623.py:22: FutureWarning: The frame.append method is deprecated and will be removed from pandas in a future version. Use pandas.concat instead.\n",
      "  df_test_reps = df_test_reps.append(row_data, ignore_index=True)\n",
      "/tmp/ipykernel_98549/3138874623.py:22: FutureWarning: The frame.append method is deprecated and will be removed from pandas in a future version. Use pandas.concat instead.\n",
      "  df_test_reps = df_test_reps.append(row_data, ignore_index=True)\n",
      "/tmp/ipykernel_98549/3138874623.py:22: FutureWarning: The frame.append method is deprecated and will be removed from pandas in a future version. Use pandas.concat instead.\n",
      "  df_test_reps = df_test_reps.append(row_data, ignore_index=True)\n",
      "/tmp/ipykernel_98549/3138874623.py:22: FutureWarning: The frame.append method is deprecated and will be removed from pandas in a future version. Use pandas.concat instead.\n",
      "  df_test_reps = df_test_reps.append(row_data, ignore_index=True)\n",
      "/tmp/ipykernel_98549/3138874623.py:22: FutureWarning: The frame.append method is deprecated and will be removed from pandas in a future version. Use pandas.concat instead.\n",
      "  df_test_reps = df_test_reps.append(row_data, ignore_index=True)\n",
      "/tmp/ipykernel_98549/3138874623.py:22: FutureWarning: The frame.append method is deprecated and will be removed from pandas in a future version. Use pandas.concat instead.\n",
      "  df_test_reps = df_test_reps.append(row_data, ignore_index=True)\n",
      "/tmp/ipykernel_98549/3138874623.py:22: FutureWarning: The frame.append method is deprecated and will be removed from pandas in a future version. Use pandas.concat instead.\n",
      "  df_test_reps = df_test_reps.append(row_data, ignore_index=True)\n",
      "/tmp/ipykernel_98549/3138874623.py:22: FutureWarning: The frame.append method is deprecated and will be removed from pandas in a future version. Use pandas.concat instead.\n",
      "  df_test_reps = df_test_reps.append(row_data, ignore_index=True)\n",
      "/tmp/ipykernel_98549/3138874623.py:22: FutureWarning: The frame.append method is deprecated and will be removed from pandas in a future version. Use pandas.concat instead.\n",
      "  df_test_reps = df_test_reps.append(row_data, ignore_index=True)\n",
      "/tmp/ipykernel_98549/3138874623.py:22: FutureWarning: The frame.append method is deprecated and will be removed from pandas in a future version. Use pandas.concat instead.\n",
      "  df_test_reps = df_test_reps.append(row_data, ignore_index=True)\n",
      "/tmp/ipykernel_98549/3138874623.py:22: FutureWarning: The frame.append method is deprecated and will be removed from pandas in a future version. Use pandas.concat instead.\n",
      "  df_test_reps = df_test_reps.append(row_data, ignore_index=True)\n",
      "/tmp/ipykernel_98549/3138874623.py:22: FutureWarning: The frame.append method is deprecated and will be removed from pandas in a future version. Use pandas.concat instead.\n",
      "  df_test_reps = df_test_reps.append(row_data, ignore_index=True)\n",
      "/tmp/ipykernel_98549/3138874623.py:22: FutureWarning: The frame.append method is deprecated and will be removed from pandas in a future version. Use pandas.concat instead.\n",
      "  df_test_reps = df_test_reps.append(row_data, ignore_index=True)\n",
      "/tmp/ipykernel_98549/3138874623.py:22: FutureWarning: The frame.append method is deprecated and will be removed from pandas in a future version. Use pandas.concat instead.\n",
      "  df_test_reps = df_test_reps.append(row_data, ignore_index=True)\n",
      "/tmp/ipykernel_98549/3138874623.py:22: FutureWarning: The frame.append method is deprecated and will be removed from pandas in a future version. Use pandas.concat instead.\n",
      "  df_test_reps = df_test_reps.append(row_data, ignore_index=True)\n",
      "/tmp/ipykernel_98549/3138874623.py:22: FutureWarning: The frame.append method is deprecated and will be removed from pandas in a future version. Use pandas.concat instead.\n",
      "  df_test_reps = df_test_reps.append(row_data, ignore_index=True)\n",
      "/tmp/ipykernel_98549/3138874623.py:22: FutureWarning: The frame.append method is deprecated and will be removed from pandas in a future version. Use pandas.concat instead.\n",
      "  df_test_reps = df_test_reps.append(row_data, ignore_index=True)\n",
      "/tmp/ipykernel_98549/3138874623.py:22: FutureWarning: The frame.append method is deprecated and will be removed from pandas in a future version. Use pandas.concat instead.\n",
      "  df_test_reps = df_test_reps.append(row_data, ignore_index=True)\n",
      "/tmp/ipykernel_98549/3138874623.py:22: FutureWarning: The frame.append method is deprecated and will be removed from pandas in a future version. Use pandas.concat instead.\n",
      "  df_test_reps = df_test_reps.append(row_data, ignore_index=True)\n",
      "/tmp/ipykernel_98549/3138874623.py:22: FutureWarning: The frame.append method is deprecated and will be removed from pandas in a future version. Use pandas.concat instead.\n",
      "  df_test_reps = df_test_reps.append(row_data, ignore_index=True)\n",
      "/tmp/ipykernel_98549/3138874623.py:22: FutureWarning: The frame.append method is deprecated and will be removed from pandas in a future version. Use pandas.concat instead.\n",
      "  df_test_reps = df_test_reps.append(row_data, ignore_index=True)\n",
      "/tmp/ipykernel_98549/3138874623.py:22: FutureWarning: The frame.append method is deprecated and will be removed from pandas in a future version. Use pandas.concat instead.\n",
      "  df_test_reps = df_test_reps.append(row_data, ignore_index=True)\n",
      "/tmp/ipykernel_98549/3138874623.py:22: FutureWarning: The frame.append method is deprecated and will be removed from pandas in a future version. Use pandas.concat instead.\n",
      "  df_test_reps = df_test_reps.append(row_data, ignore_index=True)\n"
     ]
    },
    {
     "data": {
      "text/html": [
       "<div>\n",
       "<style scoped>\n",
       "    .dataframe tbody tr th:only-of-type {\n",
       "        vertical-align: middle;\n",
       "    }\n",
       "\n",
       "    .dataframe tbody tr th {\n",
       "        vertical-align: top;\n",
       "    }\n",
       "\n",
       "    .dataframe thead th {\n",
       "        text-align: right;\n",
       "    }\n",
       "</style>\n",
       "<table border=\"1\" class=\"dataframe\">\n",
       "  <thead>\n",
       "    <tr style=\"text-align: right;\">\n",
       "      <th></th>\n",
       "      <th>orgId</th>\n",
       "      <th>repName1</th>\n",
       "      <th>repemail1</th>\n",
       "      <th>repName2</th>\n",
       "      <th>repemail2</th>\n",
       "    </tr>\n",
       "  </thead>\n",
       "  <tbody>\n",
       "    <tr>\n",
       "      <th>0</th>\n",
       "      <td>2Kcj4KTyMxQwMsrqZ</td>\n",
       "      <td>Maurice Williams</td>\n",
       "      <td>maurice@eltoro.com</td>\n",
       "      <td>NaN</td>\n",
       "      <td>NaN</td>\n",
       "    </tr>\n",
       "    <tr>\n",
       "      <th>1</th>\n",
       "      <td>2ML6sPYXc9v68HiXf</td>\n",
       "      <td>Crystal Norman</td>\n",
       "      <td>crystal@eltoro.com</td>\n",
       "      <td>NaN</td>\n",
       "      <td>NaN</td>\n",
       "    </tr>\n",
       "    <tr>\n",
       "      <th>2</th>\n",
       "      <td>2SjFXYMwsSLypAtwC</td>\n",
       "      <td>max@eltoro.com</td>\n",
       "      <td>max@eltoro.com</td>\n",
       "      <td>NaN</td>\n",
       "      <td>NaN</td>\n",
       "    </tr>\n",
       "    <tr>\n",
       "      <th>3</th>\n",
       "      <td>2Tv4ZWEZNptHX3zG8</td>\n",
       "      <td>Alyssa Rydell</td>\n",
       "      <td>alyssa.rydell@eltoro.com</td>\n",
       "      <td>Jeremy Sneed</td>\n",
       "      <td>jeremy.sneed@eltoro.com</td>\n",
       "    </tr>\n",
       "    <tr>\n",
       "      <th>4</th>\n",
       "      <td>2i9xHrXMRz9FpF5gn</td>\n",
       "      <td>Crystal Norman</td>\n",
       "      <td>crystal@eltoro.com</td>\n",
       "      <td>NaN</td>\n",
       "      <td>NaN</td>\n",
       "    </tr>\n",
       "    <tr>\n",
       "      <th>...</th>\n",
       "      <td>...</td>\n",
       "      <td>...</td>\n",
       "      <td>...</td>\n",
       "      <td>...</td>\n",
       "      <td>...</td>\n",
       "    </tr>\n",
       "    <tr>\n",
       "      <th>465</th>\n",
       "      <td>zfaoikzj4c64xHeqC</td>\n",
       "      <td>Marty Meyer</td>\n",
       "      <td>marty@eltoro.com</td>\n",
       "      <td>NaN</td>\n",
       "      <td>NaN</td>\n",
       "    </tr>\n",
       "    <tr>\n",
       "      <th>466</th>\n",
       "      <td>zj5w2CmzaogTBu4zH</td>\n",
       "      <td>Crystal Norman</td>\n",
       "      <td>crystal@eltoro.com</td>\n",
       "      <td>NaN</td>\n",
       "      <td>NaN</td>\n",
       "    </tr>\n",
       "    <tr>\n",
       "      <th>467</th>\n",
       "      <td>zkerk3AfSY4FpNrue</td>\n",
       "      <td>Sean Howard</td>\n",
       "      <td>showard@eltoro.com</td>\n",
       "      <td>Meghan Darst</td>\n",
       "      <td>meghan@eltoro.com</td>\n",
       "    </tr>\n",
       "    <tr>\n",
       "      <th>468</th>\n",
       "      <td>zuJ4vgf9dv3W3e9Cw</td>\n",
       "      <td>Meghan Waldrop</td>\n",
       "      <td>meghan.waldrop@eltoro.com</td>\n",
       "      <td>Brett Rebalsky</td>\n",
       "      <td>brett.rebalsky@eltoro.com</td>\n",
       "    </tr>\n",
       "    <tr>\n",
       "      <th>469</th>\n",
       "      <td>zuNzBMYmAtAmfMScT</td>\n",
       "      <td>Marty Meyer</td>\n",
       "      <td>marty@eltoro.com</td>\n",
       "      <td>NaN</td>\n",
       "      <td>NaN</td>\n",
       "    </tr>\n",
       "  </tbody>\n",
       "</table>\n",
       "<p>470 rows × 5 columns</p>\n",
       "</div>"
      ],
      "text/plain": [
       "                 orgId          repName1                  repemail1  \\\n",
       "0    2Kcj4KTyMxQwMsrqZ  Maurice Williams         maurice@eltoro.com   \n",
       "1    2ML6sPYXc9v68HiXf    Crystal Norman         crystal@eltoro.com   \n",
       "2    2SjFXYMwsSLypAtwC    max@eltoro.com             max@eltoro.com   \n",
       "3    2Tv4ZWEZNptHX3zG8     Alyssa Rydell   alyssa.rydell@eltoro.com   \n",
       "4    2i9xHrXMRz9FpF5gn    Crystal Norman         crystal@eltoro.com   \n",
       "..                 ...               ...                        ...   \n",
       "465  zfaoikzj4c64xHeqC       Marty Meyer           marty@eltoro.com   \n",
       "466  zj5w2CmzaogTBu4zH    Crystal Norman         crystal@eltoro.com   \n",
       "467  zkerk3AfSY4FpNrue       Sean Howard         showard@eltoro.com   \n",
       "468  zuJ4vgf9dv3W3e9Cw    Meghan Waldrop  meghan.waldrop@eltoro.com   \n",
       "469  zuNzBMYmAtAmfMScT       Marty Meyer           marty@eltoro.com   \n",
       "\n",
       "           repName2                  repemail2  \n",
       "0               NaN                        NaN  \n",
       "1               NaN                        NaN  \n",
       "2               NaN                        NaN  \n",
       "3      Jeremy Sneed    jeremy.sneed@eltoro.com  \n",
       "4               NaN                        NaN  \n",
       "..              ...                        ...  \n",
       "465             NaN                        NaN  \n",
       "466             NaN                        NaN  \n",
       "467    Meghan Darst          meghan@eltoro.com  \n",
       "468  Brett Rebalsky  brett.rebalsky@eltoro.com  \n",
       "469             NaN                        NaN  \n",
       "\n",
       "[470 rows x 5 columns]"
      ]
     },
     "execution_count": 107,
     "metadata": {},
     "output_type": "execute_result"
    }
   ],
   "source": [
    "#capture salesrep and emails associated with backets and map to the metric dataframe\n",
    "\n",
    "# Initialize an empty DataFrame\n",
    "df_test_reps = pd.DataFrame()\n",
    "\n",
    "# Iterate through the data and create columns dynamically\n",
    "for i, item in enumerate(buckets_reps):\n",
    "    _id = item.get('_id')\n",
    "    account_reps = item.get('accountReps', [])\n",
    "\n",
    "    # Create a dictionary for the row data\n",
    "    row_data = {'orgId': _id}\n",
    "\n",
    "    # Iterate through the account reps and create dynamic columns\n",
    "    for j, rep in enumerate(account_reps, start=1):\n",
    "        name_key = f'repName{j}'\n",
    "        name_value = rep.get('name')\n",
    "        row_data[name_key] = name_value\n",
    "        \n",
    "        email_key = f'repemail{j}'\n",
    "        email_value = rep.get('email')\n",
    "        row_data[email_key] = email_value\n",
    "    # Append the row data to the DataFrame\n",
    "    df_test_reps = df_test_reps.append(row_data, ignore_index=True)\n",
    "\n",
    "# Print the resulting DataFrame\n",
    "df_test_reps"
   ]
  },
  {
   "cell_type": "code",
   "execution_count": 108,
   "id": "4583356b",
   "metadata": {},
   "outputs": [
    {
     "data": {
      "text/html": [
       "<div>\n",
       "<style scoped>\n",
       "    .dataframe tbody tr th:only-of-type {\n",
       "        vertical-align: middle;\n",
       "    }\n",
       "\n",
       "    .dataframe tbody tr th {\n",
       "        vertical-align: top;\n",
       "    }\n",
       "\n",
       "    .dataframe thead th {\n",
       "        text-align: right;\n",
       "    }\n",
       "</style>\n",
       "<table border=\"1\" class=\"dataframe\">\n",
       "  <thead>\n",
       "    <tr style=\"text-align: right;\">\n",
       "      <th></th>\n",
       "      <th>orgId</th>\n",
       "      <th>repName1</th>\n",
       "      <th>repemail1</th>\n",
       "      <th>repName2</th>\n",
       "      <th>repemail2</th>\n",
       "    </tr>\n",
       "  </thead>\n",
       "  <tbody>\n",
       "    <tr>\n",
       "      <th>0</th>\n",
       "      <td>2Kcj4KTyMxQwMsrqZ</td>\n",
       "      <td>Maurice Williams</td>\n",
       "      <td>maurice@eltoro.com</td>\n",
       "      <td>NaN</td>\n",
       "      <td>NaN</td>\n",
       "    </tr>\n",
       "    <tr>\n",
       "      <th>1</th>\n",
       "      <td>2ML6sPYXc9v68HiXf</td>\n",
       "      <td>Crystal Norman</td>\n",
       "      <td>crystal@eltoro.com</td>\n",
       "      <td>NaN</td>\n",
       "      <td>NaN</td>\n",
       "    </tr>\n",
       "    <tr>\n",
       "      <th>2</th>\n",
       "      <td>2SjFXYMwsSLypAtwC</td>\n",
       "      <td>max@eltoro.com</td>\n",
       "      <td>max@eltoro.com</td>\n",
       "      <td>NaN</td>\n",
       "      <td>NaN</td>\n",
       "    </tr>\n",
       "    <tr>\n",
       "      <th>3</th>\n",
       "      <td>2Tv4ZWEZNptHX3zG8</td>\n",
       "      <td>Alyssa Rydell</td>\n",
       "      <td>alyssa.rydell@eltoro.com</td>\n",
       "      <td>Jeremy Sneed</td>\n",
       "      <td>jeremy.sneed@eltoro.com</td>\n",
       "    </tr>\n",
       "    <tr>\n",
       "      <th>4</th>\n",
       "      <td>2i9xHrXMRz9FpF5gn</td>\n",
       "      <td>Crystal Norman</td>\n",
       "      <td>crystal@eltoro.com</td>\n",
       "      <td>NaN</td>\n",
       "      <td>NaN</td>\n",
       "    </tr>\n",
       "    <tr>\n",
       "      <th>...</th>\n",
       "      <td>...</td>\n",
       "      <td>...</td>\n",
       "      <td>...</td>\n",
       "      <td>...</td>\n",
       "      <td>...</td>\n",
       "    </tr>\n",
       "    <tr>\n",
       "      <th>465</th>\n",
       "      <td>zfaoikzj4c64xHeqC</td>\n",
       "      <td>Marty Meyer</td>\n",
       "      <td>marty@eltoro.com</td>\n",
       "      <td>NaN</td>\n",
       "      <td>NaN</td>\n",
       "    </tr>\n",
       "    <tr>\n",
       "      <th>466</th>\n",
       "      <td>zj5w2CmzaogTBu4zH</td>\n",
       "      <td>Crystal Norman</td>\n",
       "      <td>crystal@eltoro.com</td>\n",
       "      <td>NaN</td>\n",
       "      <td>NaN</td>\n",
       "    </tr>\n",
       "    <tr>\n",
       "      <th>467</th>\n",
       "      <td>zkerk3AfSY4FpNrue</td>\n",
       "      <td>Sean Howard</td>\n",
       "      <td>showard@eltoro.com</td>\n",
       "      <td>Meghan Darst</td>\n",
       "      <td>meghan@eltoro.com</td>\n",
       "    </tr>\n",
       "    <tr>\n",
       "      <th>468</th>\n",
       "      <td>zuJ4vgf9dv3W3e9Cw</td>\n",
       "      <td>Meghan Waldrop</td>\n",
       "      <td>meghan.waldrop@eltoro.com</td>\n",
       "      <td>Brett Rebalsky</td>\n",
       "      <td>brett.rebalsky@eltoro.com</td>\n",
       "    </tr>\n",
       "    <tr>\n",
       "      <th>469</th>\n",
       "      <td>zuNzBMYmAtAmfMScT</td>\n",
       "      <td>Marty Meyer</td>\n",
       "      <td>marty@eltoro.com</td>\n",
       "      <td>NaN</td>\n",
       "      <td>NaN</td>\n",
       "    </tr>\n",
       "  </tbody>\n",
       "</table>\n",
       "<p>470 rows × 5 columns</p>\n",
       "</div>"
      ],
      "text/plain": [
       "                 orgId          repName1                  repemail1  \\\n",
       "0    2Kcj4KTyMxQwMsrqZ  Maurice Williams         maurice@eltoro.com   \n",
       "1    2ML6sPYXc9v68HiXf    Crystal Norman         crystal@eltoro.com   \n",
       "2    2SjFXYMwsSLypAtwC    max@eltoro.com             max@eltoro.com   \n",
       "3    2Tv4ZWEZNptHX3zG8     Alyssa Rydell   alyssa.rydell@eltoro.com   \n",
       "4    2i9xHrXMRz9FpF5gn    Crystal Norman         crystal@eltoro.com   \n",
       "..                 ...               ...                        ...   \n",
       "465  zfaoikzj4c64xHeqC       Marty Meyer           marty@eltoro.com   \n",
       "466  zj5w2CmzaogTBu4zH    Crystal Norman         crystal@eltoro.com   \n",
       "467  zkerk3AfSY4FpNrue       Sean Howard         showard@eltoro.com   \n",
       "468  zuJ4vgf9dv3W3e9Cw    Meghan Waldrop  meghan.waldrop@eltoro.com   \n",
       "469  zuNzBMYmAtAmfMScT       Marty Meyer           marty@eltoro.com   \n",
       "\n",
       "           repName2                  repemail2  \n",
       "0               NaN                        NaN  \n",
       "1               NaN                        NaN  \n",
       "2               NaN                        NaN  \n",
       "3      Jeremy Sneed    jeremy.sneed@eltoro.com  \n",
       "4               NaN                        NaN  \n",
       "..              ...                        ...  \n",
       "465             NaN                        NaN  \n",
       "466             NaN                        NaN  \n",
       "467    Meghan Darst          meghan@eltoro.com  \n",
       "468  Brett Rebalsky  brett.rebalsky@eltoro.com  \n",
       "469             NaN                        NaN  \n",
       "\n",
       "[470 rows x 5 columns]"
      ]
     },
     "execution_count": 108,
     "metadata": {},
     "output_type": "execute_result"
    }
   ],
   "source": [
    "df_test_reps"
   ]
  },
  {
   "cell_type": "code",
   "execution_count": 109,
   "id": "0c885c0d",
   "metadata": {},
   "outputs": [
    {
     "data": {
      "text/html": [
       "<div>\n",
       "<style scoped>\n",
       "    .dataframe tbody tr th:only-of-type {\n",
       "        vertical-align: middle;\n",
       "    }\n",
       "\n",
       "    .dataframe tbody tr th {\n",
       "        vertical-align: top;\n",
       "    }\n",
       "\n",
       "    .dataframe thead th {\n",
       "        text-align: right;\n",
       "    }\n",
       "</style>\n",
       "<table border=\"1\" class=\"dataframe\">\n",
       "  <thead>\n",
       "    <tr style=\"text-align: right;\">\n",
       "      <th></th>\n",
       "      <th>orgId</th>\n",
       "      <th>count_names</th>\n",
       "    </tr>\n",
       "  </thead>\n",
       "  <tbody>\n",
       "    <tr>\n",
       "      <th>0</th>\n",
       "      <td>2Kcj4KTyMxQwMsrqZ</td>\n",
       "      <td>1</td>\n",
       "    </tr>\n",
       "    <tr>\n",
       "      <th>1</th>\n",
       "      <td>2ML6sPYXc9v68HiXf</td>\n",
       "      <td>1</td>\n",
       "    </tr>\n",
       "    <tr>\n",
       "      <th>2</th>\n",
       "      <td>2SjFXYMwsSLypAtwC</td>\n",
       "      <td>1</td>\n",
       "    </tr>\n",
       "    <tr>\n",
       "      <th>3</th>\n",
       "      <td>2Tv4ZWEZNptHX3zG8</td>\n",
       "      <td>2</td>\n",
       "    </tr>\n",
       "    <tr>\n",
       "      <th>4</th>\n",
       "      <td>2i9xHrXMRz9FpF5gn</td>\n",
       "      <td>1</td>\n",
       "    </tr>\n",
       "    <tr>\n",
       "      <th>...</th>\n",
       "      <td>...</td>\n",
       "      <td>...</td>\n",
       "    </tr>\n",
       "    <tr>\n",
       "      <th>465</th>\n",
       "      <td>zfaoikzj4c64xHeqC</td>\n",
       "      <td>1</td>\n",
       "    </tr>\n",
       "    <tr>\n",
       "      <th>466</th>\n",
       "      <td>zj5w2CmzaogTBu4zH</td>\n",
       "      <td>1</td>\n",
       "    </tr>\n",
       "    <tr>\n",
       "      <th>467</th>\n",
       "      <td>zkerk3AfSY4FpNrue</td>\n",
       "      <td>2</td>\n",
       "    </tr>\n",
       "    <tr>\n",
       "      <th>468</th>\n",
       "      <td>zuJ4vgf9dv3W3e9Cw</td>\n",
       "      <td>2</td>\n",
       "    </tr>\n",
       "    <tr>\n",
       "      <th>469</th>\n",
       "      <td>zuNzBMYmAtAmfMScT</td>\n",
       "      <td>1</td>\n",
       "    </tr>\n",
       "  </tbody>\n",
       "</table>\n",
       "<p>470 rows × 2 columns</p>\n",
       "</div>"
      ],
      "text/plain": [
       "                 orgId  count_names\n",
       "0    2Kcj4KTyMxQwMsrqZ            1\n",
       "1    2ML6sPYXc9v68HiXf            1\n",
       "2    2SjFXYMwsSLypAtwC            1\n",
       "3    2Tv4ZWEZNptHX3zG8            2\n",
       "4    2i9xHrXMRz9FpF5gn            1\n",
       "..                 ...          ...\n",
       "465  zfaoikzj4c64xHeqC            1\n",
       "466  zj5w2CmzaogTBu4zH            1\n",
       "467  zkerk3AfSY4FpNrue            2\n",
       "468  zuJ4vgf9dv3W3e9Cw            2\n",
       "469  zuNzBMYmAtAmfMScT            1\n",
       "\n",
       "[470 rows x 2 columns]"
      ]
     },
     "execution_count": 109,
     "metadata": {},
     "output_type": "execute_result"
    }
   ],
   "source": [
    "############QC#############\n",
    "#check for buckets and count of salesrep associated\n",
    "# Initialize a dictionary to store the count of names for each _id\n",
    "count_names_dict = {}\n",
    "\n",
    "# Iterate through the list of dictionaries\n",
    "for item in buckets_reps:\n",
    "    _id = item['_id']\n",
    "    accountReps = item.get('accountReps', [])\n",
    "    count_names = len(accountReps)\n",
    "    count_names_dict[_id] = count_names\n",
    "\n",
    "# Convert the count_names_dict to a DataFrame\n",
    "df_count = pd.DataFrame(list(count_names_dict.items()), columns=['orgId', 'count_names'])\n",
    "\n",
    "# Print the DataFrame\n",
    "df_count"
   ]
  },
  {
   "cell_type": "code",
   "execution_count": 110,
   "id": "182bb913",
   "metadata": {},
   "outputs": [
    {
     "data": {
      "text/html": [
       "<div>\n",
       "<style scoped>\n",
       "    .dataframe tbody tr th:only-of-type {\n",
       "        vertical-align: middle;\n",
       "    }\n",
       "\n",
       "    .dataframe tbody tr th {\n",
       "        vertical-align: top;\n",
       "    }\n",
       "\n",
       "    .dataframe thead th {\n",
       "        text-align: right;\n",
       "    }\n",
       "</style>\n",
       "<table border=\"1\" class=\"dataframe\">\n",
       "  <thead>\n",
       "    <tr style=\"text-align: right;\">\n",
       "      <th></th>\n",
       "      <th>orgId</th>\n",
       "      <th>count_names</th>\n",
       "    </tr>\n",
       "  </thead>\n",
       "  <tbody>\n",
       "    <tr>\n",
       "      <th>3</th>\n",
       "      <td>2Tv4ZWEZNptHX3zG8</td>\n",
       "      <td>2</td>\n",
       "    </tr>\n",
       "    <tr>\n",
       "      <th>6</th>\n",
       "      <td>2oBQWKfWm5PgPmEuJ</td>\n",
       "      <td>2</td>\n",
       "    </tr>\n",
       "    <tr>\n",
       "      <th>11</th>\n",
       "      <td>3N8ZcSx24A76CbjsX</td>\n",
       "      <td>2</td>\n",
       "    </tr>\n",
       "    <tr>\n",
       "      <th>13</th>\n",
       "      <td>3axvuq2WHCPz7mFnJ</td>\n",
       "      <td>2</td>\n",
       "    </tr>\n",
       "    <tr>\n",
       "      <th>14</th>\n",
       "      <td>3co8wfeFESuGFLNBD</td>\n",
       "      <td>2</td>\n",
       "    </tr>\n",
       "    <tr>\n",
       "      <th>...</th>\n",
       "      <td>...</td>\n",
       "      <td>...</td>\n",
       "    </tr>\n",
       "    <tr>\n",
       "      <th>461</th>\n",
       "      <td>zGzzNFbGocJTvZkuS</td>\n",
       "      <td>2</td>\n",
       "    </tr>\n",
       "    <tr>\n",
       "      <th>462</th>\n",
       "      <td>zHRGCsCcARJLkq4vd</td>\n",
       "      <td>2</td>\n",
       "    </tr>\n",
       "    <tr>\n",
       "      <th>463</th>\n",
       "      <td>zKp5Kts7EQNAkC7TH</td>\n",
       "      <td>2</td>\n",
       "    </tr>\n",
       "    <tr>\n",
       "      <th>467</th>\n",
       "      <td>zkerk3AfSY4FpNrue</td>\n",
       "      <td>2</td>\n",
       "    </tr>\n",
       "    <tr>\n",
       "      <th>468</th>\n",
       "      <td>zuJ4vgf9dv3W3e9Cw</td>\n",
       "      <td>2</td>\n",
       "    </tr>\n",
       "  </tbody>\n",
       "</table>\n",
       "<p>266 rows × 2 columns</p>\n",
       "</div>"
      ],
      "text/plain": [
       "                 orgId  count_names\n",
       "3    2Tv4ZWEZNptHX3zG8            2\n",
       "6    2oBQWKfWm5PgPmEuJ            2\n",
       "11   3N8ZcSx24A76CbjsX            2\n",
       "13   3axvuq2WHCPz7mFnJ            2\n",
       "14   3co8wfeFESuGFLNBD            2\n",
       "..                 ...          ...\n",
       "461  zGzzNFbGocJTvZkuS            2\n",
       "462  zHRGCsCcARJLkq4vd            2\n",
       "463  zKp5Kts7EQNAkC7TH            2\n",
       "467  zkerk3AfSY4FpNrue            2\n",
       "468  zuJ4vgf9dv3W3e9Cw            2\n",
       "\n",
       "[266 rows x 2 columns]"
      ]
     },
     "execution_count": 110,
     "metadata": {},
     "output_type": "execute_result"
    }
   ],
   "source": [
    "############QC#############\n",
    "#check for buckets having >1 salesrep\n",
    "df_count[df_count['count_names']>1]"
   ]
  },
  {
   "cell_type": "code",
   "execution_count": null,
   "id": "0a514aee",
   "metadata": {},
   "outputs": [],
   "source": [
    "#Join the metric tables with salesrep table"
   ]
  },
  {
   "cell_type": "code",
   "execution_count": 111,
   "id": "9c9b909e",
   "metadata": {},
   "outputs": [],
   "source": [
    "df_metric_ = pd.merge(df_metric_mapping_org,df_test_reps, on = 'orgId',how = 'left')"
   ]
  },
  {
   "cell_type": "code",
   "execution_count": 118,
   "id": "ce0743ef",
   "metadata": {},
   "outputs": [
    {
     "data": {
      "text/html": [
       "<div>\n",
       "<style scoped>\n",
       "    .dataframe tbody tr th:only-of-type {\n",
       "        vertical-align: middle;\n",
       "    }\n",
       "\n",
       "    .dataframe tbody tr th {\n",
       "        vertical-align: top;\n",
       "    }\n",
       "\n",
       "    .dataframe thead th {\n",
       "        text-align: right;\n",
       "    }\n",
       "</style>\n",
       "<table border=\"1\" class=\"dataframe\">\n",
       "  <thead>\n",
       "    <tr style=\"text-align: right;\">\n",
       "      <th></th>\n",
       "      <th>bucket_ids</th>\n",
       "      <th>bucket_name</th>\n",
       "      <th>bucket_created</th>\n",
       "      <th>start_date</th>\n",
       "      <th>end_date</th>\n",
       "      <th>bucket_coordinates</th>\n",
       "      <th>matched_homes</th>\n",
       "      <th>matched_devices</th>\n",
       "      <th>unmatched_devices</th>\n",
       "      <th>extended_devices</th>\n",
       "      <th>address</th>\n",
       "      <th>etHash</th>\n",
       "      <th>orgId</th>\n",
       "      <th>repName1</th>\n",
       "      <th>repemail1</th>\n",
       "      <th>repName2</th>\n",
       "      <th>repemail2</th>\n",
       "    </tr>\n",
       "  </thead>\n",
       "  <tbody>\n",
       "    <tr>\n",
       "      <th>0</th>\n",
       "      <td>DXKqXqJpx57rrwWzd</td>\n",
       "      <td>GHF Competitors (Mattress Firm - Winchester, V...</td>\n",
       "      <td>2023-01-03 14:52:43.826</td>\n",
       "      <td>2022-10-01 12:00:00.000</td>\n",
       "      <td>2022-12-29 03:00:00.000</td>\n",
       "      <td>[-78.16641380000002, 39.1619316]</td>\n",
       "      <td>63</td>\n",
       "      <td>64</td>\n",
       "      <td>34</td>\n",
       "      <td>311</td>\n",
       "      <td>1950 S PLEASANT VALLEY RD\\nWINCHESTER VA  2260...</td>\n",
       "      <td>A2260144009044E0EB545930A111E8B9D0179472B6A7E7...</td>\n",
       "      <td>58bdd7113314b55970a72e47</td>\n",
       "      <td>Sean Howard</td>\n",
       "      <td>showard@eltoro.com</td>\n",
       "      <td>Meghan Darst</td>\n",
       "      <td>meghan@eltoro.com</td>\n",
       "    </tr>\n",
       "    <tr>\n",
       "      <th>1</th>\n",
       "      <td>agfwsLsYcm2ix8PQG</td>\n",
       "      <td>Cuyahoga Community College (Cleveland)</td>\n",
       "      <td>2023-01-03 15:45:53.194</td>\n",
       "      <td>2022-06-23 12:44:00.928</td>\n",
       "      <td>2022-12-23 19:44:00.928</td>\n",
       "      <td>[-81.68358479999999, 41.4948929]</td>\n",
       "      <td>1714</td>\n",
       "      <td>1740</td>\n",
       "      <td>2374</td>\n",
       "      <td>7335</td>\n",
       "      <td>700 CARNEGIE AVE\\nCLEVELAND OH  44115\\nUSA</td>\n",
       "      <td>A441152878DA4D361CA5CF7F1A3010F215243ED4934B62...</td>\n",
       "      <td>zkerk3AfSY4FpNrue</td>\n",
       "      <td>Sean Howard</td>\n",
       "      <td>showard@eltoro.com</td>\n",
       "      <td>Meghan Darst</td>\n",
       "      <td>meghan@eltoro.com</td>\n",
       "    </tr>\n",
       "    <tr>\n",
       "      <th>2</th>\n",
       "      <td>n2Q24yiBicY6eMe6n</td>\n",
       "      <td>River of Lights</td>\n",
       "      <td>2023-01-03 16:59:59.799</td>\n",
       "      <td>2022-12-03 23:00:00.000</td>\n",
       "      <td>2022-12-04 04:00:00.000</td>\n",
       "      <td>[-98.4845574, 29.4332875]</td>\n",
       "      <td>72</td>\n",
       "      <td>73</td>\n",
       "      <td>101</td>\n",
       "      <td>360</td>\n",
       "      <td>510 BROOKLYN AVE\\nSAN ANTONIO TX  78215\\nUSA</td>\n",
       "      <td>A7821517004FB6E4C10F1DB139561DA6E8AEEDD38F68A1...</td>\n",
       "      <td>sMrStG35oPZEpCCN3</td>\n",
       "      <td>Daniel Kimball</td>\n",
       "      <td>dan@eltoro.com</td>\n",
       "      <td>Crystal Norman</td>\n",
       "      <td>crystal@eltoro.com</td>\n",
       "    </tr>\n",
       "    <tr>\n",
       "      <th>3</th>\n",
       "      <td>JrMgHRfrhAJYmDoC4</td>\n",
       "      <td>Red Oak Bank Iowa Prospects - Town</td>\n",
       "      <td>2023-01-03 17:29:14.993</td>\n",
       "      <td>2022-12-01 05:00:00.000</td>\n",
       "      <td>2023-01-01 04:59:59.999</td>\n",
       "      <td>[-95.2214477, 41.0170937]</td>\n",
       "      <td>2981</td>\n",
       "      <td>3568</td>\n",
       "      <td>7377</td>\n",
       "      <td>12226</td>\n",
       "      <td>905 CHAUTAUQUA DR\\nRED OAK IA  51566\\nUSA</td>\n",
       "      <td>A515661201FE151C4D6804F2BFBE66E9512DE1722BC7D8...</td>\n",
       "      <td>JwmbatuumPxBtPmL3</td>\n",
       "      <td>Sean Howard</td>\n",
       "      <td>showard@eltoro.com</td>\n",
       "      <td>Meghan Darst</td>\n",
       "      <td>meghan@eltoro.com</td>\n",
       "    </tr>\n",
       "    <tr>\n",
       "      <th>4</th>\n",
       "      <td>Hc5N5546q2Qj8LL2x</td>\n",
       "      <td>Video @ Venue Replay @</td>\n",
       "      <td>2023-01-03 19:40:43.453</td>\n",
       "      <td>2022-12-20 16:39:00.045</td>\n",
       "      <td>2022-12-20 22:39:00.045</td>\n",
       "      <td>[-122.6175105, 45.6425651]</td>\n",
       "      <td>27</td>\n",
       "      <td>27</td>\n",
       "      <td>55</td>\n",
       "      <td>144</td>\n",
       "      <td>2800 NE STAPLETON RD\\nVANCOUVER WA  98661\\nUSA</td>\n",
       "      <td>A986616823B924266415550A4091B2B9A2DB3FE89BF533...</td>\n",
       "      <td>fgcdnqnemFAuz3d8k</td>\n",
       "      <td>Meghan Waldrop</td>\n",
       "      <td>meghan.waldrop@eltoro.com</td>\n",
       "      <td>Brett Rebalsky</td>\n",
       "      <td>brett.rebalsky@eltoro.com</td>\n",
       "    </tr>\n",
       "    <tr>\n",
       "      <th>...</th>\n",
       "      <td>...</td>\n",
       "      <td>...</td>\n",
       "      <td>...</td>\n",
       "      <td>...</td>\n",
       "      <td>...</td>\n",
       "      <td>...</td>\n",
       "      <td>...</td>\n",
       "      <td>...</td>\n",
       "      <td>...</td>\n",
       "      <td>...</td>\n",
       "      <td>...</td>\n",
       "      <td>...</td>\n",
       "      <td>...</td>\n",
       "      <td>...</td>\n",
       "      <td>...</td>\n",
       "      <td>...</td>\n",
       "      <td>...</td>\n",
       "    </tr>\n",
       "    <tr>\n",
       "      <th>8150</th>\n",
       "      <td>AwqaHuM54zaySewcc</td>\n",
       "      <td>Group G - YMS Epic Tournament 5/6-8/23 - Penns...</td>\n",
       "      <td>2023-09-27 18:31:33.939</td>\n",
       "      <td>2023-05-12 16:00:00.000</td>\n",
       "      <td>2023-05-14 22:30:00.000</td>\n",
       "      <td>[-74.8231144, 40.21200169999999]</td>\n",
       "      <td>461</td>\n",
       "      <td>473</td>\n",
       "      <td>1596</td>\n",
       "      <td>2576</td>\n",
       "      <td>804 ROELOFFS RD\\nMORRISVILLE PA  19067\\nUSA</td>\n",
       "      <td>A190674601AC3BA50A9824675145821301837DF1454788...</td>\n",
       "      <td>7sJeuiTWBuCoMMHPq</td>\n",
       "      <td>Clay</td>\n",
       "      <td>clay@eltoro.com</td>\n",
       "      <td>NaN</td>\n",
       "      <td>NaN</td>\n",
       "    </tr>\n",
       "    <tr>\n",
       "      <th>8151</th>\n",
       "      <td>Lc8a7ji8PqWpgKhFN</td>\n",
       "      <td>Group G - YMS Epic Tournament 5/12-14/23 - Edg...</td>\n",
       "      <td>2023-09-27 18:34:18.714</td>\n",
       "      <td>2023-05-12 20:00:00.000</td>\n",
       "      <td>2023-09-26 22:00:00.000</td>\n",
       "      <td>[-74.8367315, 40.22545849999999]</td>\n",
       "      <td>1287</td>\n",
       "      <td>1485</td>\n",
       "      <td>3723</td>\n",
       "      <td>6612</td>\n",
       "      <td>899 OXFORD VALLEY RD\\nMORRISVILLE PA  19067\\nUSA</td>\n",
       "      <td>A190671699E21760E8BCC077DEEED500A33B147EF942D3...</td>\n",
       "      <td>7sJeuiTWBuCoMMHPq</td>\n",
       "      <td>Clay</td>\n",
       "      <td>clay@eltoro.com</td>\n",
       "      <td>NaN</td>\n",
       "      <td>NaN</td>\n",
       "    </tr>\n",
       "    <tr>\n",
       "      <th>8152</th>\n",
       "      <td>GgJ9RsqBWPwsDEzEv</td>\n",
       "      <td>Group G - YMS Epic Tournament 5/12-14/23 - PHS...</td>\n",
       "      <td>2023-09-27 18:40:52.590</td>\n",
       "      <td>2023-05-12 21:00:00.000</td>\n",
       "      <td>2023-05-14 21:00:00.000</td>\n",
       "      <td>[-74.8389248, 40.1743463]</td>\n",
       "      <td>156</td>\n",
       "      <td>165</td>\n",
       "      <td>451</td>\n",
       "      <td>823</td>\n",
       "      <td>608 S OLDS BLVD\\nFAIRLESS HILLS PA  19030\\nUSA</td>\n",
       "      <td>A190302499326656B088082013B2E8A1C77E8FF5E0EBEC...</td>\n",
       "      <td>7sJeuiTWBuCoMMHPq</td>\n",
       "      <td>Clay</td>\n",
       "      <td>clay@eltoro.com</td>\n",
       "      <td>NaN</td>\n",
       "      <td>NaN</td>\n",
       "    </tr>\n",
       "    <tr>\n",
       "      <th>8153</th>\n",
       "      <td>xRe8pXEkvuKTuA5Jw</td>\n",
       "      <td>new_addresses_non model</td>\n",
       "      <td>2023-09-27 18:48:25.868</td>\n",
       "      <td>2023-08-01 04:00:00.000</td>\n",
       "      <td>2023-09-01 03:59:59.999</td>\n",
       "      <td>[-74.2374043, 40.7241484]</td>\n",
       "      <td>1853</td>\n",
       "      <td>1867</td>\n",
       "      <td>4200</td>\n",
       "      <td>8696</td>\n",
       "      <td>660 STUYVESANT AVE\\nIRVINGTON NJ  07111\\nUSA</td>\n",
       "      <td>A07111182401F56D4606E319B36854FDFEADFA77171364...</td>\n",
       "      <td>qkEKxRL9h3NCjKp9k</td>\n",
       "      <td>Patrick Carleton</td>\n",
       "      <td>pc@eltoro.com</td>\n",
       "      <td>NaN</td>\n",
       "      <td>NaN</td>\n",
       "    </tr>\n",
       "    <tr>\n",
       "      <th>8154</th>\n",
       "      <td>ncJW7uKQCQu2XYzSj</td>\n",
       "      <td>Group G - HGHP Blessed Trinity BTS 9/12/23</td>\n",
       "      <td>2023-09-27 19:01:22.289</td>\n",
       "      <td>2023-09-12 17:30:00.000</td>\n",
       "      <td>2023-09-13 02:30:00.000</td>\n",
       "      <td>[-75.0599739, 40.030368]</td>\n",
       "      <td>1</td>\n",
       "      <td>1</td>\n",
       "      <td>8</td>\n",
       "      <td>2</td>\n",
       "      <td>3001 LEVICK ST\\nPHILADELPHIA PA  19149\\nUSA</td>\n",
       "      <td>A191493197FA6B6165267317ADDA9F7F2B2243EDBB75C6...</td>\n",
       "      <td>7sJeuiTWBuCoMMHPq</td>\n",
       "      <td>Clay</td>\n",
       "      <td>clay@eltoro.com</td>\n",
       "      <td>NaN</td>\n",
       "      <td>NaN</td>\n",
       "    </tr>\n",
       "  </tbody>\n",
       "</table>\n",
       "<p>8155 rows × 17 columns</p>\n",
       "</div>"
      ],
      "text/plain": [
       "             bucket_ids                                        bucket_name  \\\n",
       "0     DXKqXqJpx57rrwWzd  GHF Competitors (Mattress Firm - Winchester, V...   \n",
       "1     agfwsLsYcm2ix8PQG             Cuyahoga Community College (Cleveland)   \n",
       "2     n2Q24yiBicY6eMe6n                                    River of Lights   \n",
       "3     JrMgHRfrhAJYmDoC4                 Red Oak Bank Iowa Prospects - Town   \n",
       "4     Hc5N5546q2Qj8LL2x                             Video @ Venue Replay @   \n",
       "...                 ...                                                ...   \n",
       "8150  AwqaHuM54zaySewcc  Group G - YMS Epic Tournament 5/6-8/23 - Penns...   \n",
       "8151  Lc8a7ji8PqWpgKhFN  Group G - YMS Epic Tournament 5/12-14/23 - Edg...   \n",
       "8152  GgJ9RsqBWPwsDEzEv  Group G - YMS Epic Tournament 5/12-14/23 - PHS...   \n",
       "8153  xRe8pXEkvuKTuA5Jw                            new_addresses_non model   \n",
       "8154  ncJW7uKQCQu2XYzSj         Group G - HGHP Blessed Trinity BTS 9/12/23   \n",
       "\n",
       "               bucket_created               start_date  \\\n",
       "0     2023-01-03 14:52:43.826  2022-10-01 12:00:00.000   \n",
       "1     2023-01-03 15:45:53.194  2022-06-23 12:44:00.928   \n",
       "2     2023-01-03 16:59:59.799  2022-12-03 23:00:00.000   \n",
       "3     2023-01-03 17:29:14.993  2022-12-01 05:00:00.000   \n",
       "4     2023-01-03 19:40:43.453  2022-12-20 16:39:00.045   \n",
       "...                       ...                      ...   \n",
       "8150  2023-09-27 18:31:33.939  2023-05-12 16:00:00.000   \n",
       "8151  2023-09-27 18:34:18.714  2023-05-12 20:00:00.000   \n",
       "8152  2023-09-27 18:40:52.590  2023-05-12 21:00:00.000   \n",
       "8153  2023-09-27 18:48:25.868  2023-08-01 04:00:00.000   \n",
       "8154  2023-09-27 19:01:22.289  2023-09-12 17:30:00.000   \n",
       "\n",
       "                     end_date                bucket_coordinates  \\\n",
       "0     2022-12-29 03:00:00.000  [-78.16641380000002, 39.1619316]   \n",
       "1     2022-12-23 19:44:00.928  [-81.68358479999999, 41.4948929]   \n",
       "2     2022-12-04 04:00:00.000         [-98.4845574, 29.4332875]   \n",
       "3     2023-01-01 04:59:59.999         [-95.2214477, 41.0170937]   \n",
       "4     2022-12-20 22:39:00.045        [-122.6175105, 45.6425651]   \n",
       "...                       ...                               ...   \n",
       "8150  2023-05-14 22:30:00.000  [-74.8231144, 40.21200169999999]   \n",
       "8151  2023-09-26 22:00:00.000  [-74.8367315, 40.22545849999999]   \n",
       "8152  2023-05-14 21:00:00.000         [-74.8389248, 40.1743463]   \n",
       "8153  2023-09-01 03:59:59.999         [-74.2374043, 40.7241484]   \n",
       "8154  2023-09-13 02:30:00.000          [-75.0599739, 40.030368]   \n",
       "\n",
       "      matched_homes  matched_devices  unmatched_devices  extended_devices  \\\n",
       "0                63               64                 34               311   \n",
       "1              1714             1740               2374              7335   \n",
       "2                72               73                101               360   \n",
       "3              2981             3568               7377             12226   \n",
       "4                27               27                 55               144   \n",
       "...             ...              ...                ...               ...   \n",
       "8150            461              473               1596              2576   \n",
       "8151           1287             1485               3723              6612   \n",
       "8152            156              165                451               823   \n",
       "8153           1853             1867               4200              8696   \n",
       "8154              1                1                  8                 2   \n",
       "\n",
       "                                                address  \\\n",
       "0     1950 S PLEASANT VALLEY RD\\nWINCHESTER VA  2260...   \n",
       "1            700 CARNEGIE AVE\\nCLEVELAND OH  44115\\nUSA   \n",
       "2          510 BROOKLYN AVE\\nSAN ANTONIO TX  78215\\nUSA   \n",
       "3             905 CHAUTAUQUA DR\\nRED OAK IA  51566\\nUSA   \n",
       "4        2800 NE STAPLETON RD\\nVANCOUVER WA  98661\\nUSA   \n",
       "...                                                 ...   \n",
       "8150        804 ROELOFFS RD\\nMORRISVILLE PA  19067\\nUSA   \n",
       "8151   899 OXFORD VALLEY RD\\nMORRISVILLE PA  19067\\nUSA   \n",
       "8152     608 S OLDS BLVD\\nFAIRLESS HILLS PA  19030\\nUSA   \n",
       "8153       660 STUYVESANT AVE\\nIRVINGTON NJ  07111\\nUSA   \n",
       "8154        3001 LEVICK ST\\nPHILADELPHIA PA  19149\\nUSA   \n",
       "\n",
       "                                                 etHash  \\\n",
       "0     A2260144009044E0EB545930A111E8B9D0179472B6A7E7...   \n",
       "1     A441152878DA4D361CA5CF7F1A3010F215243ED4934B62...   \n",
       "2     A7821517004FB6E4C10F1DB139561DA6E8AEEDD38F68A1...   \n",
       "3     A515661201FE151C4D6804F2BFBE66E9512DE1722BC7D8...   \n",
       "4     A986616823B924266415550A4091B2B9A2DB3FE89BF533...   \n",
       "...                                                 ...   \n",
       "8150  A190674601AC3BA50A9824675145821301837DF1454788...   \n",
       "8151  A190671699E21760E8BCC077DEEED500A33B147EF942D3...   \n",
       "8152  A190302499326656B088082013B2E8A1C77E8FF5E0EBEC...   \n",
       "8153  A07111182401F56D4606E319B36854FDFEADFA77171364...   \n",
       "8154  A191493197FA6B6165267317ADDA9F7F2B2243EDBB75C6...   \n",
       "\n",
       "                         orgId          repName1                  repemail1  \\\n",
       "0     58bdd7113314b55970a72e47       Sean Howard         showard@eltoro.com   \n",
       "1            zkerk3AfSY4FpNrue       Sean Howard         showard@eltoro.com   \n",
       "2            sMrStG35oPZEpCCN3    Daniel Kimball             dan@eltoro.com   \n",
       "3            JwmbatuumPxBtPmL3       Sean Howard         showard@eltoro.com   \n",
       "4            fgcdnqnemFAuz3d8k    Meghan Waldrop  meghan.waldrop@eltoro.com   \n",
       "...                        ...               ...                        ...   \n",
       "8150         7sJeuiTWBuCoMMHPq              Clay            clay@eltoro.com   \n",
       "8151         7sJeuiTWBuCoMMHPq              Clay            clay@eltoro.com   \n",
       "8152         7sJeuiTWBuCoMMHPq              Clay            clay@eltoro.com   \n",
       "8153         qkEKxRL9h3NCjKp9k  Patrick Carleton              pc@eltoro.com   \n",
       "8154         7sJeuiTWBuCoMMHPq              Clay            clay@eltoro.com   \n",
       "\n",
       "            repName2                  repemail2  \n",
       "0       Meghan Darst          meghan@eltoro.com  \n",
       "1       Meghan Darst          meghan@eltoro.com  \n",
       "2     Crystal Norman         crystal@eltoro.com  \n",
       "3       Meghan Darst          meghan@eltoro.com  \n",
       "4     Brett Rebalsky  brett.rebalsky@eltoro.com  \n",
       "...              ...                        ...  \n",
       "8150             NaN                        NaN  \n",
       "8151             NaN                        NaN  \n",
       "8152             NaN                        NaN  \n",
       "8153             NaN                        NaN  \n",
       "8154             NaN                        NaN  \n",
       "\n",
       "[8155 rows x 17 columns]"
      ]
     },
     "execution_count": 118,
     "metadata": {},
     "output_type": "execute_result"
    }
   ],
   "source": [
    "df_metric_"
   ]
  },
  {
   "cell_type": "code",
   "execution_count": 122,
   "id": "da1a3289",
   "metadata": {},
   "outputs": [],
   "source": [
    "#create URL for the buckets\n",
    "df_metric_['URL']= \"https://portal.eltoro.com/bucket/\" + df_metric_['bucket_ids'].astype(str)\n"
   ]
  },
  {
   "cell_type": "code",
   "execution_count": 125,
   "id": "41384888",
   "metadata": {},
   "outputs": [
    {
     "data": {
      "text/plain": [
       "bucket_ids               0\n",
       "bucket_name              0\n",
       "bucket_created           0\n",
       "start_date               0\n",
       "end_date                 0\n",
       "bucket_coordinates       0\n",
       "matched_homes            0\n",
       "matched_devices          0\n",
       "unmatched_devices        0\n",
       "extended_devices         0\n",
       "address                  0\n",
       "etHash                  36\n",
       "orgId                    0\n",
       "repName1                 0\n",
       "repemail1                0\n",
       "repName2              2875\n",
       "repemail2             2875\n",
       "URL                      0\n",
       "dtype: int64"
      ]
     },
     "execution_count": 125,
     "metadata": {},
     "output_type": "execute_result"
    }
   ],
   "source": [
    "#check for null values in the data\n",
    "df_metric_.isna().sum()"
   ]
  },
  {
   "cell_type": "code",
   "execution_count": 128,
   "id": "0af01532",
   "metadata": {},
   "outputs": [
    {
     "name": "stdout",
     "output_type": "stream",
     "text": [
      "CSV files created successfully.\n"
     ]
    }
   ],
   "source": [
    "#create seperate dataframe each for salesrep\n",
    "# Get unique values in the 'email1' column\n",
    "unique_emails = df_metric_['repemail1'].unique()\n",
    "\n",
    "# Iterate over unique email values and create separate CSV files\n",
    "for email in unique_emails:\n",
    "    # Create a subset DataFrame for the current email value\n",
    "    subset_df = df_metric_[df_metric_['repemail1'] == email]\n",
    "    \n",
    "    # Define the output CSV file name\n",
    "    output_file = f'email_list/{email}.csv'\n",
    "    \n",
    "    # Write the subset DataFrame to a CSV file\n",
    "    subset_df.to_csv(output_file, index=False)\n",
    "\n",
    "print(\"CSV files created successfully.\")"
   ]
  }
 ],
 "metadata": {
  "kernelspec": {
   "display_name": "Python 3 (ipykernel)",
   "language": "python",
   "name": "python3"
  },
  "language_info": {
   "codemirror_mode": {
    "name": "ipython",
    "version": 3
   },
   "file_extension": ".py",
   "mimetype": "text/x-python",
   "name": "python",
   "nbconvert_exporter": "python",
   "pygments_lexer": "ipython3",
   "version": "3.10.9"
  }
 },
 "nbformat": 4,
 "nbformat_minor": 5
}
